{
 "cells": [
  {
   "cell_type": "markdown",
   "id": "f4e0a99e",
   "metadata": {},
   "source": [
    "# N-glycosilation prediciton model"
   ]
  },
  {
   "cell_type": "markdown",
   "id": "187fbc88",
   "metadata": {},
   "source": [
    "The model is a fine-tuned ESM2 model aimed to predict resiudes undergo N-glycosilation based on antigen protein sequence\n",
    "\n",
    "The MIT License (MIT) Copyright (c) 2016 AYLIEN Permission is hereby granted, free of charge, to any person obtaining a copy of this software and associated documentation files (the \"Software\"), to deal in the Software without restriction, including without limitation the rights to use, copy, modify, merge, publish, distribute, sublicense, and/or sell copies of the Software, and to permit persons to whom the Software is furnished to do so, subject to the following conditions: The above copyright notice and this permission notice shall be included in all copies or substantial portions of the Software. THE SOFTWARE IS PROVIDED \"AS IS\", WITHOUT WARRANTY OF ANY KIND, EXPRESS OR IMPLIED, INCLUDING BUT NOT LIMITED TO THE WARRANTIES OF MERCHANTABILITY, FITNESS FOR A PARTICULAR PURPOSE AND NONINFRINGEMENT. IN NO EVENT SHALL THE AUTHORS OR COPYRIGHT HOLDERS BE LIABLE FOR ANY CLAIM, DAMAGES OR OTHER LIABILITY, WHETHER IN AN ACTION OF CONTRACT, TORT OR OTHERWISE, ARISING FROM, OUT OF OR IN CONNECTION WITH THE SOFTWARE OR THE USE OR OTHER DEALINGS IN THE SOFTWARE.\n"
   ]
  },
  {
   "cell_type": "markdown",
   "id": "01e2f85b",
   "metadata": {},
   "source": [
    "## Requirements"
   ]
  },
  {
   "cell_type": "code",
   "execution_count": null,
   "id": "1d4ff536",
   "metadata": {},
   "outputs": [],
   "source": [
    "import os\n",
    "os.environ['CUDA_VISIBLE_DEVICES'] = \"0\"\n",
    "os.environ['TORCH_HOME'] = \"../torch_hub\"\n",
    "\n",
    "import pandas as pd\n",
    "import numpy  as np\n",
    "\n",
    "from copy import copy\n",
    "from Bio import SeqIO\n",
    "\n",
    "import torch\n",
    "from torch.utils.data import Dataset\n",
    "from torch import nn\n",
    "\n",
    "import transformers\n",
    "from transformers.modeling_outputs import SequenceClassifierOutput\n",
    "from transformers import Trainer, TrainingArguments, EvalPrediction\n",
    "\n",
    "import esm\n",
    "from esm.pretrained import load_model_and_alphabet_hub"
   ]
  },
  {
   "cell_type": "markdown",
   "id": "2a1bf95c",
   "metadata": {},
   "source": [
    "## Set model"
   ]
  },
  {
   "cell_type": "code",
   "execution_count": null,
   "id": "d1ffa41f",
   "metadata": {},
   "outputs": [],
   "source": [
    "class ESM2ForTokenClassification(nn.Module):\n",
    "\n",
    "    def __init__(self, num_labels = 2):\n",
    "        super().__init__()\n",
    "        self.num_labels = num_labels    \n",
    "        self.model_name = \"esm2_t33_650M_UR50D\"\n",
    "        self.esm2, self.esm2_alphabet = load_model_and_alphabet_hub(self.model_name)         \n",
    "        self.classifier = nn.Linear(1280, self.num_labels)\n",
    "\n",
    "    def forward(self, token_ids):\n",
    "        outputs = self.esm2.forward(token_ids, repr_layers=[33])['representations'][33]\n",
    "        outputs = outputs[:,1:-1,:]\n",
    "        logits = self.classifier(outputs)\n",
    "        return SequenceClassifierOutput(logits=logits)\n",
    "    \n",
    "class ESM2Dataset(Dataset):\n",
    "    \"\"\"\n",
    "    A class to represent a sutable data set for model. \n",
    "    \n",
    "    convert original pandas data frame to model set,\n",
    "    where 'token ids' is ESM2 embedings corresponed to protein sequence \n",
    "    and 'lables' is a contact number values\n",
    "    Attributes:\n",
    "        df (pandas.DataFrame): dataframe with two columns: \n",
    "                0 -- preotein sequence in string ('GLVM') or list (['G', 'L', 'V', 'M']) format\n",
    "                1 -- N-glycosilation label [0, 0, 1, -100, 0] format\n",
    "        esm2_batch_converter (function):\n",
    "                    ESM function callable to convert an unprocessed (labels + strings) batch to a\n",
    "                    processed (labels + tensor) batch.\n",
    "    \"\"\"\n",
    "    def __init__(self, df):\n",
    "        self.df = df\n",
    "        _, esm2_alphabet = esm.pretrained.esm2_t33_650M_UR50D()\n",
    "        self.esm2_batch_converter = esm2_alphabet.get_batch_converter()\n",
    "\n",
    "    def __getitem__(self, idx):\n",
    "        item = {}\n",
    "        _, _, esm2_batch_tokens = self.esm2_batch_converter([('' , ''.join(self.df.iloc[idx,0]))])\n",
    "        item['labels'] = torch.unsqueeze(torch.LongTensor(self.df.iloc[idx, 1]), 0)\n",
    "        item['token_ids'] = esm2_batch_tokens\n",
    "        print(item)\n",
    "        return item\n",
    "\n",
    "    def __len__(self):\n",
    "        return len(self.df)"
   ]
  },
  {
   "cell_type": "code",
   "execution_count": null,
   "id": "06a21f19",
   "metadata": {},
   "outputs": [],
   "source": [
    "model = ESM2ForTokenClassification().cuda()"
   ]
  },
  {
   "cell_type": "markdown",
   "id": "f161d8fe",
   "metadata": {},
   "source": [
    "## Prediction"
   ]
  },
  {
   "cell_type": "code",
   "execution_count": null,
   "id": "9fed6bab",
   "metadata": {},
   "outputs": [],
   "source": [
    "model.load_state_dict(torch.load('../models/sema2.0_esm2_ptm.pth'))\n",
    "model.eval()\n",
    "model.cuda()"
   ]
  },
  {
   "cell_type": "code",
   "execution_count": null,
   "id": "337d33e0",
   "metadata": {},
   "outputs": [],
   "source": [
    "## upload example test set\n",
    "# test_df = pd.read_pickle('../data/Nglyco_test.pkl')\n",
    "# test_ds = ESM2Dataset(test_df[['seq', 'balanced_labels']])"
   ]
  },
  {
   "cell_type": "code",
   "execution_count": null,
   "id": "8a8323cb",
   "metadata": {},
   "outputs": [],
   "source": [
    "## or use simple example\n",
    "test_ds = ESM2Dataset(pd.DataFrame({'seq': ['AQIGPVTDLHITNANISPDGFSRPAVLAGGTFPGPTIAGNTGDNFQITVFNDLTDPSMLTDTSIHWHGLFQKGTNWADGPAFVTQCPIITGQSFDYNFNVPGQAGTFWYHSHLSTQYCDGLRGPFVVYDPNDPNASLYDVDDDTTIITLADWYHTLAQQEPIGAAITADATLINGLGRSFTNTTASPLSVITVQSGKRYRMRLVSISCDPNYLFSIDGHDMTIIEVDGVNSQQLTVDQIQIFAAQRYSFVLNANQPVGNYWIRAQPNSGGQGFDGGINSAILRYEGATVEDPTTTAPTTFSNPLVETDLHPLADLGVPGQPFRGGADDPLVLNLAFANGRFSIDGVSFVPPTVPVLLQILSGAQNAQDLLPAGSVISLPSNSVIEVALPAGAAGGPHPFHLHGHNFAVVQSANNATPNYVNPIWRDTVSIGGTGDNVTIRFTTNNPGPWFLHCHIDWHLEAGFAIVFAEDIPDTASANPVPQAWSDLCPAYDQAHNIS'],\n",
    "                                   'label': [0]}))"
   ]
  },
  {
   "cell_type": "code",
   "execution_count": null,
   "id": "974bf012",
   "metadata": {},
   "outputs": [],
   "source": [
    "with torch.no_grad():\n",
    "    for it in test_ds:\n",
    "        pred = model.forward(it['token_ids'].cuda())[0][0].cpu().numpy()"
   ]
  },
  {
   "cell_type": "code",
   "execution_count": null,
   "id": "ce05199f",
   "metadata": {},
   "outputs": [],
   "source": [
    "res = np.argmax(pred, axis=1)\n",
    "print(res)"
   ]
  }
 ],
 "metadata": {
  "kernelspec": {
   "display_name": "Python 3 (ipykernel)",
   "language": "python",
   "name": "python3"
  },
  "language_info": {
   "codemirror_mode": {
    "name": "ipython",
    "version": 3
   },
   "file_extension": ".py",
   "mimetype": "text/x-python",
   "name": "python",
   "nbconvert_exporter": "python",
   "pygments_lexer": "ipython3",
   "version": "3.8.0"
  }
 },
 "nbformat": 4,
 "nbformat_minor": 5
}
