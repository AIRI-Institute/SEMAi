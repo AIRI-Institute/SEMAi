{
 "cells": [
  {
   "cell_type": "markdown",
   "id": "41a7296e",
   "metadata": {},
   "source": [
    "# N-glycosilation prediciton model"
   ]
  },
  {
   "cell_type": "markdown",
   "id": "ab9d86eb",
   "metadata": {},
   "source": [
    "The model is a fine-tuned ESM2 model aimed to predict resiudes undergo N-glycosilation based on antigen protein sequence\n",
    "\n",
    "The MIT License (MIT) Copyright (c) 2016 AYLIEN Permission is hereby granted, free of charge, to any person obtaining a copy of this software and associated documentation files (the \"Software\"), to deal in the Software without restriction, including without limitation the rights to use, copy, modify, merge, publish, distribute, sublicense, and/or sell copies of the Software, and to permit persons to whom the Software is furnished to do so, subject to the following conditions: The above copyright notice and this permission notice shall be included in all copies or substantial portions of the Software. THE SOFTWARE IS PROVIDED \"AS IS\", WITHOUT WARRANTY OF ANY KIND, EXPRESS OR IMPLIED, INCLUDING BUT NOT LIMITED TO THE WARRANTIES OF MERCHANTABILITY, FITNESS FOR A PARTICULAR PURPOSE AND NONINFRINGEMENT. IN NO EVENT SHALL THE AUTHORS OR COPYRIGHT HOLDERS BE LIABLE FOR ANY CLAIM, DAMAGES OR OTHER LIABILITY, WHETHER IN AN ACTION OF CONTRACT, TORT OR OTHERWISE, ARISING FROM, OUT OF OR IN CONNECTION WITH THE SOFTWARE OR THE USE OR OTHER DEALINGS IN THE SOFTWARE.\n"
   ]
  },
  {
   "cell_type": "markdown",
   "id": "d331aaee",
   "metadata": {},
   "source": [
    "## Requirements"
   ]
  },
  {
   "cell_type": "code",
   "execution_count": null,
   "id": "872a08e1",
   "metadata": {},
   "outputs": [],
   "source": [
    "import os\n",
    "os.environ['CUDA_VISIBLE_DEVICES'] = \"0\"\n",
    "os.environ['TORCH_HOME'] = \"../torch_hub\"\n",
    "\n",
    "import pandas as pd\n",
    "import numpy  as np\n",
    "\n",
    "from copy import copy\n",
    "from Bio import SeqIO\n",
    "\n",
    "import torch\n",
    "from torch.utils.data import Dataset\n",
    "from torch import nn\n",
    "\n",
    "import transformers\n",
    "from transformers.modeling_outputs import SequenceClassifierOutput\n",
    "from transformers import Trainer, TrainingArguments, EvalPrediction\n",
    "\n",
    "import esm\n",
    "from esm.pretrained import load_model_and_alphabet_hub"
   ]
  },
  {
   "cell_type": "markdown",
   "id": "841a84c2",
   "metadata": {},
   "source": [
    "## Model and metrics"
   ]
  },
  {
   "cell_type": "code",
   "execution_count": null,
   "id": "79b8e892",
   "metadata": {},
   "outputs": [],
   "source": [
    "class ESM2ForTokenClassification(nn.Module):\n",
    "\n",
    "    def __init__(self, num_labels = 2):\n",
    "        super().__init__()\n",
    "        self.num_labels = num_labels    \n",
    "        self.model_name = \"esm2_t33_650M_UR50D\"\n",
    "        self.esm2, self.esm2_alphabet = load_model_and_alphabet_hub(self.model_name)         \n",
    "        self.classifier = nn.Linear(1280, self.num_labels)\n",
    "\n",
    "    def forward(self, token_ids):\n",
    "        outputs = self.esm2.forward(token_ids, repr_layers=[33])['representations'][33]\n",
    "        outputs = outputs[:,1:-1,:]\n",
    "        logits = self.classifier(outputs)\n",
    "        return SequenceClassifierOutput(logits=logits)\n",
    "    \n",
    "class MaskedTrainer(Trainer):\n",
    "    def compute_loss(self, model, inputs, return_outputs=False):\n",
    "        print(inputs)\n",
    "        labels = inputs.pop(\"labels\")\n",
    "        outputs = model(**inputs)\n",
    "        logits = outputs.logits\n",
    "        loss = torch.nn.functional.cross_entropy(logits.view(-1, self.model.num_labels), labels.view(-1), \n",
    "                                                 ignore_index=-100))\n",
    "        \n",
    "        return (loss, outputs) if return_outputs else loss\n",
    "    \n",
    "def compute_metrics(p: EvalPrediction):\n",
    "    preds = p.predictions[:,:,1]\n",
    "    batch_size, seq_len = preds.shape    \n",
    "    pred_list, out_label_list = [], []\n",
    "\n",
    "    for i in range(batch_size):\n",
    "        for j in range(seq_len):\n",
    "            if p.label_ids[i, j] != -100:\n",
    "                out_label_list.append(p.label_ids[i][j])\n",
    "                pred_list.append(preds[i][j])\n",
    "    print(len(pred_list), len(out_label_list))\n",
    "    return {\n",
    "        \"roc-auc\": roc_auc_score(out_label_list, pred_list)\n",
    "    }\n",
    "    \n",
    "def collator_fn(x):\n",
    "    if len(x)==1:\n",
    "        return x[0]\n",
    "    print('x:', x)\n",
    "    return x "
   ]
  },
  {
   "cell_type": "code",
   "execution_count": null,
   "id": "aedc6c3f",
   "metadata": {},
   "outputs": [],
   "source": [
    "class ESM2Dataset(Dataset):\n",
    "    \"\"\"\n",
    "    A class to represent a sutable data set for model. \n",
    "    \n",
    "    convert original pandas data frame to model set,\n",
    "    where 'token ids' is ESM2 embedings corresponed to protein sequence \n",
    "    and 'lables' is a contact number values\n",
    "    Attributes:\n",
    "        df (pandas.DataFrame): dataframe with two columns: \n",
    "                0 -- preotein sequence in string ('GLVM') or list (['G', 'L', 'V', 'M']) format\n",
    "                1 -- N-glycosilation label [0, 0, 1, -100, 0] format\n",
    "        esm2_batch_converter (function):\n",
    "                    ESM function callable to convert an unprocessed (labels + strings) batch to a\n",
    "                    processed (labels + tensor) batch.\n",
    "    \"\"\"\n",
    "    def __init__(self, df):\n",
    "        self.df = df\n",
    "        _, esm2_alphabet = esm.pretrained.esm2_t33_650M_UR50D()\n",
    "        self.esm2_batch_converter = esm2_alphabet.get_batch_converter()\n",
    "\n",
    "    def __getitem__(self, idx):\n",
    "        item = {}\n",
    "        _, _, esm2_batch_tokens = self.esm2_batch_converter([('' , ''.join(self.df.iloc[idx,0]))])\n",
    "        item['labels'] = torch.unsqueeze(torch.LongTensor(self.df.iloc[idx, 1]), 0)\n",
    "        item['token_ids'] = esm2_batch_tokens\n",
    "        print(item)\n",
    "        return item\n",
    "\n",
    "    def __len__(self):\n",
    "        return len(self.df)"
   ]
  },
  {
   "cell_type": "markdown",
   "id": "1c938434",
   "metadata": {},
   "source": [
    "# Data"
   ]
  },
  {
   "cell_type": "markdown",
   "id": "f9e2492b",
   "metadata": {},
   "source": [
    "### create train set from your Fasta file"
   ]
  },
  {
   "cell_type": "code",
   "execution_count": null,
   "id": "2a0c2aba",
   "metadata": {},
   "outputs": [],
   "source": [
    "def loadTrainingSetFasta(fasta_file, onlyPositiveClass = False, ptm_aa={'N'}):\n",
    "    fasta_sequences = SeqIO.parse(open(fasta_file), 'fasta')\n",
    "    res = []\n",
    "    for record in fasta_sequences:\n",
    "        seq = np.array(record.seq)\n",
    "        glyco_idx = [i for i, x in enumerate(seq) if x == '#']\n",
    "        glyco_idx = [idx - n - 1 for n, idx in enumerate(glyco_idx)]\n",
    "        n_glyco = len(glyco_idx)\n",
    "        seq = seq[seq != '#']\n",
    "        labels = np.array([0] * len(seq))\n",
    "        labels[glyco_idx] = 1\n",
    "        labels_balanc = copy(labels)\n",
    "        idx = labels_balanc[labels_balanc == 0] ## select random len - n_glyco idx of 0 and set to -100\n",
    "        if (set(seq[glyco_idx]) != ptm_aa) & (len(glyco_idx) != 0):\n",
    "            print('ERROR', record.name)\n",
    "            print(seq[glyco_idx])\n",
    "        else:\n",
    "            res.append([record.name, ''.join(seq), labels, sum(labels), len(labels)])\n",
    "    return pd.DataFrame(res, columns= ['seq_id', 'seq', 'labels', 'n_glyco', 'seq_len'])\n",
    "        "
   ]
  },
  {
   "cell_type": "code",
   "execution_count": null,
   "id": "a018195e",
   "metadata": {},
   "outputs": [],
   "source": [
    "def get_balance_lables(labels, coef=1):\n",
    "    n_positive = len(np.where(labels==1)[0])\n",
    "    n_negative = len(np.where(labels==0)[0])\n",
    "    balance_labels = copy(labels)\n",
    "    if n_negative > coef*n_positive:\n",
    "        ids = np.where(labels==0)[0]\n",
    "        random.shuffle(ids)\n",
    "        ids = ids[: int((n_negative-coef*n_positive))]\n",
    "        balance_labels[ids] = -100\n",
    "    return balance_labels"
   ]
  },
  {
   "cell_type": "code",
   "execution_count": null,
   "id": "f22fcf1e",
   "metadata": {},
   "outputs": [],
   "source": [
    "# df = loadTrainingSetFasta(\"XXX.fasta\")\n",
    "# df.loc[:,'balanced_labels'] = df.labels.apply(lambda x: get_balance_lables(x, 5))"
   ]
  },
  {
   "cell_type": "markdown",
   "id": "93dd4460",
   "metadata": {},
   "source": [
    "### or upload example dataset"
   ]
  },
  {
   "cell_type": "code",
   "execution_count": null,
   "id": "af927e52",
   "metadata": {},
   "outputs": [],
   "source": [
    "train_df = pd.read_pickle('../data/Nglyco_train.pkl')\n",
    "val_df = pd.read_pickle('../data/Nglyco_val.pkl')"
   ]
  },
  {
   "cell_type": "code",
   "execution_count": null,
   "id": "735d3973",
   "metadata": {},
   "outputs": [],
   "source": [
    "train_ds = ESM2Dataset(train_df.loc[['seq', 'balanced_labels']])\n",
    "val_ds   = ESM2Dataset(val_df.loc[['seq', 'balanced_labels']])"
   ]
  },
  {
   "cell_type": "markdown",
   "id": "06d47f2c",
   "metadata": {},
   "source": [
    "## Model training"
   ]
  },
  {
   "cell_type": "code",
   "execution_count": null,
   "id": "73879ba1",
   "metadata": {},
   "outputs": [],
   "source": [
    "training_args = TrainingArguments(\n",
    "    output_dir='./test' ,          # output directory\n",
    "    num_train_epochs=2,              # total number of training epochs\n",
    "    per_device_train_batch_size=1,   # batch size per device during training\n",
    "    per_device_eval_batch_size=1,   # batch size for evaluation\n",
    "    warmup_steps=0,                # number of warmup steps for learning rate scheduler\n",
    "    learning_rate=1e-05,             # learning rate\n",
    "    weight_decay=0.0,                # strength of weight decay\n",
    "    logging_dir='./logs',            # directory for storing logs\n",
    "    logging_steps=200,               # How often to print logs\n",
    "    save_strategy = \"no\",\n",
    "    do_train=True,                   # Perform training\n",
    "    do_eval=True,                    # Perform evaluation\n",
    "    evaluation_strategy=\"epoch\",     # evalute after each epoch\n",
    "    gradient_accumulation_steps=4,  # total number of steps before back propagation\n",
    "    fp16=False,                       # Use mixed precision\n",
    "    run_name=\"N_binary\",      # experiment name\n",
    "    seed=42,                         # Seed for experiment reproducibility\n",
    "    load_best_model_at_end=False,\n",
    "    metric_for_best_model=\"eval_accuracy\",\n",
    "    greater_is_better=True,\n",
    "\n",
    ")"
   ]
  },
  {
   "cell_type": "code",
   "execution_count": null,
   "id": "8767a341",
   "metadata": {},
   "outputs": [],
   "source": [
    "model = ESM2ForTokenClassification().cuda()"
   ]
  },
  {
   "cell_type": "code",
   "execution_count": null,
   "id": "01c13ef4",
   "metadata": {},
   "outputs": [],
   "source": [
    "trainer = MaskedTrainer(\n",
    "    model= model,                # the instantiated 🤗 Transformers model to be trained\n",
    "    args=training_args,                   # training arguments, defined above\n",
    "    train_dataset =train_ds,          # training dataset\n",
    "    eval_dataset  =val_ds,             # evaluation dataset\n",
    "    data_collator = collator_fn,\n",
    "    compute_metrics = compute_metrics,    # evaluation metrics\n",
    ")"
   ]
  },
  {
   "cell_type": "code",
   "execution_count": null,
   "id": "6691bd30",
   "metadata": {},
   "outputs": [],
   "source": [
    "trainer.train()\n",
    "#save weights\n",
    "torch.save(trainer.model.state_dict(), 'esm2_glyco.pth')"
   ]
  }
 ],
 "metadata": {
  "kernelspec": {
   "display_name": "Python 3 (ipykernel)",
   "language": "python",
   "name": "python3"
  },
  "language_info": {
   "codemirror_mode": {
    "name": "ipython",
    "version": 3
   },
   "file_extension": ".py",
   "mimetype": "text/x-python",
   "name": "python",
   "nbconvert_exporter": "python",
   "pygments_lexer": "ipython3",
   "version": "3.8.0"
  }
 },
 "nbformat": 4,
 "nbformat_minor": 5
}
