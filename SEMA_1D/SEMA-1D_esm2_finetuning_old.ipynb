{
 "cells": [
  {
   "cell_type": "markdown",
   "metadata": {},
   "source": [
    "# SEMA-1D "
   ]
  },
  {
   "cell_type": "markdown",
   "metadata": {},
   "source": [
    "SEMA-1D is a fine-tuned ESM-1v model aimed to predict epitope resiudes based on antigen protein sequence"
   ]
  },
  {
   "cell_type": "markdown",
   "metadata": {},
   "source": [
    "The MIT License (MIT)\n",
    "Copyright (c) 2016 AYLIEN\n",
    "Permission is hereby granted, free of charge, to any person obtaining a copy of this software and associated documentation files (the \"Software\"), to deal in the Software without restriction, including without limitation the rights to use, copy, modify, merge, publish, distribute, sublicense, and/or sell copies of the Software, and to permit persons to whom the Software is furnished to do so, subject to the following conditions:\n",
    "The above copyright notice and this permission notice shall be included in all copies or substantial portions of the Software.\n",
    "THE SOFTWARE IS PROVIDED \"AS IS\", WITHOUT WARRANTY OF ANY KIND, EXPRESS OR IMPLIED, INCLUDING BUT NOT LIMITED TO THE WARRANTIES OF MERCHANTABILITY, FITNESS FOR A PARTICULAR PURPOSE AND NONINFRINGEMENT. IN NO EVENT SHALL THE AUTHORS OR COPYRIGHT HOLDERS BE LIABLE FOR ANY CLAIM, DAMAGES OR OTHER LIABILITY, WHETHER IN AN ACTION OF CONTRACT, TORT OR OTHERWISE, ARISING FROM, OUT OF OR IN CONNECTION WITH THE SOFTWARE OR THE USE OR OTHER DEALINGS IN THE SOFTWARE."
   ]
  },
  {
   "cell_type": "markdown",
   "metadata": {},
   "source": [
    "## Requirements"
   ]
  },
  {
   "cell_type": "code",
   "execution_count": 1,
   "metadata": {},
   "outputs": [],
   "source": [
    "import os\n",
    "# set cuda params\n",
    "# 'TORCH_HOME'directory will be used to save origenal esm-1v weights\n",
    "os.environ['TORCH_HOME'] = \"../torch_hub\"\n",
    "os.environ['CUDA_VISIBLE_DEVICES'] = \"0\""
   ]
  },
  {
   "cell_type": "code",
   "execution_count": 2,
   "metadata": {},
   "outputs": [
    {
     "name": "stderr",
     "output_type": "stream",
     "text": [
      "/mnt/20tb/shevtsov/miniconda3/envs/sema_env/lib/python3.9/site-packages/tqdm/auto.py:21: TqdmWarning: IProgress not found. Please update jupyter and ipywidgets. See https://ipywidgets.readthedocs.io/en/stable/user_install.html\n",
      "  from .autonotebook import tqdm as notebook_tqdm\n"
     ]
    }
   ],
   "source": [
    "import scipy\n",
    "import sklearn\n",
    "import esm\n",
    "\n",
    "import pandas as pd\n",
    "import numpy as np\n",
    "\n",
    "import torch\n",
    "from torch.utils.data import Dataset\n",
    "from torch import nn\n",
    "import math\n",
    "\n",
    "import transformers\n",
    "from transformers.modeling_outputs import SequenceClassifierOutput\n",
    "from transformers import Trainer, TrainingArguments, EvalPrediction\n",
    "\n",
    "from esm.pretrained import load_model_and_alphabet_hub\n",
    "\n",
    "from sklearn.metrics import r2_score, mean_squared_error"
   ]
  },
  {
   "cell_type": "markdown",
   "metadata": {},
   "source": [
    "## Model and metrics"
   ]
  },
  {
   "cell_type": "code",
   "execution_count": 3,
   "metadata": {},
   "outputs": [],
   "source": [
    "class PDB_Dataset(Dataset):\n",
    "    \"\"\"\n",
    "    A class to represent a sutable data set for model. \n",
    "    \n",
    "    convert original pandas data frame to model set,\n",
    "    where 'token ids' is ESM-1v embedings corresponed to protein sequence (max length 1022 AA)\n",
    "    and 'lables' is a contact number values\n",
    "    Attributes:\n",
    "        df (pandas.DataFrame): dataframe with two columns: \n",
    "                0 -- preotein sequence in string ('GLVM') or list (['G', 'L', 'V', 'M']) format\n",
    "                1 -- contcat number values in list [0, 0.123, 0.23, -100, 1.34] format\n",
    "        esm1v_batch_converter (function):\n",
    "                    ESM function callable to convert an unprocessed (labels + strings) batch to a\n",
    "                    processed (labels + tensor) batch.\n",
    "        label_type (str):\n",
    "                type of model: regression or binary\n",
    "\n",
    "    \"\"\"\n",
    "    def __init__(self, df, label_type ='regression'):\n",
    "        \"\"\"\n",
    "        Construct all the necessary attributes to the PDB_Database object.\n",
    "        \n",
    "        Parameters:\n",
    "            df (pandas.DataFrame): dataframe with two columns: \n",
    "                0 -- protein sequence in string ('GLVM') or list (['G', 'L', 'V', 'M']) format\n",
    "                1 -- contcat number values in list [0, 0.123, 0.23, -100, 1.34] format\n",
    "            label_type (str):\n",
    "                type of model: regression or binary\n",
    "        \"\"\"\n",
    "        self.df = df\n",
    "        _, esm1v_alphabet = esm.pretrained.esm2_t33_650M_UR50D()\n",
    "        self.esm1v_batch_converter = esm1v_alphabet.get_batch_converter()\n",
    "        self.label_type = label_type\n",
    "\n",
    "    def __getitem__(self, idx):\n",
    "        item = {}\n",
    "        _, _, esm1b_batch_tokens = self.esm1v_batch_converter([('' , ''.join(self.df.iloc[idx,0])[:1022])])\n",
    "        item['token_ids'] = esm1b_batch_tokens\n",
    "        # item['labels'] = torch.unsqueeze(torch.LongTensor(self.df.iloc[idx, 1][:1022]),0)\n",
    "        item['labels'] = torch.unsqueeze(torch.tensor(self.df.iloc[idx, 1][:1022]),0)\n",
    "\n",
    "        return item\n",
    "\n",
    "    def __len__(self):\n",
    "        return len(self.df)"
   ]
  },
  {
   "cell_type": "code",
   "execution_count": 4,
   "metadata": {},
   "outputs": [],
   "source": [
    "class ESM1vForTokenClassification(nn.Module):\n",
    "\n",
    "    def __init__(self, num_labels = 2, pretrained_no = 1):\n",
    "        super().__init__()\n",
    "        self.num_labels = num_labels\n",
    "        self.model_name = \"esm2_t33_650M_UR50D\" #+ str(pretrained_no) \n",
    "        \n",
    "        self.esm1v, self.esm1v_alphabet = load_model_and_alphabet_hub(self.model_name)        \n",
    "        self.classifier = nn.Linear(1280, self.num_labels)\n",
    "\n",
    "    def forward(self, token_ids, labels):\n",
    "\n",
    "        outputs = self.esm1v.forward(token_ids, repr_layers=[33])['representations'][33]\n",
    "        outputs = outputs[:,1:-1,:]\n",
    "        logits = self.classifier(outputs)\n",
    "        # print('logits', logits)\n",
    "        return SequenceClassifierOutput(logits=logits)"
   ]
  },
  {
   "cell_type": "code",
   "execution_count": 5,
   "metadata": {},
   "outputs": [],
   "source": [
    "def compute_metrics_regr(p: EvalPrediction):\n",
    "    \n",
    "    preds = p.predictions[:,:,1]\n",
    "\n",
    "    batch_size, seq_len = preds.shape    \n",
    "    out_labels, out_preds = [], []\n",
    "\n",
    "    for i in range(batch_size):\n",
    "        for j in range(seq_len):\n",
    "            if p.label_ids[i, j] > -1:\n",
    "                out_labels.append(p.label_ids[i][j])\n",
    "                out_preds.append(preds[i][j])\n",
    "                \n",
    "    # out_labels_regr = [math.log(t+1) for t in out_labels]\n",
    "    out_labels_regr = out_labels\n",
    "\n",
    "    \n",
    "    return {\n",
    "        \"pearson_r\": scipy.stats.pearsonr(out_labels_regr, out_preds)[0],\n",
    "        \"mse\": mean_squared_error(out_labels_regr, out_preds),\n",
    "        \"r2_score\": r2_score(out_labels_regr, out_preds)\n",
    "    }\n"
   ]
  },
  {
   "cell_type": "code",
   "execution_count": 6,
   "metadata": {},
   "outputs": [],
   "source": [
    "## you can train one model or ensemple of 5 models\n",
    "def model_init_1():\n",
    "    return ESM1vForTokenClassification(pretrained_no = 1).cuda()\n",
    "def model_init_2():\n",
    "    return ESM1vForTokenClassification(pretrained_no = 2).cuda()\n",
    "def model_init_3():\n",
    "    return ESM1vForTokenClassification(pretrained_no = 3).cuda()\n",
    "def model_init_4():\n",
    "    return ESM1vForTokenClassification(pretrained_no = 4).cuda()\n",
    "def model_init_5():\n",
    "    return ESM1vForTokenClassification(pretrained_no = 5).cuda()"
   ]
  },
  {
   "cell_type": "code",
   "execution_count": 7,
   "metadata": {},
   "outputs": [],
   "source": [
    "class MaskedMSELoss(torch.nn.Module):\n",
    "    def __init__(self):\n",
    "        super(MaskedMSELoss, self).__init__()\n",
    "\n",
    "    def forward(self, inputs, target, mask):   \n",
    "        diff2 = (torch.flatten(inputs[:,:,1]) - torch.flatten(target)) ** 2.0 * torch.flatten(mask)\n",
    "        result = torch.sum(diff2) / torch.sum(mask)\n",
    "        if torch.sum(mask)==0:\n",
    "            return torch.sum(diff2)\n",
    "        else:\n",
    "            #print('loss:', result)\n",
    "            return result"
   ]
  },
  {
   "cell_type": "code",
   "execution_count": 8,
   "metadata": {},
   "outputs": [],
   "source": [
    "class MaskedRegressTrainer(Trainer):\n",
    "    def compute_loss(self, model, inputs, return_outputs=False):\n",
    "    \n",
    "        # labels = inputs.pop(\"labels\")\n",
    "        labels = inputs[\"labels\"]\n",
    "        labels = labels.squeeze().detach().cpu().numpy().tolist()\n",
    "        # labels = [math.log(t+1) if t!=-100 else -100 for t in labels]\n",
    "        labels = torch.unsqueeze(torch.FloatTensor(labels), 0).cuda()\n",
    "        masks = ~torch.eq(labels, -100).cuda()\n",
    "        \n",
    "        #masks = inputs.pop(\"masks\")\n",
    "        outputs = model(**inputs)\n",
    "        logits = outputs.logits\n",
    "\n",
    "        loss_fn = MaskedMSELoss()\n",
    "        \n",
    "        loss = loss_fn(logits, labels, masks)\n",
    "        \n",
    "        return (loss, outputs) if return_outputs else loss"
   ]
  },
  {
   "cell_type": "code",
   "execution_count": 9,
   "metadata": {},
   "outputs": [],
   "source": [
    "def collator_fn(x):\n",
    "    if len(x)==1:\n",
    "        return x[0]\n",
    "    print('x:', x)\n",
    "    return x"
   ]
  },
  {
   "cell_type": "markdown",
   "metadata": {},
   "source": [
    "## Data"
   ]
  },
  {
   "cell_type": "code",
   "execution_count": 10,
   "metadata": {},
   "outputs": [],
   "source": [
    "# import json\n",
    "# path = '/mnt/nfs_protein/ivanisenko/SEMA/dataset/SEMA_DS.json'\n",
    "# def load_datasets(path, filtr_length = False):\n",
    "#     with open(path, 'r') as file:\n",
    "#         dataset = json.load(file)\n",
    "#         dataset = pd.DataFrame(dataset)\n",
    "\n",
    "#         if filtr_length:\n",
    "#             dataset = dataset[dataset['seq'].str.len() >= filtr_length]\n",
    "\n",
    "#         train_set = dataset[dataset['ds_type'] == 'train']\n",
    "#         # test_set = dataset[dataset['ds_type'] == 'test_new']\n",
    "#         test_set = dataset[dataset['ds_type'] == 'test_original']\n",
    "\n",
    "#         train_ds = PDB_Dataset(train_set[['seq', 'contact_number']], \n",
    "#                       label_type ='regression')\n",
    "#         test_ds = PDB_Dataset(test_set[['seq', 'contact_number']], \n",
    "#                       label_type ='regression')\n",
    "\n",
    "#     return train_ds , test_ds\n",
    "\n",
    "# train_ds , test_ds = load_datasets(path, filtr_length = 0)"
   ]
  },
  {
   "cell_type": "code",
   "execution_count": 11,
   "metadata": {},
   "outputs": [],
   "source": [
    "train_set = pd.read_csv('../data/train_set.csv')\n",
    "train_set = train_set.groupby('pdb_id_chain').agg({'resi_pos': list,\n",
    "                                 'resi_aa': list,\n",
    "                                 'contact_number': list}).reset_index()\n",
    "## the first run will take about 5-10 minutes, because esm weights should be downloaded\n",
    "train_ds = PDB_Dataset(train_set[['resi_aa', 'contact_number']], \n",
    "                      label_type ='regression')"
   ]
  },
  {
   "cell_type": "code",
   "execution_count": 12,
   "metadata": {},
   "outputs": [],
   "source": [
    "test_set = pd.read_csv('../data/test_set.csv')\n",
    "test_set = test_set.groupby('pdb_id_chain').agg({'resi_pos': list,\n",
    "                                 'resi_aa': list,\n",
    "                                 'contact_number': list}).reset_index()\n",
    "\n",
    "# test_set = test_set.iloc[:10, :]\n",
    "\n",
    "test_ds = PDB_Dataset(test_set[['resi_aa', 'contact_number']],\n",
    "                      label_type ='regression')"
   ]
  },
  {
   "cell_type": "markdown",
   "metadata": {},
   "source": [
    "## Model training and test"
   ]
  },
  {
   "cell_type": "code",
   "execution_count": 13,
   "metadata": {},
   "outputs": [],
   "source": [
    "training_args = TrainingArguments(\n",
    "    output_dir='./results_fold' ,          # output directory\n",
    "    num_train_epochs=2,              # total number of training epochs\n",
    "    per_device_train_batch_size=1,   # batch size per device during training\n",
    "    per_device_eval_batch_size=1,   # batch size for evaluation\n",
    "    warmup_steps=0,                # number of warmup steps for learning rate scheduler\n",
    "    learning_rate=1e-05,             # learning rate\n",
    "    weight_decay=0.0,                # strength of weight decay\n",
    "    logging_dir='./logs',            # directory for storing logs\n",
    "    logging_steps=200,               # How often to print logs\n",
    "    save_strategy = \"no\",\n",
    "    do_train=True,                   # Perform training\n",
    "    do_eval=True,                    # Perform evaluation\n",
    "    evaluation_strategy=\"epoch\",     # evalute after each epoch\n",
    "    gradient_accumulation_steps=1,  # total number of steps before back propagation\n",
    "    fp16=False,                       # Use mixed precision\n",
    "    run_name=\"PDB_binary\",      # experiment name\n",
    "    seed=42,                         # Seed for experiment reproducibility\n",
    "    load_best_model_at_end=False,\n",
    "    metric_for_best_model=\"eval_accuracy\",\n",
    "    greater_is_better=True,\n",
    "\n",
    ")"
   ]
  },
  {
   "cell_type": "code",
   "execution_count": 14,
   "metadata": {},
   "outputs": [],
   "source": [
    "#create direactory to weights storage\n",
    "if not os.path.exists(\"../models/\"):\n",
    "    os.makedirs(\"../models/\")"
   ]
  },
  {
   "cell_type": "markdown",
   "metadata": {},
   "source": [
    "### one model"
   ]
  },
  {
   "cell_type": "code",
   "execution_count": 15,
   "metadata": {},
   "outputs": [
    {
     "name": "stderr",
     "output_type": "stream",
     "text": [
      "Detected kernel version 4.15.0, which is below the recommended minimum of 5.5.0; this can cause the process to hang. It is recommended to upgrade the kernel to the minimum version or higher.\n"
     ]
    },
    {
     "data": {
      "text/html": [
       "\n",
       "    <div>\n",
       "      \n",
       "      <progress value='1566' max='1566' style='width:300px; height:20px; vertical-align: middle;'></progress>\n",
       "      [1566/1566 06:00, Epoch 2/2]\n",
       "    </div>\n",
       "    <table border=\"1\" class=\"dataframe\">\n",
       "  <thead>\n",
       " <tr style=\"text-align: left;\">\n",
       "      <th>Epoch</th>\n",
       "      <th>Training Loss</th>\n",
       "      <th>Validation Loss</th>\n",
       "      <th>Pearson R</th>\n",
       "      <th>Mse</th>\n",
       "      <th>R2 Score</th>\n",
       "    </tr>\n",
       "  </thead>\n",
       "  <tbody>\n",
       "    <tr>\n",
       "      <td>1</td>\n",
       "      <td>0.771400</td>\n",
       "      <td>0.498820</td>\n",
       "      <td>0.249796</td>\n",
       "      <td>0.449142</td>\n",
       "      <td>-3.048482</td>\n",
       "    </tr>\n",
       "    <tr>\n",
       "      <td>2</td>\n",
       "      <td>0.625500</td>\n",
       "      <td>0.539136</td>\n",
       "      <td>0.251583</td>\n",
       "      <td>0.482392</td>\n",
       "      <td>-3.348191</td>\n",
       "    </tr>\n",
       "  </tbody>\n",
       "</table><p>"
      ],
      "text/plain": [
       "<IPython.core.display.HTML object>"
      ]
     },
     "metadata": {},
     "output_type": "display_data"
    },
    {
     "data": {
      "text/plain": [
       "TrainOutput(global_step=1566, training_loss=0.7550851912029554, metrics={'train_runtime': 371.8611, 'train_samples_per_second': 4.211, 'train_steps_per_second': 4.211, 'total_flos': 0.0, 'train_loss': 0.7550851912029554, 'epoch': 2.0})"
      ]
     },
     "execution_count": 15,
     "metadata": {},
     "output_type": "execute_result"
    }
   ],
   "source": [
    "trainer = MaskedRegressTrainer(\n",
    "    model=model_init_1(),                   # the instantiated 🤗 Transformers model to be trained\n",
    "    args=training_args,                     # training arguments, defined above\n",
    "    train_dataset=train_ds,                 # training dataset\n",
    "    eval_dataset=test_ds,                   # evaluation dataset\n",
    "    data_collator = collator_fn,\n",
    "    compute_metrics = compute_metrics_regr,    # evaluation metrics\n",
    ")\n",
    "\n",
    "trainer.train()\n",
    "\n",
    "#save weights\n",
    "# torch.save(trainer.model.state_dict(), \"../models/sema_1d_esm2_continous_noncut_log10_0.pth\")"
   ]
  },
  {
   "cell_type": "code",
   "execution_count": 16,
   "metadata": {},
   "outputs": [],
   "source": [
    "torch.save(trainer.model.state_dict(), \"../models/sema_1d_esm2_old_0.pth\")"
   ]
  },
  {
   "cell_type": "markdown",
   "metadata": {},
   "source": [
    "### ensemble of 5 models"
   ]
  },
  {
   "cell_type": "code",
   "execution_count": null,
   "metadata": {},
   "outputs": [],
   "source": [
    "# for idx, model_init in enumerate([model_init_1, model_init_2, model_init_3, model_init_4, model_init_5]):\n",
    "\n",
    "#     trainer = MaskedRegressTrainer(\n",
    "#         model=model_init(),                   # the instantiated 🤗 Transformers model to be trained\n",
    "#         args=training_args,                   # training arguments, defined above\n",
    "#         train_dataset=train_ds,               # training dataset\n",
    "#         eval_dataset=test_ds,                 # evaluation dataset\n",
    "#         data_collator = collator_fn,\n",
    "#         compute_metrics = compute_metrics_regr    # evaluation metrics\n",
    "#     )\n",
    "\n",
    "#     trainer.train()\n",
    "    \n",
    "#     #save weights\n",
    "#     torch.save(trainer.model.state_dict(), f\"../models/sema_1d_{str(idx)}.pth\")"
   ]
  },
  {
   "cell_type": "markdown",
   "metadata": {},
   "source": [
    "# Multimers test"
   ]
  },
  {
   "cell_type": "code",
   "execution_count": 16,
   "metadata": {},
   "outputs": [],
   "source": [
    "from biopandas.pdb import PandasPdb\n",
    "import pandas as pd\n",
    "from pathlib import Path\n",
    "from tqdm import tqdm\n",
    "\n",
    "aa_3_to_1 = {'CYS': 'C', 'ASP': 'D', 'SER': 'S', 'GLN': 'Q', 'LYS': 'K',\n",
    "     'ILE': 'I', 'PRO': 'P', 'THR': 'T', 'PHE': 'F', 'ASN': 'N', \n",
    "     'GLY': 'G', 'HIS': 'H', 'LEU': 'L', 'ARG': 'R', 'TRP': 'W', \n",
    "     'ALA': 'A', 'VAL':'V', 'GLU': 'E', 'TYR': 'Y', 'MET': 'M'}"
   ]
  },
  {
   "cell_type": "code",
   "execution_count": 17,
   "metadata": {},
   "outputs": [],
   "source": [
    "def prepare_multimer_test_1D_model(path_to_pdbs, gap_length = 0):\n",
    "    \n",
    "    path_pdbs = Path(path_to_pdbs).glob(\"*.pdb\")\n",
    "    one_chain_prots = []\n",
    "    test_df = pd.DataFrame(columns = ['seq', 'concat_number'])\n",
    "\n",
    "    for pdb_path in tqdm(list(path_pdbs)):\n",
    "        # read pdb\n",
    "        atom_df =  PandasPdb().read_pdb(str(pdb_path)).df['ATOM']\n",
    "        # create one letter aa columns\n",
    "        atom_df['residue_letter'] =  atom_df['residue_name'].map(aa_3_to_1)\n",
    "        # change mask values from -1 to -100\n",
    "        atom_df.loc[atom_df['b_factor'] == -1, 'b_factor'] = -100\n",
    "        atom_df.loc[atom_df['b_factor'] >= 0, 'b_factor'] = atom_df.loc[atom_df['b_factor'] >= 0, 'b_factor'].apply(lambda x: np.log10(x + 1))\n",
    "\n",
    "        chains_dfs = [atom_df[atom_df['chain_id'] == chain] for chain in atom_df.chain_id.unique()]\n",
    "\n",
    "        # filtr out sample if there is only on chain\n",
    "        if len(chains_dfs) == 1:\n",
    "            one_chain_prots.append(pdb_path)\n",
    "            print(atom_df.chain_id.unique(), pdb_path)\n",
    "            continue\n",
    "        \n",
    "        chains_contacts = []\n",
    "        chains_seqs = []\n",
    "\n",
    "        for ind, chain_df in enumerate(chains_dfs):\n",
    "\n",
    "            # chain_df = chain_df.drop_duplicates(['residue_number'])\n",
    "            chain_df = chain_df[chain_df.atom_name == 'CA']\n",
    "            chains_seqs.append(''.join(chain_df['residue_letter']))\n",
    "\n",
    "            if ind != 0:\n",
    "                chains_contacts += [-100]*gap_length\n",
    "            chains_contacts += chain_df['b_factor'].tolist()\n",
    "\n",
    "        multimer_seq = ('G'*gap_length).join(chains_seqs)\n",
    "            \n",
    "        test_df.loc[test_df.shape[0] +1, :] = {'seq': multimer_seq, 'concat_number': chains_contacts}\n",
    "    \n",
    "    print('PDBs with only one chain:', len(one_chain_prots))\n",
    "\n",
    "    return test_df"
   ]
  },
  {
   "cell_type": "code",
   "execution_count": 18,
   "metadata": {},
   "outputs": [
    {
     "name": "stderr",
     "output_type": "stream",
     "text": [
      "  0%|          | 0/773 [00:00<?, ?it/s]"
     ]
    },
    {
     "name": "stderr",
     "output_type": "stream",
     "text": [
      " 60%|██████    | 467/773 [00:31<00:14, 21.54it/s]"
     ]
    },
    {
     "name": "stdout",
     "output_type": "stream",
     "text": [
      "['B'] /mnt/nfs_protein/ivanisenko/SEMA/dataset/multimers/7K7I_B.pdb\n",
      "['C'] /mnt/nfs_protein/ivanisenko/SEMA/dataset/multimers/7K7I_C.pdb\n"
     ]
    },
    {
     "name": "stderr",
     "output_type": "stream",
     "text": [
      "100%|██████████| 773/773 [01:03<00:00, 12.24it/s]\n"
     ]
    },
    {
     "name": "stdout",
     "output_type": "stream",
     "text": [
      "PDBs with only one chain: 2\n"
     ]
    },
    {
     "name": "stderr",
     "output_type": "stream",
     "text": [
      "/tmp/ipykernel_9970/2448720358.py:39: DeprecationWarning: an integer is required (got type float).  Implicit conversion to integers using __int__ is deprecated, and may be removed in a future version of Python.\n",
      "  item['labels'] = torch.unsqueeze(torch.LongTensor(self.df.iloc[idx, 1][:1022]),0)\n"
     ]
    },
    {
     "data": {
      "text/html": [
       "\n",
       "    <div>\n",
       "      \n",
       "      <progress value='771' max='771' style='width:300px; height:20px; vertical-align: middle;'></progress>\n",
       "      [771/771 01:25]\n",
       "    </div>\n",
       "    "
      ],
      "text/plain": [
       "<IPython.core.display.HTML object>"
      ]
     },
     "metadata": {},
     "output_type": "display_data"
    },
    {
     "data": {
      "text/plain": [
       "{'eval_loss': 0.06881758570671082,\n",
       " 'eval_pearson_r': 0.30147775914684705,\n",
       " 'eval_mse': 0.06406005695225025,\n",
       " 'eval_r2_score': 0.030937963159949233,\n",
       " 'eval_runtime': 85.4795,\n",
       " 'eval_samples_per_second': 9.02,\n",
       " 'eval_steps_per_second': 9.02,\n",
       " 'epoch': 2.0}"
      ]
     },
     "execution_count": 18,
     "metadata": {},
     "output_type": "execute_result"
    }
   ],
   "source": [
    "test_df = prepare_multimer_test_1D_model(\n",
    "    '/mnt/nfs_protein/ivanisenko/SEMA/dataset/multimers/', gap_length = 0)\n",
    "multi_test_ds = PDB_Dataset(test_df)\n",
    "# with 0*gap\n",
    "trainer.evaluate(multi_test_ds)"
   ]
  },
  {
   "cell_type": "code",
   "execution_count": null,
   "metadata": {},
   "outputs": [],
   "source": []
  }
 ],
 "metadata": {
  "kernelspec": {
   "display_name": "sema_env",
   "language": "python",
   "name": "sema_env"
  },
  "language_info": {
   "codemirror_mode": {
    "name": "ipython",
    "version": 3
   },
   "file_extension": ".py",
   "mimetype": "text/x-python",
   "name": "python",
   "nbconvert_exporter": "python",
   "pygments_lexer": "ipython3",
   "version": "3.9.18"
  }
 },
 "nbformat": 4,
 "nbformat_minor": 2
}
