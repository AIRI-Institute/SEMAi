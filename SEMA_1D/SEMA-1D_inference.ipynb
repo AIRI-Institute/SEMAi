{
 "cells": [
  {
   "cell_type": "markdown",
   "id": "ece4e534",
   "metadata": {},
   "source": [
    "# SEMA-1D"
   ]
  },
  {
   "cell_type": "markdown",
   "id": "33a04d93",
   "metadata": {},
   "source": [
    "## Requirements "
   ]
  },
  {
   "cell_type": "code",
   "execution_count": null,
   "id": "11016902",
   "metadata": {},
   "outputs": [],
   "source": [
    "import scipy\n",
    "import sklearn\n",
    "import math\n",
    "\n",
    "import pandas as pd\n",
    "import numpy as np\n",
    "\n",
    "import torch\n",
    "from torch.utils.data import Dataset\n",
    "from torch import nn\n",
    "\n",
    "import transformers\n",
    "from transformers.modeling_outputs import SequenceClassifierOutput\n",
    "from transformers import Trainer, TrainingArguments, EvalPrediction\n",
    "\n",
    "import esm\n",
    "from esm.pretrained import load_model_and_alphabet_hub\n",
    "\n",
    "from sklearn.metrics import r2_score, mean_squared_error\n",
    "\n",
    "from tqdm import tqdm"
   ]
  },
  {
   "cell_type": "markdown",
   "id": "f2342aa4",
   "metadata": {},
   "source": [
    "## Set model"
   ]
  },
  {
   "cell_type": "code",
   "execution_count": null,
   "id": "61ed3261",
   "metadata": {},
   "outputs": [],
   "source": [
    "class ESM1vForTokenClassification(nn.Module):\n",
    "\n",
    "    def __init__(self, num_labels = 2, pretrained_no = 1):\n",
    "        super().__init__()\n",
    "        self.num_labels = num_labels\n",
    "        self.model_name = \"esm1v_t33_650M_UR90S_\" + str(pretrained_no) \n",
    "        \n",
    "        self.esm1v, self.esm1v_alphabet = load_model_and_alphabet_hub(self.model_name)        \n",
    "        self.classifier = nn.Linear(1280, self.num_labels)\n",
    "\n",
    "    def forward(self, token_ids):\n",
    "                \n",
    "        outputs = self.esm1v.forward(token_ids, repr_layers=[33])['representations'][33]\n",
    "        outputs = outputs[:,1:-1,:]\n",
    "        logits = self.classifier(outputs)\n",
    "\n",
    "        return SequenceClassifierOutput(logits=logits)"
   ]
  },
  {
   "cell_type": "code",
   "execution_count": null,
   "id": "2a93c972",
   "metadata": {},
   "outputs": [],
   "source": [
    "class PDB_bin_Dataset(Dataset):\n",
    "    def __init__(self, df, label_type ='regression'):\n",
    "        self.df = df\n",
    "        _, esm1v_alphabet = esm.pretrained.esm1v_t33_650M_UR90S_1()\n",
    "        self.esm1v_batch_converter = esm1v_alphabet.get_batch_converter()\n",
    "        self.label_type = label_type\n",
    "\n",
    "    def __getitem__(self, idx):\n",
    "        item = {}\n",
    "        _, _, esm1b_batch_tokens = self.esm1v_batch_converter([('' , ''.join(self.df.iloc[idx,0])[:1022])])\n",
    "        item['token_ids'] = esm1b_batch_tokens\n",
    "        item['labels'] = torch.unsqueeze(torch.LongTensor(self.df.iloc[idx, 1][:1022]),0)\n",
    "\n",
    "        return item\n",
    "\n",
    "    def __len__(self):\n",
    "        return len(self.df)"
   ]
  },
  {
   "cell_type": "code",
   "execution_count": null,
   "id": "2541237c",
   "metadata": {},
   "outputs": [],
   "source": [
    "model = ESM1vForTokenClassification(pretrained_no = 1).cuda()"
   ]
  },
  {
   "cell_type": "markdown",
   "id": "2fcf25f2",
   "metadata": {},
   "source": [
    "## Prediction"
   ]
  },
  {
   "cell_type": "code",
   "execution_count": null,
   "id": "df484ceb",
   "metadata": {},
   "outputs": [],
   "source": [
    "test_set = pd.read_csv('data/sema_1d_test_set.csv')\n",
    "test_ds = PDB_bin_Dataset(test_set[['fullseq', 'cn']])"
   ]
  },
  {
   "cell_type": "code",
   "execution_count": null,
   "id": "255f7131",
   "metadata": {},
   "outputs": [],
   "source": [
    "res=[]\n",
    "for ens_idx in range(5):\n",
    "\n",
    "    model.load_state_dict(torch.load(f'sema_1d_epitopes_{str(ens_idx)}.pth'))\n",
    "    model.eval()\n",
    "    model.cuda()\n",
    "\n",
    "with torch.no_grad():\n",
    "    preds=[]\n",
    "    for it in tqdm(test_ds):\n",
    "        preds.append(model.forward(it['token_ids'].cuda())[0][0][:,1].cpu().numpy())\n",
    "res.append(preds)"
   ]
  },
  {
   "cell_type": "code",
   "execution_count": null,
   "id": "af8da59c",
   "metadata": {},
   "outputs": [],
   "source": [
    "res = np.mean(np.array(plists), axis = 0).tolist()\n",
    "test_set['pred'] = [p for p,cn in res]"
   ]
  }
 ],
 "metadata": {
  "kernelspec": {
   "display_name": "Python 3 (ipykernel)",
   "language": "python",
   "name": "python3"
  },
  "language_info": {
   "codemirror_mode": {
    "name": "ipython",
    "version": 3
   },
   "file_extension": ".py",
   "mimetype": "text/x-python",
   "name": "python",
   "nbconvert_exporter": "python",
   "pygments_lexer": "ipython3",
   "version": "3.8.0"
  }
 },
 "nbformat": 4,
 "nbformat_minor": 5
}
