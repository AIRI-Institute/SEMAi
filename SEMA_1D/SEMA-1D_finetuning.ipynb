{
 "cells": [
  {
   "cell_type": "markdown",
   "metadata": {},
   "source": [
    "# SEMA-1D "
   ]
  },
  {
   "cell_type": "markdown",
   "metadata": {},
   "source": [
    "SEMA-1D is a fine-tuned ESM-1v model aimed to predict epitope resiudes based on antigen protein sequence"
   ]
  },
  {
   "cell_type": "markdown",
   "metadata": {},
   "source": [
    "The MIT License (MIT)\n",
    "Copyright (c) 2016 AYLIEN\n",
    "Permission is hereby granted, free of charge, to any person obtaining a copy of this software and associated documentation files (the \"Software\"), to deal in the Software without restriction, including without limitation the rights to use, copy, modify, merge, publish, distribute, sublicense, and/or sell copies of the Software, and to permit persons to whom the Software is furnished to do so, subject to the following conditions:\n",
    "The above copyright notice and this permission notice shall be included in all copies or substantial portions of the Software.\n",
    "THE SOFTWARE IS PROVIDED \"AS IS\", WITHOUT WARRANTY OF ANY KIND, EXPRESS OR IMPLIED, INCLUDING BUT NOT LIMITED TO THE WARRANTIES OF MERCHANTABILITY, FITNESS FOR A PARTICULAR PURPOSE AND NONINFRINGEMENT. IN NO EVENT SHALL THE AUTHORS OR COPYRIGHT HOLDERS BE LIABLE FOR ANY CLAIM, DAMAGES OR OTHER LIABILITY, WHETHER IN AN ACTION OF CONTRACT, TORT OR OTHERWISE, ARISING FROM, OUT OF OR IN CONNECTION WITH THE SOFTWARE OR THE USE OR OTHER DEALINGS IN THE SOFTWARE."
   ]
  },
  {
   "cell_type": "markdown",
   "metadata": {},
   "source": [
    "## Requirements"
   ]
  },
  {
   "cell_type": "code",
   "execution_count": 3,
   "metadata": {},
   "outputs": [],
   "source": [
    "import os\n",
    "# set cuda params\n",
    "# 'TORCH_HOME'directory will be used to save origenal esm-1v weights\n",
    "os.environ['TORCH_HOME'] = \"../torch_hub\"\n",
    "os.environ['CUDA_VISIBLE_DEVICES'] = \"0\""
   ]
  },
  {
   "cell_type": "code",
   "execution_count": 15,
   "metadata": {},
   "outputs": [],
   "source": [
    "import scipy\n",
    "import sklearn\n",
    "import esm\n",
    "\n",
    "import pandas as pd\n",
    "import numpy as np\n",
    "\n",
    "import torch\n",
    "from torch.utils.data import Dataset\n",
    "from torch import nn\n",
    "import math\n",
    "\n",
    "import transformers\n",
    "from transformers.modeling_outputs import SequenceClassifierOutput\n",
    "from transformers import Trainer, TrainingArguments, EvalPrediction\n",
    "\n",
    "from esm.pretrained import load_model_and_alphabet_hub\n",
    "\n",
    "from sklearn.metrics import r2_score, mean_squared_error, auc, PrecisionRecallDisplay, precision_recall_curve"
   ]
  },
  {
   "cell_type": "markdown",
   "metadata": {},
   "source": [
    "## Model and metrics"
   ]
  },
  {
   "cell_type": "code",
   "execution_count": 24,
   "metadata": {},
   "outputs": [],
   "source": [
    "class PDB_Dataset(Dataset):\n",
    "    \"\"\"\n",
    "    A class to represent a sutable data set for model. \n",
    "    \n",
    "    convert original pandas data frame to model set,\n",
    "    where 'token ids' is ESM-1v embedings corresponed to protein sequence (max length 1022 AA)\n",
    "    and 'lables' is a contact number values\n",
    "    Attributes:\n",
    "        df (pandas.DataFrame): dataframe with two columns: \n",
    "                0 -- preotein sequence in string ('GLVM') or list (['G', 'L', 'V', 'M']) format\n",
    "                1 -- contcat number values in list [0, 0.123, 0.23, -100, 1.34] format\n",
    "        esm1v_batch_converter (function):\n",
    "                    ESM function callable to convert an unprocessed (labels + strings) batch to a\n",
    "                    processed (labels + tensor) batch.\n",
    "        label_type (str):\n",
    "                type of model: regression or binary\n",
    "\n",
    "    \"\"\"\n",
    "    def __init__(self, df, label_type ='regression'):\n",
    "        \"\"\"\n",
    "        Construct all the necessary attributes to the PDB_Database object.\n",
    "        \n",
    "        Parameters:\n",
    "            df (pandas.DataFrame): dataframe with two columns: \n",
    "                0 -- protein sequence in string ('GLVM') or list (['G', 'L', 'V', 'M']) format\n",
    "                1 -- contcat number values in list [0, 0.123, 0.23, -100, 1.34] format\n",
    "            label_type (str):\n",
    "                type of model: regression or binary\n",
    "        \"\"\"\n",
    "        self.df = df\n",
    "        _, esm1v_alphabet = esm.pretrained.esm1v_t33_650M_UR90S_1()\n",
    "        self.esm1v_batch_converter = esm1v_alphabet.get_batch_converter()\n",
    "        self.label_type = label_type\n",
    "\n",
    "    def __getitem__(self, idx):\n",
    "        item = {}\n",
    "        _, _, esm1b_batch_tokens = self.esm1v_batch_converter([('' , ''.join(self.df.iloc[idx,0])[:1022])])\n",
    "        item['token_ids'] = esm1b_batch_tokens\n",
    "        if self.label_type == 'regression':\n",
    "            # discrete values:\n",
    "            # item['labels'] = torch.unsqueeze(torch.LongTensor(self.df.iloc[idx, 1][:1022]),0)\n",
    "            # use init log10\n",
    "            item['labels'] = torch.unsqueeze(torch.tensor(self.df.iloc[idx, 1][:1022]),0)\n",
    "            # # change to natural log\n",
    "            # cn = np.array(self.df.iloc[idx, 1][:1022])\n",
    "            # cn[cn != -100] = np.log(10**cn[cn != -100])\n",
    "            # item['labels'] = torch.unsqueeze(torch.tensor(cn),0)\n",
    "        # else:\n",
    "            # labels = self.df.iloc[idx, 1][:1022]\n",
    "\n",
    "        return item\n",
    "\n",
    "    def __len__(self):\n",
    "        return len(self.df)"
   ]
  },
  {
   "cell_type": "code",
   "execution_count": 17,
   "metadata": {},
   "outputs": [],
   "source": [
    "class ESM1vForTokenClassification(nn.Module):\n",
    "\n",
    "    def __init__(self, num_labels = 2, pretrained_no = 1):\n",
    "        super().__init__()\n",
    "        self.num_labels = num_labels\n",
    "        self.model_name = \"esm1v_t33_650M_UR90S_\" + str(pretrained_no) \n",
    "        \n",
    "        self.esm1v, self.esm1v_alphabet = load_model_and_alphabet_hub(self.model_name)        \n",
    "        self.classifier = nn.Linear(1280, self.num_labels)\n",
    "\n",
    "    def forward(self, token_ids, labels = None):\n",
    "\n",
    "        outputs = self.esm1v.forward(token_ids, repr_layers=[33])['representations'][33]\n",
    "        outputs = outputs[:,1:-1,:]\n",
    "        logits = self.classifier(outputs)\n",
    "        # print('logits', logits)\n",
    "        return SequenceClassifierOutput(logits=logits)"
   ]
  },
  {
   "cell_type": "code",
   "execution_count": 18,
   "metadata": {},
   "outputs": [],
   "source": [
    "def compute_metrics_regr(p: EvalPrediction):\n",
    "    \n",
    "    preds = p.predictions[:,:,1]\n",
    "\n",
    "    batch_size, seq_len = preds.shape    \n",
    "    out_labels, out_preds = [], []\n",
    "\n",
    "    for i in range(batch_size):\n",
    "        for j in range(seq_len):\n",
    "            if p.label_ids[i, j] > -1:\n",
    "                out_labels.append(p.label_ids[i][j])\n",
    "                out_preds.append(preds[i][j])\n",
    "                \n",
    "    # out_labels_regr = [math.log(t+1) for t in out_labels]\n",
    "    out_labels_regr = out_labels\n",
    "\n",
    "    \n",
    "    return {\n",
    "        \"pearson_r\": scipy.stats.pearsonr(out_labels_regr, out_preds)[0],\n",
    "        \"mse\": mean_squared_error(out_labels_regr, out_preds),\n",
    "        \"r2_score\": r2_score(out_labels_regr, out_preds)\n",
    "    }\n"
   ]
  },
  {
   "cell_type": "code",
   "execution_count": 19,
   "metadata": {},
   "outputs": [],
   "source": [
    "## you can train one model or ensemple of 5 models\n",
    "def model_init_1():\n",
    "    return ESM1vForTokenClassification(pretrained_no = 1).cuda()\n",
    "def model_init_2():\n",
    "    return ESM1vForTokenClassification(pretrained_no = 2).cuda()\n",
    "def model_init_3():\n",
    "    return ESM1vForTokenClassification(pretrained_no = 3).cuda()\n",
    "def model_init_4():\n",
    "    return ESM1vForTokenClassification(pretrained_no = 4).cuda()\n",
    "def model_init_5():\n",
    "    return ESM1vForTokenClassification(pretrained_no = 5).cuda()"
   ]
  },
  {
   "cell_type": "code",
   "execution_count": 20,
   "metadata": {},
   "outputs": [],
   "source": [
    "class MaskedMSELoss(torch.nn.Module):\n",
    "    def __init__(self):\n",
    "        super(MaskedMSELoss, self).__init__()\n",
    "\n",
    "    def forward(self, inputs, target, mask):   \n",
    "        diff2 = (torch.flatten(inputs[:,:,1]) - torch.flatten(target)) ** 2.0 * torch.flatten(mask)\n",
    "        result = torch.sum(diff2) / torch.sum(mask)\n",
    "        if torch.sum(mask)==0:\n",
    "            return torch.sum(diff2)\n",
    "        else:\n",
    "            #print('loss:', result)\n",
    "            return result"
   ]
  },
  {
   "cell_type": "code",
   "execution_count": 21,
   "metadata": {},
   "outputs": [],
   "source": [
    "class MaskedRegressTrainer(Trainer):\n",
    "    def compute_loss(self, model, inputs, return_outputs=False):\n",
    "    \n",
    "        # labels = inputs.pop(\"labels\")\n",
    "        labels = inputs[\"labels\"]\n",
    "        labels = labels.squeeze().detach().cpu().numpy().tolist()\n",
    "        # labels = [math.log(t+1) if t!=-100 else -100 for t in labels]\n",
    "        labels = torch.unsqueeze(torch.FloatTensor(labels), 0).cuda()\n",
    "        masks = ~torch.eq(labels, -100).cuda()\n",
    "        \n",
    "        #masks = inputs.pop(\"masks\")\n",
    "        outputs = model(**inputs)\n",
    "        logits = outputs.logits\n",
    "\n",
    "        loss_fn = MaskedMSELoss()\n",
    "        \n",
    "        loss = loss_fn(logits, labels, masks)\n",
    "        \n",
    "        return (loss, outputs) if return_outputs else loss"
   ]
  },
  {
   "cell_type": "code",
   "execution_count": 22,
   "metadata": {},
   "outputs": [],
   "source": [
    "def collator_fn(x):\n",
    "    if len(x)==1:\n",
    "        return x[0]\n",
    "    print('x:', x)\n",
    "    return x"
   ]
  },
  {
   "cell_type": "markdown",
   "metadata": {},
   "source": [
    "## Data"
   ]
  },
  {
   "cell_type": "code",
   "execution_count": 13,
   "metadata": {},
   "outputs": [],
   "source": [
    "import json\n",
    "path = '/mnt/nfs_protein/ivanisenko/SEMA/dataset/SEMA_DS.json'\n",
    "def load_datasets(path, filtr_length = False):\n",
    "    with open(path, 'r') as file:\n",
    "        dataset = json.load(file)\n",
    "        dataset = pd.DataFrame(dataset)\n",
    "\n",
    "        if filtr_length:\n",
    "            dataset = dataset[dataset['seq'].str.len() >= filtr_length]\n",
    "\n",
    "        train_set = dataset[dataset['ds_type'] == 'train']\n",
    "        # test_set = dataset[dataset['ds_type'] == 'test_new']\n",
    "        test_set = dataset[dataset['ds_type'] == 'test_original']\n",
    "        \n",
    "\n",
    "        train_ds = PDB_Dataset(train_set[['seq', 'contact_number']], \n",
    "                      label_type ='regression')\n",
    "        test_ds = PDB_Dataset(test_set[['seq', 'contact_number']], \n",
    "                      label_type ='regression')\n",
    "\n",
    "    return train_ds , test_ds\n"
   ]
  },
  {
   "cell_type": "code",
   "execution_count": null,
   "metadata": {},
   "outputs": [],
   "source": [
    "train_ds , test_ds = load_datasets(path, filtr_length = 0)"
   ]
  },
  {
   "cell_type": "code",
   "execution_count": 52,
   "metadata": {},
   "outputs": [],
   "source": [
    "# train_set = pd.read_csv('../data/train_set.csv')\n",
    "# train_set = train_set.groupby('pdb_id_chain').agg({'resi_pos': list,\n",
    "#                                  'resi_aa': list,\n",
    "#                                  'contact_number': list}).reset_index()\n",
    "\n",
    "# train_set = train_set.iloc[:10, :]\n",
    "# # the first run will take about 5-10 minutes, because esm weights should be downloaded\n",
    "# train_ds = PDB_Dataset(train_set[['resi_aa', 'contact_number']], \n",
    "#                       label_type ='regression')\n",
    "\n",
    "# test_set = pd.read_csv('../data/test_set.csv')\n",
    "# test_set = test_set.groupby('pdb_id_chain').agg({'resi_pos': list,\n",
    "#                                  'resi_aa': list,\n",
    "#                                  'contact_number': list}).reset_index()\n",
    "\n",
    "# test_set = test_set.iloc[:10, :]\n",
    "\n",
    "# test_ds = PDB_Dataset(test_set[['resi_aa', 'contact_number']],\n",
    "#                       label_type ='regression')\n",
    "                      \n"
   ]
  },
  {
   "cell_type": "markdown",
   "metadata": {},
   "source": [
    "## Model training and test"
   ]
  },
  {
   "cell_type": "code",
   "execution_count": 53,
   "metadata": {},
   "outputs": [],
   "source": [
    "training_args = TrainingArguments(\n",
    "    output_dir='./results_fold' ,    # output directory\n",
    "    num_train_epochs=2,              # total number of training epochs\n",
    "    per_device_train_batch_size=1,   # batch size per device during training\n",
    "    per_device_eval_batch_size=1,   # batch size for evaluation\n",
    "    warmup_steps=0,                # number of warmup steps for learning rate scheduler\n",
    "    learning_rate=1e-05,             # learning rate\n",
    "    weight_decay=0.0,                # strength of weight decay\n",
    "    logging_dir='./logs',            # directory for storing logs\n",
    "    logging_steps=200,               # How often to print logs\n",
    "    save_strategy = \"no\",\n",
    "    do_train=True,                   # Perform training\n",
    "    do_eval=True,                    # Perform evaluation\n",
    "    evaluation_strategy=\"epoch\",     # evalute after each epoch\n",
    "    gradient_accumulation_steps=1,  # total number of steps before back propagation\n",
    "    fp16=False,                       # Use mixed precision\n",
    "    run_name=\"PDB_binary\",      # experiment name\n",
    "    seed=42,                         # Seed for experiment reproducibility\n",
    "    load_best_model_at_end=False,\n",
    "    metric_for_best_model=\"eval_accuracy\",\n",
    "    greater_is_better=True,\n",
    "\n",
    ")"
   ]
  },
  {
   "cell_type": "code",
   "execution_count": 54,
   "metadata": {},
   "outputs": [],
   "source": [
    "#create direactory to weights storage\n",
    "if not os.path.exists(\"../models/\"):\n",
    "    os.makedirs(\"../models/\")"
   ]
  },
  {
   "cell_type": "markdown",
   "metadata": {},
   "source": [
    "### one model"
   ]
  },
  {
   "cell_type": "code",
   "execution_count": null,
   "metadata": {},
   "outputs": [],
   "source": [
    "trainer = MaskedRegressTrainer(\n",
    "    model=model_init_1(),                   # the instantiated 🤗 Transformers model to be trained\n",
    "    args=training_args,                     # training arguments, defined above\n",
    "    train_dataset=train_ds,                 # training dataset\n",
    "    eval_dataset=test_ds,                   # evaluation dataset\n",
    "    data_collator = collator_fn,\n",
    "    compute_metrics = compute_metrics_regr,    # evaluation metrics\n",
    ")\n",
    "\n",
    "trainer.train()\n",
    "\n",
    "#save weights\n",
    "torch.save(trainer.model.state_dict(), \"../models/sema_1d_newdata_uncut_natlogvals_0.pth\")"
   ]
  },
  {
   "cell_type": "code",
   "execution_count": 30,
   "metadata": {},
   "outputs": [
    {
     "name": "stderr",
     "output_type": "stream",
     "text": [
      "/tmp/ipykernel_1850/2004316817.py:40: DeprecationWarning: an integer is required (got type float).  Implicit conversion to integers using __int__ is deprecated, and may be removed in a future version of Python.\n",
      "  item['labels'] = torch.unsqueeze(torch.LongTensor(self.df.iloc[idx, 1][:1022]),0)\n"
     ]
    },
    {
     "data": {
      "text/html": [
       "\n",
       "    <div>\n",
       "      \n",
       "      <progress value='72' max='72' style='width:300px; height:20px; vertical-align: middle;'></progress>\n",
       "      [72/72 00:04]\n",
       "    </div>\n",
       "    "
      ],
      "text/plain": [
       "<IPython.core.display.HTML object>"
      ]
     },
     "metadata": {},
     "output_type": "display_data"
    },
    {
     "data": {
      "text/plain": [
       "{'eval_loss': 0.09025715291500092,\n",
       " 'eval_pearson_r': 0.1608477522008467,\n",
       " 'eval_mse': 0.08826696524373547,\n",
       " 'eval_r2_score': -0.07831199229530639,\n",
       " 'eval_runtime': 4.4327,\n",
       " 'eval_samples_per_second': 16.243,\n",
       " 'eval_steps_per_second': 16.243,\n",
       " 'epoch': 2.0}"
      ]
     },
     "execution_count": 30,
     "metadata": {},
     "output_type": "execute_result"
    }
   ],
   "source": [
    "trainer.evaluate(test_ds)"
   ]
  },
  {
   "cell_type": "markdown",
   "metadata": {},
   "source": [
    "### ensemble of 5 models"
   ]
  },
  {
   "cell_type": "code",
   "execution_count": 55,
   "metadata": {},
   "outputs": [
    {
     "name": "stderr",
     "output_type": "stream",
     "text": [
      "Detected kernel version 4.15.0, which is below the recommended minimum of 5.5.0; this can cause the process to hang. It is recommended to upgrade the kernel to the minimum version or higher.\n"
     ]
    },
    {
     "data": {
      "text/html": [
       "\n",
       "    <div>\n",
       "      \n",
       "      <progress value='2334' max='2334' style='width:300px; height:20px; vertical-align: middle;'></progress>\n",
       "      [2334/2334 07:56, Epoch 2/2]\n",
       "    </div>\n",
       "    <table border=\"1\" class=\"dataframe\">\n",
       "  <thead>\n",
       " <tr style=\"text-align: left;\">\n",
       "      <th>Epoch</th>\n",
       "      <th>Training Loss</th>\n",
       "      <th>Validation Loss</th>\n",
       "      <th>Pearson R</th>\n",
       "      <th>Mse</th>\n",
       "      <th>R2 Score</th>\n",
       "    </tr>\n",
       "  </thead>\n",
       "  <tbody>\n",
       "    <tr>\n",
       "      <td>1</td>\n",
       "      <td>0.115300</td>\n",
       "      <td>0.157326</td>\n",
       "      <td>0.237630</td>\n",
       "      <td>0.156705</td>\n",
       "      <td>0.018355</td>\n",
       "    </tr>\n",
       "    <tr>\n",
       "      <td>2</td>\n",
       "      <td>0.098600</td>\n",
       "      <td>0.157868</td>\n",
       "      <td>0.241410</td>\n",
       "      <td>0.158250</td>\n",
       "      <td>0.008676</td>\n",
       "    </tr>\n",
       "  </tbody>\n",
       "</table><p>"
      ],
      "text/plain": [
       "<IPython.core.display.HTML object>"
      ]
     },
     "metadata": {},
     "output_type": "display_data"
    },
    {
     "name": "stderr",
     "output_type": "stream",
     "text": [
      "/mnt/20tb/shevtsov/miniconda3/envs/sema_env/lib/python3.9/site-packages/esm/pretrained.py:215: UserWarning: Regression weights not found, predicting contacts will not produce correct results.\n",
      "  warnings.warn(\n",
      "Detected kernel version 4.15.0, which is below the recommended minimum of 5.5.0; this can cause the process to hang. It is recommended to upgrade the kernel to the minimum version or higher.\n"
     ]
    },
    {
     "data": {
      "text/html": [
       "\n",
       "    <div>\n",
       "      \n",
       "      <progress value='2334' max='2334' style='width:300px; height:20px; vertical-align: middle;'></progress>\n",
       "      [2334/2334 07:56, Epoch 2/2]\n",
       "    </div>\n",
       "    <table border=\"1\" class=\"dataframe\">\n",
       "  <thead>\n",
       " <tr style=\"text-align: left;\">\n",
       "      <th>Epoch</th>\n",
       "      <th>Training Loss</th>\n",
       "      <th>Validation Loss</th>\n",
       "      <th>Pearson R</th>\n",
       "      <th>Mse</th>\n",
       "      <th>R2 Score</th>\n",
       "    </tr>\n",
       "  </thead>\n",
       "  <tbody>\n",
       "    <tr>\n",
       "      <td>1</td>\n",
       "      <td>0.119900</td>\n",
       "      <td>0.151297</td>\n",
       "      <td>0.247783</td>\n",
       "      <td>0.153179</td>\n",
       "      <td>0.040447</td>\n",
       "    </tr>\n",
       "    <tr>\n",
       "      <td>2</td>\n",
       "      <td>0.104300</td>\n",
       "      <td>0.156692</td>\n",
       "      <td>0.237455</td>\n",
       "      <td>0.157643</td>\n",
       "      <td>0.012484</td>\n",
       "    </tr>\n",
       "  </tbody>\n",
       "</table><p>"
      ],
      "text/plain": [
       "<IPython.core.display.HTML object>"
      ]
     },
     "metadata": {},
     "output_type": "display_data"
    },
    {
     "name": "stderr",
     "output_type": "stream",
     "text": [
      "/mnt/20tb/shevtsov/miniconda3/envs/sema_env/lib/python3.9/site-packages/esm/pretrained.py:215: UserWarning: Regression weights not found, predicting contacts will not produce correct results.\n",
      "  warnings.warn(\n",
      "Detected kernel version 4.15.0, which is below the recommended minimum of 5.5.0; this can cause the process to hang. It is recommended to upgrade the kernel to the minimum version or higher.\n"
     ]
    },
    {
     "data": {
      "text/html": [
       "\n",
       "    <div>\n",
       "      \n",
       "      <progress value='2334' max='2334' style='width:300px; height:20px; vertical-align: middle;'></progress>\n",
       "      [2334/2334 07:56, Epoch 2/2]\n",
       "    </div>\n",
       "    <table border=\"1\" class=\"dataframe\">\n",
       "  <thead>\n",
       " <tr style=\"text-align: left;\">\n",
       "      <th>Epoch</th>\n",
       "      <th>Training Loss</th>\n",
       "      <th>Validation Loss</th>\n",
       "      <th>Pearson R</th>\n",
       "      <th>Mse</th>\n",
       "      <th>R2 Score</th>\n",
       "    </tr>\n",
       "  </thead>\n",
       "  <tbody>\n",
       "    <tr>\n",
       "      <td>1</td>\n",
       "      <td>0.114400</td>\n",
       "      <td>0.163331</td>\n",
       "      <td>0.214083</td>\n",
       "      <td>0.163469</td>\n",
       "      <td>-0.024017</td>\n",
       "    </tr>\n",
       "    <tr>\n",
       "      <td>2</td>\n",
       "      <td>0.099400</td>\n",
       "      <td>0.165098</td>\n",
       "      <td>0.213611</td>\n",
       "      <td>0.166764</td>\n",
       "      <td>-0.044658</td>\n",
       "    </tr>\n",
       "  </tbody>\n",
       "</table><p>"
      ],
      "text/plain": [
       "<IPython.core.display.HTML object>"
      ]
     },
     "metadata": {},
     "output_type": "display_data"
    },
    {
     "name": "stderr",
     "output_type": "stream",
     "text": [
      "/mnt/20tb/shevtsov/miniconda3/envs/sema_env/lib/python3.9/site-packages/esm/pretrained.py:215: UserWarning: Regression weights not found, predicting contacts will not produce correct results.\n",
      "  warnings.warn(\n",
      "Detected kernel version 4.15.0, which is below the recommended minimum of 5.5.0; this can cause the process to hang. It is recommended to upgrade the kernel to the minimum version or higher.\n"
     ]
    },
    {
     "data": {
      "text/html": [
       "\n",
       "    <div>\n",
       "      \n",
       "      <progress value='2334' max='2334' style='width:300px; height:20px; vertical-align: middle;'></progress>\n",
       "      [2334/2334 07:57, Epoch 2/2]\n",
       "    </div>\n",
       "    <table border=\"1\" class=\"dataframe\">\n",
       "  <thead>\n",
       " <tr style=\"text-align: left;\">\n",
       "      <th>Epoch</th>\n",
       "      <th>Training Loss</th>\n",
       "      <th>Validation Loss</th>\n",
       "      <th>Pearson R</th>\n",
       "      <th>Mse</th>\n",
       "      <th>R2 Score</th>\n",
       "    </tr>\n",
       "  </thead>\n",
       "  <tbody>\n",
       "    <tr>\n",
       "      <td>1</td>\n",
       "      <td>0.115400</td>\n",
       "      <td>0.153759</td>\n",
       "      <td>0.261918</td>\n",
       "      <td>0.152717</td>\n",
       "      <td>0.043342</td>\n",
       "    </tr>\n",
       "    <tr>\n",
       "      <td>2</td>\n",
       "      <td>0.096500</td>\n",
       "      <td>0.156269</td>\n",
       "      <td>0.251126</td>\n",
       "      <td>0.156700</td>\n",
       "      <td>0.018391</td>\n",
       "    </tr>\n",
       "  </tbody>\n",
       "</table><p>"
      ],
      "text/plain": [
       "<IPython.core.display.HTML object>"
      ]
     },
     "metadata": {},
     "output_type": "display_data"
    },
    {
     "name": "stderr",
     "output_type": "stream",
     "text": [
      "/mnt/20tb/shevtsov/miniconda3/envs/sema_env/lib/python3.9/site-packages/esm/pretrained.py:215: UserWarning: Regression weights not found, predicting contacts will not produce correct results.\n",
      "  warnings.warn(\n",
      "Detected kernel version 4.15.0, which is below the recommended minimum of 5.5.0; this can cause the process to hang. It is recommended to upgrade the kernel to the minimum version or higher.\n"
     ]
    },
    {
     "data": {
      "text/html": [
       "\n",
       "    <div>\n",
       "      \n",
       "      <progress value='2334' max='2334' style='width:300px; height:20px; vertical-align: middle;'></progress>\n",
       "      [2334/2334 07:57, Epoch 2/2]\n",
       "    </div>\n",
       "    <table border=\"1\" class=\"dataframe\">\n",
       "  <thead>\n",
       " <tr style=\"text-align: left;\">\n",
       "      <th>Epoch</th>\n",
       "      <th>Training Loss</th>\n",
       "      <th>Validation Loss</th>\n",
       "      <th>Pearson R</th>\n",
       "      <th>Mse</th>\n",
       "      <th>R2 Score</th>\n",
       "    </tr>\n",
       "  </thead>\n",
       "  <tbody>\n",
       "    <tr>\n",
       "      <td>1</td>\n",
       "      <td>0.116600</td>\n",
       "      <td>0.154660</td>\n",
       "      <td>0.251915</td>\n",
       "      <td>0.155605</td>\n",
       "      <td>0.025247</td>\n",
       "    </tr>\n",
       "    <tr>\n",
       "      <td>2</td>\n",
       "      <td>0.104400</td>\n",
       "      <td>0.158828</td>\n",
       "      <td>0.241520</td>\n",
       "      <td>0.160226</td>\n",
       "      <td>-0.003696</td>\n",
       "    </tr>\n",
       "  </tbody>\n",
       "</table><p>"
      ],
      "text/plain": [
       "<IPython.core.display.HTML object>"
      ]
     },
     "metadata": {},
     "output_type": "display_data"
    }
   ],
   "source": [
    "for idx, model_init in enumerate([model_init_1, model_init_2, model_init_3, model_init_4, model_init_5]):\n",
    "\n",
    "    trainer = MaskedRegressTrainer(\n",
    "        model=model_init(),                   # the instantiated 🤗 Transformers model to be trained\n",
    "        args=training_args,                   # training arguments, defined above\n",
    "        train_dataset=train_ds,               # training dataset\n",
    "        eval_dataset=test_ds,                 # evaluation dataset\n",
    "        data_collator = collator_fn,\n",
    "        compute_metrics = compute_metrics_regr    # evaluation metrics\n",
    "    )\n",
    "\n",
    "    trainer.train()\n",
    "    \n",
    "    #save weights\n",
    "    torch.save(trainer.model.state_dict(), f\"../models/sema_1d_newdata_uncut_log10vals_{str(idx)}.pth\")"
   ]
  },
  {
   "cell_type": "markdown",
   "metadata": {},
   "source": [
    "# Multimers test"
   ]
  },
  {
   "cell_type": "code",
   "execution_count": 15,
   "metadata": {},
   "outputs": [],
   "source": [
    "from biopandas.pdb import PandasPdb\n",
    "import pandas as pd\n",
    "from pathlib import Path\n",
    "from tqdm import tqdm\n",
    "\n",
    "aa_3_to_1 = {'CYS': 'C', 'ASP': 'D', 'SER': 'S', 'GLN': 'Q', 'LYS': 'K',\n",
    "     'ILE': 'I', 'PRO': 'P', 'THR': 'T', 'PHE': 'F', 'ASN': 'N', \n",
    "     'GLY': 'G', 'HIS': 'H', 'LEU': 'L', 'ARG': 'R', 'TRP': 'W', \n",
    "     'ALA': 'A', 'VAL':'V', 'GLU': 'E', 'TYR': 'Y', 'MET': 'M'}"
   ]
  },
  {
   "cell_type": "code",
   "execution_count": 16,
   "metadata": {},
   "outputs": [],
   "source": [
    "def prepare_multimer_test_1D_model(path_to_pdbs, gap_length = 0):\n",
    "    \n",
    "    path_pdbs = Path(path_to_pdbs).glob(\"*.pdb\")\n",
    "    one_chain_prots = []\n",
    "    test_df = pd.DataFrame(columns = ['seq', 'concat_number'])\n",
    "\n",
    "    for pdb_path in tqdm(list(path_pdbs)):\n",
    "        # read pdb\n",
    "        atom_df =  PandasPdb().read_pdb(str(pdb_path)).df['ATOM']\n",
    "        # create one letter aa columns\n",
    "        atom_df['residue_letter'] =  atom_df['residue_name'].map(aa_3_to_1)\n",
    "        # change mask values from -1 to -100\n",
    "        atom_df.loc[atom_df['b_factor'] == -1, 'b_factor'] = -100\n",
    "        atom_df.loc[atom_df['b_factor'] >= 0, 'b_factor'] = atom_df.loc[atom_df['b_factor'] >= 0, 'b_factor'].apply(lambda x: np.log10(x + 1))\n",
    "\n",
    "        chains_dfs = [atom_df[atom_df['chain_id'] == chain] for chain in atom_df.chain_id.unique()]\n",
    "\n",
    "        # filtr out sample if there is only on chain\n",
    "        if len(chains_dfs) == 1:\n",
    "            one_chain_prots.append(pdb_path)\n",
    "            print(atom_df.chain_id.unique(), pdb_path)\n",
    "            continue\n",
    "        \n",
    "        chains_contacts = []\n",
    "        chains_seqs = []\n",
    "\n",
    "        for ind, chain_df in enumerate(chains_dfs):\n",
    "\n",
    "            # chain_df = chain_df.drop_duplicates(['residue_number'])\n",
    "            chain_df = chain_df[chain_df.atom_name == 'CA']\n",
    "            chains_seqs.append(''.join(chain_df['residue_letter']))\n",
    "\n",
    "            if ind != 0:\n",
    "                chains_contacts += [-100]*gap_length\n",
    "            chains_contacts += chain_df['b_factor'].tolist()\n",
    "\n",
    "        multimer_seq = ('G'*gap_length).join(chains_seqs)\n",
    "            \n",
    "        test_df.loc[test_df.shape[0] +1, :] = {'seq': multimer_seq, 'concat_number': chains_contacts}\n",
    "    \n",
    "    print('PDBs with only one chain:', len(one_chain_prots))\n",
    "\n",
    "    return test_df"
   ]
  },
  {
   "cell_type": "code",
   "execution_count": 17,
   "metadata": {},
   "outputs": [
    {
     "name": "stderr",
     "output_type": "stream",
     "text": [
      "  1%|          | 6/773 [00:00<00:37, 20.53it/s]"
     ]
    },
    {
     "name": "stderr",
     "output_type": "stream",
     "text": [
      " 60%|██████    | 467/773 [00:32<00:13, 22.34it/s]"
     ]
    },
    {
     "name": "stdout",
     "output_type": "stream",
     "text": [
      "['B'] /mnt/nfs_protein/ivanisenko/SEMA/dataset/multimers/7K7I_B.pdb\n",
      "['C'] /mnt/nfs_protein/ivanisenko/SEMA/dataset/multimers/7K7I_C.pdb\n"
     ]
    },
    {
     "name": "stderr",
     "output_type": "stream",
     "text": [
      "100%|██████████| 773/773 [01:05<00:00, 11.74it/s]\n"
     ]
    },
    {
     "name": "stdout",
     "output_type": "stream",
     "text": [
      "PDBs with only one chain: 2\n"
     ]
    },
    {
     "name": "stderr",
     "output_type": "stream",
     "text": [
      "/mnt/20tb/shevtsov/miniconda3/envs/sema_env/lib/python3.9/site-packages/esm/pretrained.py:215: UserWarning: Regression weights not found, predicting contacts will not produce correct results.\n",
      "  warnings.warn(\n"
     ]
    }
   ],
   "source": [
    "test_df = prepare_multimer_test_1D_model('/mnt/nfs_protein/ivanisenko/SEMA/dataset/multimers/', gap_length = 0)\n",
    "multi_test_ds = PDB_Dataset(test_df)"
   ]
  },
  {
   "cell_type": "code",
   "execution_count": 19,
   "metadata": {},
   "outputs": [
    {
     "data": {
      "text/plain": [
       "{'eval_loss': 0.1261979043483734,\n",
       " 'eval_pearson_r': 0.39509810541191237,\n",
       " 'eval_mse': 0.12259264290332794,\n",
       " 'eval_r2_score': 0.1295839046660825,\n",
       " 'eval_runtime': 82.6092,\n",
       " 'eval_samples_per_second': 9.333,\n",
       " 'eval_steps_per_second': 9.333,\n",
       " 'epoch': 2.0}"
      ]
     },
     "execution_count": 19,
     "metadata": {},
     "output_type": "execute_result"
    }
   ],
   "source": [
    "# with 20*gap\n",
    "trainer.evaluate(multi_test_ds)"
   ]
  },
  {
   "cell_type": "markdown",
   "metadata": {},
   "source": [
    "# Load and evaluate"
   ]
  },
  {
   "cell_type": "code",
   "execution_count": 162,
   "metadata": {},
   "outputs": [
    {
     "name": "stderr",
     "output_type": "stream",
     "text": [
      "/mnt/20tb/shevtsov/miniconda3/envs/sema_env/lib/python3.9/site-packages/esm/pretrained.py:215: UserWarning: Regression weights not found, predicting contacts will not produce correct results.\n",
      "  warnings.warn(\n"
     ]
    },
    {
     "data": {
      "text/plain": [
       "<All keys matched successfully>"
      ]
     },
     "execution_count": 162,
     "metadata": {},
     "output_type": "execute_result"
    }
   ],
   "source": [
    "PATH ='/home/shevtsov/SEMAi/models/sema_1d_1.pth'\n",
    "\n",
    "model = ESM1vForTokenClassification()\n",
    "model.load_state_dict(torch.load(PATH))\n",
    "\n",
    "trainer = MaskedRegressTrainer(\n",
    "    model=model,                   # the instantiated 🤗 Transformers model to be trained\n",
    "    args=training_args,                     # training arguments, defined above\n",
    "    train_dataset=train_ds,                 # training dataset\n",
    "    eval_dataset=test_ds,                   # evaluation dataset\n",
    "    data_collator = collator_fn,\n",
    "    compute_metrics = compute_metrics_regr,    # evaluation metrics\n",
    ")\n",
    "trainer.evaluate(multi_test_ds)"
   ]
  },
  {
   "cell_type": "code",
   "execution_count": 27,
   "metadata": {},
   "outputs": [],
   "source": [
    "\n",
    "pdb_path = '/mnt/nfs_protein/ivanisenko/SEMA/dataset/multimers/1CZ8_V_W.pdb'\n",
    "# read pdb\n",
    "pdb_df =  PandasPdb().read_pdb(str(pdb_path)) \n",
    "atom_df = pdb_df.df['ATOM']\n",
    "# create one letter aa columns\n",
    "atom_df['residue_letter'] =  atom_df['residue_name'].map(aa_3_to_1)\n",
    "atom_df['chain_id'] = 'M'\n",
    "\n",
    "# change mask values from -1 to -100\n",
    "atom_df.loc[atom_df['b_factor'] == -1, 'b_factor'] = -100\n",
    "# atom_df.loc[atom_df['b_factor'] >= 0, 'b_factor'] = atom_df.loc[atom_df['b_factor'] >= 0, 'b_factor'].apply()"
   ]
  },
  {
   "cell_type": "code",
   "execution_count": 28,
   "metadata": {},
   "outputs": [
    {
     "name": "stderr",
     "output_type": "stream",
     "text": [
      "/mnt/20tb/shevtsov/miniconda3/envs/sema_env/lib/python3.9/site-packages/biopandas/pdb/pandas_pdb.py:624: UserWarning: Column residue_letter is not an expected column and will be skipped.\n",
      "  warn(\n"
     ]
    }
   ],
   "source": [
    "pdb_df.df['ATOM'] = atom_df\n",
    "pdb_df.to_pdb('test_M.pdb')"
   ]
  },
  {
   "cell_type": "code",
   "execution_count": 118,
   "metadata": {},
   "outputs": [],
   "source": [
    "# Не делаем паддинги в pdb. \n",
    "# Для saprot просто переделаем все файлы как- будто в одноцепочечные.\n",
    "# Для 1D моделей подгружаем цепи и вставляем между ними \n",
    "#     1- глицины - пробовать первым \n",
    "#     2- падинги\n",
    "#     3- ничего не вставляем \n",
    "#     4- делаем атеншн маску на позиции связывания\n",
    "# Для 3D тоже грузим по цепям и:\n",
    "#     1- вставляем в координаты наны + аттеншн маска \n",
    "#     2- ничего не вставляем, обьединяем цепи до энкодера - пробовать первым\n",
    "#     2- ничего не вставляем, обьединяем цепи после энкодера"
   ]
  },
  {
   "cell_type": "code",
   "execution_count": 25,
   "metadata": {},
   "outputs": [
    {
     "name": "stderr",
     "output_type": "stream",
     "text": [
      "/mnt/20tb/shevtsov/miniconda3/envs/sema_env/lib/python3.9/site-packages/esm/pretrained.py:215: UserWarning: Regression weights not found, predicting contacts will not produce correct results.\n",
      "  warnings.warn(\n",
      "/mnt/20tb/shevtsov/miniconda3/envs/sema_env/lib/python3.9/site-packages/esm/pretrained.py:215: UserWarning: Regression weights not found, predicting contacts will not produce correct results.\n",
      "  warnings.warn(\n"
     ]
    }
   ],
   "source": [
    "import json\n",
    "import pandas as pd\n",
    "path = '/home/shevtsov/SEMAi/data/SEMA_DS_4.5.json'\n",
    "\n",
    "train_ds , test_ds = load_datasets(path, filtr_length = 0)"
   ]
  },
  {
   "cell_type": "code",
   "execution_count": 30,
   "metadata": {},
   "outputs": [
    {
     "name": "stderr",
     "output_type": "stream",
     "text": [
      "/mnt/20tb/shevtsov/miniconda3/envs/sema_env/lib/python3.9/site-packages/esm/pretrained.py:215: UserWarning: Regression weights not found, predicting contacts will not produce correct results.\n",
      "  warnings.warn(\n",
      "100%|██████████| 72/72 [00:04<00:00, 16.40it/s]\n"
     ]
    }
   ],
   "source": [
    "from sklearn.metrics import roc_curve,roc_auc_score\n",
    "from tqdm import tqdm\n",
    "\n",
    "path = '/home/shevtsov/SEMAi/models/sema_1d_newdata_uncut_natlogvals_0.pth'\n",
    "model=model_init_1()\n",
    "model.load_state_dict(torch.load(path))\n",
    "model.eval()\n",
    "model.cuda()\n",
    "\n",
    "with torch.no_grad():\n",
    "    preds=[]\n",
    "    labels = []\n",
    "    for it in tqdm(test_ds):\n",
    "        # preds.append(model.forward(it['token_ids'].cuda(), labels = None)[0][0][:,1].cpu().numpy())\n",
    "        # labels.append(it['labels'].squeeze(0).numpy())\n",
    "        it_preds = model.forward(it['token_ids'].cuda(), labels = None)[0][0][:,1].cpu().numpy()\n",
    "        it_labels = it['labels'].squeeze(0).numpy()\n",
    "        for ind, label in enumerate(it_labels):\n",
    "\n",
    "            if label >0:\n",
    "                labels.append(1) \n",
    "                preds.append(it_preds[ind])\n",
    "            elif label == 0:\n",
    "                labels.append(0) \n",
    "                preds.append(it_preds[ind])\n"
   ]
  },
  {
   "cell_type": "code",
   "execution_count": 31,
   "metadata": {},
   "outputs": [
    {
     "name": "stdout",
     "output_type": "stream",
     "text": [
      "2888 -0.34501427\n",
      "0.6338392514357227\n"
     ]
    }
   ],
   "source": [
    "import numpy as np\n",
    "from sklearn.metrics import roc_curve, roc_auc_score\n",
    "\n",
    "fpr, tpr, thresholds = roc_curve(labels, preds, pos_label=1)\n",
    "\n",
    "optimal_threshold_ind = np.argmax(np.sqrt((1- fpr)**2 + tpr**2))\n",
    "print(optimal_threshold_ind, thresholds[optimal_threshold_ind])\n",
    "print(roc_auc_score(labels, preds))\n"
   ]
  },
  {
   "cell_type": "code",
   "execution_count": 32,
   "metadata": {},
   "outputs": [
    {
     "name": "stderr",
     "output_type": "stream",
     "text": [
      "100%|██████████| 72/72 [00:04<00:00, 16.50it/s]\n",
      "100%|██████████| 72/72 [00:04<00:00, 16.39it/s]\n",
      "100%|██████████| 72/72 [00:04<00:00, 16.45it/s]\n",
      "100%|██████████| 72/72 [00:04<00:00, 16.47it/s]\n",
      "100%|██████████| 72/72 [00:04<00:00, 16.40it/s]\n"
     ]
    }
   ],
   "source": [
    "plists=[]\n",
    "\n",
    "for ens_idx in range(5):\n",
    "    # path to model weights\n",
    "    path = f'/home/shevtsov/SEMAi/models/sema_1d_newdata_uncut_log10vals_{str(ens_idx)}.pth'\n",
    "    model.load_state_dict(torch.load(path))\n",
    "    model.eval()\n",
    "    model.cuda()\n",
    "\n",
    "    with torch.no_grad():\n",
    "        preds=[]\n",
    "        labels = []\n",
    "        \n",
    "        for it in tqdm(test_ds):\n",
    "            # preds.append(model.forward(it['token_ids'].cuda(), labels = None)[0][0][:,1].cpu().numpy())\n",
    "            # labels.append(it['labels'].squeeze(0).numpy())\n",
    "\n",
    "            it_preds = model.forward(it['token_ids'].cuda(), labels = None)[0][0][:,1].cpu().numpy()\n",
    "            it_labels = it['labels'].squeeze(0).numpy()\n",
    "\n",
    "            for ind, label in enumerate(it_labels):\n",
    "\n",
    "                if label >0:\n",
    "                    labels.append(1) \n",
    "                    preds.append(it_preds[ind])\n",
    "                elif label == 0:\n",
    "                    labels.append(0) \n",
    "                    preds.append(it_preds[ind])\n",
    "                    \n",
    "    plists.append(preds)"
   ]
  },
  {
   "cell_type": "code",
   "execution_count": 38,
   "metadata": {},
   "outputs": [],
   "source": [
    "# np.array(plists)\n",
    "res = np.mean(np.array(plists), axis = 0)"
   ]
  },
  {
   "cell_type": "code",
   "execution_count": 40,
   "metadata": {},
   "outputs": [
    {
     "name": "stdout",
     "output_type": "stream",
     "text": [
      "2802 -0.017048014\n",
      "0.669665972222357\n"
     ]
    }
   ],
   "source": [
    "import numpy as np\n",
    "from sklearn.metrics import roc_curve, roc_auc_score\n",
    "\n",
    "fpr, tpr, thresholds = roc_curve(labels, res, pos_label=1)\n",
    "\n",
    "optimal_threshold_ind = np.argmax(np.sqrt((1- fpr)**2 + tpr**2))\n",
    "print(optimal_threshold_ind, thresholds[optimal_threshold_ind])\n",
    "print(roc_auc_score(labels, res))\n"
   ]
  }
 ],
 "metadata": {
  "kernelspec": {
   "display_name": "Python 3 (ipykernel)",
   "language": "python",
   "name": "python3"
  },
  "language_info": {
   "codemirror_mode": {
    "name": "ipython",
    "version": 3
   },
   "file_extension": ".py",
   "mimetype": "text/x-python",
   "name": "python",
   "nbconvert_exporter": "python",
   "pygments_lexer": "ipython3",
   "version": "3.9.18"
  }
 },
 "nbformat": 4,
 "nbformat_minor": 2
}
