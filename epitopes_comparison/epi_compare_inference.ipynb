{
 "cells": [
  {
   "cell_type": "code",
   "execution_count": 2,
   "metadata": {},
   "outputs": [],
   "source": [
    "import os\n",
    "import sys\n",
    "\n",
    "from biopandas.pdb import PandasPdb\n",
    "import numpy as np\n",
    "import torch\n",
    "from transformers import EsmTokenizer\n",
    "\n",
    "sys.path.append(\"../\")\n",
    "from saprot_utils.foldseek_util import get_struc_seq"
   ]
  },
  {
   "cell_type": "code",
   "execution_count": 13,
   "metadata": {},
   "outputs": [],
   "source": [
    "def process_single_file(filename, folder, foldseek_path=\"SaProt/bin/foldseek\"):\n",
    "    \"\"\"Generate SaProt structure sequence \n",
    "    for a given structure file `filename` in folder `folder`\"\"\"\n",
    "    file = os.path.join(folder, filename)\n",
    "    chain = PandasPdb().read_pdb(file).df[\"ATOM\"].chain_id.unique()\n",
    "    if len(chain) > 1:\n",
    "        raise ValueError(f\"Expected one chain in epitope structure {filename}, got {len(chain)}: {chain}\")\n",
    "    chain = chain[0]\n",
    "    seq, foldseek_seq, combined_seq = get_struc_seq(foldseek_path, file, [chain])[chain]\n",
    "    return {\n",
    "        'pdb_path': filename,\n",
    "        'seq': seq,\n",
    "        'chain': chain,\n",
    "        'saprot_seq': combined_seq,\n",
    "    }"
   ]
  },
  {
   "cell_type": "markdown",
   "metadata": {},
   "source": [
    "# Get SaProt structural sequences using `foldseek`"
   ]
  },
  {
   "cell_type": "code",
   "execution_count": 14,
   "metadata": {},
   "outputs": [],
   "source": [
    "# replace with your path to foldseek binary file\n",
    "foldseek_path = \"PATH/TO/FOLDSEEK\"\n",
    "foldseek_path = 'saprot_utils/bin/foldseek'"
   ]
  },
  {
   "cell_type": "code",
   "execution_count": 15,
   "metadata": {},
   "outputs": [],
   "source": [
    "pdb_pairs = [\n",
    "    ['7LM9_A.pdb', '7RBY_C.pdb'],\n",
    "    ['8FDW_A.pdb', '8U1G_A.pdb']\n",
    "]\n",
    "pdb_folder = \"inference_examples/\""
   ]
  },
  {
   "cell_type": "code",
   "execution_count": 16,
   "metadata": {},
   "outputs": [
    {
     "ename": "AssertionError",
     "evalue": "Foldseek not found: saprot_utils/bin/foldseek",
     "output_type": "error",
     "traceback": [
      "\u001b[0;31m---------------------------------------------------------------------------\u001b[0m",
      "\u001b[0;31mAssertionError\u001b[0m                            Traceback (most recent call last)",
      "Cell \u001b[0;32mIn[16], line 3\u001b[0m\n\u001b[1;32m      1\u001b[0m saprot_seqs \u001b[38;5;241m=\u001b[39m []\n\u001b[1;32m      2\u001b[0m \u001b[38;5;28;01mfor\u001b[39;00m pdb_pair \u001b[38;5;129;01min\u001b[39;00m pdb_pairs:\n\u001b[0;32m----> 3\u001b[0m     seqs \u001b[38;5;241m=\u001b[39m \u001b[38;5;28;43mlist\u001b[39;49m\u001b[43m(\u001b[49m\u001b[38;5;28;43mmap\u001b[39;49m\u001b[43m(\u001b[49m\n\u001b[1;32m      4\u001b[0m \u001b[43m        \u001b[49m\u001b[38;5;28;43;01mlambda\u001b[39;49;00m\u001b[43m \u001b[49m\u001b[43mx\u001b[49m\u001b[43m:\u001b[49m\u001b[43m \u001b[49m\u001b[43mprocess_single_file\u001b[49m\u001b[43m(\u001b[49m\u001b[43mx\u001b[49m\u001b[43m,\u001b[49m\u001b[43m \u001b[49m\u001b[43mpdb_folder\u001b[49m\u001b[43m,\u001b[49m\u001b[43m \u001b[49m\u001b[43mfoldseek_path\u001b[49m\u001b[38;5;241;43m=\u001b[39;49m\u001b[43mfoldseek_path\u001b[49m\u001b[43m)\u001b[49m\u001b[43m[\u001b[49m\u001b[38;5;124;43m\"\u001b[39;49m\u001b[38;5;124;43msaprot_seq\u001b[39;49m\u001b[38;5;124;43m\"\u001b[39;49m\u001b[43m]\u001b[49m\u001b[43m,\u001b[49m\u001b[43m \u001b[49m\n\u001b[1;32m      5\u001b[0m \u001b[43m        \u001b[49m\u001b[43mpdb_pair\u001b[49m\n\u001b[1;32m      6\u001b[0m \u001b[43m    \u001b[49m\u001b[43m)\u001b[49m\u001b[43m)\u001b[49m\n\u001b[1;32m      7\u001b[0m     saprot_seqs\u001b[38;5;241m.\u001b[39mappend(seqs)\n",
      "Cell \u001b[0;32mIn[16], line 4\u001b[0m, in \u001b[0;36m<lambda>\u001b[0;34m(x)\u001b[0m\n\u001b[1;32m      1\u001b[0m saprot_seqs \u001b[38;5;241m=\u001b[39m []\n\u001b[1;32m      2\u001b[0m \u001b[38;5;28;01mfor\u001b[39;00m pdb_pair \u001b[38;5;129;01min\u001b[39;00m pdb_pairs:\n\u001b[1;32m      3\u001b[0m     seqs \u001b[38;5;241m=\u001b[39m \u001b[38;5;28mlist\u001b[39m(\u001b[38;5;28mmap\u001b[39m(\n\u001b[0;32m----> 4\u001b[0m         \u001b[38;5;28;01mlambda\u001b[39;00m x: \u001b[43mprocess_single_file\u001b[49m\u001b[43m(\u001b[49m\u001b[43mx\u001b[49m\u001b[43m,\u001b[49m\u001b[43m \u001b[49m\u001b[43mpdb_folder\u001b[49m\u001b[43m,\u001b[49m\u001b[43m \u001b[49m\u001b[43mfoldseek_path\u001b[49m\u001b[38;5;241;43m=\u001b[39;49m\u001b[43mfoldseek_path\u001b[49m\u001b[43m)\u001b[49m[\u001b[38;5;124m\"\u001b[39m\u001b[38;5;124msaprot_seq\u001b[39m\u001b[38;5;124m\"\u001b[39m], \n\u001b[1;32m      5\u001b[0m         pdb_pair\n\u001b[1;32m      6\u001b[0m     ))\n\u001b[1;32m      7\u001b[0m     saprot_seqs\u001b[38;5;241m.\u001b[39mappend(seqs)\n",
      "Cell \u001b[0;32mIn[13], line 9\u001b[0m, in \u001b[0;36mprocess_single_file\u001b[0;34m(filename, folder, foldseek_path)\u001b[0m\n\u001b[1;32m      7\u001b[0m     \u001b[38;5;28;01mraise\u001b[39;00m \u001b[38;5;167;01mValueError\u001b[39;00m(\u001b[38;5;124mf\u001b[39m\u001b[38;5;124m\"\u001b[39m\u001b[38;5;124mExpected one chain in epitope structure \u001b[39m\u001b[38;5;132;01m{\u001b[39;00mfilename\u001b[38;5;132;01m}\u001b[39;00m\u001b[38;5;124m, got \u001b[39m\u001b[38;5;132;01m{\u001b[39;00m\u001b[38;5;28mlen\u001b[39m(chain)\u001b[38;5;132;01m}\u001b[39;00m\u001b[38;5;124m: \u001b[39m\u001b[38;5;132;01m{\u001b[39;00mchain\u001b[38;5;132;01m}\u001b[39;00m\u001b[38;5;124m\"\u001b[39m)\n\u001b[1;32m      8\u001b[0m chain \u001b[38;5;241m=\u001b[39m chain[\u001b[38;5;241m0\u001b[39m]\n\u001b[0;32m----> 9\u001b[0m seq, foldseek_seq, combined_seq \u001b[38;5;241m=\u001b[39m \u001b[43mget_struc_seq\u001b[49m\u001b[43m(\u001b[49m\u001b[43mfoldseek_path\u001b[49m\u001b[43m,\u001b[49m\u001b[43m \u001b[49m\u001b[43mfile\u001b[49m\u001b[43m,\u001b[49m\u001b[43m \u001b[49m\u001b[43m[\u001b[49m\u001b[43mchain\u001b[49m\u001b[43m]\u001b[49m\u001b[43m)\u001b[49m[chain]\n\u001b[1;32m     10\u001b[0m \u001b[38;5;28;01mreturn\u001b[39;00m {\n\u001b[1;32m     11\u001b[0m     \u001b[38;5;124m'\u001b[39m\u001b[38;5;124mpdb_path\u001b[39m\u001b[38;5;124m'\u001b[39m: filename,\n\u001b[1;32m     12\u001b[0m     \u001b[38;5;124m'\u001b[39m\u001b[38;5;124mseq\u001b[39m\u001b[38;5;124m'\u001b[39m: seq,\n\u001b[1;32m     13\u001b[0m     \u001b[38;5;124m'\u001b[39m\u001b[38;5;124mchain\u001b[39m\u001b[38;5;124m'\u001b[39m: chain,\n\u001b[1;32m     14\u001b[0m     \u001b[38;5;124m'\u001b[39m\u001b[38;5;124msaprot_seq\u001b[39m\u001b[38;5;124m'\u001b[39m: combined_seq,\n\u001b[1;32m     15\u001b[0m }\n",
      "File \u001b[0;32m~/SEMAi/epitopes_comparison/../saprot_utils/foldseek_util.py:30\u001b[0m, in \u001b[0;36mget_struc_seq\u001b[0;34m(foldseek, path, chains, process_id, plddt_path, plddt_threshold)\u001b[0m\n\u001b[1;32m     10\u001b[0m \u001b[38;5;28;01mdef\u001b[39;00m \u001b[38;5;21mget_struc_seq\u001b[39m(foldseek,\n\u001b[1;32m     11\u001b[0m                   path,\n\u001b[1;32m     12\u001b[0m                   chains: \u001b[38;5;28mlist\u001b[39m \u001b[38;5;241m=\u001b[39m \u001b[38;5;28;01mNone\u001b[39;00m,\n\u001b[1;32m     13\u001b[0m                   process_id: \u001b[38;5;28mint\u001b[39m \u001b[38;5;241m=\u001b[39m \u001b[38;5;241m0\u001b[39m,\n\u001b[1;32m     14\u001b[0m                   plddt_path: \u001b[38;5;28mstr\u001b[39m \u001b[38;5;241m=\u001b[39m \u001b[38;5;28;01mNone\u001b[39;00m,\n\u001b[1;32m     15\u001b[0m                   plddt_threshold: \u001b[38;5;28mfloat\u001b[39m \u001b[38;5;241m=\u001b[39m \u001b[38;5;241m70.\u001b[39m) \u001b[38;5;241m-\u001b[39m\u001b[38;5;241m>\u001b[39m \u001b[38;5;28mdict\u001b[39m:\n\u001b[1;32m     16\u001b[0m \u001b[38;5;250m    \u001b[39m\u001b[38;5;124;03m\"\"\"\u001b[39;00m\n\u001b[1;32m     17\u001b[0m \u001b[38;5;124;03m    \u001b[39;00m\n\u001b[1;32m     18\u001b[0m \u001b[38;5;124;03m    Args:\u001b[39;00m\n\u001b[0;32m   (...)\u001b[0m\n\u001b[1;32m     28\u001b[0m \u001b[38;5;124;03m        (seq, struc_seq, combined_seq).\u001b[39;00m\n\u001b[1;32m     29\u001b[0m \u001b[38;5;124;03m    \"\"\"\u001b[39;00m\n\u001b[0;32m---> 30\u001b[0m     \u001b[38;5;28;01massert\u001b[39;00m os\u001b[38;5;241m.\u001b[39mpath\u001b[38;5;241m.\u001b[39mexists(foldseek), \u001b[38;5;124mf\u001b[39m\u001b[38;5;124m\"\u001b[39m\u001b[38;5;124mFoldseek not found: \u001b[39m\u001b[38;5;132;01m{\u001b[39;00mfoldseek\u001b[38;5;132;01m}\u001b[39;00m\u001b[38;5;124m\"\u001b[39m\n\u001b[1;32m     31\u001b[0m     \u001b[38;5;28;01massert\u001b[39;00m os\u001b[38;5;241m.\u001b[39mpath\u001b[38;5;241m.\u001b[39mexists(path), \u001b[38;5;124mf\u001b[39m\u001b[38;5;124m\"\u001b[39m\u001b[38;5;124mPdb file not found: \u001b[39m\u001b[38;5;132;01m{\u001b[39;00mpath\u001b[38;5;132;01m}\u001b[39;00m\u001b[38;5;124m\"\u001b[39m\n\u001b[1;32m     32\u001b[0m     \u001b[38;5;28;01massert\u001b[39;00m plddt_path \u001b[38;5;129;01mis\u001b[39;00m \u001b[38;5;28;01mNone\u001b[39;00m \u001b[38;5;129;01mor\u001b[39;00m os\u001b[38;5;241m.\u001b[39mpath\u001b[38;5;241m.\u001b[39mexists(plddt_path), \u001b[38;5;124mf\u001b[39m\u001b[38;5;124m\"\u001b[39m\u001b[38;5;124mPlddt file not found: \u001b[39m\u001b[38;5;132;01m{\u001b[39;00mplddt_path\u001b[38;5;132;01m}\u001b[39;00m\u001b[38;5;124m\"\u001b[39m\n",
      "\u001b[0;31mAssertionError\u001b[0m: Foldseek not found: saprot_utils/bin/foldseek"
     ]
    }
   ],
   "source": [
    "saprot_seqs = []\n",
    "for pdb_pair in pdb_pairs:\n",
    "    seqs = list(map(\n",
    "        lambda x: process_single_file(x, pdb_folder, foldseek_path=foldseek_path)[\"saprot_seq\"], \n",
    "        pdb_pair\n",
    "    ))\n",
    "    saprot_seqs.append(seqs)"
   ]
  },
  {
   "cell_type": "markdown",
   "metadata": {},
   "source": [
    "# Run inference"
   ]
  },
  {
   "cell_type": "markdown",
   "metadata": {},
   "source": [
    "## Prepare inputs"
   ]
  },
  {
   "cell_type": "code",
   "execution_count": 7,
   "metadata": {},
   "outputs": [
    {
     "name": "stdout",
     "output_type": "stream",
     "text": [
      "Loaded trained model\n"
     ]
    }
   ],
   "source": [
    "tokenizer = EsmTokenizer.from_pretrained(\"westlake-repl/SaProt_35M_AF2\")\n",
    "\n",
    "# Load trained model\n",
    "trained_model_path = \"best_model.pt\"\n",
    "trained_model = torch.load(trained_model_path, map_location=torch.device(\"cuda:0\"))\n",
    "trained_model.eval()\n",
    "print(\"Loaded trained model\")"
   ]
  },
  {
   "cell_type": "code",
   "execution_count": 8,
   "metadata": {},
   "outputs": [],
   "source": [
    "predictions = []\n",
    "for i, (saprot_seq_1, saprot_seq_2) in enumerate(saprot_seqs):\n",
    "    inputs = list(map(lambda x: tokenizer(x, return_tensors=\"pt\"), [saprot_seq_1, saprot_seq_2]))\n",
    "    inputs = {\"antigen_epitope\": inputs}\n",
    "    with torch.no_grad():\n",
    "        match_prediction = trained_model(**inputs)\n",
    "    prediction = match_prediction[0, :, :, 0].cpu().detach().numpy()\n",
    "    predictions.append(prediction)\n",
    "\n",
    "    # save predictions\n",
    "    ag_file, epi_file = pdb_pairs[i]\n",
    "    save_file = f\"prediction_\" \\\n",
    "                + \".\".join(ag_file.split(\".\")[:-1]) \\\n",
    "                + \"_\" \\\n",
    "                + \".\".join(epi_file.split(\".\")[:-1])\n",
    "    np.save(save_file, prediction)"
   ]
  }
 ],
 "metadata": {
  "kernelspec": {
   "display_name": "sema_env",
   "language": "python",
   "name": "python3"
  },
  "language_info": {
   "codemirror_mode": {
    "name": "ipython",
    "version": 3
   },
   "file_extension": ".py",
   "mimetype": "text/x-python",
   "name": "python",
   "nbconvert_exporter": "python",
   "pygments_lexer": "ipython3",
   "version": "3.9.0"
  }
 },
 "nbformat": 4,
 "nbformat_minor": 5
}
