{
 "cells": [
  {
   "cell_type": "code",
   "execution_count": 1,
   "metadata": {},
   "outputs": [
    {
     "name": "stderr",
     "output_type": "stream",
     "text": [
      "/mnt/10tb/home/shevtsov/miniconda3/envs/sema_env/lib/python3.9/site-packages/tqdm/auto.py:21: TqdmWarning: IProgress not found. Please update jupyter and ipywidgets. See https://ipywidgets.readthedocs.io/en/stable/user_install.html\n",
      "  from .autonotebook import tqdm as notebook_tqdm\n"
     ]
    }
   ],
   "source": [
    "import os\n",
    "import sys\n",
    "\n",
    "from biopandas.pdb import PandasPdb\n",
    "import numpy as np\n",
    "import torch\n",
    "from transformers import EsmTokenizer\n",
    "\n",
    "sys.path.append(\"../\")\n",
    "from saprot_utils.foldseek_util import get_struc_seq"
   ]
  },
  {
   "cell_type": "code",
   "execution_count": 13,
   "metadata": {},
   "outputs": [],
   "source": [
    "def process_single_file(filename, folder, foldseek_path=\"../../saprot_utils/bin/foldseek\"):\n",
    "    \"\"\"Generate SaProt structure sequence \n",
    "    for a given structure file `filename` in folder `folder`\"\"\"\n",
    "    file = os.path.join(folder, filename)\n",
    "    chain = PandasPdb().read_pdb(file).df[\"ATOM\"].chain_id.unique()\n",
    "    if len(chain) > 1:\n",
    "        raise ValueError(f\"Expected one chain in epitope structure {filename}, got {len(chain)}: {chain}\")\n",
    "    chain = chain[0]\n",
    "    seq, foldseek_seq, combined_seq = get_struc_seq(foldseek_path, file, [chain])[chain]\n",
    "    return {\n",
    "        'pdb_path': filename,\n",
    "        'seq': seq,\n",
    "        'chain': chain,\n",
    "        'saprot_seq': combined_seq,\n",
    "    }"
   ]
  },
  {
   "cell_type": "markdown",
   "metadata": {},
   "source": [
    "# Get SaProt structural sequences using `foldseek`"
   ]
  },
  {
   "cell_type": "code",
   "execution_count": 14,
   "metadata": {},
   "outputs": [],
   "source": [
    "# replace if your have own path to foldseek binary file\n",
    "foldseek_path = '../../saprot_utils/bin/foldseek'"
   ]
  },
  {
   "cell_type": "code",
   "execution_count": 15,
   "metadata": {},
   "outputs": [],
   "source": [
    "pdb_pairs = [\n",
    "    ['7LM9_A.pdb', '7RBY_C.pdb'],\n",
    "    ['8FDW_A.pdb', '8U1G_A.pdb']\n",
    "]\n",
    "pdb_folder = \"inference_examples/\""
   ]
  },
  {
   "cell_type": "code",
   "execution_count": null,
   "metadata": {},
   "outputs": [],
   "source": [
    "saprot_seqs = []\n",
    "for pdb_pair in pdb_pairs:\n",
    "    seqs = list(map(\n",
    "        lambda x: process_single_file(x, pdb_folder, foldseek_path=foldseek_path)[\"saprot_seq\"], \n",
    "        pdb_pair\n",
    "    ))\n",
    "    saprot_seqs.append(seqs)"
   ]
  },
  {
   "cell_type": "markdown",
   "metadata": {},
   "source": [
    "# Run inference"
   ]
  },
  {
   "cell_type": "markdown",
   "metadata": {},
   "source": [
    "## Prepare inputs"
   ]
  },
  {
   "cell_type": "code",
   "execution_count": 7,
   "metadata": {},
   "outputs": [
    {
     "name": "stdout",
     "output_type": "stream",
     "text": [
      "Loaded trained model\n"
     ]
    }
   ],
   "source": [
    "tokenizer = EsmTokenizer.from_pretrained(\"westlake-repl/SaProt_35M_AF2\")\n",
    "\n",
    "# Load trained model\n",
    "trained_model_path = \"best_model.pt\"\n",
    "trained_model = torch.load(trained_model_path, map_location=torch.device(\"cuda:0\"))\n",
    "trained_model.eval()\n",
    "print(\"Loaded trained model\")"
   ]
  },
  {
   "cell_type": "code",
   "execution_count": 8,
   "metadata": {},
   "outputs": [],
   "source": [
    "predictions = []\n",
    "for i, (saprot_seq_1, saprot_seq_2) in enumerate(saprot_seqs):\n",
    "    inputs = list(map(lambda x: tokenizer(x, return_tensors=\"pt\"), [saprot_seq_1, saprot_seq_2]))\n",
    "    inputs = {\"antigen_epitope\": inputs}\n",
    "    with torch.no_grad():\n",
    "        match_prediction = trained_model(**inputs)\n",
    "    prediction = match_prediction[0, :, :, 0].cpu().detach().numpy()\n",
    "    predictions.append(prediction)\n",
    "\n",
    "    # save predictions\n",
    "    ag_file, epi_file = pdb_pairs[i]\n",
    "    save_file = f\"prediction_\" \\\n",
    "                + \".\".join(ag_file.split(\".\")[:-1]) \\\n",
    "                + \"_\" \\\n",
    "                + \".\".join(epi_file.split(\".\")[:-1])\n",
    "    np.save(save_file, prediction)"
   ]
  }
 ],
 "metadata": {
  "kernelspec": {
   "display_name": "sema_env",
   "language": "python",
   "name": "sema_env"
  },
  "language_info": {
   "codemirror_mode": {
    "name": "ipython",
    "version": 3
   },
   "file_extension": ".py",
   "mimetype": "text/x-python",
   "name": "python",
   "nbconvert_exporter": "python",
   "pygments_lexer": "ipython3",
   "version": "3.9.18"
  }
 },
 "nbformat": 4,
 "nbformat_minor": 5
}
