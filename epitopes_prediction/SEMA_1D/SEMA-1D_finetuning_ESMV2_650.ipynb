{
 "cells": [
  {
   "cell_type": "markdown",
   "metadata": {},
   "source": [
    "# SEMA-1D "
   ]
  },
  {
   "cell_type": "markdown",
   "metadata": {},
   "source": [
    "SEMA-1D is a fine-tuned ESM-1v model aimed to predict epitope resiudes based on antigen protein sequence"
   ]
  },
  {
   "cell_type": "markdown",
   "metadata": {},
   "source": [
    "The MIT License (MIT)\n",
    "Copyright (c) 2016 AYLIEN\n",
    "Permission is hereby granted, free of charge, to any person obtaining a copy of this software and associated documentation files (the \"Software\"), to deal in the Software without restriction, including without limitation the rights to use, copy, modify, merge, publish, distribute, sublicense, and/or sell copies of the Software, and to permit persons to whom the Software is furnished to do so, subject to the following conditions:\n",
    "The above copyright notice and this permission notice shall be included in all copies or substantial portions of the Software.\n",
    "THE SOFTWARE IS PROVIDED \"AS IS\", WITHOUT WARRANTY OF ANY KIND, EXPRESS OR IMPLIED, INCLUDING BUT NOT LIMITED TO THE WARRANTIES OF MERCHANTABILITY, FITNESS FOR A PARTICULAR PURPOSE AND NONINFRINGEMENT. IN NO EVENT SHALL THE AUTHORS OR COPYRIGHT HOLDERS BE LIABLE FOR ANY CLAIM, DAMAGES OR OTHER LIABILITY, WHETHER IN AN ACTION OF CONTRACT, TORT OR OTHERWISE, ARISING FROM, OUT OF OR IN CONNECTION WITH THE SOFTWARE OR THE USE OR OTHER DEALINGS IN THE SOFTWARE."
   ]
  },
  {
   "cell_type": "markdown",
   "metadata": {},
   "source": [
    "## Requirements"
   ]
  },
  {
   "cell_type": "code",
   "execution_count": 1,
   "metadata": {},
   "outputs": [],
   "source": [
    "import os\n",
    "# set cuda params\n",
    "# 'TORCH_HOME'directory will be used to save origenal esm-1v weights\n",
    "os.environ['TORCH_HOME'] = \"../torch_hub\"\n",
    "os.environ['CUDA_VISIBLE_DEVICES'] = \"2\""
   ]
  },
  {
   "cell_type": "code",
   "execution_count": 2,
   "metadata": {},
   "outputs": [
    {
     "name": "stderr",
     "output_type": "stream",
     "text": [
      "2024-01-31 22:26:05.175644: I tensorflow/core/platform/cpu_feature_guard.cc:193] This TensorFlow binary is optimized with oneAPI Deep Neural Network Library (oneDNN) to use the following CPU instructions in performance-critical operations:  AVX2 AVX512F FMA\n",
      "To enable them in other operations, rebuild TensorFlow with the appropriate compiler flags.\n",
      "2024-01-31 22:26:05.407650: E tensorflow/stream_executor/cuda/cuda_blas.cc:2981] Unable to register cuBLAS factory: Attempting to register factory for plugin cuBLAS when one has already been registered\n",
      "2024-01-31 22:26:06.780762: W tensorflow/stream_executor/platform/default/dso_loader.cc:64] Could not load dynamic library 'libnvinfer.so.7'; dlerror: libnvinfer.so.7: cannot open shared object file: No such file or directory\n",
      "2024-01-31 22:26:06.780895: W tensorflow/stream_executor/platform/default/dso_loader.cc:64] Could not load dynamic library 'libnvinfer_plugin.so.7'; dlerror: libnvinfer_plugin.so.7: cannot open shared object file: No such file or directory\n",
      "2024-01-31 22:26:06.780908: W tensorflow/compiler/tf2tensorrt/utils/py_utils.cc:38] TF-TRT Warning: Cannot dlopen some TensorRT libraries. If you would like to use Nvidia GPU with TensorRT, please make sure the missing libraries mentioned above are installed properly.\n"
     ]
    }
   ],
   "source": [
    "import scipy\n",
    "import sklearn\n",
    "import esm\n",
    "\n",
    "import pandas as pd\n",
    "import numpy as np\n",
    "\n",
    "import torch\n",
    "from torch.utils.data import Dataset\n",
    "from torch import nn\n",
    "import math\n",
    "\n",
    "import transformers\n",
    "from transformers.modeling_outputs import SequenceClassifierOutput\n",
    "from transformers import Trainer, TrainingArguments, EvalPrediction\n",
    "\n",
    "from esm.pretrained import load_model_and_alphabet_hub\n",
    "\n",
    "from sklearn.metrics import r2_score, mean_squared_error"
   ]
  },
  {
   "cell_type": "markdown",
   "metadata": {},
   "source": [
    "## Model and metrics"
   ]
  },
  {
   "cell_type": "code",
   "execution_count": 3,
   "metadata": {},
   "outputs": [],
   "source": [
    "class PDB_Dataset(Dataset):\n",
    "    \"\"\"\n",
    "    A class to represent a sutable data set for model. \n",
    "    \n",
    "    convert original pandas data frame to model set,\n",
    "    where 'token ids' is ESM-1v embedings corresponed to protein sequence (max length 1022 AA)\n",
    "    and 'lables' is a contact number values\n",
    "    Attributes:\n",
    "        df (pandas.DataFrame): dataframe with two columns: \n",
    "                0 -- preotein sequence in string ('GLVM') or list (['G', 'L', 'V', 'M']) format\n",
    "                1 -- contcat number values in list [0, 0.123, 0.23, -100, 1.34] format\n",
    "        esm1v_batch_converter (function):\n",
    "                    ESM function callable to convert an unprocessed (labels + strings) batch to a\n",
    "                    processed (labels + tensor) batch.\n",
    "        label_type (str):\n",
    "                type of model: regression or binary\n",
    "\n",
    "    \"\"\"\n",
    "    def __init__(self, df, label_type ='regression'):\n",
    "        \"\"\"\n",
    "        Construct all the necessary attributes to the PDB_Database object.\n",
    "        \n",
    "        Parameters:\n",
    "            df (pandas.DataFrame): dataframe with two columns: \n",
    "                0 -- protein sequence in string ('GLVM') or list (['G', 'L', 'V', 'M']) format\n",
    "                1 -- contcat number values in list [0, 0.123, 0.23, -100, 1.34] format\n",
    "            label_type (str):\n",
    "                type of model: regression or binary\n",
    "        \"\"\"\n",
    "        self.df = df\n",
    "        _, esm1v_alphabet = esm.pretrained.esm1v_t33_650M_UR90S_1()\n",
    "        self.esm1v_batch_converter = esm1v_alphabet.get_batch_converter()\n",
    "        self.label_type = label_type\n",
    "\n",
    "    def __getitem__(self, idx):\n",
    "        item = {}\n",
    "        _, _, esm1b_batch_tokens = self.esm1v_batch_converter([('' , ''.join(self.df.iloc[idx,0])[:1022])])\n",
    "        item['token_ids'] = esm1b_batch_tokens\n",
    "        item['labels'] = torch.unsqueeze(torch.FloatTensor(self.df.iloc[idx, 1][:1022]),0).to(torch.float64)\n",
    "\n",
    "        return item\n",
    "\n",
    "    def __len__(self):\n",
    "        return len(self.df)"
   ]
  },
  {
   "cell_type": "code",
   "execution_count": 4,
   "metadata": {},
   "outputs": [],
   "source": [
    "class ESM1vForTokenClassification(nn.Module):\n",
    "\n",
    "    def __init__(self, num_labels = 2, pretrained_no = 1):\n",
    "        super().__init__()\n",
    "        self.num_labels = num_labels\n",
    "        self.model_name = esm.pretrained.esm2_t33_650M_UR50D()  \n",
    "        \n",
    "        self.esm1v, self.esm1v_alphabet = esm.pretrained.esm2_t33_650M_UR50D()#load_model_and_alphabet_hub(self.model_name)        \n",
    "        self.classifier = nn.Linear(1280, self.num_labels)\n",
    "\n",
    "    def forward(self, token_ids, labels = None):\n",
    "                \n",
    "        outputs = self.esm1v.forward(token_ids, repr_layers=[33])['representations'][33]\n",
    "        outputs = outputs[:,1:-1,:]\n",
    "        logits = self.classifier(outputs)\n",
    "\n",
    "        return SequenceClassifierOutput(logits=logits)"
   ]
  },
  {
   "cell_type": "code",
   "execution_count": 5,
   "metadata": {},
   "outputs": [],
   "source": [
    "def compute_metrics_regr(p: EvalPrediction):\n",
    "    \n",
    "    preds = p.predictions[:,:,1]\n",
    "\n",
    "    batch_size, seq_len = preds.shape    \n",
    "    out_labels, out_preds = [], []\n",
    "\n",
    "    for i in range(batch_size):\n",
    "        for j in range(seq_len):\n",
    "            if p.label_ids[i, j] > -1:\n",
    "                out_labels.append(p.label_ids[i][j])\n",
    "                out_preds.append(preds[i][j])\n",
    "                \n",
    "    out_labels_regr = out_labels#[math.log(t+1) for t in out_labels]\n",
    "\n",
    "    \n",
    "    return {\n",
    "        \"pearson_r\": scipy.stats.pearsonr(out_labels_regr, out_preds)[0],\n",
    "        \"mse\": mean_squared_error(out_labels_regr, out_preds),\n",
    "        \"r2_score\": r2_score(out_labels_regr, out_preds)\n",
    "    }\n"
   ]
  },
  {
   "cell_type": "code",
   "execution_count": 6,
   "metadata": {},
   "outputs": [],
   "source": [
    "## you can train one model or ensemple of 5 models\n",
    "def model_init_1():\n",
    "    return ESM1vForTokenClassification(pretrained_no = 1).cuda()\n",
    "def model_init_2():\n",
    "    return ESM1vForTokenClassification(pretrained_no = 2).cuda()\n",
    "def model_init_3():\n",
    "    return ESM1vForTokenClassification(pretrained_no = 3).cuda()\n",
    "def model_init_4():\n",
    "    return ESM1vForTokenClassification(pretrained_no = 4).cuda()\n",
    "def model_init_5():\n",
    "    return ESM1vForTokenClassification(pretrained_no = 5).cuda()"
   ]
  },
  {
   "cell_type": "code",
   "execution_count": 7,
   "metadata": {},
   "outputs": [],
   "source": [
    "class MaskedMSELoss(torch.nn.Module):\n",
    "    def __init__(self):\n",
    "        super(MaskedMSELoss, self).__init__()\n",
    "\n",
    "    def forward(self, inputs, target, mask):    \n",
    "        diff2 = (torch.flatten(inputs[:,:,1]) - torch.flatten(target)) ** 2.0 * torch.flatten(mask)\n",
    "        result = torch.sum(diff2) / torch.sum(mask)\n",
    "        if torch.sum(mask)==0:\n",
    "            return torch.sum(diff2)\n",
    "        else:\n",
    "            #print('loss:', result)\n",
    "            return result\n",
    "        "
   ]
  },
  {
   "cell_type": "code",
   "execution_count": 8,
   "metadata": {},
   "outputs": [],
   "source": [
    "class MaskedRegressTrainer(Trainer):\n",
    "    def compute_loss(self, model, inputs, return_outputs=False):\n",
    "        labels = inputs.pop(\"labels\")\n",
    "        labels = labels.squeeze().detach().cpu().numpy().tolist()\n",
    "        labels = [math.log(t+1) if t!=-100 else -100 for t in labels]\n",
    "        labels = torch.unsqueeze(torch.FloatTensor(labels), 0).cuda()\n",
    "        masks = ~torch.eq(labels, -100).cuda()\n",
    "\n",
    "\n",
    "        \n",
    "        #masks = inputs.pop(\"masks\")\n",
    "        outputs = model(**inputs)\n",
    "        logits = outputs.logits\n",
    "\n",
    "        loss_fn = MaskedMSELoss()\n",
    "        \n",
    "        loss = loss_fn(logits, labels, masks)\n",
    "        \n",
    "        return (loss, outputs) if return_outputs else loss"
   ]
  },
  {
   "cell_type": "code",
   "execution_count": 9,
   "metadata": {},
   "outputs": [],
   "source": [
    "def collator_fn(x):\n",
    "    if len(x)==1:\n",
    "        return x[0]\n",
    "    print('x:', x)\n",
    "    return x"
   ]
  },
  {
   "cell_type": "markdown",
   "metadata": {},
   "source": [
    "## Data"
   ]
  },
  {
   "cell_type": "code",
   "execution_count": null,
   "metadata": {},
   "outputs": [],
   "source": [
    "train_set = pd.read_csv('../data/sema_2.0/train_set.csv')\n",
    "train_set = train_set.groupby('pdb_id_chain').agg({'resi_pos': list,\n",
    "                                 'resi_aa': list,\n",
    "                                 'contact_number': list}).reset_index()\n",
    "## the first run will take about 5-10 minutes, because esm weights should be downloaded\n",
    "train_ds = PDB_Dataset(train_set[['resi_aa', 'contact_number']], \n",
    "                      label_type ='regression')\n",
    "\n",
    "test_set = pd.read_csv('../data/sema_2.0/test_set.csv')\n",
    "test_set = test_set.groupby('pdb_id_chain').agg({'resi_pos': list,\n",
    "                                 'resi_aa': list,\n",
    "                                 'contact_number_binary': list}).reset_index()\n",
    "test_ds = PDB_Dataset(test_set[['resi_aa', 'contact_number_binary']],\n",
    "                      label_type ='regression')"
   ]
  },
  {
   "cell_type": "markdown",
   "metadata": {},
   "source": [
    "## Model training and test"
   ]
  },
  {
   "cell_type": "code",
   "execution_count": 11,
   "metadata": {},
   "outputs": [],
   "source": [
    "training_args = TrainingArguments(\n",
    "    output_dir='./results_fold' ,          # output directory\n",
    "    num_train_epochs=2,              # total number of training epochs\n",
    "    per_device_train_batch_size=1,   # batch size per device during training\n",
    "    per_device_eval_batch_size=1,   # batch size for evaluation\n",
    "    warmup_steps=0,                # number of warmup steps for learning rate scheduler\n",
    "    learning_rate=1e-05,             # learning rate\n",
    "    weight_decay=0.0,                # strength of weight decay\n",
    "    logging_dir='./logs',            # directory for storing logs\n",
    "    logging_steps=200,               # How often to print logs\n",
    "    save_strategy = \"no\",\n",
    "    do_train=True,                   # Perform training\n",
    "    do_eval=True,                    # Perform evaluation\n",
    "    evaluation_strategy=\"epoch\",     # evalute after each epoch\n",
    "    gradient_accumulation_steps=1,  # total number of steps before back propagation\n",
    "    fp16=False,                       # Use mixed precision\n",
    "    run_name=\"PDB_binary\",      # experiment name\n",
    "    seed=42,                         # Seed for experiment reproducibility\n",
    "    load_best_model_at_end=False,\n",
    "    metric_for_best_model=\"eval_accuracy\",\n",
    "    greater_is_better=True,\n",
    "    #remove_unused_columns=False\n",
    "\n",
    ")"
   ]
  },
  {
   "cell_type": "code",
   "execution_count": null,
   "metadata": {},
   "outputs": [],
   "source": []
  },
  {
   "cell_type": "code",
   "execution_count": 12,
   "metadata": {},
   "outputs": [],
   "source": [
    "#create direactory to weights storage\n",
    "if not os.path.exists(\"../models/\"):\n",
    "    os.makedirs(\"../models/\")"
   ]
  },
  {
   "cell_type": "markdown",
   "metadata": {},
   "source": [
    "### one model"
   ]
  },
  {
   "cell_type": "code",
   "execution_count": 13,
   "metadata": {},
   "outputs": [
    {
     "name": "stderr",
     "output_type": "stream",
     "text": [
      "Detected kernel version 4.15.0, which is below the recommended minimum of 5.5.0; this can cause the process to hang. It is recommended to upgrade the kernel to the minimum version or higher.\n"
     ]
    },
    {
     "data": {
      "text/html": [
       "\n",
       "    <div>\n",
       "      \n",
       "      <progress value='3088' max='3088' style='width:300px; height:20px; vertical-align: middle;'></progress>\n",
       "      [3088/3088 15:58, Epoch 2/2]\n",
       "    </div>\n",
       "    <table border=\"1\" class=\"dataframe\">\n",
       "  <thead>\n",
       " <tr style=\"text-align: left;\">\n",
       "      <th>Epoch</th>\n",
       "      <th>Training Loss</th>\n",
       "      <th>Validation Loss</th>\n",
       "      <th>Pearson R</th>\n",
       "      <th>Mse</th>\n",
       "      <th>R2 Score</th>\n",
       "    </tr>\n",
       "  </thead>\n",
       "  <tbody>\n",
       "    <tr>\n",
       "      <td>1</td>\n",
       "      <td>0.157700</td>\n",
       "      <td>0.144936</td>\n",
       "      <td>0.289675</td>\n",
       "      <td>0.184327</td>\n",
       "      <td>-0.112509</td>\n",
       "    </tr>\n",
       "    <tr>\n",
       "      <td>2</td>\n",
       "      <td>0.116600</td>\n",
       "      <td>0.142955</td>\n",
       "      <td>0.290625</td>\n",
       "      <td>0.182852</td>\n",
       "      <td>-0.103605</td>\n",
       "    </tr>\n",
       "  </tbody>\n",
       "</table><p>"
      ],
      "text/plain": [
       "<IPython.core.display.HTML object>"
      ]
     },
     "metadata": {},
     "output_type": "display_data"
    }
   ],
   "source": [
    "trainer = MaskedRegressTrainer(\n",
    "    model=model_init_1(),                   # the instantiated 🤗 Transformers model to be trained\n",
    "    args=training_args,                     # training arguments, defined above\n",
    "    train_dataset=train_ds,                 # training dataset\n",
    "    eval_dataset=test_ds,                   # evaluation dataset\n",
    "    data_collator = collator_fn,\n",
    "    compute_metrics = compute_metrics_regr,    # evaluation metrics\n",
    ")\n",
    "\n",
    "trainer.train()\n",
    "\n",
    "#save weights\n",
    "torch.save(trainer.model.state_dict(), \"../models/sema_1d_ESM2_0_new.pth\")"
   ]
  },
  {
   "cell_type": "code",
   "execution_count": 14,
   "metadata": {},
   "outputs": [],
   "source": [
    "#Epoch\tTraining Loss\tValidation Loss\tPearson R\tMse\tR2 Score\n",
    "#1\t0.212700\t0.150756\t0.251578\t0.173891\t-0.567424\n",
    "#2\t0.157400\t0.165494\t0.253576\t0.183997\t-0.658516\n"
   ]
  },
  {
   "cell_type": "markdown",
   "metadata": {},
   "source": [
    "### ensemble of 5 models"
   ]
  },
  {
   "cell_type": "code",
   "execution_count": 15,
   "metadata": {},
   "outputs": [
    {
     "name": "stderr",
     "output_type": "stream",
     "text": [
      "Detected kernel version 4.15.0, which is below the recommended minimum of 5.5.0; this can cause the process to hang. It is recommended to upgrade the kernel to the minimum version or higher.\n"
     ]
    },
    {
     "data": {
      "text/html": [
       "\n",
       "    <div>\n",
       "      \n",
       "      <progress value='3088' max='3088' style='width:300px; height:20px; vertical-align: middle;'></progress>\n",
       "      [3088/3088 16:32, Epoch 2/2]\n",
       "    </div>\n",
       "    <table border=\"1\" class=\"dataframe\">\n",
       "  <thead>\n",
       " <tr style=\"text-align: left;\">\n",
       "      <th>Epoch</th>\n",
       "      <th>Training Loss</th>\n",
       "      <th>Validation Loss</th>\n",
       "      <th>Pearson R</th>\n",
       "      <th>Mse</th>\n",
       "      <th>R2 Score</th>\n",
       "    </tr>\n",
       "  </thead>\n",
       "  <tbody>\n",
       "    <tr>\n",
       "      <td>1</td>\n",
       "      <td>0.156600</td>\n",
       "      <td>0.145166</td>\n",
       "      <td>0.285384</td>\n",
       "      <td>0.184541</td>\n",
       "      <td>-0.113799</td>\n",
       "    </tr>\n",
       "    <tr>\n",
       "      <td>2</td>\n",
       "      <td>0.117100</td>\n",
       "      <td>0.152076</td>\n",
       "      <td>0.279906</td>\n",
       "      <td>0.189658</td>\n",
       "      <td>-0.144682</td>\n",
       "    </tr>\n",
       "  </tbody>\n",
       "</table><p>"
      ],
      "text/plain": [
       "<IPython.core.display.HTML object>"
      ]
     },
     "metadata": {},
     "output_type": "display_data"
    },
    {
     "name": "stderr",
     "output_type": "stream",
     "text": [
      "Detected kernel version 4.15.0, which is below the recommended minimum of 5.5.0; this can cause the process to hang. It is recommended to upgrade the kernel to the minimum version or higher.\n"
     ]
    },
    {
     "data": {
      "text/html": [
       "\n",
       "    <div>\n",
       "      \n",
       "      <progress value='3088' max='3088' style='width:300px; height:20px; vertical-align: middle;'></progress>\n",
       "      [3088/3088 17:14, Epoch 2/2]\n",
       "    </div>\n",
       "    <table border=\"1\" class=\"dataframe\">\n",
       "  <thead>\n",
       " <tr style=\"text-align: left;\">\n",
       "      <th>Epoch</th>\n",
       "      <th>Training Loss</th>\n",
       "      <th>Validation Loss</th>\n",
       "      <th>Pearson R</th>\n",
       "      <th>Mse</th>\n",
       "      <th>R2 Score</th>\n",
       "    </tr>\n",
       "  </thead>\n",
       "  <tbody>\n",
       "    <tr>\n",
       "      <td>1</td>\n",
       "      <td>0.163900</td>\n",
       "      <td>0.147549</td>\n",
       "      <td>0.276662</td>\n",
       "      <td>0.187735</td>\n",
       "      <td>-0.133075</td>\n",
       "    </tr>\n",
       "    <tr>\n",
       "      <td>2</td>\n",
       "      <td>0.116600</td>\n",
       "      <td>0.150555</td>\n",
       "      <td>0.261172</td>\n",
       "      <td>0.190421</td>\n",
       "      <td>-0.149288</td>\n",
       "    </tr>\n",
       "  </tbody>\n",
       "</table><p>"
      ],
      "text/plain": [
       "<IPython.core.display.HTML object>"
      ]
     },
     "metadata": {},
     "output_type": "display_data"
    },
    {
     "name": "stderr",
     "output_type": "stream",
     "text": [
      "Detected kernel version 4.15.0, which is below the recommended minimum of 5.5.0; this can cause the process to hang. It is recommended to upgrade the kernel to the minimum version or higher.\n"
     ]
    },
    {
     "data": {
      "text/html": [
       "\n",
       "    <div>\n",
       "      \n",
       "      <progress value='3088' max='3088' style='width:300px; height:20px; vertical-align: middle;'></progress>\n",
       "      [3088/3088 17:10, Epoch 2/2]\n",
       "    </div>\n",
       "    <table border=\"1\" class=\"dataframe\">\n",
       "  <thead>\n",
       " <tr style=\"text-align: left;\">\n",
       "      <th>Epoch</th>\n",
       "      <th>Training Loss</th>\n",
       "      <th>Validation Loss</th>\n",
       "      <th>Pearson R</th>\n",
       "      <th>Mse</th>\n",
       "      <th>R2 Score</th>\n",
       "    </tr>\n",
       "  </thead>\n",
       "  <tbody>\n",
       "    <tr>\n",
       "      <td>1</td>\n",
       "      <td>0.161500</td>\n",
       "      <td>0.152581</td>\n",
       "      <td>0.298110</td>\n",
       "      <td>0.191050</td>\n",
       "      <td>-0.153081</td>\n",
       "    </tr>\n",
       "    <tr>\n",
       "      <td>2</td>\n",
       "      <td>0.111000</td>\n",
       "      <td>0.149156</td>\n",
       "      <td>0.279655</td>\n",
       "      <td>0.189146</td>\n",
       "      <td>-0.141589</td>\n",
       "    </tr>\n",
       "  </tbody>\n",
       "</table><p>"
      ],
      "text/plain": [
       "<IPython.core.display.HTML object>"
      ]
     },
     "metadata": {},
     "output_type": "display_data"
    },
    {
     "name": "stderr",
     "output_type": "stream",
     "text": [
      "Detected kernel version 4.15.0, which is below the recommended minimum of 5.5.0; this can cause the process to hang. It is recommended to upgrade the kernel to the minimum version or higher.\n"
     ]
    },
    {
     "data": {
      "text/html": [
       "\n",
       "    <div>\n",
       "      \n",
       "      <progress value='3088' max='3088' style='width:300px; height:20px; vertical-align: middle;'></progress>\n",
       "      [3088/3088 17:15, Epoch 2/2]\n",
       "    </div>\n",
       "    <table border=\"1\" class=\"dataframe\">\n",
       "  <thead>\n",
       " <tr style=\"text-align: left;\">\n",
       "      <th>Epoch</th>\n",
       "      <th>Training Loss</th>\n",
       "      <th>Validation Loss</th>\n",
       "      <th>Pearson R</th>\n",
       "      <th>Mse</th>\n",
       "      <th>R2 Score</th>\n",
       "    </tr>\n",
       "  </thead>\n",
       "  <tbody>\n",
       "    <tr>\n",
       "      <td>1</td>\n",
       "      <td>0.148700</td>\n",
       "      <td>0.153774</td>\n",
       "      <td>0.296169</td>\n",
       "      <td>0.189301</td>\n",
       "      <td>-0.142525</td>\n",
       "    </tr>\n",
       "    <tr>\n",
       "      <td>2</td>\n",
       "      <td>0.104000</td>\n",
       "      <td>0.145238</td>\n",
       "      <td>0.290992</td>\n",
       "      <td>0.183768</td>\n",
       "      <td>-0.109135</td>\n",
       "    </tr>\n",
       "  </tbody>\n",
       "</table><p>"
      ],
      "text/plain": [
       "<IPython.core.display.HTML object>"
      ]
     },
     "metadata": {},
     "output_type": "display_data"
    },
    {
     "name": "stderr",
     "output_type": "stream",
     "text": [
      "Detected kernel version 4.15.0, which is below the recommended minimum of 5.5.0; this can cause the process to hang. It is recommended to upgrade the kernel to the minimum version or higher.\n"
     ]
    },
    {
     "data": {
      "text/html": [
       "\n",
       "    <div>\n",
       "      \n",
       "      <progress value='3088' max='3088' style='width:300px; height:20px; vertical-align: middle;'></progress>\n",
       "      [3088/3088 17:11, Epoch 2/2]\n",
       "    </div>\n",
       "    <table border=\"1\" class=\"dataframe\">\n",
       "  <thead>\n",
       " <tr style=\"text-align: left;\">\n",
       "      <th>Epoch</th>\n",
       "      <th>Training Loss</th>\n",
       "      <th>Validation Loss</th>\n",
       "      <th>Pearson R</th>\n",
       "      <th>Mse</th>\n",
       "      <th>R2 Score</th>\n",
       "    </tr>\n",
       "  </thead>\n",
       "  <tbody>\n",
       "    <tr>\n",
       "      <td>1</td>\n",
       "      <td>0.155400</td>\n",
       "      <td>0.150731</td>\n",
       "      <td>0.300381</td>\n",
       "      <td>0.186619</td>\n",
       "      <td>-0.126339</td>\n",
       "    </tr>\n",
       "    <tr>\n",
       "      <td>2</td>\n",
       "      <td>0.121800</td>\n",
       "      <td>0.149639</td>\n",
       "      <td>0.286835</td>\n",
       "      <td>0.188118</td>\n",
       "      <td>-0.135384</td>\n",
       "    </tr>\n",
       "  </tbody>\n",
       "</table><p>"
      ],
      "text/plain": [
       "<IPython.core.display.HTML object>"
      ]
     },
     "metadata": {},
     "output_type": "display_data"
    },
    {
     "name": "stderr",
     "output_type": "stream",
     "text": [
      "IOPub message rate exceeded.\n",
      "The notebook server will temporarily stop sending output\n",
      "to the client in order to avoid crashing it.\n",
      "To change this limit, set the config variable\n",
      "`--NotebookApp.iopub_msg_rate_limit`.\n",
      "\n",
      "Current values:\n",
      "NotebookApp.iopub_msg_rate_limit=1000.0 (msgs/sec)\n",
      "NotebookApp.rate_limit_window=3.0 (secs)\n",
      "\n"
     ]
    }
   ],
   "source": [
    "for idx, model_init in enumerate([model_init_1, model_init_2, model_init_3, model_init_4, model_init_5]):\n",
    "    \n",
    "    trainer = MaskedRegressTrainer(\n",
    "        model=model_init(),                   # the instantiated 🤗 Transformers model to be trained\n",
    "        args=training_args,                   # training arguments, defined above\n",
    "        train_dataset=train_ds,               # training dataset\n",
    "        eval_dataset=test_ds,                 # evaluation dataset\n",
    "        data_collator = collator_fn,\n",
    "        compute_metrics = compute_metrics_regr    # evaluation metrics\n",
    "    )\n",
    "\n",
    "    trainer.train()\n",
    "    \n",
    "    #save weights\n",
    "    torch.save(trainer.model.state_dict(), f\"../models/sema_1d_ESM2_{str(idx)}_new.pth\")\n",
    "    training_args.seed = training_args.seed+1"
   ]
  },
  {
   "cell_type": "code",
   "execution_count": null,
   "metadata": {},
   "outputs": [],
   "source": []
  },
  {
   "cell_type": "code",
   "execution_count": 16,
   "metadata": {},
   "outputs": [
    {
     "data": {
      "text/plain": [
       "tensor([[   2.7081,    2.8332,    2.1972,    3.3322,    2.8332,    3.6109,\n",
       "            3.0910,    2.9957,    2.1972,    2.3026,    2.6391,    2.3026,\n",
       "            2.1972,    2.6391,    2.0794, -100.0000]], dtype=torch.float64)"
      ]
     },
     "execution_count": 16,
     "metadata": {},
     "output_type": "execute_result"
    }
   ],
   "source": [
    "train_ds[0].pop('labels')"
   ]
  },
  {
   "cell_type": "code",
   "execution_count": 17,
   "metadata": {},
   "outputs": [
    {
     "data": {
      "text/plain": [
       "1544"
      ]
     },
     "execution_count": 17,
     "metadata": {},
     "output_type": "execute_result"
    }
   ],
   "source": [
    "len(train_ds)"
   ]
  },
  {
   "cell_type": "code",
   "execution_count": 18,
   "metadata": {},
   "outputs": [],
   "source": [
    "t = train_ds[0]"
   ]
  },
  {
   "cell_type": "code",
   "execution_count": 19,
   "metadata": {},
   "outputs": [
    {
     "data": {
      "text/plain": [
       "tensor([[   2.7081,    2.8332,    2.1972,    3.3322,    2.8332,    3.6109,\n",
       "            3.0910,    2.9957,    2.1972,    2.3026,    2.6391,    2.3026,\n",
       "            2.1972,    2.6391,    2.0794, -100.0000]], dtype=torch.float64)"
      ]
     },
     "execution_count": 19,
     "metadata": {},
     "output_type": "execute_result"
    }
   ],
   "source": [
    "t.pop('labels')"
   ]
  },
  {
   "cell_type": "code",
   "execution_count": 20,
   "metadata": {},
   "outputs": [
    {
     "data": {
      "text/plain": [
       "{'token_ids': tensor([[ 0,  7, 15,  5,  9, 11, 10,  4, 17, 14, 13,  4, 16, 14, 11,  9, 24,  2]]),\n",
       " 'labels': tensor([[   2.7081,    2.8332,    2.1972,    3.3322,    2.8332,    3.6109,\n",
       "             3.0910,    2.9957,    2.1972,    2.3026,    2.6391,    2.3026,\n",
       "             2.1972,    2.6391,    2.0794, -100.0000]], dtype=torch.float64)}"
      ]
     },
     "execution_count": 20,
     "metadata": {},
     "output_type": "execute_result"
    }
   ],
   "source": [
    "train_ds[0]"
   ]
  },
  {
   "cell_type": "code",
   "execution_count": null,
   "metadata": {},
   "outputs": [],
   "source": []
  }
 ],
 "metadata": {
  "kernelspec": {
   "display_name": "Python 3 (ipykernel)",
   "language": "python",
   "name": "python3"
  },
  "language_info": {
   "codemirror_mode": {
    "name": "ipython",
    "version": 3
   },
   "file_extension": ".py",
   "mimetype": "text/x-python",
   "name": "python",
   "nbconvert_exporter": "python",
   "pygments_lexer": "ipython3",
   "version": "3.9.13"
  }
 },
 "nbformat": 4,
 "nbformat_minor": 2
}
