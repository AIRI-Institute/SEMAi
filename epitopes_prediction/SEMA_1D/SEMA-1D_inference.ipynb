{
 "cells": [
  {
   "cell_type": "markdown",
   "id": "ece4e534",
   "metadata": {},
   "source": [
    "# SEMA-1D"
   ]
  },
  {
   "cell_type": "markdown",
   "id": "8349bf5d",
   "metadata": {},
   "source": [
    "SEMA-1D is a fine-tuned ESM-1v model aimed to predict epitope resiudes based on antigen protein sequence"
   ]
  },
  {
   "cell_type": "markdown",
   "id": "2b3746ba",
   "metadata": {},
   "source": [
    "The MIT License (MIT)\n",
    "Copyright (c) 2016 AYLIEN\n",
    "Permission is hereby granted, free of charge, to any person obtaining a copy of this software and associated documentation files (the \"Software\"), to deal in the Software without restriction, including without limitation the rights to use, copy, modify, merge, publish, distribute, sublicense, and/or sell copies of the Software, and to permit persons to whom the Software is furnished to do so, subject to the following conditions:\n",
    "The above copyright notice and this permission notice shall be included in all copies or substantial portions of the Software.\n",
    "THE SOFTWARE IS PROVIDED \"AS IS\", WITHOUT WARRANTY OF ANY KIND, EXPRESS OR IMPLIED, INCLUDING BUT NOT LIMITED TO THE WARRANTIES OF MERCHANTABILITY, FITNESS FOR A PARTICULAR PURPOSE AND NONINFRINGEMENT. IN NO EVENT SHALL THE AUTHORS OR COPYRIGHT HOLDERS BE LIABLE FOR ANY CLAIM, DAMAGES OR OTHER LIABILITY, WHETHER IN AN ACTION OF CONTRACT, TORT OR OTHERWISE, ARISING FROM, OUT OF OR IN CONNECTION WITH THE SOFTWARE OR THE USE OR OTHER DEALINGS IN THE SOFTWARE."
   ]
  },
  {
   "cell_type": "markdown",
   "id": "33a04d93",
   "metadata": {},
   "source": [
    "## Requirements "
   ]
  },
  {
   "cell_type": "code",
   "execution_count": 1,
   "id": "e20657dd",
   "metadata": {},
   "outputs": [],
   "source": [
    "import os\n",
    "# set cuda params\n",
    "# 'TORCH_HOME'directory will be used to save origenal esm-1v weights\n",
    "os.environ['TORCH_HOME'] = \"../torch_hub\"\n",
    "os.environ['CUDA_VISIBLE_DEVICES'] = \"3\""
   ]
  },
  {
   "cell_type": "code",
   "execution_count": 2,
   "id": "11016902",
   "metadata": {},
   "outputs": [
    {
     "name": "stderr",
     "output_type": "stream",
     "text": [
      "2024-02-05 17:49:54.181357: I tensorflow/core/platform/cpu_feature_guard.cc:193] This TensorFlow binary is optimized with oneAPI Deep Neural Network Library (oneDNN) to use the following CPU instructions in performance-critical operations:  AVX2 AVX512F FMA\n",
      "To enable them in other operations, rebuild TensorFlow with the appropriate compiler flags.\n",
      "2024-02-05 17:49:54.412502: E tensorflow/stream_executor/cuda/cuda_blas.cc:2981] Unable to register cuBLAS factory: Attempting to register factory for plugin cuBLAS when one has already been registered\n",
      "2024-02-05 17:49:55.866685: W tensorflow/stream_executor/platform/default/dso_loader.cc:64] Could not load dynamic library 'libnvinfer.so.7'; dlerror: libnvinfer.so.7: cannot open shared object file: No such file or directory\n",
      "2024-02-05 17:49:55.866819: W tensorflow/stream_executor/platform/default/dso_loader.cc:64] Could not load dynamic library 'libnvinfer_plugin.so.7'; dlerror: libnvinfer_plugin.so.7: cannot open shared object file: No such file or directory\n",
      "2024-02-05 17:49:55.866834: W tensorflow/compiler/tf2tensorrt/utils/py_utils.cc:38] TF-TRT Warning: Cannot dlopen some TensorRT libraries. If you would like to use Nvidia GPU with TensorRT, please make sure the missing libraries mentioned above are installed properly.\n"
     ]
    }
   ],
   "source": [
    "import scipy\n",
    "import sklearn\n",
    "import math\n",
    "\n",
    "import pandas as pd\n",
    "import numpy as np\n",
    "\n",
    "import torch\n",
    "from torch.utils.data import Dataset\n",
    "from torch import nn\n",
    "\n",
    "import transformers\n",
    "from transformers.modeling_outputs import SequenceClassifierOutput\n",
    "from transformers import Trainer, TrainingArguments, EvalPrediction\n",
    "\n",
    "import esm\n",
    "from esm.pretrained import load_model_and_alphabet_hub\n",
    "\n",
    "from sklearn.metrics import r2_score, mean_squared_error\n",
    "\n",
    "from tqdm import tqdm"
   ]
  },
  {
   "cell_type": "markdown",
   "id": "f2342aa4",
   "metadata": {},
   "source": [
    "## Set model"
   ]
  },
  {
   "cell_type": "code",
   "execution_count": 3,
   "id": "61ed3261",
   "metadata": {},
   "outputs": [],
   "source": [
    "class ESM1vForTokenClassification(nn.Module):\n",
    "\n",
    "    def __init__(self, num_labels = 2, pretrained_no = 1):\n",
    "        super().__init__()\n",
    "        self.num_labels = num_labels\n",
    "        self.model_name = \"esm1v_t33_650M_UR90S_\" + str(pretrained_no) \n",
    "        \n",
    "        self.esm1v, self.esm1v_alphabet = load_model_and_alphabet_hub(self.model_name)        \n",
    "        self.classifier = nn.Linear(1280, self.num_labels)\n",
    "\n",
    "    def forward(self, token_ids):\n",
    "                \n",
    "        outputs = self.esm1v.forward(token_ids, repr_layers=[33])['representations'][33]\n",
    "        outputs = outputs[:,1:-1,:]\n",
    "        logits = self.classifier(outputs)\n",
    "\n",
    "        return SequenceClassifierOutput(logits=logits)"
   ]
  },
  {
   "cell_type": "code",
   "execution_count": 4,
   "id": "2a93c972",
   "metadata": {},
   "outputs": [
    {
     "name": "stderr",
     "output_type": "stream",
     "text": [
      "/ayb/vol2/home/dumerenkov/anaconda3/lib/python3.9/site-packages/esm/pretrained.py:215: UserWarning: Regression weights not found, predicting contacts will not produce correct results.\n",
      "  warnings.warn(\n"
     ]
    }
   ],
   "source": [
    "class PDB_Dataset(Dataset):\n",
    "    def __init__(self, df, label_type ='regression'):\n",
    "        self.df = df\n",
    "        _, esm1v_alphabet = esm.pretrained.esm1v_t33_650M_UR90S_1()\n",
    "        self.esm1v_batch_converter = esm1v_alphabet.get_batch_converter()\n",
    "        self.label_type = label_type\n",
    "\n",
    "    def __getitem__(self, idx):\n",
    "        item = {}\n",
    "        _, _, esm1b_batch_tokens = self.esm1v_batch_converter([('' , ''.join(self.df.iloc[idx,0])[:1022])])\n",
    "        item['token_ids'] = esm1b_batch_tokens\n",
    "        item['labels'] = torch.unsqueeze(torch.LongTensor(self.df.iloc[idx, 1][:1022]),0)\n",
    "\n",
    "        return item\n",
    "\n",
    "    def __len__(self):\n",
    "        return len(self.df)\n",
    "    \n",
    "test_set = pd.read_csv('../data/sema_2.0/test_set.csv')\n",
    "test_set = test_set.groupby('pdb_id_chain').agg({'resi_pos': list,\n",
    "                                 'resi_aa': list,\n",
    "                                 'contact_number_binary': list}).reset_index()\n",
    "test_ds = PDB_Dataset(test_set[['resi_aa', 'contact_number_binary']],\n",
    "                      label_type ='regression')"
   ]
  },
  {
   "cell_type": "code",
   "execution_count": 5,
   "id": "2541237c",
   "metadata": {},
   "outputs": [],
   "source": [
    "model = ESM1vForTokenClassification(pretrained_no = 1).cuda()"
   ]
  },
  {
   "cell_type": "markdown",
   "id": "2fcf25f2",
   "metadata": {},
   "source": [
    "## Prediction old train"
   ]
  },
  {
   "cell_type": "code",
   "execution_count": 6,
   "id": "255f7131",
   "metadata": {},
   "outputs": [
    {
     "name": "stderr",
     "output_type": "stream",
     "text": [
      "100%|███████████████████████████████████████████████████████████████████████████████████████████████████████████████████████████████████████████| 101/101 [00:05<00:00, 17.62it/s]\n",
      "100%|███████████████████████████████████████████████████████████████████████████████████████████████████████████████████████████████████████████| 101/101 [00:05<00:00, 19.36it/s]\n",
      "100%|███████████████████████████████████████████████████████████████████████████████████████████████████████████████████████████████████████████| 101/101 [00:05<00:00, 19.43it/s]\n",
      "100%|███████████████████████████████████████████████████████████████████████████████████████████████████████████████████████████████████████████| 101/101 [00:05<00:00, 19.05it/s]\n",
      "100%|███████████████████████████████████████████████████████████████████████████████████████████████████████████████████████████████████████████| 101/101 [00:05<00:00, 19.15it/s]\n",
      "/tmp/ipykernel_38737/2412427052.py:22: VisibleDeprecationWarning: Creating an ndarray from ragged nested sequences (which is a list-or-tuple of lists-or-tuples-or ndarrays with different lengths or shapes) is deprecated. If you meant to do this, you must specify 'dtype=object' when creating the ndarray.\n",
      "  ens_pred = np.mean(np.array(res), axis = 0).tolist()\n"
     ]
    },
    {
     "name": "stdout",
     "output_type": "stream",
     "text": [
      "Model  0 0.6998000036773763\n",
      "Model  1 0.7205089358946237\n",
      "Model  2 0.7101373539055037\n",
      "Model  3 0.7066858746776123\n",
      "Model  4 0.7225313304669723\n",
      "\n",
      "Ensemble  0.7484022335708338\n",
      "Masked ensemble  0.7148341953344474\n"
     ]
    }
   ],
   "source": [
    "res=[]\n",
    "for ens_idx in range(5):\n",
    "    # path to model weights\n",
    "    path = f'../models/sema_1d_{str(ens_idx)}.pth'\n",
    "    model.load_state_dict(torch.load(path))\n",
    "    model.eval()\n",
    "    model.cuda()\n",
    "\n",
    "    with torch.no_grad():\n",
    "        preds=[]\n",
    "        for it in tqdm(test_ds):\n",
    "            preds.append(model.forward(it['token_ids'].cuda())[0][0][:,1].cpu().numpy())\n",
    "    res.append(preds)\n",
    "    \n",
    "    \n",
    "for idx in range(5):\n",
    "    y_true = [x for xs in test_set['contact_number_binary'].tolist() for x in xs[:1022]]\n",
    "    y_pred = [x for xs in [p for p in res[idx]] for x in xs]\n",
    "    print('Model ', idx, sklearn.metrics.roc_auc_score([t>0 for t in y_true], y_pred))\n",
    "    \n",
    "print()\n",
    "ens_pred = np.mean(np.array(res), axis = 0).tolist()\n",
    "ens_pred = [x for xs in [p for p in ens_pred] for x in xs]\n",
    "\n",
    "print('Ensemble ',sklearn.metrics.roc_auc_score([t>0 for t in y_true], ens_pred))\n",
    "\n",
    "masked_pred, masked_true = [],[]\n",
    "for t, p in zip(y_true, ens_pred):\n",
    "    if t!=-100:\n",
    "        masked_pred.append(p)\n",
    "        masked_true.append(t)\n",
    "        \n",
    "print('Masked ensemble ',sklearn.metrics.roc_auc_score([t>0 for t in masked_true], masked_pred))"
   ]
  },
  {
   "cell_type": "markdown",
   "id": "67258a45",
   "metadata": {},
   "source": [
    "### Prediction new train"
   ]
  },
  {
   "cell_type": "code",
   "execution_count": 7,
   "id": "dfa936a6",
   "metadata": {},
   "outputs": [
    {
     "name": "stderr",
     "output_type": "stream",
     "text": [
      "100%|███████████████████████████████████████████████████████████████████████████████████████████████████████████████████████████████████████████| 101/101 [00:05<00:00, 19.69it/s]\n",
      "100%|███████████████████████████████████████████████████████████████████████████████████████████████████████████████████████████████████████████| 101/101 [00:05<00:00, 19.59it/s]\n",
      "100%|███████████████████████████████████████████████████████████████████████████████████████████████████████████████████████████████████████████| 101/101 [00:05<00:00, 19.34it/s]\n",
      "100%|███████████████████████████████████████████████████████████████████████████████████████████████████████████████████████████████████████████| 101/101 [00:05<00:00, 19.18it/s]\n",
      "100%|███████████████████████████████████████████████████████████████████████████████████████████████████████████████████████████████████████████| 101/101 [00:05<00:00, 19.26it/s]\n",
      "/tmp/ipykernel_38737/4106030711.py:22: VisibleDeprecationWarning: Creating an ndarray from ragged nested sequences (which is a list-or-tuple of lists-or-tuples-or ndarrays with different lengths or shapes) is deprecated. If you meant to do this, you must specify 'dtype=object' when creating the ndarray.\n",
      "  ens_pred = np.mean(np.array(res), axis = 0).tolist()\n"
     ]
    },
    {
     "name": "stdout",
     "output_type": "stream",
     "text": [
      "Model  0 0.6705991501882089\n",
      "Model  1 0.6868634516738169\n",
      "Model  2 0.6902378668020495\n",
      "Model  3 0.6815426502890445\n",
      "Model  4 0.6941515113497089\n",
      "\n",
      "Ensemble  0.7228392376447951\n",
      "Masked ensemble  0.6908910785155113\n"
     ]
    }
   ],
   "source": [
    "res=[]\n",
    "for ens_idx in range(5):\n",
    "    # path to model weights\n",
    "    path = f'../models/sema_1d_{str(ens_idx)}_new.pth'\n",
    "    model.load_state_dict(torch.load(path))\n",
    "    model.eval()\n",
    "    model.cuda()\n",
    "\n",
    "    with torch.no_grad():\n",
    "        preds=[]\n",
    "        for it in tqdm(test_ds):\n",
    "            preds.append(model.forward(it['token_ids'].cuda())[0][0][:,1].cpu().numpy())\n",
    "    res.append(preds)\n",
    "    \n",
    "    \n",
    "for idx in range(5):\n",
    "    y_true = [x for xs in test_set['contact_number_binary'].tolist() for x in xs[:1022]]\n",
    "    y_pred = [x for xs in [p for p in res[idx]] for x in xs]\n",
    "    print('Model ', idx, sklearn.metrics.roc_auc_score([t>0 for t in y_true], y_pred))\n",
    "    \n",
    "print()\n",
    "ens_pred = np.mean(np.array(res), axis = 0).tolist()\n",
    "ens_pred = [x for xs in [p for p in ens_pred] for x in xs]\n",
    "\n",
    "print('Ensemble ',sklearn.metrics.roc_auc_score([t>0 for t in y_true], ens_pred))\n",
    "\n",
    "masked_pred, masked_true = [],[]\n",
    "for t, p in zip(y_true, ens_pred):\n",
    "    if t!=-100:\n",
    "        masked_pred.append(p)\n",
    "        masked_true.append(t)\n",
    "        \n",
    "print('Masked ensemble ',sklearn.metrics.roc_auc_score([t>0 for t in masked_true], masked_pred))"
   ]
  },
  {
   "cell_type": "markdown",
   "id": "0bd7c5c0",
   "metadata": {},
   "source": [
    "## ESM2-3B"
   ]
  },
  {
   "cell_type": "code",
   "execution_count": 30,
   "id": "ac122787",
   "metadata": {},
   "outputs": [],
   "source": [
    "class PDB_Dataset(Dataset):\n",
    "    def __init__(self, df, label_type ='regression'):\n",
    "        self.df = df\n",
    "        _, esm1v_alphabet = esm.pretrained.esm1v_t33_650M_UR90S_1()\n",
    "        self.esm1v_batch_converter = esm1v_alphabet.get_batch_converter()\n",
    "        self.label_type = label_type\n",
    "\n",
    "    def __getitem__(self, idx):\n",
    "        item = {}\n",
    "        _, _, esm1b_batch_tokens = self.esm1v_batch_converter([('' , ''.join(self.df.iloc[idx,0]))])\n",
    "        item['token_ids'] = esm1b_batch_tokens\n",
    "        item['labels'] = torch.unsqueeze(torch.LongTensor(self.df.iloc[idx, 1]),0)\n",
    "\n",
    "        return item\n",
    "\n",
    "    def __len__(self):\n",
    "        return len(self.df)"
   ]
  },
  {
   "cell_type": "code",
   "execution_count": 3,
   "id": "ebc66aa3",
   "metadata": {},
   "outputs": [],
   "source": [
    "class ESM1vForTokenClassification(nn.Module):\n",
    "\n",
    "    def __init__(self, num_labels = 2, pretrained_no = 1):\n",
    "        super().__init__()\n",
    "        self.num_labels = num_labels\n",
    "        self.model_name = esm.pretrained.esm2_t36_3B_UR50D()  \n",
    "        \n",
    "        self.esm1v, self.esm1v_alphabet = esm.pretrained.esm2_t36_3B_UR50D()       \n",
    "        self.classifier = nn.Linear(1280*2, self.num_labels)\n",
    "\n",
    "    def forward(self, token_ids, labels = None):\n",
    "                \n",
    "        outputs = self.esm1v.forward(token_ids, repr_layers=[36])['representations'][36]\n",
    "        outputs = outputs[:,1:-1,:]\n",
    "        logits = self.classifier(outputs)\n",
    "\n",
    "        return SequenceClassifierOutput(logits=logits)\n",
    "    \n",
    "model = ESM1vForTokenClassification(pretrained_no = 1).cuda()\n",
    "\n",
    "test_set = pd.read_csv('../data/sema_2.0/test_set.csv')\n",
    "test_set = test_set.groupby('pdb_id_chain').agg({'resi_pos': list,\n",
    "                                 'resi_aa': list,\n",
    "                                 'contact_number_binary': list}).reset_index()\n",
    "test_ds = PDB_Dataset(test_set[['resi_aa', 'contact_number_binary']],\n",
    "                      label_type ='regression')"
   ]
  },
  {
   "cell_type": "code",
   "execution_count": 32,
   "id": "b3c693c5",
   "metadata": {},
   "outputs": [
    {
     "name": "stderr",
     "output_type": "stream",
     "text": [
      "100%|███████████████████████████████████████████████████████████████████████████████████████████████████████████████████████████████████████████| 101/101 [00:16<00:00,  5.96it/s]\n",
      "100%|███████████████████████████████████████████████████████████████████████████████████████████████████████████████████████████████████████████| 101/101 [00:17<00:00,  5.92it/s]\n",
      "100%|███████████████████████████████████████████████████████████████████████████████████████████████████████████████████████████████████████████| 101/101 [00:17<00:00,  5.90it/s]\n",
      "100%|███████████████████████████████████████████████████████████████████████████████████████████████████████████████████████████████████████████| 101/101 [00:17<00:00,  5.91it/s]\n",
      "100%|███████████████████████████████████████████████████████████████████████████████████████████████████████████████████████████████████████████| 101/101 [00:17<00:00,  5.93it/s]\n"
     ]
    },
    {
     "name": "stdout",
     "output_type": "stream",
     "text": [
      "Model  0 0.7486206255697889\n",
      "Model  1 0.7423144889945726\n",
      "Model  2 0.7333851822156843\n",
      "Model  3 0.7284082462914232\n",
      "Model  4 0.7287659664608829\n",
      "\n",
      "Ensemble  0.7657870297401864\n",
      "Masked ensemble  0.7311150293594467\n"
     ]
    },
    {
     "name": "stderr",
     "output_type": "stream",
     "text": [
      "/tmp/ipykernel_38737/910925273.py:22: VisibleDeprecationWarning: Creating an ndarray from ragged nested sequences (which is a list-or-tuple of lists-or-tuples-or ndarrays with different lengths or shapes) is deprecated. If you meant to do this, you must specify 'dtype=object' when creating the ndarray.\n",
      "  ens_pred = np.mean(np.array(res), axis = 0).tolist()\n"
     ]
    }
   ],
   "source": [
    "res=[]\n",
    "for ens_idx in range(5):\n",
    "    # path to model weights\n",
    "    path = f'../models/sema_1d_ESM2_{str(ens_idx)}_3B.pth'\n",
    "    model.load_state_dict(torch.load(path))\n",
    "    model.eval()\n",
    "    model.cuda()\n",
    "\n",
    "    with torch.no_grad():\n",
    "        preds=[]\n",
    "        for it in tqdm(test_ds):\n",
    "            preds.append(model.forward(it['token_ids'].cuda())[0][0][:,1].cpu().numpy())\n",
    "    res.append(preds)\n",
    "    \n",
    "    \n",
    "for idx in range(5):\n",
    "    y_true = [x for xs in test_set['contact_number_binary'].tolist() for x in xs]\n",
    "    y_pred = [x for xs in [p for p in res[idx]] for x in xs]\n",
    "    print('Model ', idx, sklearn.metrics.roc_auc_score([t>0 for t in y_true], y_pred))\n",
    "    \n",
    "print()\n",
    "ens_pred = np.mean(np.array(res), axis = 0).tolist()\n",
    "ens_pred = [x for xs in [p for p in ens_pred] for x in xs]\n",
    "\n",
    "print('Ensemble ',sklearn.metrics.roc_auc_score([t>0 for t in y_true], ens_pred))\n",
    "\n",
    "masked_pred, masked_true = [],[]\n",
    "for t, p in zip(y_true, ens_pred):\n",
    "    if t!=-100:\n",
    "        masked_pred.append(p)\n",
    "        masked_true.append(t)\n",
    "        \n",
    "print('Masked ensemble ',sklearn.metrics.roc_auc_score([t>0 for t in masked_true], masked_pred))\n",
    "\n",
    "for idx in range(5):\n",
    "    test_set[f'ESM3B_new_{idx}'] = res[idx]"
   ]
  },
  {
   "cell_type": "code",
   "execution_count": 41,
   "id": "a47ecdf9",
   "metadata": {},
   "outputs": [],
   "source": [
    "test_set['ESM3B_new_mean'] = test_set.apply(lambda row: np.mean(np.stack([row[f'ESM3B_new_{i}'] for i in range(5)], axis = 0), axis = 0), axis = 1)"
   ]
  },
  {
   "cell_type": "code",
   "execution_count": 46,
   "id": "ad076f24",
   "metadata": {},
   "outputs": [],
   "source": [
    "test_set['contact_number_target'] = test_set['contact_number_binary'].apply(lambda x: [t>0 for t in x])"
   ]
  },
  {
   "cell_type": "markdown",
   "id": "a1e66d66",
   "metadata": {},
   "source": [
    "## Optimal threshold"
   ]
  },
  {
   "cell_type": "code",
   "execution_count": 50,
   "id": "c3465738",
   "metadata": {},
   "outputs": [
    {
     "name": "stdout",
     "output_type": "stream",
     "text": [
      "2799 0.36172485\n",
      "0.7657870297401864\n"
     ]
    }
   ],
   "source": [
    "import numpy as np\n",
    "from sklearn.metrics import roc_curve, roc_auc_score\n",
    "labels = [x for xs in test_set['contact_number_target'].tolist() for x in xs]\n",
    "preds = [x for xs in test_set['ESM3B_new_mean'].tolist() for x in xs]\n",
    "fpr, tpr, thresholds = roc_curve(labels, preds, pos_label=1)\n",
    "\n",
    "optimal_threshold_ind = np.argmin(np.sqrt((fpr)**2 + (1-tpr)**2))\n",
    "print(optimal_threshold_ind, thresholds[optimal_threshold_ind])\n",
    "print(roc_auc_score(labels, preds))"
   ]
  },
  {
   "cell_type": "code",
   "execution_count": 80,
   "id": "3965071a",
   "metadata": {},
   "outputs": [
    {
     "data": {
      "text/plain": [
       "0.34201036736533696"
      ]
     },
     "execution_count": 80,
     "metadata": {},
     "output_type": "execute_result"
    }
   ],
   "source": [
    "fpr[len(thresholds[thresholds>0.361])]"
   ]
  },
  {
   "cell_type": "code",
   "execution_count": 81,
   "id": "5c7abf80",
   "metadata": {},
   "outputs": [
    {
     "data": {
      "text/plain": [
       "0.731418918918919"
      ]
     },
     "execution_count": 81,
     "metadata": {},
     "output_type": "execute_result"
    }
   ],
   "source": [
    "tpr[len(thresholds[thresholds>0.361])]"
   ]
  },
  {
   "cell_type": "code",
   "execution_count": 13,
   "id": "e7abedb9",
   "metadata": {},
   "outputs": [
    {
     "name": "stderr",
     "output_type": "stream",
     "text": [
      "100%|███████████████████████████████████████████████████████████████████████████████████████████████████████████████████████████████████████████| 101/101 [00:17<00:00,  5.91it/s]\n",
      "100%|███████████████████████████████████████████████████████████████████████████████████████████████████████████████████████████████████████████| 101/101 [00:17<00:00,  5.93it/s]\n",
      "100%|███████████████████████████████████████████████████████████████████████████████████████████████████████████████████████████████████████████| 101/101 [00:17<00:00,  5.92it/s]\n",
      "100%|███████████████████████████████████████████████████████████████████████████████████████████████████████████████████████████████████████████| 101/101 [00:17<00:00,  5.90it/s]\n",
      "100%|███████████████████████████████████████████████████████████████████████████████████████████████████████████████████████████████████████████| 101/101 [00:17<00:00,  5.66it/s]\n",
      "/tmp/ipykernel_38737/4221834530.py:22: VisibleDeprecationWarning: Creating an ndarray from ragged nested sequences (which is a list-or-tuple of lists-or-tuples-or ndarrays with different lengths or shapes) is deprecated. If you meant to do this, you must specify 'dtype=object' when creating the ndarray.\n",
      "  ens_pred = np.mean(np.array(res), axis = 0).tolist()\n"
     ]
    },
    {
     "name": "stdout",
     "output_type": "stream",
     "text": [
      "Model  0 0.7383896558196128\n",
      "Model  1 0.7451982678038079\n",
      "Model  2 0.7490490062197086\n",
      "Model  3 0.7476716542861319\n",
      "Model  4 0.7407926752817726\n",
      "\n",
      "Ensemble  0.7663257514614005\n",
      "Masked ensemble  0.7234157139216113\n"
     ]
    }
   ],
   "source": [
    "res=[]\n",
    "for ens_idx in range(5):\n",
    "    # path to model weights\n",
    "    path = f'../models/sema_1d_ESM2_{str(ens_idx)}_3B_old.pth'\n",
    "    model.load_state_dict(torch.load(path))\n",
    "    model.eval()\n",
    "    model.cuda()\n",
    "\n",
    "    with torch.no_grad():\n",
    "        preds=[]\n",
    "        for it in tqdm(test_ds):\n",
    "            preds.append(model.forward(it['token_ids'].cuda())[0][0][:,1].cpu().numpy())\n",
    "    res.append(preds)\n",
    "    \n",
    "    \n",
    "for idx in range(5):\n",
    "    y_true = [x for xs in test_set['contact_number_binary'].tolist() for x in xs]\n",
    "    y_pred = [x for xs in [p for p in res[idx]] for x in xs]\n",
    "    print('Model ', idx, sklearn.metrics.roc_auc_score([t>0 for t in y_true], y_pred))\n",
    "    \n",
    "print()\n",
    "ens_pred = np.mean(np.array(res), axis = 0).tolist()\n",
    "ens_pred = [x for xs in [p for p in ens_pred] for x in xs]\n",
    "\n",
    "print('Ensemble ',sklearn.metrics.roc_auc_score([t>0 for t in y_true], ens_pred))\n",
    "\n",
    "masked_pred, masked_true = [],[]\n",
    "for t, p in zip(y_true, ens_pred):\n",
    "    if t!=-100:\n",
    "        masked_pred.append(p)\n",
    "        masked_true.append(t)\n",
    "        \n",
    "print('Masked ensemble ',sklearn.metrics.roc_auc_score([t>0 for t in masked_true], masked_pred))\n",
    "\n",
    "for idx in range(5):\n",
    "    test_set[f'ESM3B_old_{idx}'] = res[idx]"
   ]
  },
  {
   "cell_type": "markdown",
   "id": "3317881a",
   "metadata": {},
   "source": [
    "## ESM2-650"
   ]
  },
  {
   "cell_type": "code",
   "execution_count": 15,
   "id": "ecba776b",
   "metadata": {},
   "outputs": [],
   "source": [
    "class ESM1vForTokenClassification(nn.Module):\n",
    "\n",
    "    def __init__(self, num_labels = 2, pretrained_no = 1):\n",
    "        super().__init__()\n",
    "        self.num_labels = num_labels\n",
    "        self.model_name = esm.pretrained.esm2_t33_650M_UR50D()  \n",
    "        \n",
    "        self.esm1v, self.esm1v_alphabet = esm.pretrained.esm2_t33_650M_UR50D()#load_model_and_alphabet_hub(self.model_name)        \n",
    "        self.classifier = nn.Linear(1280, self.num_labels)\n",
    "\n",
    "    def forward(self, token_ids, labels = None):\n",
    "                \n",
    "        outputs = self.esm1v.forward(token_ids, repr_layers=[33])['representations'][33]\n",
    "        outputs = outputs[:,1:-1,:]\n",
    "        logits = self.classifier(outputs)\n",
    "\n",
    "        return SequenceClassifierOutput(logits=logits)\n",
    "    \n",
    "model = ESM1vForTokenClassification(pretrained_no = 1).cuda()"
   ]
  },
  {
   "cell_type": "markdown",
   "id": "7c810ffc",
   "metadata": {},
   "source": [
    "## Prediction old train"
   ]
  },
  {
   "cell_type": "code",
   "execution_count": 17,
   "id": "252b35b1",
   "metadata": {},
   "outputs": [
    {
     "name": "stderr",
     "output_type": "stream",
     "text": [
      "100%|███████████████████████████████████████████████████████████████████████████████████████████████████████████████████████████████████████████| 101/101 [00:06<00:00, 16.22it/s]\n",
      "100%|███████████████████████████████████████████████████████████████████████████████████████████████████████████████████████████████████████████| 101/101 [00:06<00:00, 15.51it/s]\n",
      "100%|███████████████████████████████████████████████████████████████████████████████████████████████████████████████████████████████████████████| 101/101 [00:06<00:00, 15.88it/s]\n",
      "100%|███████████████████████████████████████████████████████████████████████████████████████████████████████████████████████████████████████████| 101/101 [00:06<00:00, 15.81it/s]\n",
      "100%|███████████████████████████████████████████████████████████████████████████████████████████████████████████████████████████████████████████| 101/101 [00:06<00:00, 16.00it/s]\n",
      "/tmp/ipykernel_38737/2565486123.py:22: VisibleDeprecationWarning: Creating an ndarray from ragged nested sequences (which is a list-or-tuple of lists-or-tuples-or ndarrays with different lengths or shapes) is deprecated. If you meant to do this, you must specify 'dtype=object' when creating the ndarray.\n",
      "  ens_pred = np.mean(np.array(res), axis = 0).tolist()\n"
     ]
    },
    {
     "name": "stdout",
     "output_type": "stream",
     "text": [
      "Model  0 0.7447024150798872\n",
      "Model  1 0.7377723819153837\n",
      "Model  2 0.7470255974788176\n",
      "Model  3 0.745434289195382\n",
      "Model  4 0.7543309822246181\n",
      "\n",
      "Ensemble  0.7681633760408482\n",
      "Masked ensemble  0.727870279194574\n"
     ]
    }
   ],
   "source": [
    "res=[]\n",
    "for ens_idx in range(5):\n",
    "    # path to model weights\n",
    "    path = f'../models/sema_1d_ESM2_{str(ens_idx)}.pth'\n",
    "    model.load_state_dict(torch.load(path))\n",
    "    model.eval()\n",
    "    model.cuda()\n",
    "\n",
    "    with torch.no_grad():\n",
    "        preds=[]\n",
    "        for it in tqdm(test_ds):\n",
    "            preds.append(model.forward(it['token_ids'].cuda())[0][0][:,1].cpu().numpy())\n",
    "    res.append(preds)\n",
    "    \n",
    "    \n",
    "for idx in range(5):\n",
    "    y_true = [x for xs in test_set['contact_number_binary'].tolist() for x in xs]\n",
    "    y_pred = [x for xs in [p for p in res[idx]] for x in xs]\n",
    "    print('Model ', idx, sklearn.metrics.roc_auc_score([t>0 for t in y_true], y_pred))\n",
    "    \n",
    "print()\n",
    "ens_pred = np.mean(np.array(res), axis = 0).tolist()\n",
    "ens_pred = [x for xs in [p for p in ens_pred] for x in xs]\n",
    "\n",
    "print('Ensemble ',sklearn.metrics.roc_auc_score([t>0 for t in y_true], ens_pred))\n",
    "\n",
    "masked_pred, masked_true = [],[]\n",
    "for t, p in zip(y_true, ens_pred):\n",
    "    if t!=-100:\n",
    "        masked_pred.append(p)\n",
    "        masked_true.append(t)\n",
    "        \n",
    "print('Masked ensemble ',sklearn.metrics.roc_auc_score([t>0 for t in masked_true], masked_pred))\n",
    "\n",
    "for idx in range(5):\n",
    "    test_set[f'ESM650_old_{idx}'] = res[idx]"
   ]
  },
  {
   "cell_type": "code",
   "execution_count": 18,
   "id": "d92fdf44",
   "metadata": {},
   "outputs": [
    {
     "name": "stderr",
     "output_type": "stream",
     "text": [
      "100%|███████████████████████████████████████████████████████████████████████████████████████████████████████████████████████████████████████████| 101/101 [00:06<00:00, 16.02it/s]\n",
      "100%|███████████████████████████████████████████████████████████████████████████████████████████████████████████████████████████████████████████| 101/101 [00:06<00:00, 15.57it/s]\n",
      "100%|███████████████████████████████████████████████████████████████████████████████████████████████████████████████████████████████████████████| 101/101 [00:06<00:00, 15.94it/s]\n",
      "100%|███████████████████████████████████████████████████████████████████████████████████████████████████████████████████████████████████████████| 101/101 [00:06<00:00, 16.00it/s]\n",
      "100%|███████████████████████████████████████████████████████████████████████████████████████████████████████████████████████████████████████████| 101/101 [00:06<00:00, 16.01it/s]\n",
      "/tmp/ipykernel_38737/543975243.py:22: VisibleDeprecationWarning: Creating an ndarray from ragged nested sequences (which is a list-or-tuple of lists-or-tuples-or ndarrays with different lengths or shapes) is deprecated. If you meant to do this, you must specify 'dtype=object' when creating the ndarray.\n",
      "  ens_pred = np.mean(np.array(res), axis = 0).tolist()\n"
     ]
    },
    {
     "name": "stdout",
     "output_type": "stream",
     "text": [
      "Model  0 0.7219064589437307\n",
      "Model  1 0.7041977718717702\n",
      "Model  2 0.7228035274117932\n",
      "Model  3 0.726127742537162\n",
      "Model  4 0.7297781665412877\n",
      "\n",
      "Ensemble  0.7469601082446545\n",
      "Masked ensemble  0.7148357616136957\n"
     ]
    }
   ],
   "source": [
    "res=[]\n",
    "for ens_idx in range(5):\n",
    "    # path to model weights\n",
    "    path = f'../models/sema_1d_ESM2_{str(ens_idx)}_new.pth'\n",
    "    model.load_state_dict(torch.load(path))\n",
    "    model.eval()\n",
    "    model.cuda()\n",
    "\n",
    "    with torch.no_grad():\n",
    "        preds=[]\n",
    "        for it in tqdm(test_ds):\n",
    "            preds.append(model.forward(it['token_ids'].cuda())[0][0][:,1].cpu().numpy())\n",
    "    res.append(preds)\n",
    "    \n",
    "    \n",
    "for idx in range(5):\n",
    "    y_true = [x for xs in test_set['contact_number_binary'].tolist() for x in xs]\n",
    "    y_pred = [x for xs in [p for p in res[idx]] for x in xs]\n",
    "    print('Model ', idx, sklearn.metrics.roc_auc_score([t>0 for t in y_true], y_pred))\n",
    "    \n",
    "print()\n",
    "ens_pred = np.mean(np.array(res), axis = 0).tolist()\n",
    "ens_pred = [x for xs in [p for p in ens_pred] for x in xs]\n",
    "\n",
    "print('Ensemble ',sklearn.metrics.roc_auc_score([t>0 for t in y_true], ens_pred))\n",
    "\n",
    "masked_pred, masked_true = [],[]\n",
    "for t, p in zip(y_true, ens_pred):\n",
    "    if t!=-100:\n",
    "        masked_pred.append(p)\n",
    "        masked_true.append(t)\n",
    "        \n",
    "print('Masked ensemble ',sklearn.metrics.roc_auc_score([t>0 for t in masked_true], masked_pred))\n",
    "\n",
    "for idx in range(5):\n",
    "    test_set[f'ESM650_new_{idx}'] = res[idx]"
   ]
  }
 ],
 "metadata": {
  "kernelspec": {
   "display_name": "sema_env",
   "language": "python",
   "name": "sema_env"
  },
  "language_info": {
   "codemirror_mode": {
    "name": "ipython",
    "version": 3
   },
   "file_extension": ".py",
   "mimetype": "text/x-python",
   "name": "python",
   "nbconvert_exporter": "python",
   "pygments_lexer": "ipython3",
   "version": "3.9.18"
  }
 },
 "nbformat": 4,
 "nbformat_minor": 5
}
