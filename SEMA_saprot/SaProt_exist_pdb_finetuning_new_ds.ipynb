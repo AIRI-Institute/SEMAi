{
 "cells": [
  {
   "cell_type": "markdown",
   "id": "8b260ce8",
   "metadata": {},
   "source": [
    "# SEMA-3D"
   ]
  },
  {
   "cell_type": "markdown",
   "id": "b1314793",
   "metadata": {},
   "source": [
    "**SEMA-3D** is a fine-tuned ESM-IF1 model aimed to predict epitope resiudes based on therity structures"
   ]
  },
  {
   "cell_type": "markdown",
   "id": "d8641619",
   "metadata": {},
   "source": [
    "The MIT License (MIT)\n",
    "\n",
    "Copyright (c) 2016 AYLIEN\n",
    "\n",
    "Permission is hereby granted, free of charge, to any person obtaining a copy\n",
    "of this software and associated documentation files (the \"Software\"), to deal\n",
    "in the Software without restriction, including without limitation the rights\n",
    "to use, copy, modify, merge, publish, distribute, sublicense, and/or sell\n",
    "copies of the Software, and to permit persons to whom the Software is\n",
    "furnished to do so, subject to the following conditions:\n",
    "\n",
    "The above copyright notice and this permission notice shall be included in all\n",
    "copies or substantial portions of the Software.\n",
    "\n",
    "THE SOFTWARE IS PROVIDED \"AS IS\", WITHOUT WARRANTY OF ANY KIND, EXPRESS OR\n",
    "IMPLIED, INCLUDING BUT NOT LIMITED TO THE WARRANTIES OF MERCHANTABILITY,\n",
    "FITNESS FOR A PARTICULAR PURPOSE AND NONINFRINGEMENT. IN NO EVENT SHALL THE\n",
    "AUTHORS OR COPYRIGHT HOLDERS BE LIABLE FOR ANY CLAIM, DAMAGES OR OTHER\n",
    "LIABILITY, WHETHER IN AN ACTION OF CONTRACT, TORT OR OTHERWISE, ARISING FROM,\n",
    "OUT OF OR IN CONNECTION WITH THE SOFTWARE OR THE USE OR OTHER DEALINGS IN THE\n",
    "SOFTWARE."
   ]
  },
  {
   "cell_type": "markdown",
   "id": "af9e552b",
   "metadata": {},
   "source": [
    "### Finetuning ESM-IF1 for epitope prediction tasks"
   ]
  },
  {
   "cell_type": "code",
   "execution_count": 13,
   "id": "211e24f3",
   "metadata": {},
   "outputs": [],
   "source": [
    "import os\n",
    "# set cuda params\n",
    "# 'TORCH_HOME'directory will be used to save origenal esm-1v weights\n",
    "os.environ['TORCH_HOME'] = \"../torch_hub\"\n",
    "os.environ['CUDA_VISIBLE_DEVICES'] = \"1\""
   ]
  },
  {
   "cell_type": "code",
   "execution_count": 14,
   "id": "ba960ea6",
   "metadata": {},
   "outputs": [],
   "source": [
    "import scipy\n",
    "import sklearn\n",
    "import esm\n",
    "import pickle\n",
    "\n",
    "import pandas as pd\n",
    "import numpy as np\n",
    "\n",
    "import torch\n",
    "from torch.utils.data import Dataset\n",
    "from torch import nn\n",
    "import math\n",
    "\n",
    "import transformers\n",
    "from transformers.modeling_outputs import SequenceClassifierOutput\n",
    "from transformers import Trainer, TrainingArguments, EvalPrediction\n",
    "from transformers import EsmTokenizer, EsmForMaskedLM\n",
    "\n",
    "from esm.pretrained import load_model_and_alphabet_hub\n",
    "from esm.inverse_folding.util import CoordBatchConverter\n",
    "\n",
    "from sklearn.metrics import r2_score, mean_squared_error\n",
    "\n",
    "from biotite.structure.residues import get_residues\n",
    "\n",
    "from utils.foldseek_util import get_struc_seq\n",
    "from pathlib import Path"
   ]
  },
  {
   "cell_type": "code",
   "execution_count": 15,
   "id": "fe30d66a",
   "metadata": {},
   "outputs": [],
   "source": [
    "def esmStructDataset(pdb_path, chain):\n",
    "    '''\n",
    "    Convert PDB-file into dataset format\n",
    "    \n",
    "        Parameters:\n",
    "            pdb_path (Path): path to pdb-file\n",
    "        Returns:\n",
    "            dict (dict): dictionary, where keys are properties of the protein's tertiary structure\n",
    "    '''\n",
    "    \n",
    "    try:\n",
    "        parsed_seqs = get_struc_seq(\"../bin/foldseek\", pdb_path)[chain.upper()]\n",
    "    except:\n",
    "        parsed_seqs = get_struc_seq(\"../bin/foldseek\", pdb_path)[chain.lower()]\n",
    "    seq, foldseek_seq, combined_seq = parsed_seqs\n",
    "\n",
    "    try:\n",
    "        structure = esm.inverse_folding.util.load_structure(str(pdb_path), chain.upper())\n",
    "    except:\n",
    "        structure = esm.inverse_folding.util.load_structure(str(pdb_path), chain.lower())\n",
    "        \n",
    "    resi_index = get_residues(structure)[0]\n",
    "    resi_aa    = get_residues(structure)[1]\n",
    "    resi_keys     = []\n",
    "    for resi_index_,resi_aa_ in zip(get_residues(structure)[0],get_residues(structure)[1]):\n",
    "        key = (str(resi_aa_),resi_index_)\n",
    "        resi_keys.append(key)    \n",
    "    # print('pdb_path', pdb_path)\n",
    "    # print('resi_keys', len(resi_keys), resi_keys)\n",
    "    # print('seq', len(seq), seq)\n",
    "    assert len(resi_keys) == len(seq), 'foldseek and esm.inverse_folding.util.load_structure returns different seqs'\n",
    "\n",
    "    return {\"seq\":seq,\n",
    "            \"foldseek_seq\":foldseek_seq,\n",
    "            \"combined_seq\":combined_seq,\n",
    "            \"residues\": resi_keys\n",
    "            }"
   ]
  },
  {
   "cell_type": "code",
   "execution_count": 16,
   "id": "f03890ce",
   "metadata": {},
   "outputs": [],
   "source": [
    "def create_Dataset(path=''):\n",
    "    '''\n",
    "    Create dataset of protein's tertiary structure or load it form pickle-file\n",
    "        Parameters:\n",
    "            path (Path): path to pikle object with dataset of protein's tertiary structure\n",
    "        Returens:\n",
    "            esm_structs (dict): dataset of protein's tertiary structure\n",
    "    '''  \n",
    "    path_pdbs = Path(\"/mnt/nfs_protein/ivanisenko/SEMA/dataset/3D/\").glob(\"*.pdb\")\n",
    "\n",
    "    esm_structs = {}\n",
    "    for pdb_path in list(path_pdbs):\n",
    "        chain = str(pdb_path).split('.')[0][-1]\n",
    "        tmp_dict = esmStructDataset(pdb_path, chain)\n",
    "\n",
    "        esm_structs[pdb_path.name.split(\".pdb\")[0]] = tmp_dict\n",
    "        \n",
    "    return esm_structs    "
   ]
  },
  {
   "cell_type": "code",
   "execution_count": 17,
   "id": "942b667d",
   "metadata": {},
   "outputs": [],
   "source": [
    "def prepareEsmDataset(dataset, structs_data):\n",
    "    dataset_esm = []\n",
    "    bad_prots = []\n",
    "    for k in dataset:\n",
    "        entity = dataset[k]\n",
    "        pdb_id = entity[\"pdb_id_chain\"]\n",
    "        assert pdb_id in structs_data\n",
    "        struct_data = structs_data[pdb_id]\n",
    "        \n",
    "        if len(np.unique(entity['contact_number'])) == 1:\n",
    "            bad_prots.append(pdb_id)\n",
    "            continue\n",
    "\n",
    "        # struct_data[\"cn\"] = [i for i in entity[\"contact_number\"] if i != -100]\n",
    "        struct_data[\"cn\"] = [-100]* len(struct_data['seq'])\n",
    "        \n",
    "        key_map = {(key[0],key[1]):i for i, key in enumerate(zip(entity['resi_name'],\n",
    "                                                                 entity['resi_pos']))\n",
    "                  } \n",
    "    \n",
    "        for i,key in enumerate(struct_data[\"residues\"]):\n",
    "            key = (key[0],key[1])\n",
    "            if key not in key_map:\n",
    "                struct_data[\"cn\"][i] = -100\n",
    "                continue\n",
    "            struct_data[\"cn\"][i]= entity['contact_number'][key_map[key]]\n",
    "            # struct_data[\"binary\"][i]= entity['contact_number_binary'][key_map[key]]\n",
    "\n",
    "        assert len([i for i in struct_data[\"cn\"] if i != -100]) > 0, print(pdb_id + '\\n', key_map,'\\n', struct_data[\"residues\"], '\\n', struct_data[\"cn\"])\n",
    "        \n",
    "        if len(struct_data[\"seq\"])>1500:\n",
    "            print(\"Skip long  \", pdb_id, len(struct_data[\"seq\"]))\n",
    "            continue\n",
    "        dataset_esm.append(struct_data)\n",
    "\n",
    "    print('Number of proteins with invalid contact_number: ', {len(bad_prots)})\n",
    "    \n",
    "    dataset_esm = pd.DataFrame(dataset_esm)[['combined_seq', 'cn']]\n",
    "\n",
    "    return PDB_Dataset(dataset_esm)"
   ]
  },
  {
   "cell_type": "code",
   "execution_count": 18,
   "id": "941b969f",
   "metadata": {},
   "outputs": [],
   "source": [
    "class PDB_Dataset(Dataset):\n",
    "    \"\"\"\n",
    "    A class to represent a sutable data set for model. \n",
    "    \n",
    "    convert original pandas data frame to model set,\n",
    "    where 'token ids' is ESM-1v embedings corresponed to protein sequence (max length 1024 AA)\n",
    "    and 'lables' is a contact number values\n",
    "    Attributes:\n",
    "        df (pandas.DataFrame): dataframe with two columns: \n",
    "                0 -- preotein sequence in string ('GLVM') or list (['G', 'L', 'V', 'M']) format\n",
    "                1 -- contcat number values in list [0, 0.123, 0.23, -100, 1.34] format\n",
    "        esm1v_batch_converter (function):\n",
    "                    ESM function callable to convert an unprocessed (labels + strings) batch to a\n",
    "                    processed (labels + tensor) batch.\n",
    "        label_type (str):\n",
    "                type of model: regression or binary\n",
    "\n",
    "    \"\"\"\n",
    "    def __init__(self, df, label_type ='regression'):\n",
    "        \"\"\"\n",
    "        Construct all the necessary attributes to the PDB_Database object.\n",
    "        \n",
    "        Parameters:\n",
    "            df (pandas.DataFrame): dataframe with two columns: \n",
    "                0 -- protein sequence in string ('GLVM') or list (['G', 'L', 'V', 'M']) format\n",
    "                1 -- contcat number values in list [0, 0.123, 0.23, -100, 1.34] format\n",
    "            label_type (str):\n",
    "                type of model: regression or binary\n",
    "        \"\"\"\n",
    "        model_path = \"westlake-repl/SaProt_650M_PDB\"\n",
    "        self.tokenizer = EsmTokenizer.from_pretrained(model_path)\n",
    "\n",
    "        self.df = df\n",
    "        self.label_type = label_type\n",
    "\n",
    "    def __getitem__(self, idx):\n",
    "        item = {}\n",
    "        \n",
    "        # item['token_ids'] = self.tokenizer.tokenize(self.df.iloc[idx, 0][:1022])\n",
    "        item['token_ids'] = self.tokenizer(self.df.iloc[idx, 0][:2044], padding = False, return_tensors=\"pt\")['input_ids']\n",
    "        item['labels'] = torch.unsqueeze(torch.tensor(self.df.iloc[idx, 1][:1022]),0)\n",
    "        # item['labels'] = torch.unsqueeze(torch.LongTensor(self.df.iloc[idx, 1][:1022]),0)\n",
    "\n",
    "        # print('PDB_Dataset pdb_id', self.df.iloc[idx, 2][:2048])\n",
    "        # print('PDB_Dataset seq', len(self.df.iloc[idx, 0][:2048]), self.df.iloc[idx, 0][:2048])\n",
    "        # print('PDB_Dataset token_ids', item['token_ids'].shape)\n",
    "        # print('PDB_Dataset labels', item['labels'].shape)\n",
    "        return item\n",
    "\n",
    "    def __len__(self):\n",
    "        return len(self.df)"
   ]
  },
  {
   "cell_type": "code",
   "execution_count": 19,
   "id": "c28d31ff",
   "metadata": {},
   "outputs": [],
   "source": [
    "class SaProtForTokenClassification(nn.Module):\n",
    "\n",
    "    def __init__(self, num_labels = 2):\n",
    "        super().__init__()\n",
    "        self.num_labels = num_labels\n",
    "        model_path = \"westlake-repl/SaProt_650M_PDB\"\n",
    "        self.encoder = EsmForMaskedLM.from_pretrained(model_path)\n",
    "\n",
    "        self.classifier = nn.Linear(446, self.num_labels)\n",
    "\n",
    "    def forward(self, token_ids, labels):\n",
    "        # print('SaProtForTokenClassification token_ids', token_ids.shape)\n",
    "        outputs = self.encoder(input_ids = token_ids)['logits']\n",
    "        # print('SaProtForTokenClassification encoder outputs', outputs.shape)\n",
    "        outputs = outputs[:,1:-1,:]\n",
    "        logits = self.classifier(outputs)\n",
    "        # print('logits', logits.shape)\n",
    "        # print('logits', logits)\n",
    "        return SequenceClassifierOutput(logits=logits)"
   ]
  },
  {
   "cell_type": "code",
   "execution_count": 20,
   "id": "7eaf4f68",
   "metadata": {},
   "outputs": [],
   "source": [
    "def compute_metrics_regr(p: EvalPrediction):\n",
    "    \n",
    "    preds = p.predictions[:,:,1]\n",
    "\n",
    "    batch_size, seq_len = preds.shape    \n",
    "    out_labels, out_preds = [], []\n",
    "\n",
    "    for i in range(batch_size):\n",
    "        for j in range(seq_len):\n",
    "            if p.label_ids[i, j] > -1:\n",
    "                out_labels.append(p.label_ids[i][j])\n",
    "                out_preds.append(preds[i][j])\n",
    "                \n",
    "    # out_labels_regr = [math.log(t+1) for t in out_labels]\n",
    "    out_labels_regr = out_labels\n",
    "\n",
    "    \n",
    "    return {\n",
    "        \"pearson_r\": scipy.stats.pearsonr(out_labels_regr, out_preds)[0],\n",
    "        \"mse\": mean_squared_error(out_labels_regr, out_preds),\n",
    "        \"r2_score\": r2_score(out_labels_regr, out_preds)\n",
    "    }\n"
   ]
  },
  {
   "cell_type": "code",
   "execution_count": 21,
   "id": "fac6df3b",
   "metadata": {},
   "outputs": [],
   "source": [
    "def model_init():\n",
    "    return SaProtForTokenClassification().cuda()"
   ]
  },
  {
   "cell_type": "code",
   "execution_count": 22,
   "id": "186cee5b",
   "metadata": {},
   "outputs": [],
   "source": [
    "class MaskedMSELoss(torch.nn.Module):\n",
    "    def __init__(self):\n",
    "        super(MaskedMSELoss, self).__init__()\n",
    "\n",
    "    def forward(self, inputs, target, mask):   \n",
    "        # print('loss inputs',inputs.shape, inputs)\n",
    "        # print('target',target.shape, target)\n",
    "        # print('mask',mask.shape)\n",
    "        diff2 = (torch.flatten(inputs[:,:,1]) - torch.flatten(target)) ** 2.0 * torch.flatten(mask)\n",
    "        result = torch.sum(diff2) / torch.sum(mask)\n",
    "        if torch.sum(mask)==0:\n",
    "            return torch.sum(diff2)\n",
    "        else:\n",
    "            #print('loss:', result)\n",
    "            return result\n",
    "\n",
    "    \n",
    "class MaskedRegressTrainer(Trainer):\n",
    "    def compute_loss(self, model, inputs, return_outputs=False):\n",
    "\n",
    "        # print('trainer inputs',inputs['token_ids'].shape, inputs['token_ids'])\n",
    "        # print('trainer labels',inputs['labels'].shape, inputs['labels'])\n",
    "        # # inputs = inputs[0]\n",
    "        # # labels = inputs.pop(\"labels\")\n",
    "        labels = inputs[\"labels\"]\n",
    "        labels = labels.squeeze().detach().cpu().numpy().tolist()\n",
    "        # labels = [math.log(t+1) if t!=-100 else -100 for t in labels]\n",
    "        labels = torch.unsqueeze(torch.FloatTensor(labels), 0).cuda()\n",
    "        masks = ~torch.eq(labels, -100).cuda()\n",
    "        \n",
    "        #masks = inputs.pop(\"masks\")\n",
    "        outputs = model(**inputs)\n",
    "        logits = outputs.logits\n",
    "\n",
    "        loss_fn = MaskedMSELoss()\n",
    "        loss = loss_fn(logits, labels, masks)\n",
    "        \n",
    "        return (loss, outputs) if return_outputs else loss        \n",
    "        \n",
    "def collator_fn(x):\n",
    "    if len(x)==1:\n",
    "        return x[0]\n",
    "    # print('x:', x)\n",
    "    return x\n"
   ]
  },
  {
   "cell_type": "markdown",
   "id": "2f139141",
   "metadata": {},
   "source": [
    "## Data"
   ]
  },
  {
   "cell_type": "code",
   "execution_count": 10,
   "id": "a4d6268e",
   "metadata": {},
   "outputs": [],
   "source": [
    "esm_structs = create_Dataset(path='')"
   ]
  },
  {
   "cell_type": "code",
   "execution_count": 23,
   "id": "4168b128",
   "metadata": {},
   "outputs": [
    {
     "name": "stdout",
     "output_type": "stream",
     "text": [
      "Number of structures: 1377\n"
     ]
    }
   ],
   "source": [
    "print('Number of structures:', len(esm_structs.keys()))"
   ]
  },
  {
   "cell_type": "code",
   "execution_count": 24,
   "id": "66a8d7cc",
   "metadata": {},
   "outputs": [
    {
     "name": "stdout",
     "output_type": "stream",
     "text": [
      "Skip long   5I5K_A 1632\n",
      "Number of proteins with invalid contact_number:  {21}\n",
      "Number of proteins with invalid contact_number:  {0}\n"
     ]
    }
   ],
   "source": [
    "import json\n",
    "path = '/mnt/nfs_protein/ivanisenko/SEMA/dataset/SEMA_DS.json'\n",
    "def load_datasets(path, filtr_length = False):\n",
    "    with open(path, 'r') as file:\n",
    "        dataset = json.load(file)\n",
    "        dataset = pd.DataFrame(dataset)\n",
    "\n",
    "    dataset['pdb_id_chain'] = dataset['pdb_path'].str.split('/', expand = True)[2].str.split('.', expand = True)[0]\n",
    "    \n",
    "    if filtr_length:\n",
    "            dataset = dataset[dataset['seq'].str.len() >= filtr_length]\n",
    "\n",
    "    to_residue_name = lambda x: [i['residue_name'] if i != None else i for i in x]\n",
    "    to_residue_pos = lambda x: [i['residue_number'] if i != None else i for i in x]\n",
    "    dataset.loc[:, 'resi_name'] = dataset['residues'].apply(to_residue_name)\n",
    "    dataset.loc[:, 'resi_pos'] = dataset['residues'].apply(to_residue_pos)\n",
    "\n",
    "    train_set = dataset[dataset['ds_type'] == 'train']\n",
    "    # test_set = dataset[dataset['ds_type'] == 'test_new']\n",
    "    test_set = dataset[dataset['ds_type'] == 'test_original']\n",
    "\n",
    "    # train_set = train_set.iloc[0:10, :]\n",
    "    # test_set = test_set.iloc[0:10, :]\n",
    "\n",
    "    train_set = train_set.reset_index().to_dict(orient='index')\n",
    "    test_set = test_set.reset_index().to_dict(orient='index')\n",
    "\n",
    "    return train_set , test_set\n",
    "\n",
    "train_set , test_set = load_datasets(path, filtr_length= False)\n",
    "\n",
    "train_ds = prepareEsmDataset(train_set, esm_structs)\n",
    "test_ds = prepareEsmDataset(test_set, esm_structs)"
   ]
  },
  {
   "cell_type": "markdown",
   "id": "fe128238",
   "metadata": {},
   "source": [
    "## Model training and test "
   ]
  },
  {
   "cell_type": "code",
   "execution_count": 25,
   "id": "d506858d",
   "metadata": {},
   "outputs": [],
   "source": [
    "training_args = TrainingArguments(\n",
    "    output_dir='./results_fold' ,          # output directory\n",
    "    num_train_epochs=2,          # total number of training epochs\n",
    "    per_device_train_batch_size=1,   # batch size per device during training\n",
    "    per_device_eval_batch_size=1,   # batch size for evaluation\n",
    "    warmup_steps=20,                # number of warmup steps for learning rate scheduler\n",
    "    learning_rate=1e-05,             # learning rate\n",
    "    weight_decay=0.0,                # strength of weight decay\n",
    "    logging_dir='./logs',            # directory for storing logs\n",
    "    logging_steps=200,               # How often to print logs\n",
    "    save_strategy = \"no\",\n",
    "    do_train=True,                   # Perform training\n",
    "    do_eval=False,                    # Perform evaluation\n",
    "    evaluation_strategy=\"epoch\",     # evalute after each epoch\n",
    "    gradient_accumulation_steps=1,  # total number of steps before back propagation\n",
    "    fp16=False,                       # Use mixed precision\n",
    "    run_name=\"PDB_regr\",      # experiment name\n",
    "    seed=42,                         # Seed for experiment reproducibility\n",
    "    load_best_model_at_end=False,\n",
    "    metric_for_best_model=\"eval_r2\",\n",
    "    greater_is_better=True,\n",
    "\n",
    ")"
   ]
  },
  {
   "cell_type": "code",
   "execution_count": 26,
   "id": "db213ab6",
   "metadata": {},
   "outputs": [],
   "source": [
    "#create direactory to weights storage\n",
    "if not os.path.exists(\"../models/\"):\n",
    "    os.makedirs(\"../models/\")"
   ]
  },
  {
   "cell_type": "code",
   "execution_count": 27,
   "id": "2dd1e6b8",
   "metadata": {},
   "outputs": [],
   "source": [
    "torch.cuda.empty_cache()"
   ]
  },
  {
   "cell_type": "code",
   "execution_count": 17,
   "id": "b2cca9d2",
   "metadata": {},
   "outputs": [
    {
     "name": "stderr",
     "output_type": "stream",
     "text": [
      "Some weights of EsmForMaskedLM were not initialized from the model checkpoint at westlake-repl/SaProt_650M_PDB and are newly initialized: ['esm.contact_head.regression.bias', 'esm.contact_head.regression.weight', 'esm.embeddings.position_embeddings.weight']\n",
      "You should probably TRAIN this model on a down-stream task to be able to use it for predictions and inference.\n",
      "Detected kernel version 4.15.0, which is below the recommended minimum of 5.5.0; this can cause the process to hang. It is recommended to upgrade the kernel to the minimum version or higher.\n"
     ]
    },
    {
     "data": {
      "text/html": [
       "\n",
       "    <div>\n",
       "      \n",
       "      <progress value='2290' max='2290' style='width:300px; height:20px; vertical-align: middle;'></progress>\n",
       "      [2290/2290 08:16, Epoch 2/2]\n",
       "    </div>\n",
       "    <table border=\"1\" class=\"dataframe\">\n",
       "  <thead>\n",
       " <tr style=\"text-align: left;\">\n",
       "      <th>Epoch</th>\n",
       "      <th>Training Loss</th>\n",
       "      <th>Validation Loss</th>\n",
       "      <th>Pearson R</th>\n",
       "      <th>Mse</th>\n",
       "      <th>R2 Score</th>\n",
       "    </tr>\n",
       "  </thead>\n",
       "  <tbody>\n",
       "    <tr>\n",
       "      <td>1</td>\n",
       "      <td>0.138800</td>\n",
       "      <td>0.144210</td>\n",
       "      <td>0.361670</td>\n",
       "      <td>0.141821</td>\n",
       "      <td>0.110053</td>\n",
       "    </tr>\n",
       "    <tr>\n",
       "      <td>2</td>\n",
       "      <td>0.114700</td>\n",
       "      <td>0.140838</td>\n",
       "      <td>0.365422</td>\n",
       "      <td>0.140649</td>\n",
       "      <td>0.117408</td>\n",
       "    </tr>\n",
       "  </tbody>\n",
       "</table><p>"
      ],
      "text/plain": [
       "<IPython.core.display.HTML object>"
      ]
     },
     "metadata": {},
     "output_type": "display_data"
    }
   ],
   "source": [
    "# torch.cuda.empty_cache()\n",
    "trainer = MaskedRegressTrainer(\n",
    "    model=model_init(),                 # the instantiated 🤗 Transformers model to be trained\n",
    "    args=training_args,                   # training arguments, defined above\n",
    "    train_dataset = train_ds,    # training dataset\n",
    "    eval_dataset  = test_ds,    # evaluation dataset\n",
    "    data_collator = collator_fn,\n",
    "    compute_metrics = compute_metrics_regr\n",
    ")\n",
    "trainer.train()\n",
    "\n",
    "#save weights\n",
    "torch.save(trainer.model.state_dict(), \"../models/sema_saprot_continous_noncut_log10_0.pth\")"
   ]
  },
  {
   "cell_type": "markdown",
   "id": "1e02e25f",
   "metadata": {},
   "source": [
    "# Multimer test"
   ]
  },
  {
   "cell_type": "code",
   "execution_count": 19,
   "id": "16e72e18",
   "metadata": {},
   "outputs": [],
   "source": [
    "from biopandas.pdb import PandasPdb\n",
    "import pandas as pd\n",
    "from pathlib import Path\n",
    "from tqdm import tqdm\n",
    "from IPython.display import clear_output\n",
    "\n",
    "\n",
    "aa_3_to_1 = {'CYS': 'C', 'ASP': 'D', 'SER': 'S', 'GLN': 'Q', 'LYS': 'K',\n",
    "     'ILE': 'I', 'PRO': 'P', 'THR': 'T', 'PHE': 'F', 'ASN': 'N', \n",
    "     'GLY': 'G', 'HIS': 'H', 'LEU': 'L', 'ARG': 'R', 'TRP': 'W', \n",
    "     'ALA': 'A', 'VAL':'V', 'GLU': 'E', 'TYR': 'Y', 'MET': 'M'}"
   ]
  },
  {
   "cell_type": "code",
   "execution_count": 20,
   "id": "087223da",
   "metadata": {},
   "outputs": [],
   "source": [
    "from tqdm import tqdm \n",
    "import numpy as np\n",
    "\n",
    "def esmStructDataset(pdb_path, chain):\n",
    "    '''\n",
    "    Convert PDB-file into dataset format\n",
    "    \n",
    "        Parameters:\n",
    "            pdb_path (Path): path to pdb-file\n",
    "        Returns:\n",
    "            dict (dict): dictionary, where keys are properties of the protein's tertiary structure\n",
    "    '''\n",
    "    \n",
    "    try:\n",
    "        parsed_seqs = get_struc_seq(\"bin/foldseek\", pdb_path)[chain.upper()]\n",
    "    except:\n",
    "        parsed_seqs = get_struc_seq(\"bin/foldseek\", pdb_path)[chain.lower()]\n",
    "    seq, foldseek_seq, combined_seq = parsed_seqs\n",
    "\n",
    "    return {\"seq\":seq,\n",
    "            \"foldseek_seq\":foldseek_seq,\n",
    "            \"combined_seq\":combined_seq\n",
    "            }\n",
    "\n",
    "def prepare_multimer_test_1D_model(path_to_pdbs, gap_length = 0):\n",
    "    \n",
    "    path_pdbs = Path(path_to_pdbs).glob(\"*.pdb\")\n",
    "    one_chain_prots = []\n",
    "    test_df = pd.DataFrame(columns = ['seq', 'concat_number'])\n",
    "\n",
    "    for pdb_path in tqdm(list(path_pdbs)):\n",
    "        # read and savepdb\n",
    "        pdb_df =  PandasPdb().read_pdb(str(pdb_path))\n",
    "        pdb_df.to_pdb('tmp_raw_pdb.pdb')\n",
    "        # fix insertions in residue number (tool convert int+ letter (ex 150A) value to int (ex 151))\n",
    "        _ = os.system(\"pdb_delinsertion tmp_raw_pdb.pdb > tmp_raw_pdb_fix_ins.pdb\")\n",
    "        \n",
    "        # read pdb, change all chains to M and save to tmp_M.pdb\n",
    "        pdb_df =  PandasPdb().read_pdb('tmp_raw_pdb_fix_ins.pdb')\n",
    "        atom_df =  pdb_df.df['ATOM'].copy()\n",
    "        atom_df.loc[:, 'chain_id'] = 'M'\n",
    "        pdb_df.df['ATOM'] = atom_df\n",
    "        pdb_df.to_pdb('tmp_M.pdb')\n",
    "        # change residue_number in tmp_M.pdb\n",
    "        _ = os.system(\"pdb_reres -1 tmp_M.pdb > tmpReind_M.pdb\")\n",
    "\n",
    "        multimer_seq = esmStructDataset('tmpReind_M.pdb', 'M')['combined_seq']\n",
    "        \n",
    "        pdb_df =  PandasPdb().read_pdb(str('tmpReind_M.pdb'))\n",
    "        atom_df =  pdb_df.df['ATOM'].copy()\n",
    "        # change mask values from -1 to -100\n",
    "        atom_df.loc[atom_df['b_factor'] == -1, 'b_factor'] = -100\n",
    "        # make nonmask values - log10\n",
    "        atom_df.loc[atom_df['b_factor'] >= 0, 'b_factor'] = atom_df.loc[atom_df['b_factor'] >= 0, 'b_factor'].apply(lambda x: np.log10(x + 1))\n",
    "        \n",
    "        multimer_contacts = atom_df[atom_df.atom_name == 'CA']['b_factor'].tolist()\n",
    "\n",
    "        assert len(multimer_contacts) == len(multimer_seq)/2, print(str(pdb_path) + '\\n', f'cn: {len(multimer_contacts)}{multimer_contacts},\\ncombined seq: {len(multimer_seq)}, {multimer_seq}')\n",
    "            \n",
    "        test_df.loc[test_df.shape[0] +1, :] = {'seq': multimer_seq, 'concat_number': multimer_contacts}\n",
    "        clear_output()\n",
    "    \n",
    "    print('PDBs with only one chain:', len(one_chain_prots))\n",
    "\n",
    "    return test_df"
   ]
  },
  {
   "cell_type": "code",
   "execution_count": 22,
   "id": "b5f3fec5",
   "metadata": {},
   "outputs": [],
   "source": [
    "# test_df = prepare_multimer_test_1D_model('/mnt/nfs_protein/ivanisenko/SEMA/dataset/multimers/', gap_length = 0)\n",
    "multi_test_ds = PDB_Dataset(test_df)"
   ]
  },
  {
   "cell_type": "code",
   "execution_count": 68,
   "id": "18c3fba8",
   "metadata": {},
   "outputs": [
    {
     "data": {
      "text/html": [
       "\n",
       "    <div>\n",
       "      \n",
       "      <progress value='773' max='773' style='width:300px; height:20px; vertical-align: middle;'></progress>\n",
       "      [773/773 01:25]\n",
       "    </div>\n",
       "    "
      ],
      "text/plain": [
       "<IPython.core.display.HTML object>"
      ]
     },
     "metadata": {},
     "output_type": "display_data"
    },
    {
     "data": {
      "text/plain": [
       "{'eval_loss': 0.12266069650650024,\n",
       " 'eval_pearson_r': 0.4212938220320703,\n",
       " 'eval_mse': 0.11615478992462158,\n",
       " 'eval_r2_score': 0.17550282305813802,\n",
       " 'eval_runtime': 87.2102,\n",
       " 'eval_samples_per_second': 8.864,\n",
       " 'eval_steps_per_second': 8.864,\n",
       " 'epoch': 2.0}"
      ]
     },
     "execution_count": 68,
     "metadata": {},
     "output_type": "execute_result"
    }
   ],
   "source": [
    "trainer.evaluate(multi_test_ds)"
   ]
  },
  {
   "cell_type": "markdown",
   "id": "74a240c6",
   "metadata": {},
   "source": [
    "# Calculate threshold"
   ]
  },
  {
   "cell_type": "code",
   "execution_count": null,
   "id": "0dda1b4b",
   "metadata": {},
   "outputs": [],
   "source": []
  },
  {
   "cell_type": "code",
   "execution_count": 30,
   "id": "57f516d4",
   "metadata": {},
   "outputs": [
    {
     "name": "stderr",
     "output_type": "stream",
     "text": [
      "  0%|          | 0/72 [00:00<?, ?it/s]"
     ]
    },
    {
     "name": "stderr",
     "output_type": "stream",
     "text": [
      "100%|██████████| 72/72 [00:19<00:00,  3.66it/s]\n"
     ]
    },
    {
     "ename": "ValueError",
     "evalue": "unknown format is not supported",
     "output_type": "error",
     "traceback": [
      "\u001b[0;31m---------------------------------------------------------------------------\u001b[0m",
      "\u001b[0;31mValueError\u001b[0m                                Traceback (most recent call last)",
      "\u001b[1;32m/home/shevtsov/SEMAi/SaProt/SaProt_exist_pdb_finetuning_new_ds.ipynb Cell 30\u001b[0m line \u001b[0;36m1\n\u001b[1;32m     <a href='vscode-notebook-cell://ssh-remote%2B7b22686f73744e616d65223a223139322e3136382e31382e3230222c2275736572223a227368657674736f76227d/home/shevtsov/SEMAi/SaProt/SaProt_exist_pdb_finetuning_new_ds.ipynb#X42sdnNjb2RlLXJlbW90ZQ%3D%3D?line=13'>14</a>\u001b[0m         preds\u001b[39m.\u001b[39mappend(model\u001b[39m.\u001b[39mforward(it[\u001b[39m'\u001b[39m\u001b[39mtoken_ids\u001b[39m\u001b[39m'\u001b[39m]\u001b[39m.\u001b[39mcuda(), labels \u001b[39m=\u001b[39m \u001b[39mNone\u001b[39;00m)[\u001b[39m0\u001b[39m][\u001b[39m0\u001b[39m][:,\u001b[39m1\u001b[39m]\u001b[39m.\u001b[39mcpu()\u001b[39m.\u001b[39mnumpy())\n\u001b[1;32m     <a href='vscode-notebook-cell://ssh-remote%2B7b22686f73744e616d65223a223139322e3136382e31382e3230222c2275736572223a227368657674736f76227d/home/shevtsov/SEMAi/SaProt/SaProt_exist_pdb_finetuning_new_ds.ipynb#X42sdnNjb2RlLXJlbW90ZQ%3D%3D?line=14'>15</a>\u001b[0m         labels\u001b[39m.\u001b[39mappend(it[\u001b[39m'\u001b[39m\u001b[39mlabels\u001b[39m\u001b[39m'\u001b[39m]\u001b[39m.\u001b[39msqueeze(\u001b[39m0\u001b[39m)\u001b[39m.\u001b[39mnumpy())\n\u001b[0;32m---> <a href='vscode-notebook-cell://ssh-remote%2B7b22686f73744e616d65223a223139322e3136382e31382e3230222c2275736572223a227368657674736f76227d/home/shevtsov/SEMAi/SaProt/SaProt_exist_pdb_finetuning_new_ds.ipynb#X42sdnNjb2RlLXJlbW90ZQ%3D%3D?line=16'>17</a>\u001b[0m fpr, tpr, thresholds \u001b[39m=\u001b[39m roc_curve(preds, labels, pos_label\u001b[39m=\u001b[39;49m\u001b[39m2\u001b[39;49m)\n",
      "File \u001b[0;32m/mnt/20tb/shevtsov/miniconda3/envs/sema_env/lib/python3.9/site-packages/sklearn/utils/_param_validation.py:214\u001b[0m, in \u001b[0;36mvalidate_params.<locals>.decorator.<locals>.wrapper\u001b[0;34m(*args, **kwargs)\u001b[0m\n\u001b[1;32m    208\u001b[0m \u001b[39mtry\u001b[39;00m:\n\u001b[1;32m    209\u001b[0m     \u001b[39mwith\u001b[39;00m config_context(\n\u001b[1;32m    210\u001b[0m         skip_parameter_validation\u001b[39m=\u001b[39m(\n\u001b[1;32m    211\u001b[0m             prefer_skip_nested_validation \u001b[39mor\u001b[39;00m global_skip_validation\n\u001b[1;32m    212\u001b[0m         )\n\u001b[1;32m    213\u001b[0m     ):\n\u001b[0;32m--> 214\u001b[0m         \u001b[39mreturn\u001b[39;00m func(\u001b[39m*\u001b[39;49margs, \u001b[39m*\u001b[39;49m\u001b[39m*\u001b[39;49mkwargs)\n\u001b[1;32m    215\u001b[0m \u001b[39mexcept\u001b[39;00m InvalidParameterError \u001b[39mas\u001b[39;00m e:\n\u001b[1;32m    216\u001b[0m     \u001b[39m# When the function is just a wrapper around an estimator, we allow\u001b[39;00m\n\u001b[1;32m    217\u001b[0m     \u001b[39m# the function to delegate validation to the estimator, but we replace\u001b[39;00m\n\u001b[1;32m    218\u001b[0m     \u001b[39m# the name of the estimator by the name of the function in the error\u001b[39;00m\n\u001b[1;32m    219\u001b[0m     \u001b[39m# message to avoid confusion.\u001b[39;00m\n\u001b[1;32m    220\u001b[0m     msg \u001b[39m=\u001b[39m re\u001b[39m.\u001b[39msub(\n\u001b[1;32m    221\u001b[0m         \u001b[39mr\u001b[39m\u001b[39m\"\u001b[39m\u001b[39mparameter of \u001b[39m\u001b[39m\\\u001b[39m\u001b[39mw+ must be\u001b[39m\u001b[39m\"\u001b[39m,\n\u001b[1;32m    222\u001b[0m         \u001b[39mf\u001b[39m\u001b[39m\"\u001b[39m\u001b[39mparameter of \u001b[39m\u001b[39m{\u001b[39;00mfunc\u001b[39m.\u001b[39m\u001b[39m__qualname__\u001b[39m\u001b[39m}\u001b[39;00m\u001b[39m must be\u001b[39m\u001b[39m\"\u001b[39m,\n\u001b[1;32m    223\u001b[0m         \u001b[39mstr\u001b[39m(e),\n\u001b[1;32m    224\u001b[0m     )\n",
      "File \u001b[0;32m/mnt/20tb/shevtsov/miniconda3/envs/sema_env/lib/python3.9/site-packages/sklearn/metrics/_ranking.py:1095\u001b[0m, in \u001b[0;36mroc_curve\u001b[0;34m(y_true, y_score, pos_label, sample_weight, drop_intermediate)\u001b[0m\n\u001b[1;32m    993\u001b[0m \u001b[39m@validate_params\u001b[39m(\n\u001b[1;32m    994\u001b[0m     {\n\u001b[1;32m    995\u001b[0m         \u001b[39m\"\u001b[39m\u001b[39my_true\u001b[39m\u001b[39m\"\u001b[39m: [\u001b[39m\"\u001b[39m\u001b[39marray-like\u001b[39m\u001b[39m\"\u001b[39m],\n\u001b[0;32m   (...)\u001b[0m\n\u001b[1;32m   1004\u001b[0m     y_true, y_score, \u001b[39m*\u001b[39m, pos_label\u001b[39m=\u001b[39m\u001b[39mNone\u001b[39;00m, sample_weight\u001b[39m=\u001b[39m\u001b[39mNone\u001b[39;00m, drop_intermediate\u001b[39m=\u001b[39m\u001b[39mTrue\u001b[39;00m\n\u001b[1;32m   1005\u001b[0m ):\n\u001b[1;32m   1006\u001b[0m \u001b[39m    \u001b[39m\u001b[39m\"\"\"Compute Receiver operating characteristic (ROC).\u001b[39;00m\n\u001b[1;32m   1007\u001b[0m \n\u001b[1;32m   1008\u001b[0m \u001b[39m    Note: this implementation is restricted to the binary classification task.\u001b[39;00m\n\u001b[0;32m   (...)\u001b[0m\n\u001b[1;32m   1093\u001b[0m \u001b[39m    array([ inf, 0.8 , 0.4 , 0.35, 0.1 ])\u001b[39;00m\n\u001b[1;32m   1094\u001b[0m \u001b[39m    \"\"\"\u001b[39;00m\n\u001b[0;32m-> 1095\u001b[0m     fps, tps, thresholds \u001b[39m=\u001b[39m _binary_clf_curve(\n\u001b[1;32m   1096\u001b[0m         y_true, y_score, pos_label\u001b[39m=\u001b[39;49mpos_label, sample_weight\u001b[39m=\u001b[39;49msample_weight\n\u001b[1;32m   1097\u001b[0m     )\n\u001b[1;32m   1099\u001b[0m     \u001b[39m# Attempt to drop thresholds corresponding to points in between and\u001b[39;00m\n\u001b[1;32m   1100\u001b[0m     \u001b[39m# collinear with other points. These are always suboptimal and do not\u001b[39;00m\n\u001b[1;32m   1101\u001b[0m     \u001b[39m# appear on a plotted ROC curve (and thus do not affect the AUC).\u001b[39;00m\n\u001b[0;32m   (...)\u001b[0m\n\u001b[1;32m   1106\u001b[0m     \u001b[39m# but does not drop more complicated cases like fps = [1, 3, 7],\u001b[39;00m\n\u001b[1;32m   1107\u001b[0m     \u001b[39m# tps = [1, 2, 4]; there is no harm in keeping too many thresholds.\u001b[39;00m\n\u001b[1;32m   1108\u001b[0m     \u001b[39mif\u001b[39;00m drop_intermediate \u001b[39mand\u001b[39;00m \u001b[39mlen\u001b[39m(fps) \u001b[39m>\u001b[39m \u001b[39m2\u001b[39m:\n",
      "File \u001b[0;32m/mnt/20tb/shevtsov/miniconda3/envs/sema_env/lib/python3.9/site-packages/sklearn/metrics/_ranking.py:804\u001b[0m, in \u001b[0;36m_binary_clf_curve\u001b[0;34m(y_true, y_score, pos_label, sample_weight)\u001b[0m\n\u001b[1;32m    802\u001b[0m y_type \u001b[39m=\u001b[39m type_of_target(y_true, input_name\u001b[39m=\u001b[39m\u001b[39m\"\u001b[39m\u001b[39my_true\u001b[39m\u001b[39m\"\u001b[39m)\n\u001b[1;32m    803\u001b[0m \u001b[39mif\u001b[39;00m \u001b[39mnot\u001b[39;00m (y_type \u001b[39m==\u001b[39m \u001b[39m\"\u001b[39m\u001b[39mbinary\u001b[39m\u001b[39m\"\u001b[39m \u001b[39mor\u001b[39;00m (y_type \u001b[39m==\u001b[39m \u001b[39m\"\u001b[39m\u001b[39mmulticlass\u001b[39m\u001b[39m\"\u001b[39m \u001b[39mand\u001b[39;00m pos_label \u001b[39mis\u001b[39;00m \u001b[39mnot\u001b[39;00m \u001b[39mNone\u001b[39;00m)):\n\u001b[0;32m--> 804\u001b[0m     \u001b[39mraise\u001b[39;00m \u001b[39mValueError\u001b[39;00m(\u001b[39m\"\u001b[39m\u001b[39m{0}\u001b[39;00m\u001b[39m format is not supported\u001b[39m\u001b[39m\"\u001b[39m\u001b[39m.\u001b[39mformat(y_type))\n\u001b[1;32m    806\u001b[0m check_consistent_length(y_true, y_score, sample_weight)\n\u001b[1;32m    807\u001b[0m y_true \u001b[39m=\u001b[39m column_or_1d(y_true)\n",
      "\u001b[0;31mValueError\u001b[0m: unknown format is not supported"
     ]
    }
   ],
   "source": [
    "from sklearn.metrics import roc_curve\n",
    "from tqdm import tqdm\n",
    "\n",
    "path = '/home/shevtsov/SEMAi/models/sema_saprot_continous_noncut_log10_0.pth'\n",
    "model=model_init()\n",
    "model.load_state_dict(torch.load(path))\n",
    "model.eval()\n",
    "model.cuda()\n",
    "\n",
    "with torch.no_grad():\n",
    "    preds=[]\n",
    "    labels = []\n",
    "    for it in tqdm(test_ds):\n",
    "        preds.append(model.forward(it['token_ids'].cuda(), labels = None)[0][0][:,1].cpu().numpy())\n",
    "        labels.append(it['labels'].squeeze(0).numpy())"
   ]
  },
  {
   "cell_type": "code",
   "execution_count": 35,
   "id": "5b546ca5",
   "metadata": {},
   "outputs": [
    {
     "ename": "ValueError",
     "evalue": "continuous format is not supported",
     "output_type": "error",
     "traceback": [
      "\u001b[0;31m---------------------------------------------------------------------------\u001b[0m",
      "\u001b[0;31mValueError\u001b[0m                                Traceback (most recent call last)",
      "\u001b[1;32m/home/shevtsov/SEMAi/SaProt/SaProt_exist_pdb_finetuning_new_ds.ipynb Cell 31\u001b[0m line \u001b[0;36m2\n\u001b[1;32m      <a href='vscode-notebook-cell://ssh-remote%2B7b22686f73744e616d65223a223139322e3136382e31382e3230222c2275736572223a227368657674736f76227d/home/shevtsov/SEMAi/SaProt/SaProt_exist_pdb_finetuning_new_ds.ipynb#X43sdnNjb2RlLXJlbW90ZQ%3D%3D?line=0'>1</a>\u001b[0m np\u001b[39m.\u001b[39mconcatenate(preds)\n\u001b[0;32m----> <a href='vscode-notebook-cell://ssh-remote%2B7b22686f73744e616d65223a223139322e3136382e31382e3230222c2275736572223a227368657674736f76227d/home/shevtsov/SEMAi/SaProt/SaProt_exist_pdb_finetuning_new_ds.ipynb#X43sdnNjb2RlLXJlbW90ZQ%3D%3D?line=1'>2</a>\u001b[0m fpr, tpr, thresholds \u001b[39m=\u001b[39m roc_curve(np\u001b[39m.\u001b[39;49mconcatenate(preds), np\u001b[39m.\u001b[39;49mconcatenate(labels), pos_label\u001b[39m=\u001b[39;49m\u001b[39m2\u001b[39;49m)\n",
      "File \u001b[0;32m/mnt/20tb/shevtsov/miniconda3/envs/sema_env/lib/python3.9/site-packages/sklearn/utils/_param_validation.py:214\u001b[0m, in \u001b[0;36mvalidate_params.<locals>.decorator.<locals>.wrapper\u001b[0;34m(*args, **kwargs)\u001b[0m\n\u001b[1;32m    208\u001b[0m \u001b[39mtry\u001b[39;00m:\n\u001b[1;32m    209\u001b[0m     \u001b[39mwith\u001b[39;00m config_context(\n\u001b[1;32m    210\u001b[0m         skip_parameter_validation\u001b[39m=\u001b[39m(\n\u001b[1;32m    211\u001b[0m             prefer_skip_nested_validation \u001b[39mor\u001b[39;00m global_skip_validation\n\u001b[1;32m    212\u001b[0m         )\n\u001b[1;32m    213\u001b[0m     ):\n\u001b[0;32m--> 214\u001b[0m         \u001b[39mreturn\u001b[39;00m func(\u001b[39m*\u001b[39;49margs, \u001b[39m*\u001b[39;49m\u001b[39m*\u001b[39;49mkwargs)\n\u001b[1;32m    215\u001b[0m \u001b[39mexcept\u001b[39;00m InvalidParameterError \u001b[39mas\u001b[39;00m e:\n\u001b[1;32m    216\u001b[0m     \u001b[39m# When the function is just a wrapper around an estimator, we allow\u001b[39;00m\n\u001b[1;32m    217\u001b[0m     \u001b[39m# the function to delegate validation to the estimator, but we replace\u001b[39;00m\n\u001b[1;32m    218\u001b[0m     \u001b[39m# the name of the estimator by the name of the function in the error\u001b[39;00m\n\u001b[1;32m    219\u001b[0m     \u001b[39m# message to avoid confusion.\u001b[39;00m\n\u001b[1;32m    220\u001b[0m     msg \u001b[39m=\u001b[39m re\u001b[39m.\u001b[39msub(\n\u001b[1;32m    221\u001b[0m         \u001b[39mr\u001b[39m\u001b[39m\"\u001b[39m\u001b[39mparameter of \u001b[39m\u001b[39m\\\u001b[39m\u001b[39mw+ must be\u001b[39m\u001b[39m\"\u001b[39m,\n\u001b[1;32m    222\u001b[0m         \u001b[39mf\u001b[39m\u001b[39m\"\u001b[39m\u001b[39mparameter of \u001b[39m\u001b[39m{\u001b[39;00mfunc\u001b[39m.\u001b[39m\u001b[39m__qualname__\u001b[39m\u001b[39m}\u001b[39;00m\u001b[39m must be\u001b[39m\u001b[39m\"\u001b[39m,\n\u001b[1;32m    223\u001b[0m         \u001b[39mstr\u001b[39m(e),\n\u001b[1;32m    224\u001b[0m     )\n",
      "File \u001b[0;32m/mnt/20tb/shevtsov/miniconda3/envs/sema_env/lib/python3.9/site-packages/sklearn/metrics/_ranking.py:1095\u001b[0m, in \u001b[0;36mroc_curve\u001b[0;34m(y_true, y_score, pos_label, sample_weight, drop_intermediate)\u001b[0m\n\u001b[1;32m    993\u001b[0m \u001b[39m@validate_params\u001b[39m(\n\u001b[1;32m    994\u001b[0m     {\n\u001b[1;32m    995\u001b[0m         \u001b[39m\"\u001b[39m\u001b[39my_true\u001b[39m\u001b[39m\"\u001b[39m: [\u001b[39m\"\u001b[39m\u001b[39marray-like\u001b[39m\u001b[39m\"\u001b[39m],\n\u001b[0;32m   (...)\u001b[0m\n\u001b[1;32m   1004\u001b[0m     y_true, y_score, \u001b[39m*\u001b[39m, pos_label\u001b[39m=\u001b[39m\u001b[39mNone\u001b[39;00m, sample_weight\u001b[39m=\u001b[39m\u001b[39mNone\u001b[39;00m, drop_intermediate\u001b[39m=\u001b[39m\u001b[39mTrue\u001b[39;00m\n\u001b[1;32m   1005\u001b[0m ):\n\u001b[1;32m   1006\u001b[0m \u001b[39m    \u001b[39m\u001b[39m\"\"\"Compute Receiver operating characteristic (ROC).\u001b[39;00m\n\u001b[1;32m   1007\u001b[0m \n\u001b[1;32m   1008\u001b[0m \u001b[39m    Note: this implementation is restricted to the binary classification task.\u001b[39;00m\n\u001b[0;32m   (...)\u001b[0m\n\u001b[1;32m   1093\u001b[0m \u001b[39m    array([ inf, 0.8 , 0.4 , 0.35, 0.1 ])\u001b[39;00m\n\u001b[1;32m   1094\u001b[0m \u001b[39m    \"\"\"\u001b[39;00m\n\u001b[0;32m-> 1095\u001b[0m     fps, tps, thresholds \u001b[39m=\u001b[39m _binary_clf_curve(\n\u001b[1;32m   1096\u001b[0m         y_true, y_score, pos_label\u001b[39m=\u001b[39;49mpos_label, sample_weight\u001b[39m=\u001b[39;49msample_weight\n\u001b[1;32m   1097\u001b[0m     )\n\u001b[1;32m   1099\u001b[0m     \u001b[39m# Attempt to drop thresholds corresponding to points in between and\u001b[39;00m\n\u001b[1;32m   1100\u001b[0m     \u001b[39m# collinear with other points. These are always suboptimal and do not\u001b[39;00m\n\u001b[1;32m   1101\u001b[0m     \u001b[39m# appear on a plotted ROC curve (and thus do not affect the AUC).\u001b[39;00m\n\u001b[0;32m   (...)\u001b[0m\n\u001b[1;32m   1106\u001b[0m     \u001b[39m# but does not drop more complicated cases like fps = [1, 3, 7],\u001b[39;00m\n\u001b[1;32m   1107\u001b[0m     \u001b[39m# tps = [1, 2, 4]; there is no harm in keeping too many thresholds.\u001b[39;00m\n\u001b[1;32m   1108\u001b[0m     \u001b[39mif\u001b[39;00m drop_intermediate \u001b[39mand\u001b[39;00m \u001b[39mlen\u001b[39m(fps) \u001b[39m>\u001b[39m \u001b[39m2\u001b[39m:\n",
      "File \u001b[0;32m/mnt/20tb/shevtsov/miniconda3/envs/sema_env/lib/python3.9/site-packages/sklearn/metrics/_ranking.py:804\u001b[0m, in \u001b[0;36m_binary_clf_curve\u001b[0;34m(y_true, y_score, pos_label, sample_weight)\u001b[0m\n\u001b[1;32m    802\u001b[0m y_type \u001b[39m=\u001b[39m type_of_target(y_true, input_name\u001b[39m=\u001b[39m\u001b[39m\"\u001b[39m\u001b[39my_true\u001b[39m\u001b[39m\"\u001b[39m)\n\u001b[1;32m    803\u001b[0m \u001b[39mif\u001b[39;00m \u001b[39mnot\u001b[39;00m (y_type \u001b[39m==\u001b[39m \u001b[39m\"\u001b[39m\u001b[39mbinary\u001b[39m\u001b[39m\"\u001b[39m \u001b[39mor\u001b[39;00m (y_type \u001b[39m==\u001b[39m \u001b[39m\"\u001b[39m\u001b[39mmulticlass\u001b[39m\u001b[39m\"\u001b[39m \u001b[39mand\u001b[39;00m pos_label \u001b[39mis\u001b[39;00m \u001b[39mnot\u001b[39;00m \u001b[39mNone\u001b[39;00m)):\n\u001b[0;32m--> 804\u001b[0m     \u001b[39mraise\u001b[39;00m \u001b[39mValueError\u001b[39;00m(\u001b[39m\"\u001b[39m\u001b[39m{0}\u001b[39;00m\u001b[39m format is not supported\u001b[39m\u001b[39m\"\u001b[39m\u001b[39m.\u001b[39mformat(y_type))\n\u001b[1;32m    806\u001b[0m check_consistent_length(y_true, y_score, sample_weight)\n\u001b[1;32m    807\u001b[0m y_true \u001b[39m=\u001b[39m column_or_1d(y_true)\n",
      "\u001b[0;31mValueError\u001b[0m: continuous format is not supported"
     ]
    }
   ],
   "source": [
    "np.concatenate(preds)\n",
    "fpr, tpr, thresholds = roc_curve(np.concatenate(preds), np.concatenate(labels), pos_label=2)"
   ]
  },
  {
   "cell_type": "code",
   "execution_count": 36,
   "id": "478d9471",
   "metadata": {},
   "outputs": [
    {
     "data": {
      "text/plain": [
       "array([0.19790691, 0.17728502, 0.12358756, ..., 0.40309232, 0.42081374,\n",
       "       0.40595084], dtype=float32)"
      ]
     },
     "execution_count": 36,
     "metadata": {},
     "output_type": "execute_result"
    }
   ],
   "source": [
    "np.concatenate(preds)"
   ]
  }
 ],
 "metadata": {
  "kernelspec": {
   "display_name": "sema_env",
   "language": "python",
   "name": "sema_env"
  },
  "language_info": {
   "codemirror_mode": {
    "name": "ipython",
    "version": 3
   },
   "file_extension": ".py",
   "mimetype": "text/x-python",
   "name": "python",
   "nbconvert_exporter": "python",
   "pygments_lexer": "ipython3",
   "version": "3.9.18"
  }
 },
 "nbformat": 4,
 "nbformat_minor": 5
}
