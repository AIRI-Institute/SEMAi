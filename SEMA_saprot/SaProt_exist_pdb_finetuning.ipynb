{
 "cells": [
  {
   "cell_type": "markdown",
   "id": "8b260ce8",
   "metadata": {},
   "source": [
    "# SEMA-3D"
   ]
  },
  {
   "cell_type": "markdown",
   "id": "b1314793",
   "metadata": {},
   "source": [
    "**SEMA-3D** is a fine-tuned ESM-IF1 model aimed to predict epitope resiudes based on therity structures"
   ]
  },
  {
   "cell_type": "markdown",
   "id": "d8641619",
   "metadata": {},
   "source": [
    "The MIT License (MIT)\n",
    "\n",
    "Copyright (c) 2016 AYLIEN\n",
    "\n",
    "Permission is hereby granted, free of charge, to any person obtaining a copy\n",
    "of this software and associated documentation files (the \"Software\"), to deal\n",
    "in the Software without restriction, including without limitation the rights\n",
    "to use, copy, modify, merge, publish, distribute, sublicense, and/or sell\n",
    "copies of the Software, and to permit persons to whom the Software is\n",
    "furnished to do so, subject to the following conditions:\n",
    "\n",
    "The above copyright notice and this permission notice shall be included in all\n",
    "copies or substantial portions of the Software.\n",
    "\n",
    "THE SOFTWARE IS PROVIDED \"AS IS\", WITHOUT WARRANTY OF ANY KIND, EXPRESS OR\n",
    "IMPLIED, INCLUDING BUT NOT LIMITED TO THE WARRANTIES OF MERCHANTABILITY,\n",
    "FITNESS FOR A PARTICULAR PURPOSE AND NONINFRINGEMENT. IN NO EVENT SHALL THE\n",
    "AUTHORS OR COPYRIGHT HOLDERS BE LIABLE FOR ANY CLAIM, DAMAGES OR OTHER\n",
    "LIABILITY, WHETHER IN AN ACTION OF CONTRACT, TORT OR OTHERWISE, ARISING FROM,\n",
    "OUT OF OR IN CONNECTION WITH THE SOFTWARE OR THE USE OR OTHER DEALINGS IN THE\n",
    "SOFTWARE."
   ]
  },
  {
   "cell_type": "markdown",
   "id": "af9e552b",
   "metadata": {},
   "source": [
    "### Finetuning ESM-IF1 for epitope prediction tasks"
   ]
  },
  {
   "cell_type": "code",
   "execution_count": 1,
   "id": "211e24f3",
   "metadata": {},
   "outputs": [],
   "source": [
    "import os\n",
    "# set cuda params\n",
    "# 'TORCH_HOME'directory will be used to save origenal esm-1v weights\n",
    "os.environ['TORCH_HOME'] = \"../torch_hub\"\n",
    "os.environ['CUDA_VISIBLE_DEVICES'] = \"1\""
   ]
  },
  {
   "cell_type": "code",
   "execution_count": 3,
   "id": "ba960ea6",
   "metadata": {},
   "outputs": [],
   "source": [
    "import scipy\n",
    "import sklearn\n",
    "import esm\n",
    "import pickle\n",
    "\n",
    "import pandas as pd\n",
    "import numpy as np\n",
    "\n",
    "import torch\n",
    "from torch.utils.data import Dataset\n",
    "from torch import nn\n",
    "import math\n",
    "\n",
    "import transformers\n",
    "from transformers.modeling_outputs import SequenceClassifierOutput\n",
    "from transformers import Trainer, TrainingArguments, EvalPrediction\n",
    "from transformers import EsmTokenizer, EsmForMaskedLM\n",
    "\n",
    "from esm.pretrained import load_model_and_alphabet_hub\n",
    "\n",
    "from sklearn.metrics import r2_score, mean_squared_error\n",
    "\n",
    "from saprot_utils.foldseek_util import get_struc_seq\n",
    "from pathlib import Path"
   ]
  },
  {
   "cell_type": "code",
   "execution_count": 4,
   "id": "fe30d66a",
   "metadata": {},
   "outputs": [],
   "source": [
    "def esmStructDataset(pdb_path, chain):\n",
    "    '''\n",
    "    Convert PDB-file into dataset format\n",
    "    \n",
    "        Parameters:\n",
    "            pdb_path (Path): path to pdb-file\n",
    "        Returns:\n",
    "            dict (dict): dictionary, where keys are properties of the protein's tertiary structure\n",
    "    '''\n",
    "    # parsed_seqs = get_struc_seq(\"bin/foldseek\", pdb_path, [\"A\"])[\"A\"]\n",
    "    parsed_seqs = get_struc_seq(\"saprot_utils/bin/foldseek\", pdb_path)[chain]\n",
    "    seq, foldseek_seq, combined_seq = parsed_seqs\n",
    "\n",
    "    return {\"seq\":seq,\n",
    "            \"foldseek_seq\":foldseek_seq,\n",
    "            \"combined_seq\":combined_seq}"
   ]
  },
  {
   "cell_type": "code",
   "execution_count": 5,
   "id": "f03890ce",
   "metadata": {},
   "outputs": [],
   "source": [
    "def create_Dataset(path='../data/pdb_structures.pkl'):\n",
    "    '''\n",
    "    Create dataset of protein's tertiary structure or load it form pickle-file\n",
    "        Parameters:\n",
    "            path (Path): path to pikle object with dataset of protein's tertiary structure\n",
    "        Returens:\n",
    "            esm_structs (dict): dataset of protein's tertiary structure\n",
    "    '''\n",
    "    esm_structs = pickle.load(open(path,'rb'))    \n",
    "    path_pdbs = Path(\"../data/structs_antigen_fab/\").glob(\"*.pdb\")\n",
    "\n",
    "    # # esm_structs = {}\n",
    "    for pdb_path in list(path_pdbs):\n",
    "        tmp_dict = esmStructDataset(pdb_path, esm_structs[pdb_path.name.split(\".pdb\")[0]]['chain'])\n",
    "        esm_structs[pdb_path.name.split(\".pdb\")[0]]['combined_seq'] = tmp_dict['combined_seq']\n",
    "        esm_structs[pdb_path.name.split(\".pdb\")[0]]['foldseek_seq'] = tmp_dict['foldseek_seq']\n",
    "    return esm_structs    "
   ]
  },
  {
   "cell_type": "code",
   "execution_count": 6,
   "id": "3ada7a1a",
   "metadata": {},
   "outputs": [],
   "source": [
    "def create_Dataset(path='../data/pdb_structures.pkl'):\n",
    "    '''\n",
    "    Create dataset of protein's tertiary structure or load it form pickle-file\n",
    "        Parameters:\n",
    "            path (Path): path to pikle object with dataset of protein's tertiary structure\n",
    "        Returens:\n",
    "            esm_structs (dict): dataset of protein's tertiary structure\n",
    "    '''\n",
    "    esm_structs = pickle.load(open(path,'rb'))    \n",
    "    path_pdbs = Path(\"../data/structs_antigen_fab/\").glob(\"*.pdb\")\n",
    "\n",
    "    # # esm_structs = {}\n",
    "    for pdb_path in list(path_pdbs):\n",
    "        tmp_dict = esmStructDataset(pdb_path, esm_structs[pdb_path.name.split(\".pdb\")[0]]['chain'])\n",
    "        esm_structs[pdb_path.name.split(\".pdb\")[0]]['combined_seq'] = tmp_dict['combined_seq']\n",
    "        esm_structs[pdb_path.name.split(\".pdb\")[0]]['foldseek_seq'] = tmp_dict['foldseek_seq']\n",
    "    return esm_structs    "
   ]
  },
  {
   "cell_type": "code",
   "execution_count": 7,
   "id": "941b969f",
   "metadata": {},
   "outputs": [],
   "source": [
    "class PDB_Dataset(Dataset):\n",
    "    \"\"\"\n",
    "    A class to represent a sutable data set for model. \n",
    "    \n",
    "    convert original pandas data frame to model set,\n",
    "    where 'token ids' is ESM-1v embedings corresponed to protein sequence (max length 1024 AA)\n",
    "    and 'lables' is a contact number values\n",
    "    Attributes:\n",
    "        df (pandas.DataFrame): dataframe with two columns: \n",
    "                0 -- preotein sequence in string ('GLVM') or list (['G', 'L', 'V', 'M']) format\n",
    "                1 -- contcat number values in list [0, 0.123, 0.23, -100, 1.34] format\n",
    "        esm1v_batch_converter (function):\n",
    "                    ESM function callable to convert an unprocessed (labels + strings) batch to a\n",
    "                    processed (labels + tensor) batch.\n",
    "        label_type (str):\n",
    "                type of model: regression or binary\n",
    "\n",
    "    \"\"\"\n",
    "    def __init__(self, df, label_type ='regression'):\n",
    "        \"\"\"\n",
    "        Construct all the necessary attributes to the PDB_Database object.\n",
    "        \n",
    "        Parameters:\n",
    "            df (pandas.DataFrame): dataframe with two columns: \n",
    "                0 -- protein sequence in string ('GLVM') or list (['G', 'L', 'V', 'M']) format\n",
    "                1 -- contcat number values in list [0, 0.123, 0.23, -100, 1.34] format\n",
    "            label_type (str):\n",
    "                type of model: regression or binary\n",
    "        \"\"\"\n",
    "        model_path = \"westlake-repl/SaProt_650M_PDB\"\n",
    "        self.tokenizer = EsmTokenizer.from_pretrained(model_path)\n",
    "\n",
    "        self.df = df\n",
    "        self.label_type = label_type\n",
    "\n",
    "    def __getitem__(self, idx):\n",
    "        item = {}\n",
    "        \n",
    "        # item['token_ids'] = self.tokenizer.tokenize(self.df.iloc[idx, 0][:1022])\n",
    "        item['token_ids'] = self.tokenizer(self.df.iloc[idx, 0][:2044], padding = False, return_tensors=\"pt\")['input_ids']\n",
    "        item['labels'] = torch.unsqueeze(torch.LongTensor(self.df.iloc[idx, 1][:1022]),0)\n",
    "\n",
    "        # print('PDB_Dataset pdb_id', self.df.iloc[idx, 2][:2048])\n",
    "        # print('PDB_Dataset seq', len(self.df.iloc[idx, 0][:2048]), self.df.iloc[idx, 0][:2048])\n",
    "        # print('PDB_Dataset token_ids', item['token_ids'].shape)\n",
    "        # print('PDB_Dataset labels', item['labels'].shape)\n",
    "        return item\n",
    "\n",
    "    def __len__(self):\n",
    "        return len(self.df)"
   ]
  },
  {
   "cell_type": "code",
   "execution_count": 8,
   "id": "c28d31ff",
   "metadata": {},
   "outputs": [],
   "source": [
    "class SaProtForTokenClassification(nn.Module):\n",
    "\n",
    "    def __init__(self, num_labels = 2):\n",
    "        super().__init__()\n",
    "        self.num_labels = num_labels\n",
    "        model_path = \"westlake-repl/SaProt_650M_PDB\"\n",
    "        self.encoder = EsmForMaskedLM.from_pretrained(model_path)\n",
    "\n",
    "        self.classifier = nn.Linear(446, self.num_labels)\n",
    "\n",
    "    def forward(self, token_ids, labels):\n",
    "        # print('SaProtForTokenClassification token_ids', token_ids.shape)\n",
    "        outputs = self.encoder(input_ids = token_ids)['logits']\n",
    "        # print('SaProtForTokenClassification encoder outputs', outputs.shape)\n",
    "        outputs = outputs[:,1:-1,:]\n",
    "        logits = self.classifier(outputs)\n",
    "        # print('logits', logits.shape)\n",
    "        # print('logits', logits)\n",
    "        return SequenceClassifierOutput(logits=logits)"
   ]
  },
  {
   "cell_type": "code",
   "execution_count": 9,
   "id": "7eaf4f68",
   "metadata": {},
   "outputs": [],
   "source": [
    "def compute_metrics_regr(p: EvalPrediction):\n",
    "    \n",
    "    preds = p.predictions[:,:,1]\n",
    "\n",
    "    batch_size, seq_len = preds.shape    \n",
    "    out_labels, out_preds = [], []\n",
    "\n",
    "    for i in range(batch_size):\n",
    "        for j in range(seq_len):\n",
    "            if p.label_ids[i, j] > -1:\n",
    "                out_labels.append(p.label_ids[i][j])\n",
    "                out_preds.append(preds[i][j])\n",
    "                \n",
    "    out_labels_regr = [math.log(t+1) for t in out_labels]\n",
    "\n",
    "    \n",
    "    return {\n",
    "        \"pearson_r\": scipy.stats.pearsonr(out_labels_regr, out_preds)[0],\n",
    "        \"mse\": mean_squared_error(out_labels_regr, out_preds),\n",
    "        \"r2_score\": r2_score(out_labels_regr, out_preds)\n",
    "    }\n"
   ]
  },
  {
   "cell_type": "code",
   "execution_count": 10,
   "id": "fac6df3b",
   "metadata": {},
   "outputs": [],
   "source": [
    "def model_init():\n",
    "    return SaProtForTokenClassification().cuda()"
   ]
  },
  {
   "cell_type": "code",
   "execution_count": 11,
   "id": "186cee5b",
   "metadata": {},
   "outputs": [],
   "source": [
    "class MaskedMSELoss(torch.nn.Module):\n",
    "    def __init__(self):\n",
    "        super(MaskedMSELoss, self).__init__()\n",
    "\n",
    "    def forward(self, inputs, target, mask):   \n",
    "        # print('loss inputs',inputs.shape, inputs)\n",
    "        # print('target',target.shape, target)\n",
    "        # print('mask',mask.shape)\n",
    "        diff2 = (torch.flatten(inputs[:,:,1]) - torch.flatten(target)) ** 2.0 * torch.flatten(mask)\n",
    "        result = torch.sum(diff2) / torch.sum(mask)\n",
    "        if torch.sum(mask)==0:\n",
    "            return torch.sum(diff2)\n",
    "        else:\n",
    "            #print('loss:', result)\n",
    "            return result\n",
    "\n",
    "    \n",
    "class MaskedRegressTrainer(Trainer):\n",
    "    def compute_loss(self, model, inputs, return_outputs=False):\n",
    "\n",
    "        # print('trainer inputs',inputs['token_ids'].shape, inputs['token_ids'])\n",
    "        # print('trainer labels',inputs['labels'].shape, inputs['labels'])\n",
    "        # # inputs = inputs[0]\n",
    "        # # labels = inputs.pop(\"labels\")\n",
    "        labels = inputs[\"labels\"]\n",
    "        labels = labels.squeeze().detach().cpu().numpy().tolist()\n",
    "        labels = [math.log(t+1) if t!=-100 else -100 for t in labels]\n",
    "        labels = torch.unsqueeze(torch.FloatTensor(labels), 0).cuda()\n",
    "        masks = ~torch.eq(labels, -100).cuda()\n",
    "        \n",
    "        #masks = inputs.pop(\"masks\")\n",
    "        outputs = model(**inputs)\n",
    "        logits = outputs.logits\n",
    "\n",
    "        loss_fn = MaskedMSELoss()\n",
    "        loss = loss_fn(logits, labels, masks)\n",
    "        \n",
    "        return (loss, outputs) if return_outputs else loss        \n",
    "        \n",
    "def collator_fn(x):\n",
    "    if len(x)==1:\n",
    "        return x[0]\n",
    "    # print('x:', x)\n",
    "    return x\n"
   ]
  },
  {
   "cell_type": "markdown",
   "id": "2f139141",
   "metadata": {},
   "source": [
    "## Data"
   ]
  },
  {
   "cell_type": "code",
   "execution_count": 13,
   "id": "a4d6268e",
   "metadata": {},
   "outputs": [],
   "source": [
    "esm_structs = create_Dataset(path='../data/pdb_structures_old.pkl')"
   ]
  },
  {
   "cell_type": "code",
   "execution_count": 14,
   "id": "4168b128",
   "metadata": {},
   "outputs": [
    {
     "name": "stdout",
     "output_type": "stream",
     "text": [
      "Number of structures: 15719\n"
     ]
    }
   ],
   "source": [
    "print('Number of structures:', len(esm_structs.keys()))"
   ]
  },
  {
   "cell_type": "code",
   "execution_count": 15,
   "id": "ddb3ac32",
   "metadata": {},
   "outputs": [
    {
     "name": "stdout",
     "output_type": "stream",
     "text": [
      "Init number of rows: 783\n",
      "number of pdbs to drop: 92\n",
      "number of rows to drop: 92\n",
      "End number of rows: 691\n"
     ]
    }
   ],
   "source": [
    "train_set = pd.read_csv('../data/train_set.csv')\n",
    "train_set = train_set.groupby('pdb_id_chain').agg({'resi_pos': list,\n",
    "                                 'resi_aa': list,\n",
    "                                 'resi_name': list,\n",
    "                                 'contact_number': list,\n",
    "                                 'contact_number_binary': list})\\\n",
    "                 .reset_index()\n",
    "\n",
    "print('Init number of rows:', train_set.shape[0])\n",
    "\n",
    "train_set['combined_seq'] = None\n",
    "to_drop = []\n",
    "for idx in train_set.index:\n",
    "    pdb = train_set.loc[idx, 'pdb_id_chain']\n",
    "    train_set.loc[idx, 'combined_seq'] = esm_structs[pdb]['combined_seq']\n",
    "\n",
    "    s = ''.join(train_set.loc[idx, 'resi_aa'])\n",
    "    n_s = train_set.loc[idx, 'combined_seq']\n",
    "    n_ss = n_s[::2]\n",
    "    if len(s) != len(n_ss):\n",
    "        to_drop.append(pdb)\n",
    "\n",
    "print('number of pdbs to drop:', len(to_drop))\n",
    "print('number of rows to drop:', train_set[train_set.pdb_id_chain.isin(to_drop)].shape[0])\n",
    "train_set = train_set[~train_set.pdb_id_chain.isin(to_drop)]\n",
    "print('End number of rows:', train_set.shape[0])\n",
    "\n",
    "\n",
    "train_ds = PDB_Dataset(train_set[['combined_seq', 'contact_number', 'pdb_id_chain']], \n",
    "                      label_type ='regression')"
   ]
  },
  {
   "cell_type": "code",
   "execution_count": 15,
   "id": "da4ea9fa",
   "metadata": {},
   "outputs": [],
   "source": [
    "# pdb = '7KBT_A_FE'\n",
    "# # train_set[train_set.pdb_id_chain == '5LDN_A_LH'].combined_seq.str.len()\n",
    "# labels = train_set[train_set.pdb_id_chain == pdb].contact_number.item()\n",
    "# s = ''.join(train_set[train_set.pdb_id_chain == pdb].resi_aa.item())\n",
    "# n_s = train_set[train_set.pdb_id_chain == pdb].combined_seq.item()\n",
    "# n_ss = n_s[::2]\n",
    "# print(s)\n",
    "# print(n_ss)\n",
    "# print(len(s), len(n_ss), len(labels))\n",
    "\n",
    "# # # train_set"
   ]
  },
  {
   "cell_type": "code",
   "execution_count": 16,
   "id": "b4fbf8bb",
   "metadata": {},
   "outputs": [
    {
     "name": "stdout",
     "output_type": "stream",
     "text": [
      "Init number of rows: 101\n",
      "number of pdbs to drop: 9\n",
      "number of rows to drop: 9\n",
      "End number of rows: 92\n"
     ]
    }
   ],
   "source": [
    "test_set = pd.read_csv('../data/test_set.csv')\n",
    "test_set = test_set.groupby('pdb_id_chain').agg({'resi_pos': list,\n",
    "                                 'resi_aa': list,\n",
    "                                 'resi_name': list,\n",
    "                                 'contact_number': list,\n",
    "                                 'contact_number_binary': list})\\\n",
    "                 .reset_index()\n",
    "\n",
    "print('Init number of rows:', test_set.shape[0])\n",
    "\n",
    "test_set['combined_seq'] = None\n",
    "to_drop = []\n",
    "for idx in test_set.index:\n",
    "    pdb = test_set.loc[idx, 'pdb_id_chain']\n",
    "    test_set.loc[idx, 'combined_seq'] = esm_structs[pdb]['combined_seq']\n",
    "\n",
    "    s = ''.join(test_set.loc[idx, 'resi_aa'])\n",
    "    n_s = test_set.loc[idx, 'combined_seq']\n",
    "    n_ss = n_s[::2]\n",
    "    if len(s) != len(n_ss):\n",
    "        to_drop.append(pdb)\n",
    "\n",
    "print('number of pdbs to drop:', len(to_drop))\n",
    "print('number of rows to drop:', test_set[test_set.pdb_id_chain.isin(to_drop)].shape[0])\n",
    "test_set = test_set[~test_set.pdb_id_chain.isin(to_drop)]\n",
    "print('End number of rows:', test_set.shape[0])\n",
    "\n",
    "test_ds = PDB_Dataset(test_set[['combined_seq', 'contact_number', 'pdb_id_chain']], \n",
    "                      label_type ='regression')"
   ]
  },
  {
   "cell_type": "markdown",
   "id": "fe128238",
   "metadata": {},
   "source": [
    "## Model training and test "
   ]
  },
  {
   "cell_type": "code",
   "execution_count": null,
   "id": "d506858d",
   "metadata": {},
   "outputs": [],
   "source": [
    "training_args = TrainingArguments(\n",
    "    output_dir='./results_fold' ,          # output directory\n",
    "    num_train_epochs=2,          # total number of training epochs\n",
    "    per_device_train_batch_size=1,   # batch size per device during training\n",
    "    per_device_eval_batch_size=1,   # batch size for evaluation\n",
    "    warmup_steps=20,                # number of warmup steps for learning rate scheduler\n",
    "    learning_rate=1e-05,             # learning rate\n",
    "    weight_decay=0.0,                # strength of weight decay\n",
    "    logging_dir='./logs',            # directory for storing logs\n",
    "    logging_steps=200,               # How often to print logs\n",
    "    save_strategy = \"no\",\n",
    "    do_train=True,                   # Perform training\n",
    "    do_eval=False,                    # Perform evaluation\n",
    "    evaluation_strategy=\"epoch\",     # evalute after each epoch\n",
    "    gradient_accumulation_steps=1,  # total number of steps before back propagation\n",
    "    fp16=False,                       # Use mixed precision\n",
    "    run_name=\"PDB_regr\",      # experiment name\n",
    "    seed=42,                         # Seed for experiment reproducibility\n",
    "    load_best_model_at_end=False,\n",
    "    metric_for_best_model=\"eval_r2\",\n",
    "    greater_is_better=True,\n",
    "\n",
    ")"
   ]
  },
  {
   "cell_type": "code",
   "execution_count": 18,
   "id": "db213ab6",
   "metadata": {},
   "outputs": [],
   "source": [
    "#create direactory to weights storage\n",
    "if not os.path.exists(\"../models/\"):\n",
    "    os.makedirs(\"../models/\")"
   ]
  },
  {
   "cell_type": "code",
   "execution_count": 19,
   "id": "2dd1e6b8",
   "metadata": {},
   "outputs": [],
   "source": [
    "torch.cuda.empty_cache()"
   ]
  },
  {
   "cell_type": "code",
   "execution_count": 21,
   "id": "b2cca9d2",
   "metadata": {},
   "outputs": [
    {
     "name": "stderr",
     "output_type": "stream",
     "text": [
      "Some weights of EsmForMaskedLM were not initialized from the model checkpoint at westlake-repl/SaProt_650M_PDB and are newly initialized: ['esm.contact_head.regression.bias', 'esm.embeddings.position_embeddings.weight', 'esm.contact_head.regression.weight']\n",
      "You should probably TRAIN this model on a down-stream task to be able to use it for predictions and inference.\n",
      "Detected kernel version 4.15.0, which is below the recommended minimum of 5.5.0; this can cause the process to hang. It is recommended to upgrade the kernel to the minimum version or higher.\n",
      "/tmp/ipykernel_2872/396736863.py:41: DeprecationWarning: an integer is required (got type float).  Implicit conversion to integers using __int__ is deprecated, and may be removed in a future version of Python.\n",
      "  item['labels'] = torch.unsqueeze(torch.LongTensor(self.df.iloc[idx, 1][:1022]),0)\n"
     ]
    },
    {
     "data": {
      "text/html": [
       "\n",
       "    <div>\n",
       "      \n",
       "      <progress value='2073' max='2073' style='width:300px; height:20px; vertical-align: middle;'></progress>\n",
       "      [2073/2073 08:22, Epoch 3/3]\n",
       "    </div>\n",
       "    <table border=\"1\" class=\"dataframe\">\n",
       "  <thead>\n",
       " <tr style=\"text-align: left;\">\n",
       "      <th>Epoch</th>\n",
       "      <th>Training Loss</th>\n",
       "      <th>Validation Loss</th>\n",
       "      <th>Pearson R</th>\n",
       "      <th>Mse</th>\n",
       "      <th>R2 Score</th>\n",
       "    </tr>\n",
       "  </thead>\n",
       "  <tbody>\n",
       "    <tr>\n",
       "      <td>1</td>\n",
       "      <td>0.205800</td>\n",
       "      <td>0.185335</td>\n",
       "      <td>0.217532</td>\n",
       "      <td>0.172641</td>\n",
       "      <td>-6.274330</td>\n",
       "    </tr>\n",
       "    <tr>\n",
       "      <td>2</td>\n",
       "      <td>0.176300</td>\n",
       "      <td>0.098038</td>\n",
       "      <td>0.227606</td>\n",
       "      <td>0.083671</td>\n",
       "      <td>-2.525531</td>\n",
       "    </tr>\n",
       "    <tr>\n",
       "      <td>3</td>\n",
       "      <td>0.167800</td>\n",
       "      <td>0.115015</td>\n",
       "      <td>0.240790</td>\n",
       "      <td>0.101489</td>\n",
       "      <td>-3.276303</td>\n",
       "    </tr>\n",
       "  </tbody>\n",
       "</table><p>"
      ],
      "text/plain": [
       "<IPython.core.display.HTML object>"
      ]
     },
     "metadata": {},
     "output_type": "display_data"
    },
    {
     "name": "stderr",
     "output_type": "stream",
     "text": [
      "/tmp/ipykernel_2872/396736863.py:41: DeprecationWarning: an integer is required (got type float).  Implicit conversion to integers using __int__ is deprecated, and may be removed in a future version of Python.\n",
      "  item['labels'] = torch.unsqueeze(torch.LongTensor(self.df.iloc[idx, 1][:1022]),0)\n",
      "/tmp/ipykernel_2872/396736863.py:41: DeprecationWarning: an integer is required (got type float).  Implicit conversion to integers using __int__ is deprecated, and may be removed in a future version of Python.\n",
      "  item['labels'] = torch.unsqueeze(torch.LongTensor(self.df.iloc[idx, 1][:1022]),0)\n"
     ]
    }
   ],
   "source": [
    "# torch.cuda.empty_cache()\n",
    "trainer = MaskedRegressTrainer(\n",
    "    model=model_init(),                 # the instantiated 🤗 Transformers model to be trained\n",
    "    args=training_args,                   # training arguments, defined above\n",
    "    train_dataset = train_ds,    # training dataset\n",
    "    eval_dataset  = test_ds,    # evaluation dataset\n",
    "    data_collator = collator_fn,\n",
    "    compute_metrics = compute_metrics_regr\n",
    ")\n",
    "trainer.train()\n",
    "\n",
    "#save weights\n",
    "torch.save(trainer.model.state_dict(), \"../models/sema_saprot_old_0.pth\")"
   ]
  },
  {
   "cell_type": "code",
   "execution_count": null,
   "id": "f82b9fcf",
   "metadata": {},
   "outputs": [],
   "source": []
  }
 ],
 "metadata": {
  "kernelspec": {
   "display_name": "Python 3 (ipykernel)",
   "language": "python",
   "name": "python3"
  },
  "language_info": {
   "codemirror_mode": {
    "name": "ipython",
    "version": 3
   },
   "file_extension": ".py",
   "mimetype": "text/x-python",
   "name": "python",
   "nbconvert_exporter": "python",
   "pygments_lexer": "ipython3",
   "version": "3.9.18"
  }
 },
 "nbformat": 4,
 "nbformat_minor": 5
}
