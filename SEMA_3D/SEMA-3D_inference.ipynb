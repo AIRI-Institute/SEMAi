{
 "cells": [
  {
   "cell_type": "markdown",
   "id": "53a5aea8",
   "metadata": {},
   "source": [
    "# SEMA-3D"
   ]
  },
  {
   "cell_type": "markdown",
   "id": "a64e2de7",
   "metadata": {},
   "source": [
    "The MIT License (MIT)\n",
    "\n",
    "Copyright (c) 2016 AYLIEN\n",
    "\n",
    "Permission is hereby granted, free of charge, to any person obtaining a copy\n",
    "of this software and associated documentation files (the \"Software\"), to deal\n",
    "in the Software without restriction, including without limitation the rights\n",
    "to use, copy, modify, merge, publish, distribute, sublicense, and/or sell\n",
    "copies of the Software, and to permit persons to whom the Software is\n",
    "furnished to do so, subject to the following conditions:\n",
    "\n",
    "The above copyright notice and this permission notice shall be included in all\n",
    "copies or substantial portions of the Software.\n",
    "\n",
    "THE SOFTWARE IS PROVIDED \"AS IS\", WITHOUT WARRANTY OF ANY KIND, EXPRESS OR\n",
    "IMPLIED, INCLUDING BUT NOT LIMITED TO THE WARRANTIES OF MERCHANTABILITY,\n",
    "FITNESS FOR A PARTICULAR PURPOSE AND NONINFRINGEMENT. IN NO EVENT SHALL THE\n",
    "AUTHORS OR COPYRIGHT HOLDERS BE LIABLE FOR ANY CLAIM, DAMAGES OR OTHER\n",
    "LIABILITY, WHETHER IN AN ACTION OF CONTRACT, TORT OR OTHERWISE, ARISING FROM,\n",
    "OUT OF OR IN CONNECTION WITH THE SOFTWARE OR THE USE OR OTHER DEALINGS IN THE\n",
    "SOFTWARE."
   ]
  },
  {
   "cell_type": "code",
   "execution_count": 1,
   "id": "15886186",
   "metadata": {},
   "outputs": [],
   "source": [
    "import os\n",
    "# set cuda params\n",
    "# 'TORCH_HOME'directory will be used to save origenal esm-1v weights\n",
    "os.environ['TORCH_HOME'] = \"../torch_hub\"\n",
    "os.environ['CUDA_VISIBLE_DEVICES'] = \"0\""
   ]
  },
  {
   "cell_type": "code",
   "execution_count": 2,
   "id": "54f2ba76",
   "metadata": {},
   "outputs": [],
   "source": [
    "import os\n",
    "import copy\n",
    "import math\n",
    "import json\n",
    "import pandas as pd\n",
    "import numpy as np\n",
    "import pickle\n",
    "import scipy\n",
    "\n",
    "from pathlib import Path\n",
    "from biotite.structure.residues import get_residues\n",
    "\n",
    "import esm\n",
    "from esm.data import BatchConverter\n",
    "from esm.inverse_folding.util import CoordBatchConverter\n",
    "\n",
    "import torch\n",
    "from torch.utils.data import Dataset\n",
    "from torch import nn\n",
    "from tqdm import tqdm\n",
    "\n",
    "import transformers\n",
    "from transformers.modeling_outputs import SequenceClassifierOutput\n",
    "from transformers import Trainer, TrainingArguments, EvalPrediction\n",
    "\n",
    "import sklearn\n",
    "import sklearn.metrics as metrics\n",
    "from sklearn.metrics import r2_score, mean_squared_error, auc, plot_precision_recall_curve"
   ]
  },
  {
   "cell_type": "code",
   "execution_count": 3,
   "id": "79230238",
   "metadata": {},
   "outputs": [],
   "source": [
    "def esmStructDataset(pdb_path,chain):\n",
    "    '''\n",
    "    Convert PDB-file into dataset format\n",
    "    \n",
    "        Parameters:\n",
    "            pdb_path (Path): path to pdb-file\n",
    "            chain (str): antigen chain name\n",
    "        Returns:\n",
    "            dict (dict): dictionary, where keys are properties of the protein's tertiary structure\n",
    "    '''\n",
    "    structure = esm.inverse_folding.util.load_structure(str(pdb_path), chain.upper())\n",
    "    resi_index = get_residues(structure)[0]\n",
    "    resi_aa    = get_residues(structure)[1]\n",
    "    resi_keys     = []\n",
    "    cn =[]\n",
    "    binary = []\n",
    "    for resi_index_,resi_aa_ in zip(get_residues(structure)[0],get_residues(structure)[1]):\n",
    "        key = (str(resi_aa_),resi_index_)\n",
    "        cn.append(None)\n",
    "        binary.append(None)\n",
    "        resi_keys.append(key)    \n",
    "    coords, seq = esm.inverse_folding.util.extract_coords_from_structure(structure)\n",
    "    return {\"pdb_id\":pdb_path,\"seq\":seq,\"chain\":chain,\"coords\":coords,\"cn\":cn,\"binary\":binary,\"residues\":resi_keys}"
   ]
  },
  {
   "cell_type": "code",
   "execution_count": 4,
   "id": "484f1690",
   "metadata": {},
   "outputs": [],
   "source": [
    "class ESM1vForTokenClassification(nn.Module):\n",
    "    def __init__(self, num_labels = 2):\n",
    "        super().__init__()\n",
    "        self.num_labels = num_labels    \n",
    "        self.esm1v, self.esm1v_alphabet = esm.pretrained.esm_if1_gvp4_t16_142M_UR50()\n",
    "        self.classifier = nn.Linear(512, self.num_labels)\n",
    "\n",
    "    def forward(self, coords, padding_mask, confidence, tokens):\n",
    "        prev_output_tokens = tokens[:, :-1]\n",
    "        target = tokens[:, 1:]\n",
    "        target_padding_mask = (target == alphabet.padding_idx)\n",
    "        feat, x = self.esm1v.forward(coords, padding_mask, confidence, prev_output_tokens, features_only = True)\n",
    "        f = feat[0,:,:]\n",
    "        tt = torch.transpose(feat,1,2)\n",
    "        logits = self.classifier(tt )\n",
    "        return SequenceClassifierOutput(logits=logits)    "
   ]
  },
  {
   "cell_type": "code",
   "execution_count": 5,
   "id": "0c2cee1a",
   "metadata": {},
   "outputs": [],
   "source": [
    "def loadModel(path = \"../models/sema_3d_cn_atom_r1_8.0_r2_18.0_0.pth\"):\n",
    "    model = ESM1vForTokenClassification().cuda()\n",
    "    model.load_state_dict(torch.load(path))\n",
    "    return model"
   ]
  },
  {
   "cell_type": "code",
   "execution_count": 6,
   "id": "b4878240",
   "metadata": {},
   "outputs": [
    {
     "name": "stderr",
     "output_type": "stream",
     "text": [
      "/mnt/10tb/tshashkova/esm_env3.9/lib/python3.8/site-packages/esm/pretrained.py:172: UserWarning: Regression weights not found, predicting contacts will not produce correct results.\n",
      "  warnings.warn(\n"
     ]
    }
   ],
   "source": [
    "model = loadModel()"
   ]
  },
  {
   "cell_type": "code",
   "execution_count": 7,
   "id": "41d6f976",
   "metadata": {},
   "outputs": [],
   "source": [
    "_, alphabet = esm.pretrained.esm_if1_gvp4_t16_142M_UR50()"
   ]
  },
  {
   "cell_type": "code",
   "execution_count": 8,
   "id": "2dade105",
   "metadata": {},
   "outputs": [],
   "source": [
    "def get_prediction(sema_models, PDB_path, chain):\n",
    "    struct = esmStructDataset(PDB_path, chain)\n",
    "    custom_seq = struct[\"seq\"]\n",
    "    batch = [(struct[\"coords\"], None, custom_seq)]\n",
    "    batch_converter = CoordBatchConverter(alphabet)\n",
    "    coords, confidence, strs, tokens, padding_mask = batch_converter(batch)\n",
    "    with torch.no_grad():\n",
    "        preds = []\n",
    "        for sema_model in sema_models:\n",
    "            pred = sema_model.forward(coords.cuda(),\n",
    "                                     padding_mask.cuda(),\n",
    "                                     confidence.cuda(),\n",
    "                                     tokens.cuda())\n",
    "            pred = pred.logits[:,:,1].squeeze().detach().cpu().numpy()\n",
    "            preds.append(pred)\n",
    "        pred = np.average(np.array(preds),axis=0)\n",
    "    return pred"
   ]
  },
  {
   "cell_type": "code",
   "execution_count": 9,
   "id": "37432cd0",
   "metadata": {},
   "outputs": [
    {
     "ename": "FileNotFoundError",
     "evalue": "[Errno 2] No such file or directory: '../data/test.pdb'",
     "output_type": "error",
     "traceback": [
      "\u001b[0;31m---------------------------------------------------------------------------\u001b[0m",
      "\u001b[0;31mFileNotFoundError\u001b[0m                         Traceback (most recent call last)",
      "Input \u001b[0;32mIn [9]\u001b[0m, in \u001b[0;36m<cell line: 1>\u001b[0;34m()\u001b[0m\n\u001b[0;32m----> 1\u001b[0m sema_predictions \u001b[38;5;241m=\u001b[39m \u001b[43mget_prediction\u001b[49m\u001b[43m(\u001b[49m\u001b[43m[\u001b[49m\u001b[43mmodel\u001b[49m\u001b[43m]\u001b[49m\u001b[43m,\u001b[49m\u001b[43m \u001b[49m\u001b[38;5;124;43m\"\u001b[39;49m\u001b[38;5;124;43m../data/test.pdb\u001b[39;49m\u001b[38;5;124;43m\"\u001b[39;49m\u001b[43m,\u001b[49m\u001b[43m \u001b[49m\u001b[38;5;124;43m\"\u001b[39;49m\u001b[38;5;124;43mA\u001b[39;49m\u001b[38;5;124;43m\"\u001b[39;49m\u001b[43m)\u001b[49m\n",
      "Input \u001b[0;32mIn [8]\u001b[0m, in \u001b[0;36mget_prediction\u001b[0;34m(sema_models, PDB_path, chain)\u001b[0m\n\u001b[1;32m      1\u001b[0m \u001b[38;5;28;01mdef\u001b[39;00m \u001b[38;5;21mget_prediction\u001b[39m(sema_models, PDB_path, chain):\n\u001b[0;32m----> 2\u001b[0m     struct \u001b[38;5;241m=\u001b[39m \u001b[43mesmStructDataset\u001b[49m\u001b[43m(\u001b[49m\u001b[43mPDB_path\u001b[49m\u001b[43m,\u001b[49m\u001b[43m \u001b[49m\u001b[43mchain\u001b[49m\u001b[43m)\u001b[49m\n\u001b[1;32m      3\u001b[0m     custom_seq \u001b[38;5;241m=\u001b[39m struct[\u001b[38;5;124m\"\u001b[39m\u001b[38;5;124mseq\u001b[39m\u001b[38;5;124m\"\u001b[39m]\n\u001b[1;32m      4\u001b[0m     batch \u001b[38;5;241m=\u001b[39m [(struct[\u001b[38;5;124m\"\u001b[39m\u001b[38;5;124mcoords\u001b[39m\u001b[38;5;124m\"\u001b[39m], \u001b[38;5;28;01mNone\u001b[39;00m, custom_seq)]\n",
      "Input \u001b[0;32mIn [3]\u001b[0m, in \u001b[0;36mesmStructDataset\u001b[0;34m(pdb_path, chain)\u001b[0m\n\u001b[1;32m      1\u001b[0m \u001b[38;5;28;01mdef\u001b[39;00m \u001b[38;5;21mesmStructDataset\u001b[39m(pdb_path,chain):\n\u001b[1;32m      2\u001b[0m     \u001b[38;5;124;03m'''\u001b[39;00m\n\u001b[1;32m      3\u001b[0m \u001b[38;5;124;03m    Convert PDB-file into dataset format\u001b[39;00m\n\u001b[1;32m      4\u001b[0m \u001b[38;5;124;03m    \u001b[39;00m\n\u001b[0;32m   (...)\u001b[0m\n\u001b[1;32m      9\u001b[0m \u001b[38;5;124;03m            dict (dict): dictionary, where keys are properties of the protein's tertiary structure\u001b[39;00m\n\u001b[1;32m     10\u001b[0m \u001b[38;5;124;03m    '''\u001b[39;00m\n\u001b[0;32m---> 11\u001b[0m     structure \u001b[38;5;241m=\u001b[39m \u001b[43mesm\u001b[49m\u001b[38;5;241;43m.\u001b[39;49m\u001b[43minverse_folding\u001b[49m\u001b[38;5;241;43m.\u001b[39;49m\u001b[43mutil\u001b[49m\u001b[38;5;241;43m.\u001b[39;49m\u001b[43mload_structure\u001b[49m\u001b[43m(\u001b[49m\u001b[38;5;28;43mstr\u001b[39;49m\u001b[43m(\u001b[49m\u001b[43mpdb_path\u001b[49m\u001b[43m)\u001b[49m\u001b[43m,\u001b[49m\u001b[43m \u001b[49m\u001b[43mchain\u001b[49m\u001b[38;5;241;43m.\u001b[39;49m\u001b[43mupper\u001b[49m\u001b[43m(\u001b[49m\u001b[43m)\u001b[49m\u001b[43m)\u001b[49m\n\u001b[1;32m     12\u001b[0m     resi_index \u001b[38;5;241m=\u001b[39m get_residues(structure)[\u001b[38;5;241m0\u001b[39m]\n\u001b[1;32m     13\u001b[0m     resi_aa    \u001b[38;5;241m=\u001b[39m get_residues(structure)[\u001b[38;5;241m1\u001b[39m]\n",
      "File \u001b[0;32m/mnt/10tb/tshashkova/esm_env3.9/lib/python3.8/site-packages/esm/inverse_folding/util.py:40\u001b[0m, in \u001b[0;36mload_structure\u001b[0;34m(fpath, chain)\u001b[0m\n\u001b[1;32m     38\u001b[0m     structure \u001b[38;5;241m=\u001b[39m pdbx\u001b[38;5;241m.\u001b[39mget_structure(pdbxf, model\u001b[38;5;241m=\u001b[39m\u001b[38;5;241m1\u001b[39m)\n\u001b[1;32m     39\u001b[0m \u001b[38;5;28;01melif\u001b[39;00m fpath\u001b[38;5;241m.\u001b[39mendswith(\u001b[38;5;124m'\u001b[39m\u001b[38;5;124mpdb\u001b[39m\u001b[38;5;124m'\u001b[39m):\n\u001b[0;32m---> 40\u001b[0m     \u001b[38;5;28;01mwith\u001b[39;00m \u001b[38;5;28;43mopen\u001b[39;49m\u001b[43m(\u001b[49m\u001b[43mfpath\u001b[49m\u001b[43m)\u001b[49m \u001b[38;5;28;01mas\u001b[39;00m fin:\n\u001b[1;32m     41\u001b[0m         pdbf \u001b[38;5;241m=\u001b[39m pdb\u001b[38;5;241m.\u001b[39mPDBFile\u001b[38;5;241m.\u001b[39mread(fin)\n\u001b[1;32m     42\u001b[0m     structure \u001b[38;5;241m=\u001b[39m pdb\u001b[38;5;241m.\u001b[39mget_structure(pdbf, model\u001b[38;5;241m=\u001b[39m\u001b[38;5;241m1\u001b[39m)\n",
      "\u001b[0;31mFileNotFoundError\u001b[0m: [Errno 2] No such file or directory: '../data/test.pdb'"
     ]
    }
   ],
   "source": [
    "sema_predictions = get_prediction([model], \"../data/test.pdb\", \"A\")"
   ]
  },
  {
   "cell_type": "code",
   "execution_count": null,
   "id": "e5a33193",
   "metadata": {},
   "outputs": [],
   "source": [
    "sema_predictions"
   ]
  },
  {
   "cell_type": "code",
   "execution_count": null,
   "id": "d51af2da",
   "metadata": {},
   "outputs": [],
   "source": []
  }
 ],
 "metadata": {
  "kernelspec": {
   "display_name": "Python 3 (ipykernel)",
   "language": "python",
   "name": "python3"
  },
  "language_info": {
   "codemirror_mode": {
    "name": "ipython",
    "version": 3
   },
   "file_extension": ".py",
   "mimetype": "text/x-python",
   "name": "python",
   "nbconvert_exporter": "python",
   "pygments_lexer": "ipython3",
   "version": "3.8.0"
  }
 },
 "nbformat": 4,
 "nbformat_minor": 5
}
