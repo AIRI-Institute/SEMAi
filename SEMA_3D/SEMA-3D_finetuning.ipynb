{
 "cells": [
  {
   "cell_type": "markdown",
   "id": "8b260ce8",
   "metadata": {},
   "source": [
    "# SEMA-3D"
   ]
  },
  {
   "cell_type": "markdown",
   "id": "b1314793",
   "metadata": {},
   "source": [
    "**SEMA-3D** is a fine-tuned ESM-IF1 model aimed to predict epitope resiudes based on therity structures"
   ]
  },
  {
   "cell_type": "markdown",
   "id": "d8641619",
   "metadata": {},
   "source": [
    "The MIT License (MIT)\n",
    "\n",
    "Copyright (c) 2016 AYLIEN\n",
    "\n",
    "Permission is hereby granted, free of charge, to any person obtaining a copy\n",
    "of this software and associated documentation files (the \"Software\"), to deal\n",
    "in the Software without restriction, including without limitation the rights\n",
    "to use, copy, modify, merge, publish, distribute, sublicense, and/or sell\n",
    "copies of the Software, and to permit persons to whom the Software is\n",
    "furnished to do so, subject to the following conditions:\n",
    "\n",
    "The above copyright notice and this permission notice shall be included in all\n",
    "copies or substantial portions of the Software.\n",
    "\n",
    "THE SOFTWARE IS PROVIDED \"AS IS\", WITHOUT WARRANTY OF ANY KIND, EXPRESS OR\n",
    "IMPLIED, INCLUDING BUT NOT LIMITED TO THE WARRANTIES OF MERCHANTABILITY,\n",
    "FITNESS FOR A PARTICULAR PURPOSE AND NONINFRINGEMENT. IN NO EVENT SHALL THE\n",
    "AUTHORS OR COPYRIGHT HOLDERS BE LIABLE FOR ANY CLAIM, DAMAGES OR OTHER\n",
    "LIABILITY, WHETHER IN AN ACTION OF CONTRACT, TORT OR OTHERWISE, ARISING FROM,\n",
    "OUT OF OR IN CONNECTION WITH THE SOFTWARE OR THE USE OR OTHER DEALINGS IN THE\n",
    "SOFTWARE."
   ]
  },
  {
   "cell_type": "markdown",
   "id": "af9e552b",
   "metadata": {},
   "source": [
    "### Finetuning ESM-IF1 for epitope prediction tasks"
   ]
  },
  {
   "cell_type": "code",
   "execution_count": null,
   "id": "211e24f3",
   "metadata": {},
   "outputs": [],
   "source": [
    "import os\n",
    "# set cuda params\n",
    "# 'TORCH_HOME'directory will be used to save origenal esm-1v weights\n",
    "os.environ['TORCH_HOME'] = \"../torch_hub\"\n",
    "os.environ['CUDA_VISIBLE_DEVICES'] = \"0\""
   ]
  },
  {
   "cell_type": "code",
   "execution_count": null,
   "id": "ba960ea6",
   "metadata": {},
   "outputs": [],
   "source": [
    "import copy\n",
    "import math\n",
    "import json\n",
    "import scipy\n",
    "import pickle\n",
    "\n",
    "import pandas as pd\n",
    "import numpy as np\n",
    "from pathlib import Path\n",
    "\n",
    "\n",
    "import esm\n",
    "from esm.data import BatchConverter\n",
    "from esm.inverse_folding.util import CoordBatchConverter\n",
    "\n",
    "import torch\n",
    "from torch.utils.data import Dataset\n",
    "from torch import nn\n",
    "from tqdm import tqdm\n",
    "\n",
    "import transformers\n",
    "from transformers.modeling_outputs import SequenceClassifierOutput\n",
    "from transformers import Trainer, TrainingArguments, EvalPrediction\n",
    "import scipy\n",
    "\n",
    "from biotite.structure.residues import get_residues\n",
    "\n",
    "import sklearn\n",
    "from sklearn.metrics import r2_score, mean_squared_error, auc, plot_precision_recall_curve\n",
    "from pathlib import Path"
   ]
  },
  {
   "cell_type": "code",
   "execution_count": null,
   "id": "fe30d66a",
   "metadata": {},
   "outputs": [],
   "source": [
    "def esmStructDataset(pdb_path):\n",
    "    '''\n",
    "    Convert PDB-file into dataset format\n",
    "    \n",
    "        Parameters:\n",
    "            pdb_path (Path): path to pdb-file\n",
    "        Returns:\n",
    "            dict (dict): dictionary, where keys are properties of the protein's tertiary structure\n",
    "    '''\n",
    "    entity = pdb_path.name.split(\".pdb\")[0]\n",
    "    pdb_id,chain,fab_chains = entity.split(\"_\")\n",
    "    if not os.path.exists(pdb_path):\n",
    "        print(\"missing \"+pdb_path)\n",
    "        return\n",
    "    print(pdb_path,chain.upper())\n",
    "    structure = esm.inverse_folding.util.load_structure(str(pdb_path), chain.upper())\n",
    "    resi_index = get_residues(structure)[0]\n",
    "    resi_aa    = get_residues(structure)[1]\n",
    "    resi_keys     = []\n",
    "    cn =[]\n",
    "    binary = []\n",
    "    for resi_index_,resi_aa_ in zip(get_residues(structure)[0],get_residues(structure)[1]):\n",
    "        key = (str(resi_aa_),resi_index_)\n",
    "        cn.append(None)\n",
    "        binary.append(None)\n",
    "        resi_keys.append(key)    \n",
    "    coords, seq = esm.inverse_folding.util.extract_coords_from_structure(structure)#structure)\n",
    "    return {\"pdb_id\":pdb_id,\"seq\":seq,\"chain\":chain,\"coords\":coords,\n",
    "            \"cn\":cn, #contact_number\n",
    "            \"binary\":binary,\"residues\":resi_keys}"
   ]
  },
  {
   "cell_type": "code",
   "execution_count": null,
   "id": "f03890ce",
   "metadata": {},
   "outputs": [],
   "source": [
    "def create_Dataset(path='../data/pdb_structures.pkl'):\n",
    "    '''\n",
    "    Create dataset of protein's tertiary structure or load it form pickle-file\n",
    "        Parameters:\n",
    "            path (Path): path to pikle object with dataset of protein's tertiary structure\n",
    "        Returens:\n",
    "            esm_structs (dict): dataset of protein's tertiary structure\n",
    "    '''\n",
    "    if not os.path.exists(path):\n",
    "        path_pdbs = Path(\"../data/structures_antigen_fab/\").glob(\"*.pdb\")\n",
    "        esm_structs = {}\n",
    "        for pdb_path in list(path_pdbs):\n",
    "            esm_structs[pdb_path.name.split(\".pdb\")[0]] = esmStructDataset(pdb_path)\n",
    "        pickle.dump(esm_structs,  open(path,'wb'))\n",
    "    else:\n",
    "        esm_structs = pickle.load(open(path,'rb'))\n",
    "    return esm_structs "
   ]
  },
  {
   "cell_type": "code",
   "execution_count": null,
   "id": "941b969f",
   "metadata": {},
   "outputs": [],
   "source": [
    "class epitopes_Dataset(Dataset):\n",
    "    def __init__(self, epitope_data):\n",
    "        self.epitope_data    = epitope_data\n",
    "        _, alphabet          = esm.pretrained.esm_if1_gvp4_t16_142M_UR50()\n",
    "        self.batch_converter = CoordBatchConverter(alphabet)\n",
    "\n",
    "    def __getitem__(self, idx):\n",
    "        item = {}\n",
    "        coords = self.epitope_data[idx][\"coords\"]\n",
    "        seq    = self.epitope_data[idx][\"seq\"]     \n",
    "        batch = [(coords, None, seq)]\n",
    "        coords, confidence, strs, tokens, padding_mask = self.batch_converter(batch)\n",
    "        item['coords'] = coords\n",
    "        item['confidence']= confidence\n",
    "        item['tokens'] = tokens\n",
    "        item['padding_mask'] = padding_mask\n",
    "        item['labels_cn'] = torch.unsqueeze(torch.LongTensor(self.epitope_data[idx][\"cn\"]), 0).to(torch.float32)\n",
    "        item['labels_binary'] = torch.unsqueeze(torch.LongTensor(self.epitope_data[idx][\"binary\"]), 0)\n",
    "\n",
    "        return item\n",
    "\n",
    "    def __len__(self):\n",
    "        return len(self.epitope_data)\n",
    "\n",
    "\n",
    "def prepareEsmDataset(dataset, structs_data):\n",
    "    dataset_esm = []\n",
    "    for k in dataset:\n",
    "        entity = dataset[k]\n",
    "        pdb_id = entity[\"pdb_id_chain\"]\n",
    "        assert pdb_id in structs_data\n",
    "        \n",
    "        struct_data = structs_data[pdb_id]\n",
    "        struct_data[\"cn\"] = [-100 for i in struct_data[\"residues\"]]\n",
    "        struct_data[\"binary\"] = [-100 for i in struct_data[\"residues\"]]\n",
    "\n",
    "        key_map = {(key[0],key[1]):i for i, key in enumerate(zip(entity['resi_name'],\n",
    "                                                                 entity['resi_pos']))\n",
    "                  } \n",
    " \n",
    "        for i,key in enumerate(struct_data[\"residues\"]):\n",
    "            key = (key[0],str(key[1]))\n",
    "            if key not in key_map:\n",
    "                struct_data[\"cn\"][i] = -100\n",
    "                continue\n",
    "            struct_data[\"cn\"][i]= entity['contact_number'][key_map[key]]\n",
    "            struct_data[\"binary\"][i]= entity['contact_number_binary'][key_map[key]]\n",
    "            \n",
    "\n",
    "        if len(struct_data[\"seq\"])>1500:\n",
    "            print(\"Skip long  \", pdb_id, len(struct_data[\"seq\"]))\n",
    "            continue\n",
    "        dataset_esm.append(struct_data)\n",
    "    \n",
    "    return epitopes_Dataset(dataset_esm)"
   ]
  },
  {
   "cell_type": "code",
   "execution_count": null,
   "id": "c28d31ff",
   "metadata": {},
   "outputs": [],
   "source": [
    "class ESM1vForTokenClassification(nn.Module):\n",
    "    def __init__(self, num_labels = 2):\n",
    "        super().__init__()\n",
    "        self.num_labels = num_labels    \n",
    "        self.esm1v, self.esm1v_alphabet = esm.pretrained.esm_if1_gvp4_t16_142M_UR50()\n",
    "        self.classifier = nn.Linear(512, self.num_labels)\n",
    "\n",
    "    def forward(self, coords, padding_mask, confidence, tokens):\n",
    "        prev_output_tokens = tokens[:, :-1]\n",
    "        target = tokens[:, 1:]\n",
    "        target_padding_mask = (target == alphabet.padding_idx)\n",
    "        feat, x = self.esm1v.forward(coords, padding_mask, confidence, prev_output_tokens, features_only = True)\n",
    "        f = feat[0,:,:]\n",
    "        tt = torch.transpose(feat,1,2)\n",
    "        logits = self.classifier(tt)\n",
    "        return SequenceClassifierOutput(logits=logits)     "
   ]
  },
  {
   "cell_type": "code",
   "execution_count": null,
   "id": "7eaf4f68",
   "metadata": {},
   "outputs": [],
   "source": [
    "def compute_metrics_quntative(p: EvalPrediction):\n",
    "    preds = p.predictions[:,:,1]\n",
    "    batch_size, seq_len = preds.shape\n",
    "    out_labels, out_preds = [], []\n",
    "    for i in range(batch_size):\n",
    "        for j in range(seq_len):\n",
    "            if p.label_ids[i, j] >= 0:\n",
    "                out_labels.append(p.label_ids[i][j])\n",
    "                out_preds.append(preds[i][j])\n",
    "    out_labels_regr = [math.log(t+1) for t in out_labels ]\n",
    "    return {\n",
    "        \"r2\": r2_score(out_labels_regr,  out_preds),\n",
    "        \"mse\": mean_squared_error(out_labels_regr,  out_preds)\n",
    "    }"
   ]
  },
  {
   "cell_type": "code",
   "execution_count": null,
   "id": "fac6df3b",
   "metadata": {},
   "outputs": [],
   "source": [
    "def model_init():\n",
    "    return ESM1vForTokenClassification().cuda()"
   ]
  },
  {
   "cell_type": "code",
   "execution_count": null,
   "id": "186cee5b",
   "metadata": {},
   "outputs": [],
   "source": [
    "class MaskedMSELoss(torch.nn.Module):\n",
    "    def __init__(self):\n",
    "        super(MaskedMSELoss, self).__init__()\n",
    "        \n",
    "    def forward(self, inputs, target, mask):\n",
    "        diff2 = (torch.flatten(inputs[:,:,1]) - torch.flatten(target)) ** 2.0 * torch.flatten(mask)\n",
    "        result = torch.sum(diff2) / torch.sum(mask)\n",
    "        if torch.sum(mask)==0:\n",
    "            return torch.sum(diff2)\n",
    "        else:\n",
    "            return result\n",
    "\n",
    "    \n",
    "class MaskedRegressTrainer(Trainer):\n",
    "    def compute_loss(self, model, inputs, return_outputs=False):\n",
    "        labels_cn = inputs.pop(\"labels_cn\")\n",
    "        labels_bin   = inputs.pop(\"labels_binary\")\n",
    "        outputs = model(**inputs)\n",
    "        logits = outputs.logits\n",
    "        masks = ~torch.eq(labels_cn, -100).cuda()\n",
    "        loss_fn = MaskedMSELoss()\n",
    "        loss = loss_fn(logits, labels_cn, masks)    \n",
    "        return (loss, outputs) if return_outputs else loss\n",
    "        \n",
    "def collator_fn(x):\n",
    "    if len(x)==1:\n",
    "        return x[0]\n",
    "    print('x:', x)\n",
    "    return x\n"
   ]
  },
  {
   "cell_type": "markdown",
   "id": "2f139141",
   "metadata": {},
   "source": [
    "## Data"
   ]
  },
  {
   "cell_type": "code",
   "execution_count": null,
   "id": "a4d6268e",
   "metadata": {},
   "outputs": [],
   "source": [
    "esm_structs = create_Dataset(path='../data/pdb_structures.pkl')"
   ]
  },
  {
   "cell_type": "code",
   "execution_count": null,
   "id": "4168b128",
   "metadata": {},
   "outputs": [],
   "source": [
    "print('Number of structures:', len(esm_structs.keys()))"
   ]
  },
  {
   "cell_type": "code",
   "execution_count": null,
   "id": "fe729e13",
   "metadata": {},
   "outputs": [],
   "source": [
    "train_set = pd.read_csv('../data/train_set.csv')\n",
    "\n",
    "train_set = train_set.groupby('pdb_id_chain').agg({'resi_pos': list,\n",
    "                                 'resi_aa': list,\n",
    "                                 'resi_name': list,\n",
    "                                 'contact_number': list,\n",
    "                                 'contact_number_binary': list})\\\n",
    "                 .reset_index()\\\n",
    "                 .to_dict(orient='index')\n",
    "## the first run will take about 5-10 minutes, because esm weights should be downloaded\n",
    "train_ds = prepareEsmDataset(train_set, esm_structs)"
   ]
  },
  {
   "cell_type": "code",
   "execution_count": null,
   "id": "b4fbf8bb",
   "metadata": {},
   "outputs": [],
   "source": [
    "test_set = pd.read_csv('../data/test_set.csv')\n",
    "test_set = test_set.groupby('pdb_id_chain').agg({'resi_pos': list,\n",
    "                                 'resi_aa': list,\n",
    "                                 'resi_name': list,\n",
    "                                 'contact_number': list,\n",
    "                                 'contact_number_binary': list})\\\n",
    "                 .reset_index()\\\n",
    "                 .to_dict(orient='index')\n",
    "test_ds = prepareEsmDataset(test_set, esm_structs)"
   ]
  },
  {
   "cell_type": "markdown",
   "id": "fe128238",
   "metadata": {},
   "source": [
    "## Model training and test "
   ]
  },
  {
   "cell_type": "code",
   "execution_count": null,
   "id": "d506858d",
   "metadata": {},
   "outputs": [],
   "source": [
    "training_args = TrainingArguments(\n",
    "    output_dir='./results_fold' ,          # output directory\n",
    "    num_train_epochs=2,          # total number of training epochs\n",
    "    per_device_train_batch_size=1,   # batch size per device during training\n",
    "    per_device_eval_batch_size=1,   # batch size for evaluation\n",
    "    warmup_steps=0,                # number of warmup steps for learning rate scheduler\n",
    "    learning_rate=1e-04,             # learning rate\n",
    "    weight_decay=0.0,                # strength of weight decay\n",
    "    logging_dir='./logs',            # directory for storing logs\n",
    "    logging_steps=200,               # How often to print logs\n",
    "    save_strategy = \"no\",\n",
    "    do_train=True,                   # Perform training\n",
    "    do_eval=False,                    # Perform evaluation\n",
    "    evaluation_strategy=\"epoch\",     # evalute after each epoch\n",
    "    gradient_accumulation_steps=1,  # total number of steps before back propagation\n",
    "    fp16=False,                       # Use mixed precision\n",
    "    run_name=\"PDB_regr\",      # experiment name\n",
    "    seed=42,                         # Seed for experiment reproducibility\n",
    "    load_best_model_at_end=False,\n",
    "    metric_for_best_model=\"eval_r2\",\n",
    "    greater_is_better=True,\n",
    "\n",
    ")"
   ]
  },
  {
   "cell_type": "code",
   "execution_count": null,
   "id": "db213ab6",
   "metadata": {},
   "outputs": [],
   "source": [
    "#create direactory to weights storage\n",
    "if not os.path.exists(\"../models/\"):\n",
    "    os.makedirs(\"../models/\")"
   ]
  },
  {
   "cell_type": "code",
   "execution_count": null,
   "id": "b2cca9d2",
   "metadata": {},
   "outputs": [],
   "source": [
    "# torch.cuda.empty_cache()\n",
    "trainer = MaskedRegressTrainer(\n",
    "    model=model_init(),                 # the instantiated 🤗 Transformers model to be trained\n",
    "    args=training_args,                   # training arguments, defined above\n",
    "    train_dataset = train_ds,    # training dataset\n",
    "    eval_dataset  = test_ds,    # evaluation dataset\n",
    "    data_collator = collator_fn,\n",
    "    compute_metrics = compute_metrics_quntative\n",
    ")\n",
    "trainer.train()\n",
    "\n",
    "#save weights\n",
    "# torch.save(trainer.model.state_dict(), \"../models/sema_3d_0.pth\")"
   ]
  },
  {
   "cell_type": "code",
   "execution_count": null,
   "id": "f82b9fcf",
   "metadata": {},
   "outputs": [],
   "source": []
  }
 ],
 "metadata": {
  "kernelspec": {
   "display_name": "Python 3 (ipykernel)",
   "language": "python",
   "name": "python3"
  },
  "language_info": {
   "codemirror_mode": {
    "name": "ipython",
    "version": 3
   },
   "file_extension": ".py",
   "mimetype": "text/x-python",
   "name": "python",
   "nbconvert_exporter": "python",
   "pygments_lexer": "ipython3",
   "version": "3.8.0"
  }
 },
 "nbformat": 4,
 "nbformat_minor": 5
}
