{
 "cells": [
  {
   "cell_type": "markdown",
   "id": "8b260ce8",
   "metadata": {},
   "source": [
    "# SEMA-3D"
   ]
  },
  {
   "cell_type": "markdown",
   "id": "b1314793",
   "metadata": {},
   "source": [
    "**SEMA-3D** is a fine-tuned ESM-IF1 model aimed to predict epitope resiudes based on therity structures"
   ]
  },
  {
   "cell_type": "markdown",
   "id": "d8641619",
   "metadata": {},
   "source": [
    "The MIT License (MIT)\n",
    "\n",
    "Copyright (c) 2016 AYLIEN\n",
    "\n",
    "Permission is hereby granted, free of charge, to any person obtaining a copy\n",
    "of this software and associated documentation files (the \"Software\"), to deal\n",
    "in the Software without restriction, including without limitation the rights\n",
    "to use, copy, modify, merge, publish, distribute, sublicense, and/or sell\n",
    "copies of the Software, and to permit persons to whom the Software is\n",
    "furnished to do so, subject to the following conditions:\n",
    "\n",
    "The above copyright notice and this permission notice shall be included in all\n",
    "copies or substantial portions of the Software.\n",
    "\n",
    "THE SOFTWARE IS PROVIDED \"AS IS\", WITHOUT WARRANTY OF ANY KIND, EXPRESS OR\n",
    "IMPLIED, INCLUDING BUT NOT LIMITED TO THE WARRANTIES OF MERCHANTABILITY,\n",
    "FITNESS FOR A PARTICULAR PURPOSE AND NONINFRINGEMENT. IN NO EVENT SHALL THE\n",
    "AUTHORS OR COPYRIGHT HOLDERS BE LIABLE FOR ANY CLAIM, DAMAGES OR OTHER\n",
    "LIABILITY, WHETHER IN AN ACTION OF CONTRACT, TORT OR OTHERWISE, ARISING FROM,\n",
    "OUT OF OR IN CONNECTION WITH THE SOFTWARE OR THE USE OR OTHER DEALINGS IN THE\n",
    "SOFTWARE."
   ]
  },
  {
   "cell_type": "markdown",
   "id": "af9e552b",
   "metadata": {},
   "source": [
    "### Finetuning ESM-IF1 for epitope prediction tasks"
   ]
  },
  {
   "cell_type": "code",
   "execution_count": 1,
   "id": "211e24f3",
   "metadata": {},
   "outputs": [],
   "source": [
    "import os\n",
    "# set cuda params\n",
    "# 'TORCH_HOME'directory will be used to save origenal esm-1v weights\n",
    "os.environ['TORCH_HOME'] = \"../torch_hub\"\n",
    "os.environ['CUDA_VISIBLE_DEVICES'] = \"0\""
   ]
  },
  {
   "cell_type": "code",
   "execution_count": 2,
   "id": "ba960ea6",
   "metadata": {},
   "outputs": [
    {
     "name": "stderr",
     "output_type": "stream",
     "text": [
      "/mnt/20tb/shevtsov/miniconda3/envs/sema_env/lib/python3.9/site-packages/tqdm/auto.py:21: TqdmWarning: IProgress not found. Please update jupyter and ipywidgets. See https://ipywidgets.readthedocs.io/en/stable/user_install.html\n",
      "  from .autonotebook import tqdm as notebook_tqdm\n"
     ]
    }
   ],
   "source": [
    "import copy\n",
    "import math\n",
    "import json\n",
    "import scipy\n",
    "import pickle\n",
    "\n",
    "import pandas as pd\n",
    "import numpy as np\n",
    "from pathlib import Path\n",
    "\n",
    "\n",
    "import esm\n",
    "from esm.data import BatchConverter\n",
    "from esm.inverse_folding.util import CoordBatchConverter\n",
    "\n",
    "import torch\n",
    "from torch.utils.data import Dataset\n",
    "from torch import nn\n",
    "from tqdm import tqdm\n",
    "\n",
    "import transformers\n",
    "from transformers.modeling_outputs import SequenceClassifierOutput\n",
    "from transformers import Trainer, TrainingArguments, EvalPrediction\n",
    "import scipy\n",
    "\n",
    "from biotite.structure.residues import get_residues\n",
    "\n",
    "import sklearn\n",
    "from sklearn.metrics import r2_score, mean_squared_error, auc, PrecisionRecallDisplay, precision_recall_curve\n",
    "# from scikitplot import plot_precision_recall\n",
    "\n",
    "from pathlib import Path"
   ]
  },
  {
   "cell_type": "code",
   "execution_count": 3,
   "id": "b6c0106f",
   "metadata": {},
   "outputs": [],
   "source": [
    "def esmStructDataset(pdb_path):\n",
    "    '''\n",
    "    Convert PDB-file into dataset format\n",
    "    \n",
    "        Parameters:\n",
    "            pdb_path (Path): path to pdb-file\n",
    "        Returns:\n",
    "            dict (dict): dictionary, where keys are properties of the protein's tertiary structure\n",
    "    '''\n",
    "    entity = pdb_path.name.split(\".pdb\")[0]\n",
    "    pdb_id,chain = entity.split(\"_\")\n",
    "    if not os.path.exists(pdb_path):\n",
    "        print(\"missing \"+pdb_path)\n",
    "        return\n",
    "    try:\n",
    "        structure = esm.inverse_folding.util.load_structure(str(pdb_path), chain.upper()) #chain.upper())\n",
    "    except:\n",
    "        structure = esm.inverse_folding.util.load_structure(str(pdb_path), chain.lower()) #chain.upper())\n",
    "    resi_index = get_residues(structure)[0]\n",
    "    resi_aa    = get_residues(structure)[1]\n",
    "    resi_keys     = []\n",
    "    cn =[]\n",
    "    binary = []\n",
    "    for resi_index_,resi_aa_ in zip(get_residues(structure)[0],get_residues(structure)[1]):\n",
    "        key = (str(resi_aa_),resi_index_)\n",
    "        cn.append(None)\n",
    "        binary.append(None)\n",
    "        resi_keys.append(key)    \n",
    "    coords, seq = esm.inverse_folding.util.extract_coords_from_structure(structure)#structure)\n",
    "    return {\"pdb_id\":pdb_id,\"seq\":seq,\"chain\":chain,\"coords\":coords,\n",
    "            \"cn\":cn, #contact_number\n",
    "            \"binary\":binary,\"residues\":resi_keys}"
   ]
  },
  {
   "cell_type": "code",
   "execution_count": 52,
   "id": "f03890ce",
   "metadata": {},
   "outputs": [],
   "source": [
    "def create_Dataset(path='../data/pdb_structures.pkl'):\n",
    "    '''\n",
    "    Create dataset of protein's tertiary structure or load it form pickle-file\n",
    "        Parameters:\n",
    "            path (Path): path to pikle object with dataset of protein's tertiary structure\n",
    "        Returens:\n",
    "            esm_structs (dict): dataset of protein's tertiary structure\n",
    "    '''\n",
    "    path_exist = True #False #os.path.exists(path)\n",
    "    if not path_exist:\n",
    "        # path_pdbs = Path(\"/mnt/nfs_protein/shevtsov/SEMA/dataset/3D/\").glob(\"*.pdb\")\n",
    "        path_pdbs = Path(\"../data/structs_antigen_fab/\").glob(\"*.pdb\")\n",
    "        esm_structs = {}\n",
    "        for pdb_path in list(path_pdbs):\n",
    "            esm_structs[pdb_path.name.split(\".pdb\")[0]] = esmStructDataset(pdb_path)\n",
    "        pickle.dump(esm_structs,  open(path,'wb'))\n",
    "    else:\n",
    "        esm_structs = pickle.load(open(path,'rb'))\n",
    "    return esm_structs"
   ]
  },
  {
   "cell_type": "code",
   "execution_count": 33,
   "id": "941b969f",
   "metadata": {},
   "outputs": [],
   "source": [
    "class epitopes_Dataset(Dataset):\n",
    "    def __init__(self, epitope_data):\n",
    "        self.epitope_data    = epitope_data\n",
    "        _, alphabet          = esm.pretrained.esm_if1_gvp4_t16_142M_UR50()\n",
    "        self.batch_converter = CoordBatchConverter(alphabet)\n",
    "\n",
    "    def __getitem__(self, idx):\n",
    "        item = {}\n",
    "        coords = self.epitope_data[idx][\"coords\"]\n",
    "        seq    = self.epitope_data[idx][\"seq\"]     \n",
    "        batch = [(coords, None, seq)]\n",
    "        coords, confidence, strs, tokens, padding_mask = self.batch_converter(batch)\n",
    "        item['seq'] = seq\n",
    "        item['coords'] = coords\n",
    "        item['confidence']= confidence\n",
    "        item['tokens'] = tokens\n",
    "        item['padding_mask'] = padding_mask\n",
    "        # discrete\n",
    "        # cn_log_e = np.log(10**np.array(self.epitope_data[idx][\"cn\"]))\n",
    "        # item['labels_cn'] =  torch.unsqueeze(torch.LongTensor(self.epitope_data[idx][\"cn\"]), 0).to(torch.float32)\n",
    "\n",
    "        item['labels_cn'] =  torch.unsqueeze(torch.tensor(self.epitope_data[idx][\"cn\"]), 0).to(torch.float32)\n",
    "        item['labels_binary'] =  torch.tensor([0]) #self.epitope_data[idx][\"binary\"] #torch.unsqueeze(torch.LongTensor(self.epitope_data[idx][\"binary\"]), 0)\n",
    "\n",
    "        return item\n",
    "\n",
    "    def __len__(self):\n",
    "        return len(self.epitope_data)\n",
    "\n",
    "\n",
    "def prepareEsmDataset(dataset, structs_data):\n",
    "    dataset_esm = []\n",
    "    bad_prots = []\n",
    "    for k in dataset:\n",
    "        entity = dataset[k]\n",
    "        pdb_id = entity[\"pdb_id_chain\"]\n",
    "        assert pdb_id in structs_data\n",
    "        struct_data = structs_data[pdb_id]\n",
    "        \n",
    "        if len(np.unique(entity['contact_number'])) == 1:\n",
    "            bad_prots.append(pdb_id)\n",
    "            continue\n",
    "\n",
    "        # struct_data[\"cn\"] = [i for i in entity[\"contact_number\"] if i != -100]\n",
    "        struct_data[\"cn\"] = [-100]* len(struct_data['residues'])\n",
    "        \n",
    "        key_map = {(key[0],key[1]):i for i, key in enumerate(zip(entity['resi_name'],\n",
    "                                                                 entity['resi_pos']))\n",
    "                  } \n",
    "    \n",
    "        for i,key in enumerate(struct_data[\"residues\"]):\n",
    "            key = (key[0],key[1])\n",
    "            if key not in key_map:\n",
    "                struct_data[\"cn\"][i] = -100\n",
    "                continue\n",
    "            struct_data[\"cn\"][i]= entity['contact_number'][key_map[key]]\n",
    "            # struct_data[\"binary\"][i]= entity['contact_number_binary'][key_map[key]]\n",
    "\n",
    "        assert len([i for i in struct_data[\"cn\"] if i != -100]) > 0, print(pdb_id + '\\n', key_map,'\\n', struct_data[\"residues\"], '\\n', struct_data[\"cn\"])\n",
    "        \n",
    "        if len(struct_data[\"seq\"])>1500:\n",
    "            print(\"Skip long  \", pdb_id, len(struct_data[\"seq\"]))\n",
    "            continue\n",
    "        dataset_esm.append(struct_data)\n",
    "\n",
    "    print('Number of proteins with invalid contact_number: ', {len(bad_prots)})\n",
    "    \n",
    "    return epitopes_Dataset(dataset_esm)"
   ]
  },
  {
   "cell_type": "code",
   "execution_count": 34,
   "id": "c28d31ff",
   "metadata": {},
   "outputs": [],
   "source": [
    "class ESM1vForTokenClassification(nn.Module):\n",
    "    def __init__(self, num_labels = 2):\n",
    "        super().__init__()\n",
    "        self.num_labels = num_labels    \n",
    "        self.esm1v, self.esm1v_alphabet = esm.pretrained.esm_if1_gvp4_t16_142M_UR50()\n",
    "        self.classifier = nn.Linear(512, self.num_labels)\n",
    "\n",
    "    def forward(self, coords, padding_mask, confidence, tokens, labels_cn, labels_binary, seq):\n",
    "\n",
    "        prev_output_tokens = tokens[:, :-1]\n",
    "        target = tokens[:, 1:]\n",
    "        target_padding_mask = (target == self.esm1v_alphabet.padding_idx)\n",
    "        feat, x = self.esm1v.forward(coords, padding_mask, confidence, prev_output_tokens, features_only = True)\n",
    "        f = feat[0,:,:]\n",
    "        tt = torch.transpose(feat,1,2)\n",
    "        logits = self.classifier(tt)\n",
    "        # print('forward logits', logits.shape)\n",
    "        return SequenceClassifierOutput(logits=logits)     "
   ]
  },
  {
   "cell_type": "code",
   "execution_count": 35,
   "id": "7eaf4f68",
   "metadata": {},
   "outputs": [],
   "source": [
    "def compute_metrics_quntative(p: EvalPrediction):\n",
    "    preds = p.predictions[:,:,1]\n",
    "    label_ids= p.label_ids[0]\n",
    "    # print('preds', preds)\n",
    "    # print('label_ids', label_ids)\n",
    "    batch_size, seq_len = preds.shape\n",
    "    out_labels, out_preds = [], []\n",
    "    for i in range(batch_size):\n",
    "        for j in range(seq_len):\n",
    "            if label_ids[i, j] >= 0:\n",
    "                out_labels.append(label_ids[i][j])\n",
    "                out_preds.append(preds[i][j])\n",
    "    # discret\n",
    "    out_labels_regr = [math.log(t+1) for t in out_labels]\n",
    "    # out_labels_regr = out_labels\n",
    "    return {\n",
    "        \"r2\": r2_score(out_labels_regr,  out_preds),\n",
    "        \"mse\": mean_squared_error(out_labels_regr,  out_preds)\n",
    "    }"
   ]
  },
  {
   "cell_type": "code",
   "execution_count": 36,
   "id": "fac6df3b",
   "metadata": {},
   "outputs": [],
   "source": [
    "def model_init():\n",
    "    return ESM1vForTokenClassification().cuda()"
   ]
  },
  {
   "cell_type": "code",
   "execution_count": 37,
   "id": "186cee5b",
   "metadata": {},
   "outputs": [],
   "source": [
    "class MaskedMSELoss(torch.nn.Module):\n",
    "    def __init__(self):\n",
    "        super(MaskedMSELoss, self).__init__()\n",
    "        \n",
    "    def forward(self, inputs, target, mask):\n",
    "\n",
    "        diff2 = (torch.flatten(inputs[:,:,1]) - torch.flatten(target)) ** 2.0 * torch.flatten(mask)\n",
    "        result = torch.sum(diff2) / torch.sum(mask)\n",
    "        if torch.sum(mask)==0:\n",
    "            return torch.sum(diff2)\n",
    "        else:\n",
    "            return result\n",
    "\n",
    "    \n",
    "class MaskedRegressTrainer(Trainer):\n",
    "    def compute_loss(self, model, inputs, return_outputs=False):\n",
    "\n",
    "        # labels_cn = inputs.pop(\"labels_cn\")\n",
    "        # labels_bin   = inputs.pop(\"labels_binary\")\n",
    "        labels_cn = inputs[\"labels_cn\"]\n",
    "        labels_bin   = inputs[\"labels_binary\"]\n",
    "        \n",
    "        outputs = model(**inputs)\n",
    "        logits = outputs.logits\n",
    "        masks = ~torch.eq(labels_cn, -100).cuda()\n",
    "        loss_fn = MaskedMSELoss()\n",
    "        loss = loss_fn(logits, labels_cn, masks)    \n",
    "        return (loss, outputs) if return_outputs else loss\n",
    "        \n",
    "def collator_fn(x):\n",
    "    if len(x)==1:\n",
    "        return x[0]\n",
    "    print('x:', x)\n",
    "    return x\n"
   ]
  },
  {
   "cell_type": "markdown",
   "id": "2f139141",
   "metadata": {},
   "source": [
    "## Data"
   ]
  },
  {
   "cell_type": "code",
   "execution_count": 38,
   "id": "a4d6268e",
   "metadata": {},
   "outputs": [],
   "source": [
    "esm_structs = create_Dataset(path='../data/pdb_structures.pkl')"
   ]
  },
  {
   "cell_type": "code",
   "execution_count": 39,
   "id": "4168b128",
   "metadata": {},
   "outputs": [],
   "source": [
    "print('Number of structures:', len(esm_structs.keys()))"
   ]
  },
  {
   "cell_type": "code",
   "execution_count": 57,
   "id": "5da3c290",
   "metadata": {},
   "outputs": [
    {
     "name": "stdout",
     "output_type": "stream",
     "text": [
      "Skip long   5I5K_A 1632\n",
      "Number of proteins with invalid contact_number:  {21}\n"
     ]
    },
    {
     "name": "stderr",
     "output_type": "stream",
     "text": [
      "/mnt/20tb/shevtsov/miniconda3/envs/sema_env/lib/python3.9/site-packages/esm/pretrained.py:215: UserWarning: Regression weights not found, predicting contacts will not produce correct results.\n",
      "  warnings.warn(\n"
     ]
    },
    {
     "name": "stdout",
     "output_type": "stream",
     "text": [
      "Number of proteins with invalid contact_number:  {0}\n"
     ]
    }
   ],
   "source": [
    "import json\n",
    "path = '/mnt/nfs_protein/ivanisenko/SEMA/dataset/SEMA_DS.json'\n",
    "def load_datasets(path, filtr_length):\n",
    "    with open(path, 'r') as file:\n",
    "        dataset = json.load(file)\n",
    "        dataset = pd.DataFrame(dataset)\n",
    "\n",
    "    dataset['pdb_id_chain'] = dataset['pdb_path'].str.split('/', expand = True)[2].str.split('.', expand = True)[0]\n",
    "    \n",
    "    if filtr_length:\n",
    "        dataset = dataset[dataset['seq'].str.len() >= filtr_length]\n",
    "\n",
    "    to_residue_name = lambda x: [i['residue_name'] if i != None else i for i in x]\n",
    "    to_residue_pos = lambda x: [i['residue_number'] if i != None else i for i in x]\n",
    "    dataset.loc[:, 'resi_name'] = dataset['residues'].apply(to_residue_name)\n",
    "    dataset.loc[:, 'resi_pos'] = dataset['residues'].apply(to_residue_pos)\n",
    "\n",
    "    train_set = dataset[dataset['ds_type'] == 'train']\n",
    "    # test_set = dataset[dataset['ds_type'] == 'test_new']\n",
    "    test_set = dataset[dataset['ds_type'] == 'test_original']\n",
    "\n",
    "    # train_set = train_set.iloc[0:10, :]\n",
    "    # test_set = test_set.iloc[0:10, :]\n",
    "\n",
    "    train_set = train_set.reset_index().to_dict(orient='index')\n",
    "    test_set = test_set.reset_index().to_dict(orient='index')\n",
    "\n",
    "    return train_set , test_set\n",
    "\n",
    "train_set , test_set = load_datasets(path, filtr_length = 0)\n",
    "\n",
    "train_ds = prepareEsmDataset(train_set, esm_structs)\n",
    "test_ds = prepareEsmDataset(test_set, esm_structs)"
   ]
  },
  {
   "cell_type": "code",
   "execution_count": 53,
   "id": "fe729e13",
   "metadata": {},
   "outputs": [
    {
     "name": "stdout",
     "output_type": "stream",
     "text": [
      "1AFV_B_MK\n",
      " {('PRO', '1'): 0, ('ILE', '2'): 1, ('VAL', '3'): 2, ('GLN', '4'): 3, ('ASN', '5'): 4, ('LEU', '6'): 5, ('GLN', '7'): 6, ('GLY', '8'): 7, ('GLN', '9'): 8, ('MET', '10'): 9, ('VAL', '11'): 10, ('HIS', '12'): 11, ('GLN', '13'): 12, ('ALA', '14'): 13, ('ILE', '15'): 14, ('SER', '16'): 15, ('PRO', '17'): 16, ('ARG', '18'): 17, ('THR', '19'): 18, ('LEU', '20'): 19, ('ASN', '21'): 20, ('ALA', '22'): 21, ('TRP', '23'): 22, ('VAL', '24'): 23, ('LYS', '25'): 24, ('VAL', '26'): 25, ('VAL', '27'): 26, ('GLU', '28'): 27, ('GLU', '29'): 28, ('LYS', '30'): 29, ('ALA', '31'): 30, ('PHE', '32'): 31, ('SER', '33'): 32, ('PRO', '34'): 33, ('GLU', '35'): 34, ('VAL', '36'): 35, ('ILE', '37'): 36, ('PRO', '38'): 37, ('MET', '39'): 38, ('PHE', '40'): 39, ('SER', '41'): 40, ('ALA', '42'): 41, ('LEU', '43'): 42, ('SER', '44'): 43, ('GLU', '45'): 44, ('GLY', '46'): 45, ('ALA', '47'): 46, ('THR', '48'): 47, ('PRO', '49'): 48, ('GLN', '50'): 49, ('ASP', '51'): 50, ('LEU', '52'): 51, ('ASN', '53'): 52, ('THR', '54'): 53, ('MET', '55'): 54, ('LEU', '56'): 55, ('ASN', '57'): 56, ('THR', '58'): 57, ('VAL', '59'): 58, ('GLY', '60'): 59, ('GLY', '61'): 60, ('HIS', '62'): 61, ('GLN', '63'): 62, ('ALA', '64'): 63, ('ALA', '65'): 64, ('MET', '66'): 65, ('GLN', '67'): 66, ('MET', '68'): 67, ('LEU', '69'): 68, ('LYS', '70'): 69, ('GLU', '71'): 70, ('THR', '72'): 71, ('ILE', '73'): 72, ('ASN', '74'): 73, ('GLU', '75'): 74, ('GLU', '76'): 75, ('ALA', '77'): 76, ('ALA', '78'): 77, ('GLU', '79'): 78, ('TRP', '80'): 79, ('ASP', '81'): 80, ('ARG', '82'): 81, ('LEU', '83'): 82, ('HIS', '84'): 83, ('PRO', '85'): 84, ('VAL', '86'): 85, ('HIS', '87'): 86, ('ALA', '88'): 87, ('GLY', '89'): 88, ('PRO', '90'): 89, ('ILE', '91'): 90, ('ALA', '92'): 91, ('PRO', '93'): 92, ('GLY', '94'): 93, ('GLN', '95'): 94, ('MET', '96'): 95, ('ARG', '97'): 96, ('GLU', '98'): 97, ('PRO', '99'): 98, ('ARG', '100'): 99, ('GLY', '101'): 100, ('SER', '102'): 101, ('ASP', '103'): 102, ('ILE', '104'): 103, ('ALA', '105'): 104, ('GLY', '106'): 105, ('THR', '107'): 106, ('THR', '108'): 107, ('SER', '109'): 108, ('THR', '110'): 109, ('LEU', '111'): 110, ('GLN', '112'): 111, ('GLU', '113'): 112, ('GLN', '114'): 113, ('ILE', '115'): 114, ('GLY', '116'): 115, ('TRP', '117'): 116, ('MET', '118'): 117, ('THR', '119'): 118, ('HIS', '120'): 119, ('ASN', '121'): 120, ('PRO', '122'): 121, ('PRO', '123'): 122, ('ILE', '124'): 123, ('PRO', '125'): 124, ('VAL', '126'): 125, ('GLY', '127'): 126, ('GLU', '128'): 127, ('ILE', '129'): 128, ('TYR', '130'): 129, ('LYS', '131'): 130, ('ARG', '132'): 131, ('TRP', '133'): 132, ('ILE', '134'): 133, ('ILE', '135'): 134, ('LEU', '136'): 135, ('GLY', '137'): 136, ('LEU', '138'): 137, ('ASN', '139'): 138, ('LYS', '140'): 139, ('ILE', '141'): 140, ('VAL', '142'): 141, ('ARG', '143'): 142, ('MET', '144'): 143, ('TYR', '145'): 144, ('SER', '146'): 145, ('PRO', '147'): 146, ('THR', '148'): 147, ('SER', '149'): 148, ('ILE', '150'): 149, ('LEU', '151'): 150} \n",
      " [('PRO', 1), ('ILE', 2), ('VAL', 3), ('GLN', 4), ('ASN', 5), ('LEU', 6), ('GLN', 7), ('GLY', 8), ('GLN', 9), ('MET', 10), ('VAL', 11), ('HIS', 12), ('GLN', 13), ('ALA', 14), ('ILE', 15), ('SER', 16), ('PRO', 17), ('ARG', 18), ('THR', 19), ('LEU', 20), ('ASN', 21), ('ALA', 22), ('TRP', 23), ('VAL', 24), ('LYS', 25), ('VAL', 26), ('VAL', 27), ('GLU', 28), ('GLU', 29), ('LYS', 30), ('ALA', 31), ('PHE', 32), ('SER', 33), ('PRO', 34), ('GLU', 35), ('VAL', 36), ('ILE', 37), ('PRO', 38), ('MET', 39), ('PHE', 40), ('SER', 41), ('ALA', 42), ('LEU', 43), ('SER', 44), ('GLU', 45), ('GLY', 46), ('ALA', 47), ('THR', 48), ('PRO', 49), ('GLN', 50), ('ASP', 51), ('LEU', 52), ('ASN', 53), ('THR', 54), ('MET', 55), ('LEU', 56), ('ASN', 57), ('THR', 58), ('VAL', 59), ('GLY', 60), ('GLY', 61), ('HIS', 62), ('GLN', 63), ('ALA', 64), ('ALA', 65), ('MET', 66), ('GLN', 67), ('MET', 68), ('LEU', 69), ('LYS', 70), ('GLU', 71), ('THR', 72), ('ILE', 73), ('ASN', 74), ('GLU', 75), ('GLU', 76), ('ALA', 77), ('ALA', 78), ('GLU', 79), ('TRP', 80), ('ASP', 81), ('ARG', 82), ('LEU', 83), ('HIS', 84), ('PRO', 85), ('VAL', 86), ('HIS', 87), ('ALA', 88), ('GLY', 89), ('PRO', 90), ('ILE', 91), ('ALA', 92), ('PRO', 93), ('GLY', 94), ('GLN', 95), ('MET', 96), ('ARG', 97), ('GLU', 98), ('PRO', 99), ('ARG', 100), ('GLY', 101), ('SER', 102), ('ASP', 103), ('ILE', 104), ('ALA', 105), ('GLY', 106), ('THR', 107), ('THR', 108), ('SER', 109), ('THR', 110), ('LEU', 111), ('GLN', 112), ('GLU', 113), ('GLN', 114), ('ILE', 115), ('GLY', 116), ('TRP', 117), ('MET', 118), ('THR', 119), ('HIS', 120), ('ASN', 121), ('PRO', 122), ('PRO', 123), ('ILE', 124), ('PRO', 125), ('VAL', 126), ('GLY', 127), ('GLU', 128), ('ILE', 129), ('TYR', 130), ('LYS', 131), ('ARG', 132), ('TRP', 133), ('ILE', 134), ('ILE', 135), ('LEU', 136), ('GLY', 137), ('LEU', 138), ('ASN', 139), ('LYS', 140), ('ILE', 141), ('VAL', 142), ('ARG', 143), ('MET', 144), ('TYR', 145), ('SER', 146), ('PRO', 147), ('THR', 148), ('SER', 149), ('ILE', 150), ('LEU', 151)] \n",
      " [-100, -100, -100, -100, -100, -100, -100, -100, -100, -100, -100, -100, -100, -100, -100, -100, -100, -100, -100, -100, -100, -100, -100, -100, -100, -100, -100, -100, -100, -100, -100, -100, -100, -100, -100, -100, -100, -100, -100, -100, -100, -100, -100, -100, -100, -100, -100, -100, -100, -100, -100, -100, -100, -100, -100, -100, -100, -100, -100, -100, -100, -100, -100, -100, -100, -100, -100, -100, -100, -100, -100, -100, -100, -100, -100, -100, -100, -100, -100, -100, -100, -100, -100, -100, -100, -100, -100, -100, -100, -100, -100, -100, -100, -100, -100, -100, -100, -100, -100, -100, -100, -100, -100, -100, -100, -100, -100, -100, -100, -100, -100, -100, -100, -100, -100, -100, -100, -100, -100, -100, -100, -100, -100, -100, -100, -100, -100, -100, -100, -100, -100, -100, -100, -100, -100, -100, -100, -100, -100, -100, -100, -100, -100, -100, -100, -100, -100, -100, -100, -100, -100]\n"
     ]
    },
    {
     "ename": "AssertionError",
     "evalue": "None",
     "output_type": "error",
     "traceback": [
      "\u001b[0;31m---------------------------------------------------------------------------\u001b[0m",
      "\u001b[0;31mAssertionError\u001b[0m                            Traceback (most recent call last)",
      "\u001b[1;32m/home/shevtsov/SEMAi/SEMA_3D/SEMA-3D_finetuning.ipynb Cell 18\u001b[0m line \u001b[0;36m1\n\u001b[1;32m      <a href='vscode-notebook-cell://ssh-remote%2B7b22686f73744e616d65223a223139322e3136382e31382e3230222c2275736572223a227368657674736f76227d/home/shevtsov/SEMAi/SEMA_3D/SEMA-3D_finetuning.ipynb#X24sdnNjb2RlLXJlbW90ZQ%3D%3D?line=2'>3</a>\u001b[0m train_set \u001b[39m=\u001b[39m pd\u001b[39m.\u001b[39mread_csv(\u001b[39m'\u001b[39m\u001b[39m../data/train_set.csv\u001b[39m\u001b[39m'\u001b[39m)\n\u001b[1;32m      <a href='vscode-notebook-cell://ssh-remote%2B7b22686f73744e616d65223a223139322e3136382e31382e3230222c2275736572223a227368657674736f76227d/home/shevtsov/SEMAi/SEMA_3D/SEMA-3D_finetuning.ipynb#X24sdnNjb2RlLXJlbW90ZQ%3D%3D?line=4'>5</a>\u001b[0m train_set \u001b[39m=\u001b[39m train_set\u001b[39m.\u001b[39mgroupby(\u001b[39m'\u001b[39m\u001b[39mpdb_id_chain\u001b[39m\u001b[39m'\u001b[39m)\u001b[39m.\u001b[39magg({\u001b[39m'\u001b[39m\u001b[39mresi_pos\u001b[39m\u001b[39m'\u001b[39m: \u001b[39mlist\u001b[39m,\n\u001b[1;32m      <a href='vscode-notebook-cell://ssh-remote%2B7b22686f73744e616d65223a223139322e3136382e31382e3230222c2275736572223a227368657674736f76227d/home/shevtsov/SEMAi/SEMA_3D/SEMA-3D_finetuning.ipynb#X24sdnNjb2RlLXJlbW90ZQ%3D%3D?line=5'>6</a>\u001b[0m                                  \u001b[39m'\u001b[39m\u001b[39mresi_aa\u001b[39m\u001b[39m'\u001b[39m: \u001b[39mlist\u001b[39m,\n\u001b[1;32m      <a href='vscode-notebook-cell://ssh-remote%2B7b22686f73744e616d65223a223139322e3136382e31382e3230222c2275736572223a227368657674736f76227d/home/shevtsov/SEMAi/SEMA_3D/SEMA-3D_finetuning.ipynb#X24sdnNjb2RlLXJlbW90ZQ%3D%3D?line=6'>7</a>\u001b[0m                                  \u001b[39m'\u001b[39m\u001b[39mresi_name\u001b[39m\u001b[39m'\u001b[39m: \u001b[39mlist\u001b[39m,\n\u001b[0;32m   (...)\u001b[0m\n\u001b[1;32m     <a href='vscode-notebook-cell://ssh-remote%2B7b22686f73744e616d65223a223139322e3136382e31382e3230222c2275736572223a227368657674736f76227d/home/shevtsov/SEMAi/SEMA_3D/SEMA-3D_finetuning.ipynb#X24sdnNjb2RlLXJlbW90ZQ%3D%3D?line=9'>10</a>\u001b[0m                  \u001b[39m.\u001b[39mreset_index()\\\n\u001b[1;32m     <a href='vscode-notebook-cell://ssh-remote%2B7b22686f73744e616d65223a223139322e3136382e31382e3230222c2275736572223a227368657674736f76227d/home/shevtsov/SEMAi/SEMA_3D/SEMA-3D_finetuning.ipynb#X24sdnNjb2RlLXJlbW90ZQ%3D%3D?line=10'>11</a>\u001b[0m                  \u001b[39m.\u001b[39mto_dict(orient\u001b[39m=\u001b[39m\u001b[39m'\u001b[39m\u001b[39mindex\u001b[39m\u001b[39m'\u001b[39m)\n\u001b[0;32m---> <a href='vscode-notebook-cell://ssh-remote%2B7b22686f73744e616d65223a223139322e3136382e31382e3230222c2275736572223a227368657674736f76227d/home/shevtsov/SEMAi/SEMA_3D/SEMA-3D_finetuning.ipynb#X24sdnNjb2RlLXJlbW90ZQ%3D%3D?line=12'>13</a>\u001b[0m train_ds \u001b[39m=\u001b[39m prepareEsmDataset(train_set, esm_structs)\n\u001b[1;32m     <a href='vscode-notebook-cell://ssh-remote%2B7b22686f73744e616d65223a223139322e3136382e31382e3230222c2275736572223a227368657674736f76227d/home/shevtsov/SEMAi/SEMA_3D/SEMA-3D_finetuning.ipynb#X24sdnNjb2RlLXJlbW90ZQ%3D%3D?line=13'>14</a>\u001b[0m \u001b[39m## the first run will take about 5-10 minutes, because esm weights should be downloaded\u001b[39;00m\n\u001b[1;32m     <a href='vscode-notebook-cell://ssh-remote%2B7b22686f73744e616d65223a223139322e3136382e31382e3230222c2275736572223a227368657674736f76227d/home/shevtsov/SEMAi/SEMA_3D/SEMA-3D_finetuning.ipynb#X24sdnNjb2RlLXJlbW90ZQ%3D%3D?line=14'>15</a>\u001b[0m \u001b[39m# \u001b[39;00m\n\u001b[1;32m     <a href='vscode-notebook-cell://ssh-remote%2B7b22686f73744e616d65223a223139322e3136382e31382e3230222c2275736572223a227368657674736f76227d/home/shevtsov/SEMAi/SEMA_3D/SEMA-3D_finetuning.ipynb#X24sdnNjb2RlLXJlbW90ZQ%3D%3D?line=16'>17</a>\u001b[0m test_set \u001b[39m=\u001b[39m pd\u001b[39m.\u001b[39mread_csv(\u001b[39m'\u001b[39m\u001b[39m../data/test_set.csv\u001b[39m\u001b[39m'\u001b[39m)\n",
      "\u001b[1;32m/home/shevtsov/SEMAi/SEMA_3D/SEMA-3D_finetuning.ipynb Cell 18\u001b[0m line \u001b[0;36m5\n\u001b[1;32m     <a href='vscode-notebook-cell://ssh-remote%2B7b22686f73744e616d65223a223139322e3136382e31382e3230222c2275736572223a227368657674736f76227d/home/shevtsov/SEMAi/SEMA_3D/SEMA-3D_finetuning.ipynb#X24sdnNjb2RlLXJlbW90ZQ%3D%3D?line=55'>56</a>\u001b[0m     struct_data[\u001b[39m\"\u001b[39m\u001b[39mcn\u001b[39m\u001b[39m\"\u001b[39m][i]\u001b[39m=\u001b[39m entity[\u001b[39m'\u001b[39m\u001b[39mcontact_number\u001b[39m\u001b[39m'\u001b[39m][key_map[key]]\n\u001b[1;32m     <a href='vscode-notebook-cell://ssh-remote%2B7b22686f73744e616d65223a223139322e3136382e31382e3230222c2275736572223a227368657674736f76227d/home/shevtsov/SEMAi/SEMA_3D/SEMA-3D_finetuning.ipynb#X24sdnNjb2RlLXJlbW90ZQ%3D%3D?line=56'>57</a>\u001b[0m     \u001b[39m# struct_data[\"binary\"][i]= entity['contact_number_binary'][key_map[key]]\u001b[39;00m\n\u001b[0;32m---> <a href='vscode-notebook-cell://ssh-remote%2B7b22686f73744e616d65223a223139322e3136382e31382e3230222c2275736572223a227368657674736f76227d/home/shevtsov/SEMAi/SEMA_3D/SEMA-3D_finetuning.ipynb#X24sdnNjb2RlLXJlbW90ZQ%3D%3D?line=58'>59</a>\u001b[0m \u001b[39massert\u001b[39;00m \u001b[39mlen\u001b[39m([i \u001b[39mfor\u001b[39;00m i \u001b[39min\u001b[39;00m struct_data[\u001b[39m\"\u001b[39m\u001b[39mcn\u001b[39m\u001b[39m\"\u001b[39m] \u001b[39mif\u001b[39;00m i \u001b[39m!=\u001b[39m \u001b[39m-\u001b[39m\u001b[39m100\u001b[39m]) \u001b[39m>\u001b[39m \u001b[39m0\u001b[39m, \u001b[39mprint\u001b[39m(pdb_id \u001b[39m+\u001b[39m \u001b[39m'\u001b[39m\u001b[39m\\n\u001b[39;00m\u001b[39m'\u001b[39m, key_map,\u001b[39m'\u001b[39m\u001b[39m\\n\u001b[39;00m\u001b[39m'\u001b[39m, struct_data[\u001b[39m\"\u001b[39m\u001b[39mresidues\u001b[39m\u001b[39m\"\u001b[39m], \u001b[39m'\u001b[39m\u001b[39m\\n\u001b[39;00m\u001b[39m'\u001b[39m, struct_data[\u001b[39m\"\u001b[39m\u001b[39mcn\u001b[39m\u001b[39m\"\u001b[39m])\n\u001b[1;32m     <a href='vscode-notebook-cell://ssh-remote%2B7b22686f73744e616d65223a223139322e3136382e31382e3230222c2275736572223a227368657674736f76227d/home/shevtsov/SEMAi/SEMA_3D/SEMA-3D_finetuning.ipynb#X24sdnNjb2RlLXJlbW90ZQ%3D%3D?line=60'>61</a>\u001b[0m \u001b[39mif\u001b[39;00m \u001b[39mlen\u001b[39m(struct_data[\u001b[39m\"\u001b[39m\u001b[39mseq\u001b[39m\u001b[39m\"\u001b[39m])\u001b[39m>\u001b[39m\u001b[39m1500\u001b[39m:\n\u001b[1;32m     <a href='vscode-notebook-cell://ssh-remote%2B7b22686f73744e616d65223a223139322e3136382e31382e3230222c2275736572223a227368657674736f76227d/home/shevtsov/SEMAi/SEMA_3D/SEMA-3D_finetuning.ipynb#X24sdnNjb2RlLXJlbW90ZQ%3D%3D?line=61'>62</a>\u001b[0m     \u001b[39mprint\u001b[39m(\u001b[39m\"\u001b[39m\u001b[39mSkip long  \u001b[39m\u001b[39m\"\u001b[39m, pdb_id, \u001b[39mlen\u001b[39m(struct_data[\u001b[39m\"\u001b[39m\u001b[39mseq\u001b[39m\u001b[39m\"\u001b[39m]))\n",
      "\u001b[0;31mAssertionError\u001b[0m: None"
     ]
    }
   ],
   "source": [
    "# esm_structs = create_Dataset(path='../data/pdb_structures_old.pkl')\n",
    "\n",
    "# train_set = pd.read_csv('../data/train_set.csv')\n",
    "\n",
    "# train_set = train_set.groupby('pdb_id_chain').agg({'resi_pos': list,\n",
    "#                                  'resi_aa': list,\n",
    "#                                  'resi_name': list,\n",
    "#                                  'contact_number': list,\n",
    "#                                  'contact_number_binary': list})\\\n",
    "#                  .reset_index()\\\n",
    "#                  .to_dict(orient='index')\n",
    "\n",
    "# train_ds = prepareEsmDataset(train_set, esm_structs)\n",
    "# ## the first run will take about 5-10 minutes, because esm weights should be downloaded\n",
    "# # \n",
    "\n",
    "# test_set = pd.read_csv('../data/test_set.csv')\n",
    "# test_set = test_set.groupby('pdb_id_chain').agg({'resi_pos': list,\n",
    "#                                  'resi_aa': list,\n",
    "#                                  'resi_name': list,\n",
    "#                                  'contact_number': list,\n",
    "#                                  'contact_number_binary': list})\\\n",
    "#                  .reset_index()\\\n",
    "#                  .to_dict(orient='index')\n",
    "\n",
    "# # test_set = {k: test_set[k] for k in range(10)}\n",
    "# test_ds = prepareEsmDataset(test_set, esm_structs)"
   ]
  },
  {
   "cell_type": "code",
   "execution_count": 41,
   "id": "ad873b57",
   "metadata": {},
   "outputs": [
    {
     "data": {
      "text/plain": [
       "{}"
      ]
     },
     "execution_count": 41,
     "metadata": {},
     "output_type": "execute_result"
    }
   ],
   "source": [
    "esm_structs"
   ]
  },
  {
   "cell_type": "markdown",
   "id": "fe128238",
   "metadata": {},
   "source": [
    "## Model training and test "
   ]
  },
  {
   "cell_type": "code",
   "execution_count": null,
   "id": "d506858d",
   "metadata": {},
   "outputs": [],
   "source": [
    "training_args = TrainingArguments(\n",
    "    output_dir='./results_fold' ,          # output directory\n",
    "    num_train_epochs=2,          # total number of training epochs\n",
    "    per_device_train_batch_size=1,   # batch size per device during training\n",
    "    per_device_eval_batch_size=1,   # batch size for evaluation\n",
    "    warmup_steps=0,                # number of warmup steps for learning rate scheduler\n",
    "    learning_rate=1e-04,             # learning rate\n",
    "    weight_decay=0.0,                # strength of weight decay\n",
    "    logging_dir='./logs',            # directory for storing logs\n",
    "    logging_steps=200,               # How often to print logs\n",
    "    save_strategy = \"no\",\n",
    "    do_train=True,                   # Perform training\n",
    "    do_eval=False,                    # Perform evaluation\n",
    "    evaluation_strategy=\"epoch\",     # evalute after each epoch\n",
    "    gradient_accumulation_steps=1,  # total number of steps before back propagation\n",
    "    fp16=False,                       # Use mixed precision\n",
    "    run_name=\"PDB_regr\",      # experiment name\n",
    "    seed=42,                         # Seed for experiment reproducibility\n",
    "    load_best_model_at_end=False,\n",
    "    metric_for_best_model=\"eval_r2\",\n",
    "    greater_is_better=True,\n",
    "\n",
    ")"
   ]
  },
  {
   "cell_type": "code",
   "execution_count": null,
   "id": "db213ab6",
   "metadata": {},
   "outputs": [],
   "source": [
    "#create direactory to weights storage\n",
    "if not os.path.exists(\"../models/\"):\n",
    "    os.makedirs(\"../models/\")"
   ]
  },
  {
   "cell_type": "code",
   "execution_count": null,
   "id": "b2cca9d2",
   "metadata": {},
   "outputs": [
    {
     "name": "stderr",
     "output_type": "stream",
     "text": [
      "Detected kernel version 4.15.0, which is below the recommended minimum of 5.5.0; this can cause the process to hang. It is recommended to upgrade the kernel to the minimum version or higher.\n"
     ]
    },
    {
     "data": {
      "text/html": [
       "\n",
       "    <div>\n",
       "      \n",
       "      <progress value='2290' max='2290' style='width:300px; height:20px; vertical-align: middle;'></progress>\n",
       "      [2290/2290 08:05, Epoch 2/2]\n",
       "    </div>\n",
       "    <table border=\"1\" class=\"dataframe\">\n",
       "  <thead>\n",
       " <tr style=\"text-align: left;\">\n",
       "      <th>Epoch</th>\n",
       "      <th>Training Loss</th>\n",
       "      <th>Validation Loss</th>\n",
       "      <th>R2</th>\n",
       "      <th>Mse</th>\n",
       "    </tr>\n",
       "  </thead>\n",
       "  <tbody>\n",
       "    <tr>\n",
       "      <td>1</td>\n",
       "      <td>0.128300</td>\n",
       "      <td>0.143908</td>\n",
       "      <td>-0.165610</td>\n",
       "      <td>0.091718</td>\n",
       "    </tr>\n",
       "    <tr>\n",
       "      <td>2</td>\n",
       "      <td>0.108000</td>\n",
       "      <td>0.138815</td>\n",
       "      <td>-0.052535</td>\n",
       "      <td>0.082821</td>\n",
       "    </tr>\n",
       "  </tbody>\n",
       "</table><p>"
      ],
      "text/plain": [
       "<IPython.core.display.HTML object>"
      ]
     },
     "metadata": {},
     "output_type": "display_data"
    }
   ],
   "source": [
    "# torch.cuda.empty_cache()\n",
    "trainer = MaskedRegressTrainer(\n",
    "    model=model_init(),                 # the instantiated 🤗 Transformers model to be trained\n",
    "    args=training_args,                   # training arguments, defined above\n",
    "    train_dataset = train_ds,    # training dataset\n",
    "    eval_dataset  = test_ds,    # evaluation dataset\n",
    "    data_collator = collator_fn,\n",
    "    compute_metrics = compute_metrics_quntative\n",
    ")\n",
    "trainer.train()\n",
    "\n",
    "#save weights\n",
    "torch.save(trainer.model.state_dict(), \"../models/sema_3d_newdata_uncut_log10_0.pth\")"
   ]
  },
  {
   "cell_type": "markdown",
   "id": "28f9a310",
   "metadata": {},
   "source": [
    "# Test on multimer dataset"
   ]
  },
  {
   "cell_type": "code",
   "execution_count": 13,
   "id": "ba604fad",
   "metadata": {},
   "outputs": [],
   "source": [
    "from biopandas.pdb import PandasPdb\n",
    "import pandas as pd\n",
    "from pathlib import Path\n",
    "from tqdm import tqdm\n",
    "import os\n",
    "from IPython.display import clear_output\n",
    "\n",
    "aa_3_to_1 = {'CYS': 'C', 'ASP': 'D', 'SER': 'S', 'GLN': 'Q', 'LYS': 'K',\n",
    "     'ILE': 'I', 'PRO': 'P', 'THR': 'T', 'PHE': 'F', 'ASN': 'N', \n",
    "     'GLY': 'G', 'HIS': 'H', 'LEU': 'L', 'ARG': 'R', 'TRP': 'W', \n",
    "     'ALA': 'A', 'VAL':'V', 'GLU': 'E', 'TYR': 'Y', 'MET': 'M'}"
   ]
  },
  {
   "cell_type": "code",
   "execution_count": 22,
   "id": "1939ecda",
   "metadata": {},
   "outputs": [],
   "source": [
    "from tqdm import tqdm \n",
    "import numpy as np\n",
    "import subprocess\n",
    "\n",
    "# def esmStructDataset(pdb_path):\n",
    "#     '''\n",
    "#     Convert PDB-file into dataset format\n",
    "    \n",
    "#         Parameters:\n",
    "#             pdb_path (Path): path to pdb-file\n",
    "#         Returns:\n",
    "#             dict (dict): dictionary, where keys are properties of the protein's tertiary structure\n",
    "#     '''\n",
    "#     entity = pdb_path.split(\".pdb\")[0]\n",
    "#     pdb_id,chain = entity.split(\"_\")\n",
    "#     if not os.path.exists(pdb_path):\n",
    "#         print(\"missing \"+pdb_path)\n",
    "#         return\n",
    "#     try:\n",
    "#         structure = esm.inverse_folding.util.load_structure(str(pdb_path), chain.upper()) #chain.upper())\n",
    "#     except:\n",
    "#         structure = esm.inverse_folding.util.load_structure(str(pdb_path), chain.lower()) #chain.upper())\n",
    "#     resi_index = get_residues(structure)[0]\n",
    "#     resi_aa    = get_residues(structure)[1]\n",
    "#     resi_keys     = []\n",
    "#     cn =[]\n",
    "#     binary = []\n",
    "#     for resi_index_,resi_aa_ in zip(get_residues(structure)[0],get_residues(structure)[1]):\n",
    "#         key = (str(resi_aa_),resi_index_)\n",
    "#         cn.append(None)\n",
    "#         binary.append(None)\n",
    "#         resi_keys.append(key)    \n",
    "#     coords, seq = esm.inverse_folding.util.extract_coords_from_structure(structure)#structure)\n",
    "#     return {\"pdb_id\":pdb_id,\"seq\":seq,\"chain\":chain,\"coords\":coords,\n",
    "#             \"cn\":cn, #contact_number\n",
    "#             \"binary\":binary,\"residues\":resi_keys}\n",
    "\n",
    "def change_residue_number_multimer(atom_df):\n",
    "    cur_chain_id = atom_df.loc[0, 'chain_id']\n",
    "    for row_index in atom_df.index:\n",
    "        if atom_df.loc[row_index, 'chain_id'] != cur_chain_id:\n",
    "            # вычесть у следующих номеров первый номер, номера в новой субъединице начинались с нуля, \n",
    "            # добавить последний индекс предыдущей субъединицы,\n",
    "            # добавить 1 к новой цепи\n",
    "            add =  atom_df.loc[row_index-1, 'residue_number'] - atom_df.loc[row_index , 'residue_number'].item() + 1\n",
    "            atom_df.loc[row_index: , 'residue_number'] += add\n",
    "            \n",
    "            cur_chain_id = atom_df.loc[row_index, 'chain_id']\n",
    "    return atom_df\n",
    "\n",
    "\n",
    "def prepare_multimer_test_1D_model(path_to_pdbs):\n",
    "    \n",
    "    # list pdb folder path and create result objects\n",
    "    path_pdbs = Path(path_to_pdbs).glob(\"*.pdb\")\n",
    "    one_chain_prots = []\n",
    "    test_df = pd.DataFrame(columns = ['seq', 'concat_number'])\n",
    "\n",
    "    test_list_dict = []\n",
    "    for pdb_path in tqdm(list(path_pdbs)):\n",
    "        # read pdb\n",
    "        pdb_df =  PandasPdb().read_pdb(str(pdb_path))\n",
    "        pdb_df.to_pdb('tmp_raw_pdb.pdb')\n",
    "        # fix insertions in residue number (tool convert int+ letter (ex 150A) value to int (ex 151))\n",
    "        _ = os.system(\"pdb_delinsertion tmp_raw_pdb.pdb > tmp_raw_pdb_fix_ins.pdb\")\n",
    "        \n",
    "        # read pdb, change all chains to M and save to tmp_M.pdb\n",
    "        pdb_df =  PandasPdb().read_pdb('tmp_raw_pdb_fix_ins.pdb')\n",
    "        atom_df =  pdb_df.df['ATOM'].copy()\n",
    "        atom_df.loc[:, 'chain_id'] = 'M'\n",
    "        pdb_df.df['ATOM'] = atom_df\n",
    "        pdb_df.to_pdb('tmp_M.pdb')\n",
    "        # change residue_number in tmp_M.pdb\n",
    "        _ = os.system(\"pdb_reres -1 tmp_M.pdb > tmpReind_M.pdb\")\n",
    "\n",
    "        struct_dict = esmStructDataset('tmpReind_M.pdb')\n",
    "        \n",
    "        pdb_df =  PandasPdb().read_pdb(str('tmpReind_M.pdb'))\n",
    "        atom_df =  pdb_df.df['ATOM'].copy()\n",
    "        # create one letter aa columns\n",
    "        atom_df['residue_letter'] =  atom_df['residue_name'].map(aa_3_to_1)\n",
    "        # change mask values from -1 to -100\n",
    "        atom_df.loc[atom_df['b_factor'] == -1, 'b_factor'] = -100\n",
    "        # make nonmask values - log10\n",
    "        atom_df.loc[atom_df['b_factor'] >= 0, 'b_factor'] = atom_df.loc[atom_df['b_factor'] >= 0, 'b_factor'].apply(lambda x: np.log10(x + 1))\n",
    "        \n",
    "        struct_dict['cn'] = atom_df[atom_df.atom_name == 'CA']['b_factor'].tolist()\n",
    "\n",
    "        assert len(struct_dict['cn']) == len(struct_dict['coords']), print(str(pdb_path) + '\\n', f'cn: {len(struct_dict[\"cn\"])}{struct_dict[\"cn\"]},\\ncoords: {len(struct_dict[\"coords\"])}, {struct_dict[\"coords\"]}')\n",
    "        \n",
    "        test_list_dict.append(struct_dict)\n",
    "        clear_output()\n",
    "\n",
    "    print('PDBs with only one chain:', len(one_chain_prots))\n",
    "    # return epitopes_Dataset(test_list_dict)\n",
    "    return test_list_dict"
   ]
  },
  {
   "cell_type": "code",
   "execution_count": 23,
   "id": "5a21e622",
   "metadata": {},
   "outputs": [
    {
     "name": "stderr",
     "output_type": "stream",
     "text": [
      "100%|██████████| 773/773 [09:46<00:00,  1.32it/s]"
     ]
    },
    {
     "name": "stdout",
     "output_type": "stream",
     "text": [
      "PDBs with only one chain: 0\n"
     ]
    },
    {
     "name": "stderr",
     "output_type": "stream",
     "text": [
      "\n"
     ]
    }
   ],
   "source": [
    "test_df = prepare_multimer_test_1D_model('/mnt/nfs_protein/ivanisenko/SEMA/dataset/multimers/')\n",
    "multi_test_ds = epitopes_Dataset(test_df)"
   ]
  },
  {
   "cell_type": "code",
   "execution_count": 62,
   "id": "916e842c",
   "metadata": {},
   "outputs": [
    {
     "data": {
      "text/html": [
       "\n",
       "    <div>\n",
       "      \n",
       "      <progress value='773' max='773' style='width:300px; height:20px; vertical-align: middle;'></progress>\n",
       "      [773/773 02:46]\n",
       "    </div>\n",
       "    "
      ],
      "text/plain": [
       "<IPython.core.display.HTML object>"
      ]
     },
     "metadata": {},
     "output_type": "display_data"
    },
    {
     "data": {
      "text/plain": [
       "{'eval_loss': 0.12447740882635117,\n",
       " 'eval_r2': 0.02568819944184264,\n",
       " 'eval_mse': 0.0691983899943198,\n",
       " 'eval_runtime': 169.9554,\n",
       " 'eval_samples_per_second': 4.548,\n",
       " 'eval_steps_per_second': 4.548,\n",
       " 'epoch': 2.0}"
      ]
     },
     "execution_count": 62,
     "metadata": {},
     "output_type": "execute_result"
    }
   ],
   "source": [
    "trainer.evaluate(multi_test_ds)"
   ]
  }
 ],
 "metadata": {
  "kernelspec": {
   "display_name": "sema_env",
   "language": "python",
   "name": "sema_env"
  },
  "language_info": {
   "codemirror_mode": {
    "name": "ipython",
    "version": 3
   },
   "file_extension": ".py",
   "mimetype": "text/x-python",
   "name": "python",
   "nbconvert_exporter": "python",
   "pygments_lexer": "ipython3",
   "version": "3.9.18"
  }
 },
 "nbformat": 4,
 "nbformat_minor": 5
}
