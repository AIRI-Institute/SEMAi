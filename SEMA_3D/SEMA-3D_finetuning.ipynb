{
 "cells": [
  {
   "cell_type": "markdown",
   "id": "8b260ce8",
   "metadata": {},
   "source": [
    "# SEMA-3D"
   ]
  },
  {
   "cell_type": "markdown",
   "id": "b1314793",
   "metadata": {},
   "source": [
    "**SEMA-3D** is a fine-tuned ESM-IF1 model aimed to predict epitope resiudes based on therity structures"
   ]
  },
  {
   "cell_type": "markdown",
   "id": "d8641619",
   "metadata": {},
   "source": [
    "The MIT License (MIT)\n",
    "\n",
    "Copyright (c) 2016 AYLIEN\n",
    "\n",
    "Permission is hereby granted, free of charge, to any person obtaining a copy\n",
    "of this software and associated documentation files (the \"Software\"), to deal\n",
    "in the Software without restriction, including without limitation the rights\n",
    "to use, copy, modify, merge, publish, distribute, sublicense, and/or sell\n",
    "copies of the Software, and to permit persons to whom the Software is\n",
    "furnished to do so, subject to the following conditions:\n",
    "\n",
    "The above copyright notice and this permission notice shall be included in all\n",
    "copies or substantial portions of the Software.\n",
    "\n",
    "THE SOFTWARE IS PROVIDED \"AS IS\", WITHOUT WARRANTY OF ANY KIND, EXPRESS OR\n",
    "IMPLIED, INCLUDING BUT NOT LIMITED TO THE WARRANTIES OF MERCHANTABILITY,\n",
    "FITNESS FOR A PARTICULAR PURPOSE AND NONINFRINGEMENT. IN NO EVENT SHALL THE\n",
    "AUTHORS OR COPYRIGHT HOLDERS BE LIABLE FOR ANY CLAIM, DAMAGES OR OTHER\n",
    "LIABILITY, WHETHER IN AN ACTION OF CONTRACT, TORT OR OTHERWISE, ARISING FROM,\n",
    "OUT OF OR IN CONNECTION WITH THE SOFTWARE OR THE USE OR OTHER DEALINGS IN THE\n",
    "SOFTWARE."
   ]
  },
  {
   "cell_type": "markdown",
   "id": "af9e552b",
   "metadata": {},
   "source": [
    "### Finetuning ESM-IF1 for epitope prediction tasks"
   ]
  },
  {
   "cell_type": "code",
   "execution_count": 2,
   "id": "211e24f3",
   "metadata": {},
   "outputs": [],
   "source": [
    "import os\n",
    "# set cuda params\n",
    "# 'TORCH_HOME'directory will be used to save origenal esm-1v weights\n",
    "os.environ['TORCH_HOME'] = \"../torch_hub\"\n",
    "os.environ['CUDA_VISIBLE_DEVICES'] = \"0\""
   ]
  },
  {
   "cell_type": "code",
   "execution_count": 3,
   "id": "ba960ea6",
   "metadata": {},
   "outputs": [
    {
     "name": "stderr",
     "output_type": "stream",
     "text": [
      "/mnt/20tb/shevtsov/miniconda3/envs/sema_env/lib/python3.9/site-packages/tqdm/auto.py:21: TqdmWarning: IProgress not found. Please update jupyter and ipywidgets. See https://ipywidgets.readthedocs.io/en/stable/user_install.html\n",
      "  from .autonotebook import tqdm as notebook_tqdm\n"
     ]
    }
   ],
   "source": [
    "import copy\n",
    "import math\n",
    "import json\n",
    "import scipy\n",
    "import pickle\n",
    "\n",
    "import pandas as pd\n",
    "import numpy as np\n",
    "from pathlib import Path\n",
    "\n",
    "\n",
    "import esm\n",
    "from esm.data import BatchConverter\n",
    "from esm.inverse_folding.util import CoordBatchConverter\n",
    "\n",
    "import torch\n",
    "from torch.utils.data import Dataset\n",
    "from torch import nn\n",
    "from tqdm import tqdm\n",
    "\n",
    "import transformers\n",
    "from transformers.modeling_outputs import SequenceClassifierOutput\n",
    "from transformers import Trainer, TrainingArguments, EvalPrediction\n",
    "import scipy\n",
    "\n",
    "from biotite.structure.residues import get_residues\n",
    "\n",
    "import sklearn\n",
    "from sklearn.metrics import r2_score, mean_squared_error, auc, PrecisionRecallDisplay, precision_recall_curve\n",
    "# from scikitplot import plot_precision_recall\n",
    "\n",
    "from pathlib import Path"
   ]
  },
  {
   "cell_type": "code",
   "execution_count": 4,
   "id": "b6c0106f",
   "metadata": {},
   "outputs": [],
   "source": [
    "def esmStructDataset(pdb_path):\n",
    "    '''\n",
    "    Convert PDB-file into dataset format\n",
    "    \n",
    "        Parameters:\n",
    "            pdb_path (Path): path to pdb-file\n",
    "        Returns:\n",
    "            dict (dict): dictionary, where keys are properties of the protein's tertiary structure\n",
    "    '''\n",
    "    entity = pdb_path.name.split(\".pdb\")[0]\n",
    "    pdb_id,chain = entity.split(\"_\")\n",
    "    if not os.path.exists(pdb_path):\n",
    "        print(\"missing \"+pdb_path)\n",
    "        return\n",
    "    try:\n",
    "        structure = esm.inverse_folding.util.load_structure(str(pdb_path), chain.upper()) #chain.upper())\n",
    "    except:\n",
    "        structure = esm.inverse_folding.util.load_structure(str(pdb_path), chain.lower()) #chain.upper())\n",
    "    resi_index = get_residues(structure)[0]\n",
    "    resi_aa    = get_residues(structure)[1]\n",
    "    resi_keys     = []\n",
    "    cn =[]\n",
    "    binary = []\n",
    "    for resi_index_,resi_aa_ in zip(get_residues(structure)[0],get_residues(structure)[1]):\n",
    "        key = (str(resi_aa_),resi_index_)\n",
    "        cn.append(None)\n",
    "        binary.append(None)\n",
    "        resi_keys.append(key)    \n",
    "    coords, seq = esm.inverse_folding.util.extract_coords_from_structure(structure)#structure)\n",
    "    return {\"pdb_id\":pdb_id,\"seq\":seq,\"chain\":chain,\"coords\":coords,\n",
    "            \"cn\":cn, #contact_number\n",
    "            \"binary\":binary,\"residues\":resi_keys}"
   ]
  },
  {
   "cell_type": "code",
   "execution_count": 5,
   "id": "f03890ce",
   "metadata": {},
   "outputs": [],
   "source": [
    "def create_Dataset(path='../data/pdb_structures.pkl'):\n",
    "    '''\n",
    "    Create dataset of protein's tertiary structure or load it form pickle-file\n",
    "        Parameters:\n",
    "            path (Path): path to pikle object with dataset of protein's tertiary structure\n",
    "        Returens:\n",
    "            esm_structs (dict): dataset of protein's tertiary structure\n",
    "    '''\n",
    "    path_exist = False #False #os.path.exists(path)\n",
    "    if not path_exist:\n",
    "        path_pdbs = Path(\"/mnt/nfs_protein/ivanisenko/SEMA/dataset/3D/\").glob(\"*.pdb\")\n",
    "        # path_pdbs = Path(\"../data/structs_antigen_fab/\").glob(\"*.pdb\")\n",
    "        esm_structs = {}\n",
    "        for pdb_path in list(path_pdbs):\n",
    "            esm_structs[pdb_path.name.split(\".pdb\")[0]] = esmStructDataset(pdb_path)\n",
    "        # pickle.dump(esm_structs,  open(path,'wb'))\n",
    "    else:\n",
    "        esm_structs = pickle.load(open(path,'rb'))\n",
    "    return esm_structs"
   ]
  },
  {
   "cell_type": "code",
   "execution_count": 6,
   "id": "941b969f",
   "metadata": {},
   "outputs": [],
   "source": [
    "class epitopes_Dataset(Dataset):\n",
    "    def __init__(self, epitope_data):\n",
    "        self.epitope_data    = epitope_data\n",
    "        _, alphabet          = esm.pretrained.esm_if1_gvp4_t16_142M_UR50()\n",
    "        self.batch_converter = CoordBatchConverter(alphabet)\n",
    "\n",
    "    def __getitem__(self, idx):\n",
    "        item = {}\n",
    "        coords = self.epitope_data[idx][\"coords\"]\n",
    "        seq    = self.epitope_data[idx][\"seq\"]     \n",
    "        batch = [(coords, None, seq)]\n",
    "        coords, confidence, strs, tokens, padding_mask = self.batch_converter(batch)\n",
    "        item['seq'] = seq\n",
    "        item['coords'] = coords\n",
    "        item['confidence']= confidence\n",
    "        item['tokens'] = tokens\n",
    "        item['padding_mask'] = padding_mask\n",
    "        # discrete\n",
    "        # cn_log_e = np.log(10**np.array(self.epitope_data[idx][\"cn\"]))\n",
    "        # item['labels_cn'] =  torch.unsqueeze(torch.LongTensor(self.epitope_data[idx][\"cn\"]), 0).to(torch.float32)\n",
    "\n",
    "        item['labels_cn'] =  torch.unsqueeze(torch.tensor(self.epitope_data[idx][\"cn\"]), 0).to(torch.float32)\n",
    "        item['labels_binary'] =  torch.tensor([0]) #self.epitope_data[idx][\"binary\"] #torch.unsqueeze(torch.LongTensor(self.epitope_data[idx][\"binary\"]), 0)\n",
    "\n",
    "        return item\n",
    "\n",
    "    def __len__(self):\n",
    "        return len(self.epitope_data)\n",
    "\n",
    "\n",
    "def prepareEsmDataset(dataset, structs_data):\n",
    "    dataset_esm = []\n",
    "    bad_prots = []\n",
    "    for k in dataset:\n",
    "        entity = dataset[k]\n",
    "        pdb_id = entity[\"pdb_id_chain\"]\n",
    "        assert pdb_id in structs_data\n",
    "        struct_data = structs_data[pdb_id]\n",
    "        \n",
    "        if len(np.unique(entity['contact_number'])) == 1:\n",
    "            bad_prots.append(pdb_id)\n",
    "            continue\n",
    "\n",
    "        # struct_data[\"cn\"] = [i for i in entity[\"contact_number\"] if i != -100]\n",
    "        struct_data[\"cn\"] = [-100]* len(struct_data['residues'])\n",
    "        \n",
    "        key_map = {(key[0],key[1]):i for i, key in enumerate(zip(entity['resi_name'],\n",
    "                                                                 entity['resi_pos']))\n",
    "                  } \n",
    "    \n",
    "        for i,key in enumerate(struct_data[\"residues\"]):\n",
    "            key = (key[0],key[1])\n",
    "            if key not in key_map:\n",
    "                struct_data[\"cn\"][i] = -100\n",
    "                continue\n",
    "            struct_data[\"cn\"][i]= entity['contact_number'][key_map[key]]\n",
    "            # struct_data[\"binary\"][i]= entity['contact_number_binary'][key_map[key]]\n",
    "\n",
    "        assert len([i for i in struct_data[\"cn\"] if i != -100]) > 0, print(pdb_id + '\\n', key_map,'\\n', struct_data[\"residues\"], '\\n', struct_data[\"cn\"])\n",
    "        \n",
    "        if len(struct_data[\"seq\"])>1500:\n",
    "            print(\"Skip long  \", pdb_id, len(struct_data[\"seq\"]))\n",
    "            continue\n",
    "        dataset_esm.append(struct_data)\n",
    "\n",
    "    print('Number of proteins with invalid contact_number: ', {len(bad_prots)})\n",
    "    \n",
    "    return epitopes_Dataset(dataset_esm)"
   ]
  },
  {
   "cell_type": "code",
   "execution_count": 7,
   "id": "c28d31ff",
   "metadata": {},
   "outputs": [],
   "source": [
    "class ESM1vForTokenClassification(nn.Module):\n",
    "    def __init__(self, num_labels = 2):\n",
    "        super().__init__()\n",
    "        self.num_labels = num_labels    \n",
    "        self.esm1v, self.esm1v_alphabet = esm.pretrained.esm_if1_gvp4_t16_142M_UR50()\n",
    "        self.classifier = nn.Linear(512, self.num_labels)\n",
    "\n",
    "    def forward(self, coords, padding_mask, confidence, tokens, labels_cn, labels_binary, seq):\n",
    "\n",
    "        prev_output_tokens = tokens[:, :-1]\n",
    "        target = tokens[:, 1:]\n",
    "        target_padding_mask = (target == self.esm1v_alphabet.padding_idx)\n",
    "        feat, x = self.esm1v.forward(coords, padding_mask, confidence, prev_output_tokens, features_only = True)\n",
    "        f = feat[0,:,:]\n",
    "        tt = torch.transpose(feat,1,2)\n",
    "        logits = self.classifier(tt)\n",
    "        # print('forward logits', logits.shape)\n",
    "        return SequenceClassifierOutput(logits=logits)     "
   ]
  },
  {
   "cell_type": "code",
   "execution_count": 8,
   "id": "7eaf4f68",
   "metadata": {},
   "outputs": [],
   "source": [
    "def compute_metrics_quntative(p: EvalPrediction):\n",
    "    preds = p.predictions[:,:,1]\n",
    "    label_ids= p.label_ids[0]\n",
    "    # print('preds', preds)\n",
    "    # print('label_ids', label_ids)\n",
    "    batch_size, seq_len = preds.shape\n",
    "    out_labels, out_preds = [], []\n",
    "    for i in range(batch_size):\n",
    "        for j in range(seq_len):\n",
    "            if label_ids[i, j] >= 0:\n",
    "                out_labels.append(label_ids[i][j])\n",
    "                out_preds.append(preds[i][j])\n",
    "    # discret\n",
    "    out_labels_regr = [math.log(t+1) for t in out_labels]\n",
    "    # out_labels_regr = out_labels\n",
    "    return {\n",
    "        \"r2\": r2_score(out_labels_regr,  out_preds),\n",
    "        \"mse\": mean_squared_error(out_labels_regr,  out_preds)\n",
    "    }"
   ]
  },
  {
   "cell_type": "code",
   "execution_count": 9,
   "id": "fac6df3b",
   "metadata": {},
   "outputs": [],
   "source": [
    "def model_init():\n",
    "    return ESM1vForTokenClassification().cuda()"
   ]
  },
  {
   "cell_type": "code",
   "execution_count": 10,
   "id": "186cee5b",
   "metadata": {},
   "outputs": [],
   "source": [
    "class MaskedMSELoss(torch.nn.Module):\n",
    "    def __init__(self):\n",
    "        super(MaskedMSELoss, self).__init__()\n",
    "        \n",
    "    def forward(self, inputs, target, mask):\n",
    "\n",
    "        diff2 = (torch.flatten(inputs[:,:,1]) - torch.flatten(target)) ** 2.0 * torch.flatten(mask)\n",
    "        result = torch.sum(diff2) / torch.sum(mask)\n",
    "        if torch.sum(mask)==0:\n",
    "            return torch.sum(diff2)\n",
    "        else:\n",
    "            return result\n",
    "\n",
    "    \n",
    "class MaskedRegressTrainer(Trainer):\n",
    "    def compute_loss(self, model, inputs, return_outputs=False):\n",
    "\n",
    "        # labels_cn = inputs.pop(\"labels_cn\")\n",
    "        # labels_bin   = inputs.pop(\"labels_binary\")\n",
    "        labels_cn = inputs[\"labels_cn\"]\n",
    "        labels_bin   = inputs[\"labels_binary\"]\n",
    "        \n",
    "        outputs = model(**inputs)\n",
    "        logits = outputs.logits\n",
    "        masks = ~torch.eq(labels_cn, -100).cuda()\n",
    "        loss_fn = MaskedMSELoss()\n",
    "        loss = loss_fn(logits, labels_cn, masks)    \n",
    "        return (loss, outputs) if return_outputs else loss\n",
    "        \n",
    "def collator_fn(x):\n",
    "    if len(x)==1:\n",
    "        return x[0]\n",
    "    print('x:', x)\n",
    "    return x\n"
   ]
  },
  {
   "cell_type": "markdown",
   "id": "2f139141",
   "metadata": {},
   "source": [
    "## Data"
   ]
  },
  {
   "cell_type": "code",
   "execution_count": 11,
   "id": "a4d6268e",
   "metadata": {},
   "outputs": [],
   "source": [
    "esm_structs = create_Dataset(path='')"
   ]
  },
  {
   "cell_type": "code",
   "execution_count": 12,
   "id": "4168b128",
   "metadata": {},
   "outputs": [
    {
     "name": "stdout",
     "output_type": "stream",
     "text": [
      "Number of structures: 1377\n"
     ]
    }
   ],
   "source": [
    "print('Number of structures:', len(esm_structs.keys()))"
   ]
  },
  {
   "cell_type": "code",
   "execution_count": 13,
   "id": "5da3c290",
   "metadata": {},
   "outputs": [],
   "source": [
    "import json\n",
    "path = '/mnt/nfs_protein/ivanisenko/SEMA/dataset/SEMA_DS.json'\n",
    "def load_datasets(path, filtr_length):\n",
    "    with open(path, 'r') as file:\n",
    "        dataset = json.load(file)\n",
    "        dataset = pd.DataFrame(dataset)\n",
    "\n",
    "    dataset['pdb_id_chain'] = dataset['pdb_path'].str.split('/', expand = True)[2].str.split('.', expand = True)[0]\n",
    "    \n",
    "    if filtr_length:\n",
    "        dataset = dataset[dataset['seq'].str.len() >= filtr_length]\n",
    "\n",
    "    to_residue_name = lambda x: [i['residue_name'] if i != None else i for i in x]\n",
    "    to_residue_pos = lambda x: [i['residue_number'] if i != None else i for i in x]\n",
    "    dataset.loc[:, 'resi_name'] = dataset['residues'].apply(to_residue_name)\n",
    "    dataset.loc[:, 'resi_pos'] = dataset['residues'].apply(to_residue_pos)\n",
    "\n",
    "    train_set = dataset[dataset['ds_type'] == 'train']\n",
    "    # test_set = dataset[dataset['ds_type'] == 'test_new']\n",
    "    test_set = dataset[dataset['ds_type'] == 'test_original']\n",
    "\n",
    "    # train_set = train_set.iloc[0:10, :]\n",
    "    # test_set = test_set.iloc[0:10, :]\n",
    "\n",
    "    train_set = train_set.reset_index().to_dict(orient='index')\n",
    "    test_set = test_set.reset_index().to_dict(orient='index')\n",
    "\n",
    "    return train_set , test_set"
   ]
  },
  {
   "cell_type": "code",
   "execution_count": null,
   "id": "5442d17d",
   "metadata": {},
   "outputs": [],
   "source": [
    "train_set , test_set = load_datasets(path, filtr_length = 0)\n",
    "\n",
    "train_ds = prepareEsmDataset(train_set, esm_structs)\n",
    "test_ds = prepareEsmDataset(test_set, esm_structs)"
   ]
  },
  {
   "cell_type": "code",
   "execution_count": 16,
   "id": "fe729e13",
   "metadata": {},
   "outputs": [],
   "source": [
    "# esm_structs = create_Dataset(path='../data/pdb_structures_old.pkl')\n",
    "\n",
    "# train_set = pd.read_csv('../data/train_set.csv')\n",
    "\n",
    "# train_set = train_set.groupby('pdb_id_chain').agg({'resi_pos': list,\n",
    "#                                  'resi_aa': list,\n",
    "#                                  'resi_name': list,\n",
    "#                                  'contact_number': list,\n",
    "#                                  'contact_number_binary': list})\\\n",
    "#                  .reset_index()\\\n",
    "#                  .to_dict(orient='index')\n",
    "\n",
    "# train_ds = prepareEsmDataset(train_set, esm_structs)\n",
    "# ## the first run will take about 5-10 minutes, because esm weights should be downloaded\n",
    "# # \n",
    "\n",
    "# test_set = pd.read_csv('../data/test_set.csv')\n",
    "# test_set = test_set.groupby('pdb_id_chain').agg({'resi_pos': list,\n",
    "#                                  'resi_aa': list,\n",
    "#                                  'resi_name': list,\n",
    "#                                  'contact_number': list,\n",
    "#                                  'contact_number_binary': list})\\\n",
    "#                  .reset_index()\\\n",
    "#                  .to_dict(orient='index')\n",
    "\n",
    "# # test_set = {k: test_set[k] for k in range(10)}\n",
    "# test_ds = prepareEsmDataset(test_set, esm_structs)"
   ]
  },
  {
   "cell_type": "code",
   "execution_count": 41,
   "id": "ad873b57",
   "metadata": {},
   "outputs": [
    {
     "data": {
      "text/plain": [
       "{}"
      ]
     },
     "execution_count": 41,
     "metadata": {},
     "output_type": "execute_result"
    }
   ],
   "source": [
    "esm_structs"
   ]
  },
  {
   "cell_type": "markdown",
   "id": "fe128238",
   "metadata": {},
   "source": [
    "## Model training and test "
   ]
  },
  {
   "cell_type": "code",
   "execution_count": null,
   "id": "d506858d",
   "metadata": {},
   "outputs": [],
   "source": [
    "training_args = TrainingArguments(\n",
    "    output_dir='./results_fold' ,          # output directory\n",
    "    num_train_epochs=2,          # total number of training epochs\n",
    "    per_device_train_batch_size=1,   # batch size per device during training\n",
    "    per_device_eval_batch_size=1,   # batch size for evaluation\n",
    "    warmup_steps=0,                # number of warmup steps for learning rate scheduler\n",
    "    learning_rate=1e-04,             # learning rate\n",
    "    weight_decay=0.0,                # strength of weight decay\n",
    "    logging_dir='./logs',            # directory for storing logs\n",
    "    logging_steps=200,               # How often to print logs\n",
    "    save_strategy = \"no\",\n",
    "    do_train=True,                   # Perform training\n",
    "    do_eval=False,                    # Perform evaluation\n",
    "    evaluation_strategy=\"epoch\",     # evalute after each epoch\n",
    "    gradient_accumulation_steps=1,  # total number of steps before back propagation\n",
    "    fp16=False,                       # Use mixed precision\n",
    "    run_name=\"PDB_regr\",      # experiment name\n",
    "    seed=42,                         # Seed for experiment reproducibility\n",
    "    load_best_model_at_end=False,\n",
    "    metric_for_best_model=\"eval_r2\",\n",
    "    greater_is_better=True,\n",
    "\n",
    ")"
   ]
  },
  {
   "cell_type": "code",
   "execution_count": null,
   "id": "db213ab6",
   "metadata": {},
   "outputs": [],
   "source": [
    "#create direactory to weights storage\n",
    "if not os.path.exists(\"../models/\"):\n",
    "    os.makedirs(\"../models/\")"
   ]
  },
  {
   "cell_type": "code",
   "execution_count": null,
   "id": "b2cca9d2",
   "metadata": {},
   "outputs": [
    {
     "name": "stderr",
     "output_type": "stream",
     "text": [
      "Detected kernel version 4.15.0, which is below the recommended minimum of 5.5.0; this can cause the process to hang. It is recommended to upgrade the kernel to the minimum version or higher.\n"
     ]
    },
    {
     "data": {
      "text/html": [
       "\n",
       "    <div>\n",
       "      \n",
       "      <progress value='2290' max='2290' style='width:300px; height:20px; vertical-align: middle;'></progress>\n",
       "      [2290/2290 08:05, Epoch 2/2]\n",
       "    </div>\n",
       "    <table border=\"1\" class=\"dataframe\">\n",
       "  <thead>\n",
       " <tr style=\"text-align: left;\">\n",
       "      <th>Epoch</th>\n",
       "      <th>Training Loss</th>\n",
       "      <th>Validation Loss</th>\n",
       "      <th>R2</th>\n",
       "      <th>Mse</th>\n",
       "    </tr>\n",
       "  </thead>\n",
       "  <tbody>\n",
       "    <tr>\n",
       "      <td>1</td>\n",
       "      <td>0.128300</td>\n",
       "      <td>0.143908</td>\n",
       "      <td>-0.165610</td>\n",
       "      <td>0.091718</td>\n",
       "    </tr>\n",
       "    <tr>\n",
       "      <td>2</td>\n",
       "      <td>0.108000</td>\n",
       "      <td>0.138815</td>\n",
       "      <td>-0.052535</td>\n",
       "      <td>0.082821</td>\n",
       "    </tr>\n",
       "  </tbody>\n",
       "</table><p>"
      ],
      "text/plain": [
       "<IPython.core.display.HTML object>"
      ]
     },
     "metadata": {},
     "output_type": "display_data"
    }
   ],
   "source": [
    "# torch.cuda.empty_cache()\n",
    "trainer = MaskedRegressTrainer(\n",
    "    model=model_init(),                 # the instantiated 🤗 Transformers model to be trained\n",
    "    args=training_args,                   # training arguments, defined above\n",
    "    train_dataset = train_ds,    # training dataset\n",
    "    eval_dataset  = test_ds,    # evaluation dataset\n",
    "    data_collator = collator_fn,\n",
    "    compute_metrics = compute_metrics_quntative\n",
    ")\n",
    "trainer.train()\n",
    "\n",
    "#save weights\n",
    "torch.save(trainer.model.state_dict(), \"../models/sema_3d_newdata_uncut_log10_0.pth\")"
   ]
  },
  {
   "cell_type": "markdown",
   "id": "28f9a310",
   "metadata": {},
   "source": [
    "# Test on multimer dataset"
   ]
  },
  {
   "cell_type": "code",
   "execution_count": 13,
   "id": "ba604fad",
   "metadata": {},
   "outputs": [],
   "source": [
    "from biopandas.pdb import PandasPdb\n",
    "import pandas as pd\n",
    "from pathlib import Path\n",
    "from tqdm import tqdm\n",
    "import os\n",
    "from IPython.display import clear_output\n",
    "\n",
    "aa_3_to_1 = {'CYS': 'C', 'ASP': 'D', 'SER': 'S', 'GLN': 'Q', 'LYS': 'K',\n",
    "     'ILE': 'I', 'PRO': 'P', 'THR': 'T', 'PHE': 'F', 'ASN': 'N', \n",
    "     'GLY': 'G', 'HIS': 'H', 'LEU': 'L', 'ARG': 'R', 'TRP': 'W', \n",
    "     'ALA': 'A', 'VAL':'V', 'GLU': 'E', 'TYR': 'Y', 'MET': 'M'}"
   ]
  },
  {
   "cell_type": "code",
   "execution_count": 22,
   "id": "1939ecda",
   "metadata": {},
   "outputs": [],
   "source": [
    "from tqdm import tqdm \n",
    "import numpy as np\n",
    "import subprocess\n",
    "\n",
    "# def esmStructDataset(pdb_path):\n",
    "#     '''\n",
    "#     Convert PDB-file into dataset format\n",
    "    \n",
    "#         Parameters:\n",
    "#             pdb_path (Path): path to pdb-file\n",
    "#         Returns:\n",
    "#             dict (dict): dictionary, where keys are properties of the protein's tertiary structure\n",
    "#     '''\n",
    "#     entity = pdb_path.split(\".pdb\")[0]\n",
    "#     pdb_id,chain = entity.split(\"_\")\n",
    "#     if not os.path.exists(pdb_path):\n",
    "#         print(\"missing \"+pdb_path)\n",
    "#         return\n",
    "#     try:\n",
    "#         structure = esm.inverse_folding.util.load_structure(str(pdb_path), chain.upper()) #chain.upper())\n",
    "#     except:\n",
    "#         structure = esm.inverse_folding.util.load_structure(str(pdb_path), chain.lower()) #chain.upper())\n",
    "#     resi_index = get_residues(structure)[0]\n",
    "#     resi_aa    = get_residues(structure)[1]\n",
    "#     resi_keys     = []\n",
    "#     cn =[]\n",
    "#     binary = []\n",
    "#     for resi_index_,resi_aa_ in zip(get_residues(structure)[0],get_residues(structure)[1]):\n",
    "#         key = (str(resi_aa_),resi_index_)\n",
    "#         cn.append(None)\n",
    "#         binary.append(None)\n",
    "#         resi_keys.append(key)    \n",
    "#     coords, seq = esm.inverse_folding.util.extract_coords_from_structure(structure)#structure)\n",
    "#     return {\"pdb_id\":pdb_id,\"seq\":seq,\"chain\":chain,\"coords\":coords,\n",
    "#             \"cn\":cn, #contact_number\n",
    "#             \"binary\":binary,\"residues\":resi_keys}\n",
    "\n",
    "def change_residue_number_multimer(atom_df):\n",
    "    cur_chain_id = atom_df.loc[0, 'chain_id']\n",
    "    for row_index in atom_df.index:\n",
    "        if atom_df.loc[row_index, 'chain_id'] != cur_chain_id:\n",
    "            # вычесть у следующих номеров первый номер, номера в новой субъединице начинались с нуля, \n",
    "            # добавить последний индекс предыдущей субъединицы,\n",
    "            # добавить 1 к новой цепи\n",
    "            add =  atom_df.loc[row_index-1, 'residue_number'] - atom_df.loc[row_index , 'residue_number'].item() + 1\n",
    "            atom_df.loc[row_index: , 'residue_number'] += add\n",
    "            \n",
    "            cur_chain_id = atom_df.loc[row_index, 'chain_id']\n",
    "    return atom_df\n",
    "\n",
    "\n",
    "def prepare_multimer_test_1D_model(path_to_pdbs):\n",
    "    \n",
    "    # list pdb folder path and create result objects\n",
    "    path_pdbs = Path(path_to_pdbs).glob(\"*.pdb\")\n",
    "    one_chain_prots = []\n",
    "    test_df = pd.DataFrame(columns = ['seq', 'concat_number'])\n",
    "\n",
    "    test_list_dict = []\n",
    "    for pdb_path in tqdm(list(path_pdbs)):\n",
    "        # read pdb\n",
    "        pdb_df =  PandasPdb().read_pdb(str(pdb_path))\n",
    "        pdb_df.to_pdb('tmp_raw_pdb.pdb')\n",
    "        # fix insertions in residue number (tool convert int+ letter (ex 150A) value to int (ex 151))\n",
    "        _ = os.system(\"pdb_delinsertion tmp_raw_pdb.pdb > tmp_raw_pdb_fix_ins.pdb\")\n",
    "        \n",
    "        # read pdb, change all chains to M and save to tmp_M.pdb\n",
    "        pdb_df =  PandasPdb().read_pdb('tmp_raw_pdb_fix_ins.pdb')\n",
    "        atom_df =  pdb_df.df['ATOM'].copy()\n",
    "        atom_df.loc[:, 'chain_id'] = 'M'\n",
    "        pdb_df.df['ATOM'] = atom_df\n",
    "        pdb_df.to_pdb('tmp_M.pdb')\n",
    "        # change residue_number in tmp_M.pdb\n",
    "        _ = os.system(\"pdb_reres -1 tmp_M.pdb > tmpReind_M.pdb\")\n",
    "\n",
    "        struct_dict = esmStructDataset('tmpReind_M.pdb')\n",
    "        \n",
    "        pdb_df =  PandasPdb().read_pdb(str('tmpReind_M.pdb'))\n",
    "        atom_df =  pdb_df.df['ATOM'].copy()\n",
    "        # create one letter aa columns\n",
    "        atom_df['residue_letter'] =  atom_df['residue_name'].map(aa_3_to_1)\n",
    "        # change mask values from -1 to -100\n",
    "        atom_df.loc[atom_df['b_factor'] == -1, 'b_factor'] = -100\n",
    "        # make nonmask values - log10\n",
    "        atom_df.loc[atom_df['b_factor'] >= 0, 'b_factor'] = atom_df.loc[atom_df['b_factor'] >= 0, 'b_factor'].apply(lambda x: np.log10(x + 1))\n",
    "        \n",
    "        struct_dict['cn'] = atom_df[atom_df.atom_name == 'CA']['b_factor'].tolist()\n",
    "\n",
    "        assert len(struct_dict['cn']) == len(struct_dict['coords']), print(str(pdb_path) + '\\n', f'cn: {len(struct_dict[\"cn\"])}{struct_dict[\"cn\"]},\\ncoords: {len(struct_dict[\"coords\"])}, {struct_dict[\"coords\"]}')\n",
    "        \n",
    "        test_list_dict.append(struct_dict)\n",
    "        clear_output()\n",
    "\n",
    "    print('PDBs with only one chain:', len(one_chain_prots))\n",
    "    # return epitopes_Dataset(test_list_dict)\n",
    "    return test_list_dict"
   ]
  },
  {
   "cell_type": "code",
   "execution_count": 23,
   "id": "5a21e622",
   "metadata": {},
   "outputs": [
    {
     "name": "stderr",
     "output_type": "stream",
     "text": [
      "100%|██████████| 773/773 [09:46<00:00,  1.32it/s]"
     ]
    },
    {
     "name": "stdout",
     "output_type": "stream",
     "text": [
      "PDBs with only one chain: 0\n"
     ]
    },
    {
     "name": "stderr",
     "output_type": "stream",
     "text": [
      "\n"
     ]
    }
   ],
   "source": [
    "test_df = prepare_multimer_test_1D_model('/mnt/nfs_protein/ivanisenko/SEMA/dataset/multimers/')\n",
    "multi_test_ds = epitopes_Dataset(test_df)"
   ]
  },
  {
   "cell_type": "code",
   "execution_count": 62,
   "id": "916e842c",
   "metadata": {},
   "outputs": [
    {
     "data": {
      "text/html": [
       "\n",
       "    <div>\n",
       "      \n",
       "      <progress value='773' max='773' style='width:300px; height:20px; vertical-align: middle;'></progress>\n",
       "      [773/773 02:46]\n",
       "    </div>\n",
       "    "
      ],
      "text/plain": [
       "<IPython.core.display.HTML object>"
      ]
     },
     "metadata": {},
     "output_type": "display_data"
    },
    {
     "data": {
      "text/plain": [
       "{'eval_loss': 0.12447740882635117,\n",
       " 'eval_r2': 0.02568819944184264,\n",
       " 'eval_mse': 0.0691983899943198,\n",
       " 'eval_runtime': 169.9554,\n",
       " 'eval_samples_per_second': 4.548,\n",
       " 'eval_steps_per_second': 4.548,\n",
       " 'epoch': 2.0}"
      ]
     },
     "execution_count": 62,
     "metadata": {},
     "output_type": "execute_result"
    }
   ],
   "source": [
    "trainer.evaluate(multi_test_ds)"
   ]
  },
  {
   "cell_type": "markdown",
   "id": "dcbe74c5",
   "metadata": {},
   "source": [
    "# Threshold find "
   ]
  },
  {
   "cell_type": "code",
   "execution_count": 14,
   "id": "c68d67ed",
   "metadata": {},
   "outputs": [],
   "source": [
    "import json\n",
    "import pandas as pd\n",
    "path = '/home/shevtsov/SEMAi/data/SEMA_DS_4.5.json'\n",
    "\n",
    "train_set , test_set = load_datasets(path, filtr_length = 0)"
   ]
  },
  {
   "cell_type": "code",
   "execution_count": 15,
   "id": "5a33f285",
   "metadata": {},
   "outputs": [
    {
     "name": "stdout",
     "output_type": "stream",
     "text": [
      "Number of structures: 1377\n"
     ]
    }
   ],
   "source": [
    "esm_structs = create_Dataset(path='/mnt/nfs_protein/ivanisenko/SEMA/dataset/3D/')\n",
    "print('Number of structures:', len(esm_structs.keys()))"
   ]
  },
  {
   "cell_type": "code",
   "execution_count": 16,
   "id": "becbb60e",
   "metadata": {},
   "outputs": [
    {
     "name": "stdout",
     "output_type": "stream",
     "text": [
      "Skip long   5I5K_A 1632\n",
      "Number of proteins with invalid contact_number:  {21}\n"
     ]
    },
    {
     "name": "stderr",
     "output_type": "stream",
     "text": [
      "/mnt/20tb/shevtsov/miniconda3/envs/sema_env/lib/python3.9/site-packages/esm/pretrained.py:215: UserWarning: Regression weights not found, predicting contacts will not produce correct results.\n",
      "  warnings.warn(\n"
     ]
    },
    {
     "name": "stdout",
     "output_type": "stream",
     "text": [
      "Number of proteins with invalid contact_number:  {0}\n"
     ]
    }
   ],
   "source": [
    "train_ds = prepareEsmDataset(train_set, esm_structs)\n",
    "test_ds = prepareEsmDataset(test_set, esm_structs)"
   ]
  },
  {
   "cell_type": "code",
   "execution_count": 18,
   "id": "a49238e4",
   "metadata": {},
   "outputs": [
    {
     "name": "stderr",
     "output_type": "stream",
     "text": [
      "100%|██████████| 72/72 [00:12<00:00,  5.72it/s]\n"
     ]
    }
   ],
   "source": [
    "from sklearn.metrics import roc_curve,roc_auc_score\n",
    "from tqdm import tqdm\n",
    "\n",
    "path = '/home/shevtsov/SEMAi/models/sema_3d_old_0.pth'\n",
    "model=model_init()\n",
    "model.load_state_dict(torch.load(path))\n",
    "model.eval()\n",
    "model.cuda()\n",
    "\n",
    "with torch.no_grad():\n",
    "    preds=[]\n",
    "    labels = []\n",
    "    for it in tqdm(test_ds):\n",
    "        # preds.append(model.forward(it['token_ids'].cuda(), labels = None)[0][0][:,1].cpu().numpy())\n",
    "        # labels.append(it['labels'].squeeze(0).numpy())\n",
    "        it_preds = model.forward(\n",
    "            coords = it['coords'].cuda(), \n",
    "            padding_mask = it['padding_mask'].cuda(), \n",
    "            confidence = it['confidence'].cuda(), \n",
    "            tokens = it['tokens'].cuda(), \n",
    "            labels_cn = it['labels_cn'].cuda(), \n",
    "            labels_binary = it['labels_binary'].cuda(), \n",
    "            seq = None\n",
    "            )[0][0][:,1].cpu().numpy()\n",
    "            \n",
    "        it_labels = it['labels_cn'].squeeze(0).numpy()\n",
    "        for ind, label in enumerate(it_labels):\n",
    "\n",
    "            if label >0:\n",
    "                labels.append(1) \n",
    "                preds.append(it_preds[ind])\n",
    "            elif label == 0:\n",
    "                labels.append(0) \n",
    "                preds.append(it_preds[ind])\n"
   ]
  },
  {
   "cell_type": "code",
   "execution_count": 40,
   "id": "62da00d6",
   "metadata": {},
   "outputs": [
    {
     "ename": "IndexError",
     "evalue": "cannot do a non-empty take from an empty axes.",
     "output_type": "error",
     "traceback": [
      "\u001b[0;31m---------------------------------------------------------------------------\u001b[0m",
      "\u001b[0;31mIndexError\u001b[0m                                Traceback (most recent call last)",
      "Cell \u001b[0;32mIn[40], line 4\u001b[0m\n\u001b[1;32m      1\u001b[0m \u001b[38;5;28;01mimport\u001b[39;00m \u001b[38;5;21;01mnumpy\u001b[39;00m \u001b[38;5;28;01mas\u001b[39;00m \u001b[38;5;21;01mnp\u001b[39;00m\n\u001b[1;32m      2\u001b[0m \u001b[38;5;28;01mfrom\u001b[39;00m \u001b[38;5;21;01msklearn\u001b[39;00m\u001b[38;5;21;01m.\u001b[39;00m\u001b[38;5;21;01mmetrics\u001b[39;00m \u001b[38;5;28;01mimport\u001b[39;00m roc_curve, roc_auc_score\n\u001b[0;32m----> 4\u001b[0m fpr, tpr, thresholds \u001b[38;5;241m=\u001b[39m \u001b[43mroc_curve\u001b[49m\u001b[43m(\u001b[49m\u001b[43mlabels\u001b[49m\u001b[43m,\u001b[49m\u001b[43m \u001b[49m\u001b[43mpreds\u001b[49m\u001b[43m,\u001b[49m\u001b[43m \u001b[49m\u001b[43mpos_label\u001b[49m\u001b[38;5;241;43m=\u001b[39;49m\u001b[38;5;241;43m1\u001b[39;49m\u001b[43m)\u001b[49m\n\u001b[1;32m      6\u001b[0m optimal_threshold_ind \u001b[38;5;241m=\u001b[39m np\u001b[38;5;241m.\u001b[39margmax(np\u001b[38;5;241m.\u001b[39msqrt((\u001b[38;5;241m1\u001b[39m\u001b[38;5;241m-\u001b[39m fpr)\u001b[38;5;241m*\u001b[39m\u001b[38;5;241m*\u001b[39m\u001b[38;5;241m2\u001b[39m \u001b[38;5;241m+\u001b[39m tpr\u001b[38;5;241m*\u001b[39m\u001b[38;5;241m*\u001b[39m\u001b[38;5;241m2\u001b[39m))\n\u001b[1;32m      7\u001b[0m \u001b[38;5;28mprint\u001b[39m(optimal_threshold_ind, thresholds[optimal_threshold_ind])\n",
      "File \u001b[0;32m/mnt/20tb/shevtsov/miniconda3/envs/sema_env/lib/python3.9/site-packages/sklearn/utils/_param_validation.py:214\u001b[0m, in \u001b[0;36mvalidate_params.<locals>.decorator.<locals>.wrapper\u001b[0;34m(*args, **kwargs)\u001b[0m\n\u001b[1;32m    208\u001b[0m \u001b[38;5;28;01mtry\u001b[39;00m:\n\u001b[1;32m    209\u001b[0m     \u001b[38;5;28;01mwith\u001b[39;00m config_context(\n\u001b[1;32m    210\u001b[0m         skip_parameter_validation\u001b[38;5;241m=\u001b[39m(\n\u001b[1;32m    211\u001b[0m             prefer_skip_nested_validation \u001b[38;5;129;01mor\u001b[39;00m global_skip_validation\n\u001b[1;32m    212\u001b[0m         )\n\u001b[1;32m    213\u001b[0m     ):\n\u001b[0;32m--> 214\u001b[0m         \u001b[38;5;28;01mreturn\u001b[39;00m \u001b[43mfunc\u001b[49m\u001b[43m(\u001b[49m\u001b[38;5;241;43m*\u001b[39;49m\u001b[43margs\u001b[49m\u001b[43m,\u001b[49m\u001b[43m \u001b[49m\u001b[38;5;241;43m*\u001b[39;49m\u001b[38;5;241;43m*\u001b[39;49m\u001b[43mkwargs\u001b[49m\u001b[43m)\u001b[49m\n\u001b[1;32m    215\u001b[0m \u001b[38;5;28;01mexcept\u001b[39;00m InvalidParameterError \u001b[38;5;28;01mas\u001b[39;00m e:\n\u001b[1;32m    216\u001b[0m     \u001b[38;5;66;03m# When the function is just a wrapper around an estimator, we allow\u001b[39;00m\n\u001b[1;32m    217\u001b[0m     \u001b[38;5;66;03m# the function to delegate validation to the estimator, but we replace\u001b[39;00m\n\u001b[1;32m    218\u001b[0m     \u001b[38;5;66;03m# the name of the estimator by the name of the function in the error\u001b[39;00m\n\u001b[1;32m    219\u001b[0m     \u001b[38;5;66;03m# message to avoid confusion.\u001b[39;00m\n\u001b[1;32m    220\u001b[0m     msg \u001b[38;5;241m=\u001b[39m re\u001b[38;5;241m.\u001b[39msub(\n\u001b[1;32m    221\u001b[0m         \u001b[38;5;124mr\u001b[39m\u001b[38;5;124m\"\u001b[39m\u001b[38;5;124mparameter of \u001b[39m\u001b[38;5;124m\\\u001b[39m\u001b[38;5;124mw+ must be\u001b[39m\u001b[38;5;124m\"\u001b[39m,\n\u001b[1;32m    222\u001b[0m         \u001b[38;5;124mf\u001b[39m\u001b[38;5;124m\"\u001b[39m\u001b[38;5;124mparameter of \u001b[39m\u001b[38;5;132;01m{\u001b[39;00mfunc\u001b[38;5;241m.\u001b[39m\u001b[38;5;18m__qualname__\u001b[39m\u001b[38;5;132;01m}\u001b[39;00m\u001b[38;5;124m must be\u001b[39m\u001b[38;5;124m\"\u001b[39m,\n\u001b[1;32m    223\u001b[0m         \u001b[38;5;28mstr\u001b[39m(e),\n\u001b[1;32m    224\u001b[0m     )\n",
      "File \u001b[0;32m/mnt/20tb/shevtsov/miniconda3/envs/sema_env/lib/python3.9/site-packages/sklearn/metrics/_ranking.py:1095\u001b[0m, in \u001b[0;36mroc_curve\u001b[0;34m(y_true, y_score, pos_label, sample_weight, drop_intermediate)\u001b[0m\n\u001b[1;32m    993\u001b[0m \u001b[38;5;129m@validate_params\u001b[39m(\n\u001b[1;32m    994\u001b[0m     {\n\u001b[1;32m    995\u001b[0m         \u001b[38;5;124m\"\u001b[39m\u001b[38;5;124my_true\u001b[39m\u001b[38;5;124m\"\u001b[39m: [\u001b[38;5;124m\"\u001b[39m\u001b[38;5;124marray-like\u001b[39m\u001b[38;5;124m\"\u001b[39m],\n\u001b[0;32m   (...)\u001b[0m\n\u001b[1;32m   1004\u001b[0m     y_true, y_score, \u001b[38;5;241m*\u001b[39m, pos_label\u001b[38;5;241m=\u001b[39m\u001b[38;5;28;01mNone\u001b[39;00m, sample_weight\u001b[38;5;241m=\u001b[39m\u001b[38;5;28;01mNone\u001b[39;00m, drop_intermediate\u001b[38;5;241m=\u001b[39m\u001b[38;5;28;01mTrue\u001b[39;00m\n\u001b[1;32m   1005\u001b[0m ):\n\u001b[1;32m   1006\u001b[0m \u001b[38;5;250m    \u001b[39m\u001b[38;5;124;03m\"\"\"Compute Receiver operating characteristic (ROC).\u001b[39;00m\n\u001b[1;32m   1007\u001b[0m \n\u001b[1;32m   1008\u001b[0m \u001b[38;5;124;03m    Note: this implementation is restricted to the binary classification task.\u001b[39;00m\n\u001b[0;32m   (...)\u001b[0m\n\u001b[1;32m   1093\u001b[0m \u001b[38;5;124;03m    array([ inf, 0.8 , 0.4 , 0.35, 0.1 ])\u001b[39;00m\n\u001b[1;32m   1094\u001b[0m \u001b[38;5;124;03m    \"\"\"\u001b[39;00m\n\u001b[0;32m-> 1095\u001b[0m     fps, tps, thresholds \u001b[38;5;241m=\u001b[39m \u001b[43m_binary_clf_curve\u001b[49m\u001b[43m(\u001b[49m\n\u001b[1;32m   1096\u001b[0m \u001b[43m        \u001b[49m\u001b[43my_true\u001b[49m\u001b[43m,\u001b[49m\u001b[43m \u001b[49m\u001b[43my_score\u001b[49m\u001b[43m,\u001b[49m\u001b[43m \u001b[49m\u001b[43mpos_label\u001b[49m\u001b[38;5;241;43m=\u001b[39;49m\u001b[43mpos_label\u001b[49m\u001b[43m,\u001b[49m\u001b[43m \u001b[49m\u001b[43msample_weight\u001b[49m\u001b[38;5;241;43m=\u001b[39;49m\u001b[43msample_weight\u001b[49m\n\u001b[1;32m   1097\u001b[0m \u001b[43m    \u001b[49m\u001b[43m)\u001b[49m\n\u001b[1;32m   1099\u001b[0m     \u001b[38;5;66;03m# Attempt to drop thresholds corresponding to points in between and\u001b[39;00m\n\u001b[1;32m   1100\u001b[0m     \u001b[38;5;66;03m# collinear with other points. These are always suboptimal and do not\u001b[39;00m\n\u001b[1;32m   1101\u001b[0m     \u001b[38;5;66;03m# appear on a plotted ROC curve (and thus do not affect the AUC).\u001b[39;00m\n\u001b[0;32m   (...)\u001b[0m\n\u001b[1;32m   1106\u001b[0m     \u001b[38;5;66;03m# but does not drop more complicated cases like fps = [1, 3, 7],\u001b[39;00m\n\u001b[1;32m   1107\u001b[0m     \u001b[38;5;66;03m# tps = [1, 2, 4]; there is no harm in keeping too many thresholds.\u001b[39;00m\n\u001b[1;32m   1108\u001b[0m     \u001b[38;5;28;01mif\u001b[39;00m drop_intermediate \u001b[38;5;129;01mand\u001b[39;00m \u001b[38;5;28mlen\u001b[39m(fps) \u001b[38;5;241m>\u001b[39m \u001b[38;5;241m2\u001b[39m:\n",
      "File \u001b[0;32m/mnt/20tb/shevtsov/miniconda3/envs/sema_env/lib/python3.9/site-packages/sklearn/metrics/_ranking.py:842\u001b[0m, in \u001b[0;36m_binary_clf_curve\u001b[0;34m(y_true, y_score, pos_label, sample_weight)\u001b[0m\n\u001b[1;32m    839\u001b[0m threshold_idxs \u001b[38;5;241m=\u001b[39m np\u001b[38;5;241m.\u001b[39mr_[distinct_value_indices, y_true\u001b[38;5;241m.\u001b[39msize \u001b[38;5;241m-\u001b[39m \u001b[38;5;241m1\u001b[39m]\n\u001b[1;32m    841\u001b[0m \u001b[38;5;66;03m# accumulate the true positives with decreasing threshold\u001b[39;00m\n\u001b[0;32m--> 842\u001b[0m tps \u001b[38;5;241m=\u001b[39m \u001b[43mstable_cumsum\u001b[49m\u001b[43m(\u001b[49m\u001b[43my_true\u001b[49m\u001b[43m \u001b[49m\u001b[38;5;241;43m*\u001b[39;49m\u001b[43m \u001b[49m\u001b[43mweight\u001b[49m\u001b[43m)\u001b[49m[threshold_idxs]\n\u001b[1;32m    843\u001b[0m \u001b[38;5;28;01mif\u001b[39;00m sample_weight \u001b[38;5;129;01mis\u001b[39;00m \u001b[38;5;129;01mnot\u001b[39;00m \u001b[38;5;28;01mNone\u001b[39;00m:\n\u001b[1;32m    844\u001b[0m     \u001b[38;5;66;03m# express fps as a cumsum to ensure fps is increasing even in\u001b[39;00m\n\u001b[1;32m    845\u001b[0m     \u001b[38;5;66;03m# the presence of floating point errors\u001b[39;00m\n\u001b[1;32m    846\u001b[0m     fps \u001b[38;5;241m=\u001b[39m stable_cumsum((\u001b[38;5;241m1\u001b[39m \u001b[38;5;241m-\u001b[39m y_true) \u001b[38;5;241m*\u001b[39m weight)[threshold_idxs]\n",
      "File \u001b[0;32m/mnt/20tb/shevtsov/miniconda3/envs/sema_env/lib/python3.9/site-packages/sklearn/utils/extmath.py:1145\u001b[0m, in \u001b[0;36mstable_cumsum\u001b[0;34m(arr, axis, rtol, atol)\u001b[0m\n\u001b[1;32m   1141\u001b[0m out \u001b[38;5;241m=\u001b[39m np\u001b[38;5;241m.\u001b[39mcumsum(arr, axis\u001b[38;5;241m=\u001b[39maxis, dtype\u001b[38;5;241m=\u001b[39mnp\u001b[38;5;241m.\u001b[39mfloat64)\n\u001b[1;32m   1142\u001b[0m expected \u001b[38;5;241m=\u001b[39m np\u001b[38;5;241m.\u001b[39msum(arr, axis\u001b[38;5;241m=\u001b[39maxis, dtype\u001b[38;5;241m=\u001b[39mnp\u001b[38;5;241m.\u001b[39mfloat64)\n\u001b[1;32m   1143\u001b[0m \u001b[38;5;28;01mif\u001b[39;00m \u001b[38;5;129;01mnot\u001b[39;00m np\u001b[38;5;241m.\u001b[39mall(\n\u001b[1;32m   1144\u001b[0m     np\u001b[38;5;241m.\u001b[39misclose(\n\u001b[0;32m-> 1145\u001b[0m         \u001b[43mout\u001b[49m\u001b[38;5;241;43m.\u001b[39;49m\u001b[43mtake\u001b[49m\u001b[43m(\u001b[49m\u001b[38;5;241;43m-\u001b[39;49m\u001b[38;5;241;43m1\u001b[39;49m\u001b[43m,\u001b[49m\u001b[43m \u001b[49m\u001b[43maxis\u001b[49m\u001b[38;5;241;43m=\u001b[39;49m\u001b[43maxis\u001b[49m\u001b[43m)\u001b[49m, expected, rtol\u001b[38;5;241m=\u001b[39mrtol, atol\u001b[38;5;241m=\u001b[39matol, equal_nan\u001b[38;5;241m=\u001b[39m\u001b[38;5;28;01mTrue\u001b[39;00m\n\u001b[1;32m   1146\u001b[0m     )\n\u001b[1;32m   1147\u001b[0m ):\n\u001b[1;32m   1148\u001b[0m     warnings\u001b[38;5;241m.\u001b[39mwarn(\n\u001b[1;32m   1149\u001b[0m         (\n\u001b[1;32m   1150\u001b[0m             \u001b[38;5;124m\"\u001b[39m\u001b[38;5;124mcumsum was found to be unstable: \u001b[39m\u001b[38;5;124m\"\u001b[39m\n\u001b[0;32m   (...)\u001b[0m\n\u001b[1;32m   1153\u001b[0m         \u001b[38;5;167;01mRuntimeWarning\u001b[39;00m,\n\u001b[1;32m   1154\u001b[0m     )\n\u001b[1;32m   1155\u001b[0m \u001b[38;5;28;01mreturn\u001b[39;00m out\n",
      "\u001b[0;31mIndexError\u001b[0m: cannot do a non-empty take from an empty axes."
     ]
    }
   ],
   "source": [
    "import numpy as np\n",
    "from sklearn.metrics import roc_curve, roc_auc_score\n",
    "\n",
    "fpr, tpr, thresholds = roc_curve(labels, preds, pos_label=1)\n",
    "\n",
    "optimal_threshold_ind = np.argmax(np.sqrt((1- fpr)**2 + tpr**2))\n",
    "print(optimal_threshold_ind, thresholds[optimal_threshold_ind])\n",
    "print(roc_auc_score(labels, preds))\n"
   ]
  }
 ],
 "metadata": {
  "kernelspec": {
   "display_name": "sema_env",
   "language": "python",
   "name": "sema_env"
  },
  "language_info": {
   "codemirror_mode": {
    "name": "ipython",
    "version": 3
   },
   "file_extension": ".py",
   "mimetype": "text/x-python",
   "name": "python",
   "nbconvert_exporter": "python",
   "pygments_lexer": "ipython3",
   "version": "3.9.18"
  }
 },
 "nbformat": 4,
 "nbformat_minor": 5
}
